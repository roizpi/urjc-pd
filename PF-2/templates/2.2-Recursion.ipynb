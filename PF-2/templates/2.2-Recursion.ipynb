{
 "cells": [
  {
   "cell_type": "markdown",
   "metadata": {},
   "source": [
    "# Recursive data types and functions"
   ]
  },
  {
   "cell_type": "markdown",
   "metadata": {},
   "source": [
    "## Recursive types"
   ]
  },
  {
   "cell_type": "markdown",
   "metadata": {},
   "source": [
    "### The `List` type"
   ]
  },
  {
   "cell_type": "code",
   "execution_count": null,
   "metadata": {},
   "outputs": [],
   "source": [
    "// type List[T] = 1 + T*List[T]\n",
    "//              = 1 + T*(1+T*List[T]) = 1 + T*1 + T*T*List[T]\n",
    "//              ...\n",
    "//              = 1 + T + T*T + T*T*T + ...."
   ]
  },
  {
   "cell_type": "markdown",
   "metadata": {},
   "source": [
    "Lists are data structures which represent sequences of values of the same type, of finite length. They can be defined recursively in an informal way as follows: \n",
    "- A list is the empty sequence\n",
    "- A list is a non-empty sequence made of a value and another list, which represent the head and tail of the list, respectively\n",
    "\n",
    "Thus, the type `IntList`, which represents lists of integers, must satisfy the following algebraic equation:\n",
    "\n",
    "`IntList = 1 + Int * IntList`\n",
    "\n",
    "i.e., a list of integers is the empty sequence (represented by the singleton type `1`), or an integer (the head) and a list (its tail).\n",
    "\n"
   ]
  },
  {
   "cell_type": "markdown",
   "metadata": {},
   "source": [
    "The implementation in Scala is similar to the following one (we also give the generic version `List[A]`, rather than the implementation of `IntList`):"
   ]
  },
  {
   "cell_type": "code",
   "execution_count": 4,
   "metadata": {},
   "outputs": [
    {
     "data": {
      "text/plain": [
       "defined \u001b[32mobject\u001b[39m \u001b[36mStdDefinition\u001b[39m"
      ]
     },
     "execution_count": 4,
     "metadata": {},
     "output_type": "execute_result"
    }
   ],
   "source": [
    "object StdDefinition {\n",
    "    // type List[T] = 1 + T * List[T]\n",
    "    sealed abstract class List[T]\n",
    "    case class Nil[T]() extends List[T]\n",
    "    case class NonEmpty[T](head: T, tail: List[T]) \n",
    "        extends List[T]\n",
    "    \n",
    "    \n",
    "    // [1, 2, 3]\n",
    "    val l: List[Int] = \n",
    "        NonEmpty(1, NonEmpty(2, NonEmpty(3, Nil())))\n",
    "}"
   ]
  },
  {
   "cell_type": "markdown",
   "metadata": {},
   "source": [
    "However the actual implementation of [immutable lists](https://github.com/scala/scala/blob/v2.13.1/src/library/scala/collection/immutable/List.scala#L79) in the standard library of Scala defines the empty list as an object, rather than a class. This forces us to declare the list covariantly in its generic parameter `A`, which is somewhat inconvenient at times.  The standard definition looks like as follows:"
   ]
  },
  {
   "cell_type": "code",
   "execution_count": 5,
   "metadata": {},
   "outputs": [
    {
     "data": {
      "text/plain": [
       "defined \u001b[32mobject\u001b[39m \u001b[36mActualStdDefinition\u001b[39m"
      ]
     },
     "execution_count": 5,
     "metadata": {},
     "output_type": "execute_result"
    }
   ],
   "source": [
    "object ActualStdDefinition{\n",
    "    sealed abstract class List[+T]\n",
    "    case object Nil extends List[Nothing]\n",
    "    case class ::[T](head: T, tail: List[T]) \n",
    "        extends List[T]\n",
    "}"
   ]
  },
  {
   "cell_type": "code",
   "execution_count": 6,
   "metadata": {},
   "outputs": [
    {
     "data": {
      "text/plain": [
       "\u001b[36ml\u001b[39m: \u001b[32mList\u001b[39m[\u001b[32mInt\u001b[39m] = \u001b[33mList\u001b[39m(\u001b[32m1\u001b[39m, \u001b[32m2\u001b[39m, \u001b[32m3\u001b[39m)"
      ]
     },
     "execution_count": 6,
     "metadata": {},
     "output_type": "execute_result"
    }
   ],
   "source": [
    "val l: List[Int] = ::(1, ::(2, ::(3, Nil)))"
   ]
  },
  {
   "cell_type": "markdown",
   "metadata": {},
   "source": [
    "### Some syntactic sugar"
   ]
  },
  {
   "cell_type": "markdown",
   "metadata": {},
   "source": [
    "Note that we can write standard lists with a more compact syntax: "
   ]
  },
  {
   "cell_type": "code",
   "execution_count": 9,
   "metadata": {},
   "outputs": [
    {
     "data": {
      "text/plain": [
       "\u001b[36ml\u001b[39m: \u001b[32mList\u001b[39m[\u001b[32mInt\u001b[39m] = \u001b[33mList\u001b[39m(\u001b[32m1\u001b[39m, \u001b[32m2\u001b[39m, \u001b[32m3\u001b[39m)\n",
       "\u001b[36ml2\u001b[39m: \u001b[32mList\u001b[39m[\u001b[32mInt\u001b[39m] = \u001b[33mList\u001b[39m(\u001b[32m1\u001b[39m, \u001b[32m2\u001b[39m, \u001b[32m3\u001b[39m)"
      ]
     },
     "execution_count": 9,
     "metadata": {},
     "output_type": "execute_result"
    }
   ],
   "source": [
    "// Less beautifully \n",
    "\n",
    "\n",
    "// More idiomatically\n",
    "val l: List[Int] = 1 :: (2 :: (3 :: Nil))\n",
    "val l2: List[Int] = List(1,2,3)"
   ]
  },
  {
   "cell_type": "markdown",
   "metadata": {},
   "source": [
    "And can also pattern match lists, similarly:"
   ]
  },
  {
   "cell_type": "code",
   "execution_count": 13,
   "metadata": {},
   "outputs": [
    {
     "data": {
      "text/plain": [
       "\u001b[36mres12_0\u001b[39m: \u001b[32mString\u001b[39m = \u001b[32m\"no vac\\u00eda con head = 1\"\u001b[39m\n",
       "\u001b[36mres12_1\u001b[39m: \u001b[32mString\u001b[39m = \u001b[32m\"blablabl\\u00e1\"\u001b[39m"
      ]
     },
     "execution_count": 13,
     "metadata": {},
     "output_type": "execute_result"
    }
   ],
   "source": [
    "// Less beautifully\n",
    "\n",
    "List(1,2,3,4) match {\n",
    "    case Nil => \"vacía\"\n",
    "    case ::(head, tail) => \"no vacía con head = \" + head\n",
    "}\n",
    "// more idiomatically\n",
    "\n",
    "List(1,2,3,4) match {\n",
    "    case Nil => \"vacía\"\n",
    "    case head :: tail => \"blablablá\"\n",
    "}\n",
    "// or\n"
   ]
  },
  {
   "cell_type": "markdown",
   "metadata": {},
   "source": [
    "##  Recursive functions"
   ]
  },
  {
   "cell_type": "markdown",
   "metadata": {},
   "source": [
    "Since lists are defined recursively, functions over lists will be commonly recursive as well. For instance, let's implement a recursive function that computes the length of a list. But before, let's implement the function imperatively for the sake of comparison:"
   ]
  },
  {
   "cell_type": "code",
   "execution_count": 14,
   "metadata": {},
   "outputs": [
    {
     "data": {
      "text/plain": [
       "\u001b[36mres13\u001b[39m: \u001b[32mInt\u001b[39m = \u001b[32m3\u001b[39m"
      ]
     },
     "execution_count": 14,
     "metadata": {},
     "output_type": "execute_result"
    }
   ],
   "source": [
    "List(1,2,3).length"
   ]
  },
  {
   "cell_type": "code",
   "execution_count": 43,
   "metadata": {},
   "outputs": [
    {
     "data": {
      "text/plain": [
       "defined \u001b[32mfunction\u001b[39m \u001b[36mlengthI\u001b[39m"
      ]
     },
     "execution_count": 43,
     "metadata": {},
     "output_type": "execute_result"
    }
   ],
   "source": [
    "// Using mutable variables\n",
    "\n",
    "def lengthI[A](l: List[A]): Int = {\n",
    "    var out: Int = 0\n",
    "    for (e <- l)\n",
    "        out = out + 1\n",
    "    out\n",
    "}"
   ]
  },
  {
   "cell_type": "code",
   "execution_count": 44,
   "metadata": {},
   "outputs": [
    {
     "data": {
      "text/plain": [
       "defined \u001b[32mfunction\u001b[39m \u001b[36mlengthTR\u001b[39m"
      ]
     },
     "execution_count": 44,
     "metadata": {},
     "output_type": "execute_result"
    }
   ],
   "source": [
    "// Using mutable variables\n",
    "\n",
    "def lengthTR[A](list: List[A]): Int = {\n",
    "    \n",
    "    def aux(out: Int, l: List[A]): Int = \n",
    "        l match {\n",
    "            case Nil => out\n",
    "            case head :: tail => \n",
    "                aux(out + 1, tail)\n",
    "        }\n",
    "    \n",
    "    aux(0, list)\n",
    "}\n",
    "/* \n",
    "    var out: Int = 0\n",
    "    for (e <- l)\n",
    "        out = out + 1\n",
    "    out\n",
    "}*/"
   ]
  },
  {
   "cell_type": "code",
   "execution_count": 45,
   "metadata": {},
   "outputs": [
    {
     "data": {
      "text/plain": [
       "\u001b[36mres44\u001b[39m: \u001b[32mInt\u001b[39m = \u001b[32m3\u001b[39m"
      ]
     },
     "execution_count": 45,
     "metadata": {},
     "output_type": "execute_result"
    }
   ],
   "source": [
    "lengthI(List(1,2,3))"
   ]
  },
  {
   "cell_type": "markdown",
   "metadata": {},
   "source": [
    "The recursive function is implemented as follows: "
   ]
  },
  {
   "cell_type": "code",
   "execution_count": 46,
   "metadata": {},
   "outputs": [
    {
     "data": {
      "text/plain": [
       "defined \u001b[32mfunction\u001b[39m \u001b[36mlengthR\u001b[39m"
      ]
     },
     "execution_count": 46,
     "metadata": {},
     "output_type": "execute_result"
    }
   ],
   "source": [
    "// Using recursive functions\n",
    "\n",
    "def lengthR[A](l: List[A]): Int = \n",
    "    l match {\n",
    "        case Nil => \n",
    "            0 : Int\n",
    "        case head :: tail =>\n",
    "            val tailLength: Int = lengthR(tail)\n",
    "            tailLength + 1 : Int \n",
    "    }"
   ]
  },
  {
   "cell_type": "code",
   "execution_count": 47,
   "metadata": {},
   "outputs": [
    {
     "data": {
      "text/plain": [
       "\u001b[36mres46\u001b[39m: \u001b[32mInt\u001b[39m = \u001b[32m3\u001b[39m"
      ]
     },
     "execution_count": 47,
     "metadata": {},
     "output_type": "execute_result"
    }
   ],
   "source": [
    "lengthR(List(1,2,3))"
   ]
  },
  {
   "cell_type": "code",
   "execution_count": 48,
   "metadata": {
    "scrolled": true
   },
   "outputs": [
    {
     "data": {
      "text/plain": [
       "\u001b[36mbiglist\u001b[39m: \u001b[32mList\u001b[39m[\u001b[32mInt\u001b[39m] = \u001b[33mList\u001b[39m(\n",
       "  \u001b[32m1\u001b[39m,\n",
       "  \u001b[32m1\u001b[39m,\n",
       "  \u001b[32m1\u001b[39m,\n",
       "  \u001b[32m1\u001b[39m,\n",
       "  \u001b[32m1\u001b[39m,\n",
       "  \u001b[32m1\u001b[39m,\n",
       "  \u001b[32m1\u001b[39m,\n",
       "  \u001b[32m1\u001b[39m,\n",
       "  \u001b[32m1\u001b[39m,\n",
       "  \u001b[32m1\u001b[39m,\n",
       "  \u001b[32m1\u001b[39m,\n",
       "  \u001b[32m1\u001b[39m,\n",
       "  \u001b[32m1\u001b[39m,\n",
       "  \u001b[32m1\u001b[39m,\n",
       "  \u001b[32m1\u001b[39m,\n",
       "  \u001b[32m1\u001b[39m,\n",
       "  \u001b[32m1\u001b[39m,\n",
       "  \u001b[32m1\u001b[39m,\n",
       "  \u001b[32m1\u001b[39m,\n",
       "  \u001b[32m1\u001b[39m,\n",
       "  \u001b[32m1\u001b[39m,\n",
       "  \u001b[32m1\u001b[39m,\n",
       "  \u001b[32m1\u001b[39m,\n",
       "  \u001b[32m1\u001b[39m,\n",
       "  \u001b[32m1\u001b[39m,\n",
       "  \u001b[32m1\u001b[39m,\n",
       "  \u001b[32m1\u001b[39m,\n",
       "  \u001b[32m1\u001b[39m,\n",
       "  \u001b[32m1\u001b[39m,\n",
       "  \u001b[32m1\u001b[39m,\n",
       "  \u001b[32m1\u001b[39m,\n",
       "  \u001b[32m1\u001b[39m,\n",
       "  \u001b[32m1\u001b[39m,\n",
       "  \u001b[32m1\u001b[39m,\n",
       "  \u001b[32m1\u001b[39m,\n",
       "  \u001b[32m1\u001b[39m,\n",
       "  \u001b[32m1\u001b[39m,\n",
       "  \u001b[32m1\u001b[39m,\n",
       "..."
      ]
     },
     "execution_count": 48,
     "metadata": {},
     "output_type": "execute_result"
    }
   ],
   "source": [
    "val biglist = List.fill(10000)(1) // 1 :: (1 :: (1 :: ...))"
   ]
  },
  {
   "cell_type": "code",
   "execution_count": 49,
   "metadata": {},
   "outputs": [
    {
     "data": {
      "text/plain": [
       "\u001b[36mres48\u001b[39m: \u001b[32mInt\u001b[39m = \u001b[32m10000\u001b[39m"
      ]
     },
     "execution_count": 49,
     "metadata": {},
     "output_type": "execute_result"
    }
   ],
   "source": [
    "lengthTR(biglist)"
   ]
  },
  {
   "cell_type": "code",
   "execution_count": 50,
   "metadata": {},
   "outputs": [
    {
     "ename": "",
     "evalue": "",
     "output_type": "error",
     "traceback": [
      "\u001b[31mjava.lang.StackOverflowError\u001b[39m\n  scala.collection.immutable.List.equals(\u001b[32mList.scala\u001b[39m:\u001b[32m575\u001b[39m)\n  ammonite.$sess.cmd45$Helper.lengthR(\u001b[32mcmd45.sc\u001b[39m:\u001b[32m3\u001b[39m)\n  ammonite.$sess.cmd45$Helper.lengthR(\u001b[32mcmd45.sc\u001b[39m:\u001b[32m6\u001b[39m)\n  ammonite.$sess.cmd45$Helper.lengthR(\u001b[32mcmd45.sc\u001b[39m:\u001b[32m6\u001b[39m)\n  ammonite.$sess.cmd45$Helper.lengthR(\u001b[32mcmd45.sc\u001b[39m:\u001b[32m6\u001b[39m)\n  ammonite.$sess.cmd45$Helper.lengthR(\u001b[32mcmd45.sc\u001b[39m:\u001b[32m6\u001b[39m)\n  ammonite.$sess.cmd45$Helper.lengthR(\u001b[32mcmd45.sc\u001b[39m:\u001b[32m6\u001b[39m)\n  ammonite.$sess.cmd45$Helper.lengthR(\u001b[32mcmd45.sc\u001b[39m:\u001b[32m6\u001b[39m)\n  ammonite.$sess.cmd45$Helper.lengthR(\u001b[32mcmd45.sc\u001b[39m:\u001b[32m6\u001b[39m)\n  ammonite.$sess.cmd45$Helper.lengthR(\u001b[32mcmd45.sc\u001b[39m:\u001b[32m6\u001b[39m)\n  ammonite.$sess.cmd45$Helper.lengthR(\u001b[32mcmd45.sc\u001b[39m:\u001b[32m6\u001b[39m)\n  ammonite.$sess.cmd45$Helper.lengthR(\u001b[32mcmd45.sc\u001b[39m:\u001b[32m6\u001b[39m)\n  ammonite.$sess.cmd45$Helper.lengthR(\u001b[32mcmd45.sc\u001b[39m:\u001b[32m6\u001b[39m)\n  ammonite.$sess.cmd45$Helper.lengthR(\u001b[32mcmd45.sc\u001b[39m:\u001b[32m6\u001b[39m)\n  ammonite.$sess.cmd45$Helper.lengthR(\u001b[32mcmd45.sc\u001b[39m:\u001b[32m6\u001b[39m)\n  ammonite.$sess.cmd45$Helper.lengthR(\u001b[32mcmd45.sc\u001b[39m:\u001b[32m6\u001b[39m)\n  ammonite.$sess.cmd45$Helper.lengthR(\u001b[32mcmd45.sc\u001b[39m:\u001b[32m6\u001b[39m)\n  ammonite.$sess.cmd45$Helper.lengthR(\u001b[32mcmd45.sc\u001b[39m:\u001b[32m6\u001b[39m)\n  ammonite.$sess.cmd45$Helper.lengthR(\u001b[32mcmd45.sc\u001b[39m:\u001b[32m6\u001b[39m)\n  ammonite.$sess.cmd45$Helper.lengthR(\u001b[32mcmd45.sc\u001b[39m:\u001b[32m6\u001b[39m)\n  ammonite.$sess.cmd45$Helper.lengthR(\u001b[32mcmd45.sc\u001b[39m:\u001b[32m6\u001b[39m)\n  ammonite.$sess.cmd45$Helper.lengthR(\u001b[32mcmd45.sc\u001b[39m:\u001b[32m6\u001b[39m)\n  ammonite.$sess.cmd45$Helper.lengthR(\u001b[32mcmd45.sc\u001b[39m:\u001b[32m6\u001b[39m)\n  ammonite.$sess.cmd45$Helper.lengthR(\u001b[32mcmd45.sc\u001b[39m:\u001b[32m6\u001b[39m)\n  ammonite.$sess.cmd45$Helper.lengthR(\u001b[32mcmd45.sc\u001b[39m:\u001b[32m6\u001b[39m)\n  ammonite.$sess.cmd45$Helper.lengthR(\u001b[32mcmd45.sc\u001b[39m:\u001b[32m6\u001b[39m)\n  ammonite.$sess.cmd45$Helper.lengthR(\u001b[32mcmd45.sc\u001b[39m:\u001b[32m6\u001b[39m)\n  ammonite.$sess.cmd45$Helper.lengthR(\u001b[32mcmd45.sc\u001b[39m:\u001b[32m6\u001b[39m)\n  ammonite.$sess.cmd45$Helper.lengthR(\u001b[32mcmd45.sc\u001b[39m:\u001b[32m6\u001b[39m)\n  ammonite.$sess.cmd45$Helper.lengthR(\u001b[32mcmd45.sc\u001b[39m:\u001b[32m6\u001b[39m)\n  ammonite.$sess.cmd45$Helper.lengthR(\u001b[32mcmd45.sc\u001b[39m:\u001b[32m6\u001b[39m)\n  ammonite.$sess.cmd45$Helper.lengthR(\u001b[32mcmd45.sc\u001b[39m:\u001b[32m6\u001b[39m)\n  ammonite.$sess.cmd45$Helper.lengthR(\u001b[32mcmd45.sc\u001b[39m:\u001b[32m6\u001b[39m)\n  ammonite.$sess.cmd45$Helper.lengthR(\u001b[32mcmd45.sc\u001b[39m:\u001b[32m6\u001b[39m)\n  ammonite.$sess.cmd45$Helper.lengthR(\u001b[32mcmd45.sc\u001b[39m:\u001b[32m6\u001b[39m)\n  ammonite.$sess.cmd45$Helper.lengthR(\u001b[32mcmd45.sc\u001b[39m:\u001b[32m6\u001b[39m)\n  ammonite.$sess.cmd45$Helper.lengthR(\u001b[32mcmd45.sc\u001b[39m:\u001b[32m6\u001b[39m)\n  ammonite.$sess.cmd45$Helper.lengthR(\u001b[32mcmd45.sc\u001b[39m:\u001b[32m6\u001b[39m)\n  ammonite.$sess.cmd45$Helper.lengthR(\u001b[32mcmd45.sc\u001b[39m:\u001b[32m6\u001b[39m)\n  ammonite.$sess.cmd45$Helper.lengthR(\u001b[32mcmd45.sc\u001b[39m:\u001b[32m6\u001b[39m)\n  ammonite.$sess.cmd45$Helper.lengthR(\u001b[32mcmd45.sc\u001b[39m:\u001b[32m6\u001b[39m)\n  ammonite.$sess.cmd45$Helper.lengthR(\u001b[32mcmd45.sc\u001b[39m:\u001b[32m6\u001b[39m)\n  ammonite.$sess.cmd45$Helper.lengthR(\u001b[32mcmd45.sc\u001b[39m:\u001b[32m6\u001b[39m)\n  ammonite.$sess.cmd45$Helper.lengthR(\u001b[32mcmd45.sc\u001b[39m:\u001b[32m6\u001b[39m)\n  ammonite.$sess.cmd45$Helper.lengthR(\u001b[32mcmd45.sc\u001b[39m:\u001b[32m6\u001b[39m)\n  ammonite.$sess.cmd45$Helper.lengthR(\u001b[32mcmd45.sc\u001b[39m:\u001b[32m6\u001b[39m)\n  ammonite.$sess.cmd45$Helper.lengthR(\u001b[32mcmd45.sc\u001b[39m:\u001b[32m6\u001b[39m)\n  ammonite.$sess.cmd45$Helper.lengthR(\u001b[32mcmd45.sc\u001b[39m:\u001b[32m6\u001b[39m)\n  ammonite.$sess.cmd45$Helper.lengthR(\u001b[32mcmd45.sc\u001b[39m:\u001b[32m6\u001b[39m)\n  ammonite.$sess.cmd45$Helper.lengthR(\u001b[32mcmd45.sc\u001b[39m:\u001b[32m6\u001b[39m)\n  ammonite.$sess.cmd45$Helper.lengthR(\u001b[32mcmd45.sc\u001b[39m:\u001b[32m6\u001b[39m)\n  ammonite.$sess.cmd45$Helper.lengthR(\u001b[32mcmd45.sc\u001b[39m:\u001b[32m6\u001b[39m)\n  ammonite.$sess.cmd45$Helper.lengthR(\u001b[32mcmd45.sc\u001b[39m:\u001b[32m6\u001b[39m)\n  ammonite.$sess.cmd45$Helper.lengthR(\u001b[32mcmd45.sc\u001b[39m:\u001b[32m6\u001b[39m)\n  ammonite.$sess.cmd45$Helper.lengthR(\u001b[32mcmd45.sc\u001b[39m:\u001b[32m6\u001b[39m)\n  ammonite.$sess.cmd45$Helper.lengthR(\u001b[32mcmd45.sc\u001b[39m:\u001b[32m6\u001b[39m)\n  ammonite.$sess.cmd45$Helper.lengthR(\u001b[32mcmd45.sc\u001b[39m:\u001b[32m6\u001b[39m)\n  ammonite.$sess.cmd45$Helper.lengthR(\u001b[32mcmd45.sc\u001b[39m:\u001b[32m6\u001b[39m)\n  ammonite.$sess.cmd45$Helper.lengthR(\u001b[32mcmd45.sc\u001b[39m:\u001b[32m6\u001b[39m)\n  ammonite.$sess.cmd45$Helper.lengthR(\u001b[32mcmd45.sc\u001b[39m:\u001b[32m6\u001b[39m)\n  ammonite.$sess.cmd45$Helper.lengthR(\u001b[32mcmd45.sc\u001b[39m:\u001b[32m6\u001b[39m)\n  ammonite.$sess.cmd45$Helper.lengthR(\u001b[32mcmd45.sc\u001b[39m:\u001b[32m6\u001b[39m)\n  ammonite.$sess.cmd45$Helper.lengthR(\u001b[32mcmd45.sc\u001b[39m:\u001b[32m6\u001b[39m)\n  ammonite.$sess.cmd45$Helper.lengthR(\u001b[32mcmd45.sc\u001b[39m:\u001b[32m6\u001b[39m)\n  ammonite.$sess.cmd45$Helper.lengthR(\u001b[32mcmd45.sc\u001b[39m:\u001b[32m6\u001b[39m)\n  ammonite.$sess.cmd45$Helper.lengthR(\u001b[32mcmd45.sc\u001b[39m:\u001b[32m6\u001b[39m)\n  ammonite.$sess.cmd45$Helper.lengthR(\u001b[32mcmd45.sc\u001b[39m:\u001b[32m6\u001b[39m)\n  ammonite.$sess.cmd45$Helper.lengthR(\u001b[32mcmd45.sc\u001b[39m:\u001b[32m6\u001b[39m)\n  ammonite.$sess.cmd45$Helper.lengthR(\u001b[32mcmd45.sc\u001b[39m:\u001b[32m6\u001b[39m)\n  ammonite.$sess.cmd45$Helper.lengthR(\u001b[32mcmd45.sc\u001b[39m:\u001b[32m6\u001b[39m)\n  ammonite.$sess.cmd45$Helper.lengthR(\u001b[32mcmd45.sc\u001b[39m:\u001b[32m6\u001b[39m)\n  ammonite.$sess.cmd45$Helper.lengthR(\u001b[32mcmd45.sc\u001b[39m:\u001b[32m6\u001b[39m)\n  ammonite.$sess.cmd45$Helper.lengthR(\u001b[32mcmd45.sc\u001b[39m:\u001b[32m6\u001b[39m)\n  ammonite.$sess.cmd45$Helper.lengthR(\u001b[32mcmd45.sc\u001b[39m:\u001b[32m6\u001b[39m)\n  ammonite.$sess.cmd45$Helper.lengthR(\u001b[32mcmd45.sc\u001b[39m:\u001b[32m6\u001b[39m)\n  ammonite.$sess.cmd45$Helper.lengthR(\u001b[32mcmd45.sc\u001b[39m:\u001b[32m6\u001b[39m)\n  ammonite.$sess.cmd45$Helper.lengthR(\u001b[32mcmd45.sc\u001b[39m:\u001b[32m6\u001b[39m)\n  ammonite.$sess.cmd45$Helper.lengthR(\u001b[32mcmd45.sc\u001b[39m:\u001b[32m6\u001b[39m)\n  ammonite.$sess.cmd45$Helper.lengthR(\u001b[32mcmd45.sc\u001b[39m:\u001b[32m6\u001b[39m)\n  ammonite.$sess.cmd45$Helper.lengthR(\u001b[32mcmd45.sc\u001b[39m:\u001b[32m6\u001b[39m)\n  ammonite.$sess.cmd45$Helper.lengthR(\u001b[32mcmd45.sc\u001b[39m:\u001b[32m6\u001b[39m)\n  ammonite.$sess.cmd45$Helper.lengthR(\u001b[32mcmd45.sc\u001b[39m:\u001b[32m6\u001b[39m)\n  ammonite.$sess.cmd45$Helper.lengthR(\u001b[32mcmd45.sc\u001b[39m:\u001b[32m6\u001b[39m)\n  ammonite.$sess.cmd45$Helper.lengthR(\u001b[32mcmd45.sc\u001b[39m:\u001b[32m6\u001b[39m)\n  ammonite.$sess.cmd45$Helper.lengthR(\u001b[32mcmd45.sc\u001b[39m:\u001b[32m6\u001b[39m)\n  ammonite.$sess.cmd45$Helper.lengthR(\u001b[32mcmd45.sc\u001b[39m:\u001b[32m6\u001b[39m)\n  ammonite.$sess.cmd45$Helper.lengthR(\u001b[32mcmd45.sc\u001b[39m:\u001b[32m6\u001b[39m)\n  ammonite.$sess.cmd45$Helper.lengthR(\u001b[32mcmd45.sc\u001b[39m:\u001b[32m6\u001b[39m)\n  ammonite.$sess.cmd45$Helper.lengthR(\u001b[32mcmd45.sc\u001b[39m:\u001b[32m6\u001b[39m)\n  ammonite.$sess.cmd45$Helper.lengthR(\u001b[32mcmd45.sc\u001b[39m:\u001b[32m6\u001b[39m)\n  ammonite.$sess.cmd45$Helper.lengthR(\u001b[32mcmd45.sc\u001b[39m:\u001b[32m6\u001b[39m)\n  ammonite.$sess.cmd45$Helper.lengthR(\u001b[32mcmd45.sc\u001b[39m:\u001b[32m6\u001b[39m)\n  ammonite.$sess.cmd45$Helper.lengthR(\u001b[32mcmd45.sc\u001b[39m:\u001b[32m6\u001b[39m)\n  ammonite.$sess.cmd45$Helper.lengthR(\u001b[32mcmd45.sc\u001b[39m:\u001b[32m6\u001b[39m)\n  ammonite.$sess.cmd45$Helper.lengthR(\u001b[32mcmd45.sc\u001b[39m:\u001b[32m6\u001b[39m)\n  ammonite.$sess.cmd45$Helper.lengthR(\u001b[32mcmd45.sc\u001b[39m:\u001b[32m6\u001b[39m)\n  ammonite.$sess.cmd45$Helper.lengthR(\u001b[32mcmd45.sc\u001b[39m:\u001b[32m6\u001b[39m)\n  ammonite.$sess.cmd45$Helper.lengthR(\u001b[32mcmd45.sc\u001b[39m:\u001b[32m6\u001b[39m)\n  ammonite.$sess.cmd45$Helper.lengthR(\u001b[32mcmd45.sc\u001b[39m:\u001b[32m6\u001b[39m)\n  ammonite.$sess.cmd45$Helper.lengthR(\u001b[32mcmd45.sc\u001b[39m:\u001b[32m6\u001b[39m)\n  ammonite.$sess.cmd45$Helper.lengthR(\u001b[32mcmd45.sc\u001b[39m:\u001b[32m6\u001b[39m)\n  ammonite.$sess.cmd45$Helper.lengthR(\u001b[32mcmd45.sc\u001b[39m:\u001b[32m6\u001b[39m)\n  ammonite.$sess.cmd45$Helper.lengthR(\u001b[32mcmd45.sc\u001b[39m:\u001b[32m6\u001b[39m)\n  ammonite.$sess.cmd45$Helper.lengthR(\u001b[32mcmd45.sc\u001b[39m:\u001b[32m6\u001b[39m)\n  ammonite.$sess.cmd45$Helper.lengthR(\u001b[32mcmd45.sc\u001b[39m:\u001b[32m6\u001b[39m)\n  ammonite.$sess.cmd45$Helper.lengthR(\u001b[32mcmd45.sc\u001b[39m:\u001b[32m6\u001b[39m)\n  ammonite.$sess.cmd45$Helper.lengthR(\u001b[32mcmd45.sc\u001b[39m:\u001b[32m6\u001b[39m)\n  ammonite.$sess.cmd45$Helper.lengthR(\u001b[32mcmd45.sc\u001b[39m:\u001b[32m6\u001b[39m)\n  ammonite.$sess.cmd45$Helper.lengthR(\u001b[32mcmd45.sc\u001b[39m:\u001b[32m6\u001b[39m)\n  ammonite.$sess.cmd45$Helper.lengthR(\u001b[32mcmd45.sc\u001b[39m:\u001b[32m6\u001b[39m)\n  ammonite.$sess.cmd45$Helper.lengthR(\u001b[32mcmd45.sc\u001b[39m:\u001b[32m6\u001b[39m)\n  ammonite.$sess.cmd45$Helper.lengthR(\u001b[32mcmd45.sc\u001b[39m:\u001b[32m6\u001b[39m)\n  ammonite.$sess.cmd45$Helper.lengthR(\u001b[32mcmd45.sc\u001b[39m:\u001b[32m6\u001b[39m)\n  ammonite.$sess.cmd45$Helper.lengthR(\u001b[32mcmd45.sc\u001b[39m:\u001b[32m6\u001b[39m)\n  ammonite.$sess.cmd45$Helper.lengthR(\u001b[32mcmd45.sc\u001b[39m:\u001b[32m6\u001b[39m)\n  ammonite.$sess.cmd45$Helper.lengthR(\u001b[32mcmd45.sc\u001b[39m:\u001b[32m6\u001b[39m)\n  ammonite.$sess.cmd45$Helper.lengthR(\u001b[32mcmd45.sc\u001b[39m:\u001b[32m6\u001b[39m)\n  ammonite.$sess.cmd45$Helper.lengthR(\u001b[32mcmd45.sc\u001b[39m:\u001b[32m6\u001b[39m)\n  ammonite.$sess.cmd45$Helper.lengthR(\u001b[32mcmd45.sc\u001b[39m:\u001b[32m6\u001b[39m)\n  ammonite.$sess.cmd45$Helper.lengthR(\u001b[32mcmd45.sc\u001b[39m:\u001b[32m6\u001b[39m)\n  ammonite.$sess.cmd45$Helper.lengthR(\u001b[32mcmd45.sc\u001b[39m:\u001b[32m6\u001b[39m)\n  ammonite.$sess.cmd45$Helper.lengthR(\u001b[32mcmd45.sc\u001b[39m:\u001b[32m6\u001b[39m)\n  ammonite.$sess.cmd45$Helper.lengthR(\u001b[32mcmd45.sc\u001b[39m:\u001b[32m6\u001b[39m)\n  ammonite.$sess.cmd45$Helper.lengthR(\u001b[32mcmd45.sc\u001b[39m:\u001b[32m6\u001b[39m)\n  ammonite.$sess.cmd45$Helper.lengthR(\u001b[32mcmd45.sc\u001b[39m:\u001b[32m6\u001b[39m)\n  ammonite.$sess.cmd45$Helper.lengthR(\u001b[32mcmd45.sc\u001b[39m:\u001b[32m6\u001b[39m)\n  ammonite.$sess.cmd45$Helper.lengthR(\u001b[32mcmd45.sc\u001b[39m:\u001b[32m6\u001b[39m)\n  ammonite.$sess.cmd45$Helper.lengthR(\u001b[32mcmd45.sc\u001b[39m:\u001b[32m6\u001b[39m)\n  ammonite.$sess.cmd45$Helper.lengthR(\u001b[32mcmd45.sc\u001b[39m:\u001b[32m6\u001b[39m)\n  ammonite.$sess.cmd45$Helper.lengthR(\u001b[32mcmd45.sc\u001b[39m:\u001b[32m6\u001b[39m)\n  ammonite.$sess.cmd45$Helper.lengthR(\u001b[32mcmd45.sc\u001b[39m:\u001b[32m6\u001b[39m)\n  ammonite.$sess.cmd45$Helper.lengthR(\u001b[32mcmd45.sc\u001b[39m:\u001b[32m6\u001b[39m)\n  ammonite.$sess.cmd45$Helper.lengthR(\u001b[32mcmd45.sc\u001b[39m:\u001b[32m6\u001b[39m)\n  ammonite.$sess.cmd45$Helper.lengthR(\u001b[32mcmd45.sc\u001b[39m:\u001b[32m6\u001b[39m)\n  ammonite.$sess.cmd45$Helper.lengthR(\u001b[32mcmd45.sc\u001b[39m:\u001b[32m6\u001b[39m)\n  ammonite.$sess.cmd45$Helper.lengthR(\u001b[32mcmd45.sc\u001b[39m:\u001b[32m6\u001b[39m)\n  ammonite.$sess.cmd45$Helper.lengthR(\u001b[32mcmd45.sc\u001b[39m:\u001b[32m6\u001b[39m)\n  ammonite.$sess.cmd45$Helper.lengthR(\u001b[32mcmd45.sc\u001b[39m:\u001b[32m6\u001b[39m)\n  ammonite.$sess.cmd45$Helper.lengthR(\u001b[32mcmd45.sc\u001b[39m:\u001b[32m6\u001b[39m)\n  ammonite.$sess.cmd45$Helper.lengthR(\u001b[32mcmd45.sc\u001b[39m:\u001b[32m6\u001b[39m)\n  ammonite.$sess.cmd45$Helper.lengthR(\u001b[32mcmd45.sc\u001b[39m:\u001b[32m6\u001b[39m)\n  ammonite.$sess.cmd45$Helper.lengthR(\u001b[32mcmd45.sc\u001b[39m:\u001b[32m6\u001b[39m)\n  ammonite.$sess.cmd45$Helper.lengthR(\u001b[32mcmd45.sc\u001b[39m:\u001b[32m6\u001b[39m)\n  ammonite.$sess.cmd45$Helper.lengthR(\u001b[32mcmd45.sc\u001b[39m:\u001b[32m6\u001b[39m)\n  ammonite.$sess.cmd45$Helper.lengthR(\u001b[32mcmd45.sc\u001b[39m:\u001b[32m6\u001b[39m)\n  ammonite.$sess.cmd45$Helper.lengthR(\u001b[32mcmd45.sc\u001b[39m:\u001b[32m6\u001b[39m)\n  ammonite.$sess.cmd45$Helper.lengthR(\u001b[32mcmd45.sc\u001b[39m:\u001b[32m6\u001b[39m)\n  ammonite.$sess.cmd45$Helper.lengthR(\u001b[32mcmd45.sc\u001b[39m:\u001b[32m6\u001b[39m)\n  ammonite.$sess.cmd45$Helper.lengthR(\u001b[32mcmd45.sc\u001b[39m:\u001b[32m6\u001b[39m)\n  ammonite.$sess.cmd45$Helper.lengthR(\u001b[32mcmd45.sc\u001b[39m:\u001b[32m6\u001b[39m)\n  ammonite.$sess.cmd45$Helper.lengthR(\u001b[32mcmd45.sc\u001b[39m:\u001b[32m6\u001b[39m)\n  ammonite.$sess.cmd45$Helper.lengthR(\u001b[32mcmd45.sc\u001b[39m:\u001b[32m6\u001b[39m)\n  ammonite.$sess.cmd45$Helper.lengthR(\u001b[32mcmd45.sc\u001b[39m:\u001b[32m6\u001b[39m)\n  ammonite.$sess.cmd45$Helper.lengthR(\u001b[32mcmd45.sc\u001b[39m:\u001b[32m6\u001b[39m)\n  ammonite.$sess.cmd45$Helper.lengthR(\u001b[32mcmd45.sc\u001b[39m:\u001b[32m6\u001b[39m)\n  ammonite.$sess.cmd45$Helper.lengthR(\u001b[32mcmd45.sc\u001b[39m:\u001b[32m6\u001b[39m)\n  ammonite.$sess.cmd45$Helper.lengthR(\u001b[32mcmd45.sc\u001b[39m:\u001b[32m6\u001b[39m)\n  ammonite.$sess.cmd45$Helper.lengthR(\u001b[32mcmd45.sc\u001b[39m:\u001b[32m6\u001b[39m)\n  ammonite.$sess.cmd45$Helper.lengthR(\u001b[32mcmd45.sc\u001b[39m:\u001b[32m6\u001b[39m)\n  ammonite.$sess.cmd45$Helper.lengthR(\u001b[32mcmd45.sc\u001b[39m:\u001b[32m6\u001b[39m)\n  ammonite.$sess.cmd45$Helper.lengthR(\u001b[32mcmd45.sc\u001b[39m:\u001b[32m6\u001b[39m)\n  ammonite.$sess.cmd45$Helper.lengthR(\u001b[32mcmd45.sc\u001b[39m:\u001b[32m6\u001b[39m)\n  ammonite.$sess.cmd45$Helper.lengthR(\u001b[32mcmd45.sc\u001b[39m:\u001b[32m6\u001b[39m)\n  ammonite.$sess.cmd45$Helper.lengthR(\u001b[32mcmd45.sc\u001b[39m:\u001b[32m6\u001b[39m)\n  ammonite.$sess.cmd45$Helper.lengthR(\u001b[32mcmd45.sc\u001b[39m:\u001b[32m6\u001b[39m)\n  ammonite.$sess.cmd45$Helper.lengthR(\u001b[32mcmd45.sc\u001b[39m:\u001b[32m6\u001b[39m)\n  ammonite.$sess.cmd45$Helper.lengthR(\u001b[32mcmd45.sc\u001b[39m:\u001b[32m6\u001b[39m)\n  ammonite.$sess.cmd45$Helper.lengthR(\u001b[32mcmd45.sc\u001b[39m:\u001b[32m6\u001b[39m)\n  ammonite.$sess.cmd45$Helper.lengthR(\u001b[32mcmd45.sc\u001b[39m:\u001b[32m6\u001b[39m)\n  ammonite.$sess.cmd45$Helper.lengthR(\u001b[32mcmd45.sc\u001b[39m:\u001b[32m6\u001b[39m)\n  ammonite.$sess.cmd45$Helper.lengthR(\u001b[32mcmd45.sc\u001b[39m:\u001b[32m6\u001b[39m)\n  ammonite.$sess.cmd45$Helper.lengthR(\u001b[32mcmd45.sc\u001b[39m:\u001b[32m6\u001b[39m)\n  ammonite.$sess.cmd45$Helper.lengthR(\u001b[32mcmd45.sc\u001b[39m:\u001b[32m6\u001b[39m)\n  ammonite.$sess.cmd45$Helper.lengthR(\u001b[32mcmd45.sc\u001b[39m:\u001b[32m6\u001b[39m)\n  ammonite.$sess.cmd45$Helper.lengthR(\u001b[32mcmd45.sc\u001b[39m:\u001b[32m6\u001b[39m)\n  ammonite.$sess.cmd45$Helper.lengthR(\u001b[32mcmd45.sc\u001b[39m:\u001b[32m6\u001b[39m)\n  ammonite.$sess.cmd45$Helper.lengthR(\u001b[32mcmd45.sc\u001b[39m:\u001b[32m6\u001b[39m)\n  ammonite.$sess.cmd45$Helper.lengthR(\u001b[32mcmd45.sc\u001b[39m:\u001b[32m6\u001b[39m)\n  ammonite.$sess.cmd45$Helper.lengthR(\u001b[32mcmd45.sc\u001b[39m:\u001b[32m6\u001b[39m)\n  ammonite.$sess.cmd45$Helper.lengthR(\u001b[32mcmd45.sc\u001b[39m:\u001b[32m6\u001b[39m)\n  ammonite.$sess.cmd45$Helper.lengthR(\u001b[32mcmd45.sc\u001b[39m:\u001b[32m6\u001b[39m)\n  ammonite.$sess.cmd45$Helper.lengthR(\u001b[32mcmd45.sc\u001b[39m:\u001b[32m6\u001b[39m)\n  ammonite.$sess.cmd45$Helper.lengthR(\u001b[32mcmd45.sc\u001b[39m:\u001b[32m6\u001b[39m)\n  ammonite.$sess.cmd45$Helper.lengthR(\u001b[32mcmd45.sc\u001b[39m:\u001b[32m6\u001b[39m)\n  ammonite.$sess.cmd45$Helper.lengthR(\u001b[32mcmd45.sc\u001b[39m:\u001b[32m6\u001b[39m)\n  ammonite.$sess.cmd45$Helper.lengthR(\u001b[32mcmd45.sc\u001b[39m:\u001b[32m6\u001b[39m)\n  ammonite.$sess.cmd45$Helper.lengthR(\u001b[32mcmd45.sc\u001b[39m:\u001b[32m6\u001b[39m)\n  ammonite.$sess.cmd45$Helper.lengthR(\u001b[32mcmd45.sc\u001b[39m:\u001b[32m6\u001b[39m)\n  ammonite.$sess.cmd45$Helper.lengthR(\u001b[32mcmd45.sc\u001b[39m:\u001b[32m6\u001b[39m)\n  ammonite.$sess.cmd45$Helper.lengthR(\u001b[32mcmd45.sc\u001b[39m:\u001b[32m6\u001b[39m)\n  ammonite.$sess.cmd45$Helper.lengthR(\u001b[32mcmd45.sc\u001b[39m:\u001b[32m6\u001b[39m)\n  ammonite.$sess.cmd45$Helper.lengthR(\u001b[32mcmd45.sc\u001b[39m:\u001b[32m6\u001b[39m)\n  ammonite.$sess.cmd45$Helper.lengthR(\u001b[32mcmd45.sc\u001b[39m:\u001b[32m6\u001b[39m)\n  ammonite.$sess.cmd45$Helper.lengthR(\u001b[32mcmd45.sc\u001b[39m:\u001b[32m6\u001b[39m)\n  ammonite.$sess.cmd45$Helper.lengthR(\u001b[32mcmd45.sc\u001b[39m:\u001b[32m6\u001b[39m)\n  ammonite.$sess.cmd45$Helper.lengthR(\u001b[32mcmd45.sc\u001b[39m:\u001b[32m6\u001b[39m)\n  ammonite.$sess.cmd45$Helper.lengthR(\u001b[32mcmd45.sc\u001b[39m:\u001b[32m6\u001b[39m)\n  ammonite.$sess.cmd45$Helper.lengthR(\u001b[32mcmd45.sc\u001b[39m:\u001b[32m6\u001b[39m)\n  ammonite.$sess.cmd45$Helper.lengthR(\u001b[32mcmd45.sc\u001b[39m:\u001b[32m6\u001b[39m)\n  ammonite.$sess.cmd45$Helper.lengthR(\u001b[32mcmd45.sc\u001b[39m:\u001b[32m6\u001b[39m)\n  ammonite.$sess.cmd45$Helper.lengthR(\u001b[32mcmd45.sc\u001b[39m:\u001b[32m6\u001b[39m)\n  ammonite.$sess.cmd45$Helper.lengthR(\u001b[32mcmd45.sc\u001b[39m:\u001b[32m6\u001b[39m)\n  ammonite.$sess.cmd45$Helper.lengthR(\u001b[32mcmd45.sc\u001b[39m:\u001b[32m6\u001b[39m)\n  ammonite.$sess.cmd45$Helper.lengthR(\u001b[32mcmd45.sc\u001b[39m:\u001b[32m6\u001b[39m)\n  ammonite.$sess.cmd45$Helper.lengthR(\u001b[32mcmd45.sc\u001b[39m:\u001b[32m6\u001b[39m)\n  ammonite.$sess.cmd45$Helper.lengthR(\u001b[32mcmd45.sc\u001b[39m:\u001b[32m6\u001b[39m)\n  ammonite.$sess.cmd45$Helper.lengthR(\u001b[32mcmd45.sc\u001b[39m:\u001b[32m6\u001b[39m)\n  ammonite.$sess.cmd45$Helper.lengthR(\u001b[32mcmd45.sc\u001b[39m:\u001b[32m6\u001b[39m)\n  ammonite.$sess.cmd45$Helper.lengthR(\u001b[32mcmd45.sc\u001b[39m:\u001b[32m6\u001b[39m)\n  ammonite.$sess.cmd45$Helper.lengthR(\u001b[32mcmd45.sc\u001b[39m:\u001b[32m6\u001b[39m)\n  ammonite.$sess.cmd45$Helper.lengthR(\u001b[32mcmd45.sc\u001b[39m:\u001b[32m6\u001b[39m)\n  ammonite.$sess.cmd45$Helper.lengthR(\u001b[32mcmd45.sc\u001b[39m:\u001b[32m6\u001b[39m)\n  ammonite.$sess.cmd45$Helper.lengthR(\u001b[32mcmd45.sc\u001b[39m:\u001b[32m6\u001b[39m)\n  ammonite.$sess.cmd45$Helper.lengthR(\u001b[32mcmd45.sc\u001b[39m:\u001b[32m6\u001b[39m)\n  ammonite.$sess.cmd45$Helper.lengthR(\u001b[32mcmd45.sc\u001b[39m:\u001b[32m6\u001b[39m)\n  ammonite.$sess.cmd45$Helper.lengthR(\u001b[32mcmd45.sc\u001b[39m:\u001b[32m6\u001b[39m)\n  ammonite.$sess.cmd45$Helper.lengthR(\u001b[32mcmd45.sc\u001b[39m:\u001b[32m6\u001b[39m)\n  ammonite.$sess.cmd45$Helper.lengthR(\u001b[32mcmd45.sc\u001b[39m:\u001b[32m6\u001b[39m)\n  ammonite.$sess.cmd45$Helper.lengthR(\u001b[32mcmd45.sc\u001b[39m:\u001b[32m6\u001b[39m)\n  ammonite.$sess.cmd45$Helper.lengthR(\u001b[32mcmd45.sc\u001b[39m:\u001b[32m6\u001b[39m)\n  ammonite.$sess.cmd45$Helper.lengthR(\u001b[32mcmd45.sc\u001b[39m:\u001b[32m6\u001b[39m)\n  ammonite.$sess.cmd45$Helper.lengthR(\u001b[32mcmd45.sc\u001b[39m:\u001b[32m6\u001b[39m)\n  ammonite.$sess.cmd45$Helper.lengthR(\u001b[32mcmd45.sc\u001b[39m:\u001b[32m6\u001b[39m)\n  ammonite.$sess.cmd45$Helper.lengthR(\u001b[32mcmd45.sc\u001b[39m:\u001b[32m6\u001b[39m)\n  ammonite.$sess.cmd45$Helper.lengthR(\u001b[32mcmd45.sc\u001b[39m:\u001b[32m6\u001b[39m)\n  ammonite.$sess.cmd45$Helper.lengthR(\u001b[32mcmd45.sc\u001b[39m:\u001b[32m6\u001b[39m)\n  ammonite.$sess.cmd45$Helper.lengthR(\u001b[32mcmd45.sc\u001b[39m:\u001b[32m6\u001b[39m)\n  ammonite.$sess.cmd45$Helper.lengthR(\u001b[32mcmd45.sc\u001b[39m:\u001b[32m6\u001b[39m)\n  ammonite.$sess.cmd45$Helper.lengthR(\u001b[32mcmd45.sc\u001b[39m:\u001b[32m6\u001b[39m)\n  ammonite.$sess.cmd45$Helper.lengthR(\u001b[32mcmd45.sc\u001b[39m:\u001b[32m6\u001b[39m)\n  ammonite.$sess.cmd45$Helper.lengthR(\u001b[32mcmd45.sc\u001b[39m:\u001b[32m6\u001b[39m)\n  ammonite.$sess.cmd45$Helper.lengthR(\u001b[32mcmd45.sc\u001b[39m:\u001b[32m6\u001b[39m)\n  ammonite.$sess.cmd45$Helper.lengthR(\u001b[32mcmd45.sc\u001b[39m:\u001b[32m6\u001b[39m)\n  ammonite.$sess.cmd45$Helper.lengthR(\u001b[32mcmd45.sc\u001b[39m:\u001b[32m6\u001b[39m)\n  ammonite.$sess.cmd45$Helper.lengthR(\u001b[32mcmd45.sc\u001b[39m:\u001b[32m6\u001b[39m)\n  ammonite.$sess.cmd45$Helper.lengthR(\u001b[32mcmd45.sc\u001b[39m:\u001b[32m6\u001b[39m)\n  ammonite.$sess.cmd45$Helper.lengthR(\u001b[32mcmd45.sc\u001b[39m:\u001b[32m6\u001b[39m)\n  ammonite.$sess.cmd45$Helper.lengthR(\u001b[32mcmd45.sc\u001b[39m:\u001b[32m6\u001b[39m)\n  ammonite.$sess.cmd45$Helper.lengthR(\u001b[32mcmd45.sc\u001b[39m:\u001b[32m6\u001b[39m)\n  ammonite.$sess.cmd45$Helper.lengthR(\u001b[32mcmd45.sc\u001b[39m:\u001b[32m6\u001b[39m)\n  ammonite.$sess.cmd45$Helper.lengthR(\u001b[32mcmd45.sc\u001b[39m:\u001b[32m6\u001b[39m)\n  ammonite.$sess.cmd45$Helper.lengthR(\u001b[32mcmd45.sc\u001b[39m:\u001b[32m6\u001b[39m)\n  ammonite.$sess.cmd45$Helper.lengthR(\u001b[32mcmd45.sc\u001b[39m:\u001b[32m6\u001b[39m)\n  ammonite.$sess.cmd45$Helper.lengthR(\u001b[32mcmd45.sc\u001b[39m:\u001b[32m6\u001b[39m)\n  ammonite.$sess.cmd45$Helper.lengthR(\u001b[32mcmd45.sc\u001b[39m:\u001b[32m6\u001b[39m)\n  ammonite.$sess.cmd45$Helper.lengthR(\u001b[32mcmd45.sc\u001b[39m:\u001b[32m6\u001b[39m)\n  ammonite.$sess.cmd45$Helper.lengthR(\u001b[32mcmd45.sc\u001b[39m:\u001b[32m6\u001b[39m)\n  ammonite.$sess.cmd45$Helper.lengthR(\u001b[32mcmd45.sc\u001b[39m:\u001b[32m6\u001b[39m)\n  ammonite.$sess.cmd45$Helper.lengthR(\u001b[32mcmd45.sc\u001b[39m:\u001b[32m6\u001b[39m)\n  ammonite.$sess.cmd45$Helper.lengthR(\u001b[32mcmd45.sc\u001b[39m:\u001b[32m6\u001b[39m)\n  ammonite.$sess.cmd45$Helper.lengthR(\u001b[32mcmd45.sc\u001b[39m:\u001b[32m6\u001b[39m)\n  ammonite.$sess.cmd45$Helper.lengthR(\u001b[32mcmd45.sc\u001b[39m:\u001b[32m6\u001b[39m)\n  ammonite.$sess.cmd45$Helper.lengthR(\u001b[32mcmd45.sc\u001b[39m:\u001b[32m6\u001b[39m)\n  ammonite.$sess.cmd45$Helper.lengthR(\u001b[32mcmd45.sc\u001b[39m:\u001b[32m6\u001b[39m)\n  ammonite.$sess.cmd45$Helper.lengthR(\u001b[32mcmd45.sc\u001b[39m:\u001b[32m6\u001b[39m)\n  ammonite.$sess.cmd45$Helper.lengthR(\u001b[32mcmd45.sc\u001b[39m:\u001b[32m6\u001b[39m)\n  ammonite.$sess.cmd45$Helper.lengthR(\u001b[32mcmd45.sc\u001b[39m:\u001b[32m6\u001b[39m)\n  ammonite.$sess.cmd45$Helper.lengthR(\u001b[32mcmd45.sc\u001b[39m:\u001b[32m6\u001b[39m)\n  ammonite.$sess.cmd45$Helper.lengthR(\u001b[32mcmd45.sc\u001b[39m:\u001b[32m6\u001b[39m)\n  ammonite.$sess.cmd45$Helper.lengthR(\u001b[32mcmd45.sc\u001b[39m:\u001b[32m6\u001b[39m)\n  ammonite.$sess.cmd45$Helper.lengthR(\u001b[32mcmd45.sc\u001b[39m:\u001b[32m6\u001b[39m)\n  ammonite.$sess.cmd45$Helper.lengthR(\u001b[32mcmd45.sc\u001b[39m:\u001b[32m6\u001b[39m)\n  ammonite.$sess.cmd45$Helper.lengthR(\u001b[32mcmd45.sc\u001b[39m:\u001b[32m6\u001b[39m)\n  ammonite.$sess.cmd45$Helper.lengthR(\u001b[32mcmd45.sc\u001b[39m:\u001b[32m6\u001b[39m)\n  ammonite.$sess.cmd45$Helper.lengthR(\u001b[32mcmd45.sc\u001b[39m:\u001b[32m6\u001b[39m)\n  ammonite.$sess.cmd45$Helper.lengthR(\u001b[32mcmd45.sc\u001b[39m:\u001b[32m6\u001b[39m)\n  ammonite.$sess.cmd45$Helper.lengthR(\u001b[32mcmd45.sc\u001b[39m:\u001b[32m6\u001b[39m)\n  ammonite.$sess.cmd45$Helper.lengthR(\u001b[32mcmd45.sc\u001b[39m:\u001b[32m6\u001b[39m)\n  ammonite.$sess.cmd45$Helper.lengthR(\u001b[32mcmd45.sc\u001b[39m:\u001b[32m6\u001b[39m)\n  ammonite.$sess.cmd45$Helper.lengthR(\u001b[32mcmd45.sc\u001b[39m:\u001b[32m6\u001b[39m)\n  ammonite.$sess.cmd45$Helper.lengthR(\u001b[32mcmd45.sc\u001b[39m:\u001b[32m6\u001b[39m)\n  ammonite.$sess.cmd45$Helper.lengthR(\u001b[32mcmd45.sc\u001b[39m:\u001b[32m6\u001b[39m)\n  ammonite.$sess.cmd45$Helper.lengthR(\u001b[32mcmd45.sc\u001b[39m:\u001b[32m6\u001b[39m)\n  ammonite.$sess.cmd45$Helper.lengthR(\u001b[32mcmd45.sc\u001b[39m:\u001b[32m6\u001b[39m)\n  ammonite.$sess.cmd45$Helper.lengthR(\u001b[32mcmd45.sc\u001b[39m:\u001b[32m6\u001b[39m)\n  ammonite.$sess.cmd45$Helper.lengthR(\u001b[32mcmd45.sc\u001b[39m:\u001b[32m6\u001b[39m)\n  ammonite.$sess.cmd45$Helper.lengthR(\u001b[32mcmd45.sc\u001b[39m:\u001b[32m6\u001b[39m)\n  ammonite.$sess.cmd45$Helper.lengthR(\u001b[32mcmd45.sc\u001b[39m:\u001b[32m6\u001b[39m)\n  ammonite.$sess.cmd45$Helper.lengthR(\u001b[32mcmd45.sc\u001b[39m:\u001b[32m6\u001b[39m)\n  ammonite.$sess.cmd45$Helper.lengthR(\u001b[32mcmd45.sc\u001b[39m:\u001b[32m6\u001b[39m)\n  ammonite.$sess.cmd45$Helper.lengthR(\u001b[32mcmd45.sc\u001b[39m:\u001b[32m6\u001b[39m)\n  ammonite.$sess.cmd45$Helper.lengthR(\u001b[32mcmd45.sc\u001b[39m:\u001b[32m6\u001b[39m)\n  ammonite.$sess.cmd45$Helper.lengthR(\u001b[32mcmd45.sc\u001b[39m:\u001b[32m6\u001b[39m)\n  ammonite.$sess.cmd45$Helper.lengthR(\u001b[32mcmd45.sc\u001b[39m:\u001b[32m6\u001b[39m)\n  ammonite.$sess.cmd45$Helper.lengthR(\u001b[32mcmd45.sc\u001b[39m:\u001b[32m6\u001b[39m)\n  ammonite.$sess.cmd45$Helper.lengthR(\u001b[32mcmd45.sc\u001b[39m:\u001b[32m6\u001b[39m)\n  ammonite.$sess.cmd45$Helper.lengthR(\u001b[32mcmd45.sc\u001b[39m:\u001b[32m6\u001b[39m)\n  ammonite.$sess.cmd45$Helper.lengthR(\u001b[32mcmd45.sc\u001b[39m:\u001b[32m6\u001b[39m)\n  ammonite.$sess.cmd45$Helper.lengthR(\u001b[32mcmd45.sc\u001b[39m:\u001b[32m6\u001b[39m)\n  ammonite.$sess.cmd45$Helper.lengthR(\u001b[32mcmd45.sc\u001b[39m:\u001b[32m6\u001b[39m)\n  ammonite.$sess.cmd45$Helper.lengthR(\u001b[32mcmd45.sc\u001b[39m:\u001b[32m6\u001b[39m)\n  ammonite.$sess.cmd45$Helper.lengthR(\u001b[32mcmd45.sc\u001b[39m:\u001b[32m6\u001b[39m)\n  ammonite.$sess.cmd45$Helper.lengthR(\u001b[32mcmd45.sc\u001b[39m:\u001b[32m6\u001b[39m)\n  ammonite.$sess.cmd45$Helper.lengthR(\u001b[32mcmd45.sc\u001b[39m:\u001b[32m6\u001b[39m)\n  ammonite.$sess.cmd45$Helper.lengthR(\u001b[32mcmd45.sc\u001b[39m:\u001b[32m6\u001b[39m)\n  ammonite.$sess.cmd45$Helper.lengthR(\u001b[32mcmd45.sc\u001b[39m:\u001b[32m6\u001b[39m)\n  ammonite.$sess.cmd45$Helper.lengthR(\u001b[32mcmd45.sc\u001b[39m:\u001b[32m6\u001b[39m)\n  ammonite.$sess.cmd45$Helper.lengthR(\u001b[32mcmd45.sc\u001b[39m:\u001b[32m6\u001b[39m)\n  ammonite.$sess.cmd45$Helper.lengthR(\u001b[32mcmd45.sc\u001b[39m:\u001b[32m6\u001b[39m)\n  ammonite.$sess.cmd45$Helper.lengthR(\u001b[32mcmd45.sc\u001b[39m:\u001b[32m6\u001b[39m)\n  ammonite.$sess.cmd45$Helper.lengthR(\u001b[32mcmd45.sc\u001b[39m:\u001b[32m6\u001b[39m)\n  ammonite.$sess.cmd45$Helper.lengthR(\u001b[32mcmd45.sc\u001b[39m:\u001b[32m6\u001b[39m)\n  ammonite.$sess.cmd45$Helper.lengthR(\u001b[32mcmd45.sc\u001b[39m:\u001b[32m6\u001b[39m)\n  ammonite.$sess.cmd45$Helper.lengthR(\u001b[32mcmd45.sc\u001b[39m:\u001b[32m6\u001b[39m)\n  ammonite.$sess.cmd45$Helper.lengthR(\u001b[32mcmd45.sc\u001b[39m:\u001b[32m6\u001b[39m)\n  ammonite.$sess.cmd45$Helper.lengthR(\u001b[32mcmd45.sc\u001b[39m:\u001b[32m6\u001b[39m)\n  ammonite.$sess.cmd45$Helper.lengthR(\u001b[32mcmd45.sc\u001b[39m:\u001b[32m6\u001b[39m)\n  ammonite.$sess.cmd45$Helper.lengthR(\u001b[32mcmd45.sc\u001b[39m:\u001b[32m6\u001b[39m)\n  ammonite.$sess.cmd45$Helper.lengthR(\u001b[32mcmd45.sc\u001b[39m:\u001b[32m6\u001b[39m)\n  ammonite.$sess.cmd45$Helper.lengthR(\u001b[32mcmd45.sc\u001b[39m:\u001b[32m6\u001b[39m)\n  ammonite.$sess.cmd45$Helper.lengthR(\u001b[32mcmd45.sc\u001b[39m:\u001b[32m6\u001b[39m)\n  ammonite.$sess.cmd45$Helper.lengthR(\u001b[32mcmd45.sc\u001b[39m:\u001b[32m6\u001b[39m)\n  ammonite.$sess.cmd45$Helper.lengthR(\u001b[32mcmd45.sc\u001b[39m:\u001b[32m6\u001b[39m)\n  ammonite.$sess.cmd45$Helper.lengthR(\u001b[32mcmd45.sc\u001b[39m:\u001b[32m6\u001b[39m)\n  ammonite.$sess.cmd45$Helper.lengthR(\u001b[32mcmd45.sc\u001b[39m:\u001b[32m6\u001b[39m)\n  ammonite.$sess.cmd45$Helper.lengthR(\u001b[32mcmd45.sc\u001b[39m:\u001b[32m6\u001b[39m)\n  ammonite.$sess.cmd45$Helper.lengthR(\u001b[32mcmd45.sc\u001b[39m:\u001b[32m6\u001b[39m)\n  ammonite.$sess.cmd45$Helper.lengthR(\u001b[32mcmd45.sc\u001b[39m:\u001b[32m6\u001b[39m)\n  ammonite.$sess.cmd45$Helper.lengthR(\u001b[32mcmd45.sc\u001b[39m:\u001b[32m6\u001b[39m)\n  ammonite.$sess.cmd45$Helper.lengthR(\u001b[32mcmd45.sc\u001b[39m:\u001b[32m6\u001b[39m)\n  ammonite.$sess.cmd45$Helper.lengthR(\u001b[32mcmd45.sc\u001b[39m:\u001b[32m6\u001b[39m)\n  ammonite.$sess.cmd45$Helper.lengthR(\u001b[32mcmd45.sc\u001b[39m:\u001b[32m6\u001b[39m)\n  ammonite.$sess.cmd45$Helper.lengthR(\u001b[32mcmd45.sc\u001b[39m:\u001b[32m6\u001b[39m)\n  ammonite.$sess.cmd45$Helper.lengthR(\u001b[32mcmd45.sc\u001b[39m:\u001b[32m6\u001b[39m)\n  ammonite.$sess.cmd45$Helper.lengthR(\u001b[32mcmd45.sc\u001b[39m:\u001b[32m6\u001b[39m)\n  ammonite.$sess.cmd45$Helper.lengthR(\u001b[32mcmd45.sc\u001b[39m:\u001b[32m6\u001b[39m)\n  ammonite.$sess.cmd45$Helper.lengthR(\u001b[32mcmd45.sc\u001b[39m:\u001b[32m6\u001b[39m)\n  ammonite.$sess.cmd45$Helper.lengthR(\u001b[32mcmd45.sc\u001b[39m:\u001b[32m6\u001b[39m)\n  ammonite.$sess.cmd45$Helper.lengthR(\u001b[32mcmd45.sc\u001b[39m:\u001b[32m6\u001b[39m)\n  ammonite.$sess.cmd45$Helper.lengthR(\u001b[32mcmd45.sc\u001b[39m:\u001b[32m6\u001b[39m)\n  ammonite.$sess.cmd45$Helper.lengthR(\u001b[32mcmd45.sc\u001b[39m:\u001b[32m6\u001b[39m)\n  ammonite.$sess.cmd45$Helper.lengthR(\u001b[32mcmd45.sc\u001b[39m:\u001b[32m6\u001b[39m)\n  ammonite.$sess.cmd45$Helper.lengthR(\u001b[32mcmd45.sc\u001b[39m:\u001b[32m6\u001b[39m)\n  ammonite.$sess.cmd45$Helper.lengthR(\u001b[32mcmd45.sc\u001b[39m:\u001b[32m6\u001b[39m)\n  ammonite.$sess.cmd45$Helper.lengthR(\u001b[32mcmd45.sc\u001b[39m:\u001b[32m6\u001b[39m)\n  ammonite.$sess.cmd45$Helper.lengthR(\u001b[32mcmd45.sc\u001b[39m:\u001b[32m6\u001b[39m)\n  ammonite.$sess.cmd45$Helper.lengthR(\u001b[32mcmd45.sc\u001b[39m:\u001b[32m6\u001b[39m)\n  ammonite.$sess.cmd45$Helper.lengthR(\u001b[32mcmd45.sc\u001b[39m:\u001b[32m6\u001b[39m)\n  ammonite.$sess.cmd45$Helper.lengthR(\u001b[32mcmd45.sc\u001b[39m:\u001b[32m6\u001b[39m)\n  ammonite.$sess.cmd45$Helper.lengthR(\u001b[32mcmd45.sc\u001b[39m:\u001b[32m6\u001b[39m)\n  ammonite.$sess.cmd45$Helper.lengthR(\u001b[32mcmd45.sc\u001b[39m:\u001b[32m6\u001b[39m)\n  ammonite.$sess.cmd45$Helper.lengthR(\u001b[32mcmd45.sc\u001b[39m:\u001b[32m6\u001b[39m)\n  ammonite.$sess.cmd45$Helper.lengthR(\u001b[32mcmd45.sc\u001b[39m:\u001b[32m6\u001b[39m)\n  ammonite.$sess.cmd45$Helper.lengthR(\u001b[32mcmd45.sc\u001b[39m:\u001b[32m6\u001b[39m)\n  ammonite.$sess.cmd45$Helper.lengthR(\u001b[32mcmd45.sc\u001b[39m:\u001b[32m6\u001b[39m)\n  ammonite.$sess.cmd45$Helper.lengthR(\u001b[32mcmd45.sc\u001b[39m:\u001b[32m6\u001b[39m)\n  ammonite.$sess.cmd45$Helper.lengthR(\u001b[32mcmd45.sc\u001b[39m:\u001b[32m6\u001b[39m)\n  ammonite.$sess.cmd45$Helper.lengthR(\u001b[32mcmd45.sc\u001b[39m:\u001b[32m6\u001b[39m)\n  ammonite.$sess.cmd45$Helper.lengthR(\u001b[32mcmd45.sc\u001b[39m:\u001b[32m6\u001b[39m)\n  ammonite.$sess.cmd45$Helper.lengthR(\u001b[32mcmd45.sc\u001b[39m:\u001b[32m6\u001b[39m)\n  ammonite.$sess.cmd45$Helper.lengthR(\u001b[32mcmd45.sc\u001b[39m:\u001b[32m6\u001b[39m)\n  ammonite.$sess.cmd45$Helper.lengthR(\u001b[32mcmd45.sc\u001b[39m:\u001b[32m6\u001b[39m)\n  ammonite.$sess.cmd45$Helper.lengthR(\u001b[32mcmd45.sc\u001b[39m:\u001b[32m6\u001b[39m)\n  ammonite.$sess.cmd45$Helper.lengthR(\u001b[32mcmd45.sc\u001b[39m:\u001b[32m6\u001b[39m)\n  ammonite.$sess.cmd45$Helper.lengthR(\u001b[32mcmd45.sc\u001b[39m:\u001b[32m6\u001b[39m)\n  ammonite.$sess.cmd45$Helper.lengthR(\u001b[32mcmd45.sc\u001b[39m:\u001b[32m6\u001b[39m)\n  ammonite.$sess.cmd45$Helper.lengthR(\u001b[32mcmd45.sc\u001b[39m:\u001b[32m6\u001b[39m)\n  ammonite.$sess.cmd45$Helper.lengthR(\u001b[32mcmd45.sc\u001b[39m:\u001b[32m6\u001b[39m)\n  ammonite.$sess.cmd45$Helper.lengthR(\u001b[32mcmd45.sc\u001b[39m:\u001b[32m6\u001b[39m)\n  ammonite.$sess.cmd45$Helper.lengthR(\u001b[32mcmd45.sc\u001b[39m:\u001b[32m6\u001b[39m)\n  ammonite.$sess.cmd45$Helper.lengthR(\u001b[32mcmd45.sc\u001b[39m:\u001b[32m6\u001b[39m)\n  ammonite.$sess.cmd45$Helper.lengthR(\u001b[32mcmd45.sc\u001b[39m:\u001b[32m6\u001b[39m)\n  ammonite.$sess.cmd45$Helper.lengthR(\u001b[32mcmd45.sc\u001b[39m:\u001b[32m6\u001b[39m)\n  ammonite.$sess.cmd45$Helper.lengthR(\u001b[32mcmd45.sc\u001b[39m:\u001b[32m6\u001b[39m)\n  ammonite.$sess.cmd45$Helper.lengthR(\u001b[32mcmd45.sc\u001b[39m:\u001b[32m6\u001b[39m)\n  ammonite.$sess.cmd45$Helper.lengthR(\u001b[32mcmd45.sc\u001b[39m:\u001b[32m6\u001b[39m)\n  ammonite.$sess.cmd45$Helper.lengthR(\u001b[32mcmd45.sc\u001b[39m:\u001b[32m6\u001b[39m)\n  ammonite.$sess.cmd45$Helper.lengthR(\u001b[32mcmd45.sc\u001b[39m:\u001b[32m6\u001b[39m)\n  ammonite.$sess.cmd45$Helper.lengthR(\u001b[32mcmd45.sc\u001b[39m:\u001b[32m6\u001b[39m)\n  ammonite.$sess.cmd45$Helper.lengthR(\u001b[32mcmd45.sc\u001b[39m:\u001b[32m6\u001b[39m)\n  ammonite.$sess.cmd45$Helper.lengthR(\u001b[32mcmd45.sc\u001b[39m:\u001b[32m6\u001b[39m)\n  ammonite.$sess.cmd45$Helper.lengthR(\u001b[32mcmd45.sc\u001b[39m:\u001b[32m6\u001b[39m)\n  ammonite.$sess.cmd45$Helper.lengthR(\u001b[32mcmd45.sc\u001b[39m:\u001b[32m6\u001b[39m)\n  ammonite.$sess.cmd45$Helper.lengthR(\u001b[32mcmd45.sc\u001b[39m:\u001b[32m6\u001b[39m)\n  ammonite.$sess.cmd45$Helper.lengthR(\u001b[32mcmd45.sc\u001b[39m:\u001b[32m6\u001b[39m)\n  ammonite.$sess.cmd45$Helper.lengthR(\u001b[32mcmd45.sc\u001b[39m:\u001b[32m6\u001b[39m)\n  ammonite.$sess.cmd45$Helper.lengthR(\u001b[32mcmd45.sc\u001b[39m:\u001b[32m6\u001b[39m)\n  ammonite.$sess.cmd45$Helper.lengthR(\u001b[32mcmd45.sc\u001b[39m:\u001b[32m6\u001b[39m)\n  ammonite.$sess.cmd45$Helper.lengthR(\u001b[32mcmd45.sc\u001b[39m:\u001b[32m6\u001b[39m)\n  ammonite.$sess.cmd45$Helper.lengthR(\u001b[32mcmd45.sc\u001b[39m:\u001b[32m6\u001b[39m)\n  ammonite.$sess.cmd45$Helper.lengthR(\u001b[32mcmd45.sc\u001b[39m:\u001b[32m6\u001b[39m)\n  ammonite.$sess.cmd45$Helper.lengthR(\u001b[32mcmd45.sc\u001b[39m:\u001b[32m6\u001b[39m)\n  ammonite.$sess.cmd45$Helper.lengthR(\u001b[32mcmd45.sc\u001b[39m:\u001b[32m6\u001b[39m)\n  ammonite.$sess.cmd45$Helper.lengthR(\u001b[32mcmd45.sc\u001b[39m:\u001b[32m6\u001b[39m)\n  ammonite.$sess.cmd45$Helper.lengthR(\u001b[32mcmd45.sc\u001b[39m:\u001b[32m6\u001b[39m)\n  ammonite.$sess.cmd45$Helper.lengthR(\u001b[32mcmd45.sc\u001b[39m:\u001b[32m6\u001b[39m)\n  ammonite.$sess.cmd45$Helper.lengthR(\u001b[32mcmd45.sc\u001b[39m:\u001b[32m6\u001b[39m)\n  ammonite.$sess.cmd45$Helper.lengthR(\u001b[32mcmd45.sc\u001b[39m:\u001b[32m6\u001b[39m)\n  ammonite.$sess.cmd45$Helper.lengthR(\u001b[32mcmd45.sc\u001b[39m:\u001b[32m6\u001b[39m)\n  ammonite.$sess.cmd45$Helper.lengthR(\u001b[32mcmd45.sc\u001b[39m:\u001b[32m6\u001b[39m)\n  ammonite.$sess.cmd45$Helper.lengthR(\u001b[32mcmd45.sc\u001b[39m:\u001b[32m6\u001b[39m)\n  ammonite.$sess.cmd45$Helper.lengthR(\u001b[32mcmd45.sc\u001b[39m:\u001b[32m6\u001b[39m)\n  ammonite.$sess.cmd45$Helper.lengthR(\u001b[32mcmd45.sc\u001b[39m:\u001b[32m6\u001b[39m)\n  ammonite.$sess.cmd45$Helper.lengthR(\u001b[32mcmd45.sc\u001b[39m:\u001b[32m6\u001b[39m)\n  ammonite.$sess.cmd45$Helper.lengthR(\u001b[32mcmd45.sc\u001b[39m:\u001b[32m6\u001b[39m)\n  ammonite.$sess.cmd45$Helper.lengthR(\u001b[32mcmd45.sc\u001b[39m:\u001b[32m6\u001b[39m)\n  ammonite.$sess.cmd45$Helper.lengthR(\u001b[32mcmd45.sc\u001b[39m:\u001b[32m6\u001b[39m)\n  ammonite.$sess.cmd45$Helper.lengthR(\u001b[32mcmd45.sc\u001b[39m:\u001b[32m6\u001b[39m)\n  ammonite.$sess.cmd45$Helper.lengthR(\u001b[32mcmd45.sc\u001b[39m:\u001b[32m6\u001b[39m)\n  ammonite.$sess.cmd45$Helper.lengthR(\u001b[32mcmd45.sc\u001b[39m:\u001b[32m6\u001b[39m)\n  ammonite.$sess.cmd45$Helper.lengthR(\u001b[32mcmd45.sc\u001b[39m:\u001b[32m6\u001b[39m)\n  ammonite.$sess.cmd45$Helper.lengthR(\u001b[32mcmd45.sc\u001b[39m:\u001b[32m6\u001b[39m)\n  ammonite.$sess.cmd45$Helper.lengthR(\u001b[32mcmd45.sc\u001b[39m:\u001b[32m6\u001b[39m)\n  ammonite.$sess.cmd45$Helper.lengthR(\u001b[32mcmd45.sc\u001b[39m:\u001b[32m6\u001b[39m)\n  ammonite.$sess.cmd45$Helper.lengthR(\u001b[32mcmd45.sc\u001b[39m:\u001b[32m6\u001b[39m)\n  ammonite.$sess.cmd45$Helper.lengthR(\u001b[32mcmd45.sc\u001b[39m:\u001b[32m6\u001b[39m)\n  ammonite.$sess.cmd45$Helper.lengthR(\u001b[32mcmd45.sc\u001b[39m:\u001b[32m6\u001b[39m)\n  ammonite.$sess.cmd45$Helper.lengthR(\u001b[32mcmd45.sc\u001b[39m:\u001b[32m6\u001b[39m)\n  ammonite.$sess.cmd45$Helper.lengthR(\u001b[32mcmd45.sc\u001b[39m:\u001b[32m6\u001b[39m)\n  ammonite.$sess.cmd45$Helper.lengthR(\u001b[32mcmd45.sc\u001b[39m:\u001b[32m6\u001b[39m)\n  ammonite.$sess.cmd45$Helper.lengthR(\u001b[32mcmd45.sc\u001b[39m:\u001b[32m6\u001b[39m)\n  ammonite.$sess.cmd45$Helper.lengthR(\u001b[32mcmd45.sc\u001b[39m:\u001b[32m6\u001b[39m)\n  ammonite.$sess.cmd45$Helper.lengthR(\u001b[32mcmd45.sc\u001b[39m:\u001b[32m6\u001b[39m)\n  ammonite.$sess.cmd45$Helper.lengthR(\u001b[32mcmd45.sc\u001b[39m:\u001b[32m6\u001b[39m)\n  ammonite.$sess.cmd45$Helper.lengthR(\u001b[32mcmd45.sc\u001b[39m:\u001b[32m6\u001b[39m)\n  ammonite.$sess.cmd45$Helper.lengthR(\u001b[32mcmd45.sc\u001b[39m:\u001b[32m6\u001b[39m)\n  ammonite.$sess.cmd45$Helper.lengthR(\u001b[32mcmd45.sc\u001b[39m:\u001b[32m6\u001b[39m)\n  ammonite.$sess.cmd45$Helper.lengthR(\u001b[32mcmd45.sc\u001b[39m:\u001b[32m6\u001b[39m)\n  ammonite.$sess.cmd45$Helper.lengthR(\u001b[32mcmd45.sc\u001b[39m:\u001b[32m6\u001b[39m)\n  ammonite.$sess.cmd45$Helper.lengthR(\u001b[32mcmd45.sc\u001b[39m:\u001b[32m6\u001b[39m)\n  ammonite.$sess.cmd45$Helper.lengthR(\u001b[32mcmd45.sc\u001b[39m:\u001b[32m6\u001b[39m)\n  ammonite.$sess.cmd45$Helper.lengthR(\u001b[32mcmd45.sc\u001b[39m:\u001b[32m6\u001b[39m)\n  ammonite.$sess.cmd45$Helper.lengthR(\u001b[32mcmd45.sc\u001b[39m:\u001b[32m6\u001b[39m)\n  ammonite.$sess.cmd45$Helper.lengthR(\u001b[32mcmd45.sc\u001b[39m:\u001b[32m6\u001b[39m)\n  ammonite.$sess.cmd45$Helper.lengthR(\u001b[32mcmd45.sc\u001b[39m:\u001b[32m6\u001b[39m)\n  ammonite.$sess.cmd45$Helper.lengthR(\u001b[32mcmd45.sc\u001b[39m:\u001b[32m6\u001b[39m)\n  ammonite.$sess.cmd45$Helper.lengthR(\u001b[32mcmd45.sc\u001b[39m:\u001b[32m6\u001b[39m)\n  ammonite.$sess.cmd45$Helper.lengthR(\u001b[32mcmd45.sc\u001b[39m:\u001b[32m6\u001b[39m)\n  ammonite.$sess.cmd45$Helper.lengthR(\u001b[32mcmd45.sc\u001b[39m:\u001b[32m6\u001b[39m)\n  ammonite.$sess.cmd45$Helper.lengthR(\u001b[32mcmd45.sc\u001b[39m:\u001b[32m6\u001b[39m)\n  ammonite.$sess.cmd45$Helper.lengthR(\u001b[32mcmd45.sc\u001b[39m:\u001b[32m6\u001b[39m)\n  ammonite.$sess.cmd45$Helper.lengthR(\u001b[32mcmd45.sc\u001b[39m:\u001b[32m6\u001b[39m)\n  ammonite.$sess.cmd45$Helper.lengthR(\u001b[32mcmd45.sc\u001b[39m:\u001b[32m6\u001b[39m)\n  ammonite.$sess.cmd45$Helper.lengthR(\u001b[32mcmd45.sc\u001b[39m:\u001b[32m6\u001b[39m)\n  ammonite.$sess.cmd45$Helper.lengthR(\u001b[32mcmd45.sc\u001b[39m:\u001b[32m6\u001b[39m)\n  ammonite.$sess.cmd45$Helper.lengthR(\u001b[32mcmd45.sc\u001b[39m:\u001b[32m6\u001b[39m)\n  ammonite.$sess.cmd45$Helper.lengthR(\u001b[32mcmd45.sc\u001b[39m:\u001b[32m6\u001b[39m)\n  ammonite.$sess.cmd45$Helper.lengthR(\u001b[32mcmd45.sc\u001b[39m:\u001b[32m6\u001b[39m)\n  ammonite.$sess.cmd45$Helper.lengthR(\u001b[32mcmd45.sc\u001b[39m:\u001b[32m6\u001b[39m)\n  ammonite.$sess.cmd45$Helper.lengthR(\u001b[32mcmd45.sc\u001b[39m:\u001b[32m6\u001b[39m)\n  ammonite.$sess.cmd45$Helper.lengthR(\u001b[32mcmd45.sc\u001b[39m:\u001b[32m6\u001b[39m)\n  ammonite.$sess.cmd45$Helper.lengthR(\u001b[32mcmd45.sc\u001b[39m:\u001b[32m6\u001b[39m)\n  ammonite.$sess.cmd45$Helper.lengthR(\u001b[32mcmd45.sc\u001b[39m:\u001b[32m6\u001b[39m)\n  ammonite.$sess.cmd45$Helper.lengthR(\u001b[32mcmd45.sc\u001b[39m:\u001b[32m6\u001b[39m)\n  ammonite.$sess.cmd45$Helper.lengthR(\u001b[32mcmd45.sc\u001b[39m:\u001b[32m6\u001b[39m)\n  ammonite.$sess.cmd45$Helper.lengthR(\u001b[32mcmd45.sc\u001b[39m:\u001b[32m6\u001b[39m)\n  ammonite.$sess.cmd45$Helper.lengthR(\u001b[32mcmd45.sc\u001b[39m:\u001b[32m6\u001b[39m)\n  ammonite.$sess.cmd45$Helper.lengthR(\u001b[32mcmd45.sc\u001b[39m:\u001b[32m6\u001b[39m)\n  ammonite.$sess.cmd45$Helper.lengthR(\u001b[32mcmd45.sc\u001b[39m:\u001b[32m6\u001b[39m)\n  ammonite.$sess.cmd45$Helper.lengthR(\u001b[32mcmd45.sc\u001b[39m:\u001b[32m6\u001b[39m)\n  ammonite.$sess.cmd45$Helper.lengthR(\u001b[32mcmd45.sc\u001b[39m:\u001b[32m6\u001b[39m)\n  ammonite.$sess.cmd45$Helper.lengthR(\u001b[32mcmd45.sc\u001b[39m:\u001b[32m6\u001b[39m)\n  ammonite.$sess.cmd45$Helper.lengthR(\u001b[32mcmd45.sc\u001b[39m:\u001b[32m6\u001b[39m)\n  ammonite.$sess.cmd45$Helper.lengthR(\u001b[32mcmd45.sc\u001b[39m:\u001b[32m6\u001b[39m)\n  ammonite.$sess.cmd45$Helper.lengthR(\u001b[32mcmd45.sc\u001b[39m:\u001b[32m6\u001b[39m)\n  ammonite.$sess.cmd45$Helper.lengthR(\u001b[32mcmd45.sc\u001b[39m:\u001b[32m6\u001b[39m)\n  ammonite.$sess.cmd45$Helper.lengthR(\u001b[32mcmd45.sc\u001b[39m:\u001b[32m6\u001b[39m)\n  ammonite.$sess.cmd45$Helper.lengthR(\u001b[32mcmd45.sc\u001b[39m:\u001b[32m6\u001b[39m)\n  ammonite.$sess.cmd45$Helper.lengthR(\u001b[32mcmd45.sc\u001b[39m:\u001b[32m6\u001b[39m)\n  ammonite.$sess.cmd45$Helper.lengthR(\u001b[32mcmd45.sc\u001b[39m:\u001b[32m6\u001b[39m)\n  ammonite.$sess.cmd45$Helper.lengthR(\u001b[32mcmd45.sc\u001b[39m:\u001b[32m6\u001b[39m)\n  ammonite.$sess.cmd45$Helper.lengthR(\u001b[32mcmd45.sc\u001b[39m:\u001b[32m6\u001b[39m)\n  ammonite.$sess.cmd45$Helper.lengthR(\u001b[32mcmd45.sc\u001b[39m:\u001b[32m6\u001b[39m)\n  ammonite.$sess.cmd45$Helper.lengthR(\u001b[32mcmd45.sc\u001b[39m:\u001b[32m6\u001b[39m)\n  ammonite.$sess.cmd45$Helper.lengthR(\u001b[32mcmd45.sc\u001b[39m:\u001b[32m6\u001b[39m)\n  ammonite.$sess.cmd45$Helper.lengthR(\u001b[32mcmd45.sc\u001b[39m:\u001b[32m6\u001b[39m)\n  ammonite.$sess.cmd45$Helper.lengthR(\u001b[32mcmd45.sc\u001b[39m:\u001b[32m6\u001b[39m)\n  ammonite.$sess.cmd45$Helper.lengthR(\u001b[32mcmd45.sc\u001b[39m:\u001b[32m6\u001b[39m)\n  ammonite.$sess.cmd45$Helper.lengthR(\u001b[32mcmd45.sc\u001b[39m:\u001b[32m6\u001b[39m)\n  ammonite.$sess.cmd45$Helper.lengthR(\u001b[32mcmd45.sc\u001b[39m:\u001b[32m6\u001b[39m)\n  ammonite.$sess.cmd45$Helper.lengthR(\u001b[32mcmd45.sc\u001b[39m:\u001b[32m6\u001b[39m)\n  ammonite.$sess.cmd45$Helper.lengthR(\u001b[32mcmd45.sc\u001b[39m:\u001b[32m6\u001b[39m)\n  ammonite.$sess.cmd45$Helper.lengthR(\u001b[32mcmd45.sc\u001b[39m:\u001b[32m6\u001b[39m)\n  ammonite.$sess.cmd45$Helper.lengthR(\u001b[32mcmd45.sc\u001b[39m:\u001b[32m6\u001b[39m)\n  ammonite.$sess.cmd45$Helper.lengthR(\u001b[32mcmd45.sc\u001b[39m:\u001b[32m6\u001b[39m)\n  ammonite.$sess.cmd45$Helper.lengthR(\u001b[32mcmd45.sc\u001b[39m:\u001b[32m6\u001b[39m)\n  ammonite.$sess.cmd45$Helper.lengthR(\u001b[32mcmd45.sc\u001b[39m:\u001b[32m6\u001b[39m)\n  ammonite.$sess.cmd45$Helper.lengthR(\u001b[32mcmd45.sc\u001b[39m:\u001b[32m6\u001b[39m)\n  ammonite.$sess.cmd45$Helper.lengthR(\u001b[32mcmd45.sc\u001b[39m:\u001b[32m6\u001b[39m)\n  ammonite.$sess.cmd45$Helper.lengthR(\u001b[32mcmd45.sc\u001b[39m:\u001b[32m6\u001b[39m)\n  ammonite.$sess.cmd45$Helper.lengthR(\u001b[32mcmd45.sc\u001b[39m:\u001b[32m6\u001b[39m)\n  ammonite.$sess.cmd45$Helper.lengthR(\u001b[32mcmd45.sc\u001b[39m:\u001b[32m6\u001b[39m)\n  ammonite.$sess.cmd45$Helper.lengthR(\u001b[32mcmd45.sc\u001b[39m:\u001b[32m6\u001b[39m)\n  ammonite.$sess.cmd45$Helper.lengthR(\u001b[32mcmd45.sc\u001b[39m:\u001b[32m6\u001b[39m)\n  ammonite.$sess.cmd45$Helper.lengthR(\u001b[32mcmd45.sc\u001b[39m:\u001b[32m6\u001b[39m)\n  ammonite.$sess.cmd45$Helper.lengthR(\u001b[32mcmd45.sc\u001b[39m:\u001b[32m6\u001b[39m)\n  ammonite.$sess.cmd45$Helper.lengthR(\u001b[32mcmd45.sc\u001b[39m:\u001b[32m6\u001b[39m)\n  ammonite.$sess.cmd45$Helper.lengthR(\u001b[32mcmd45.sc\u001b[39m:\u001b[32m6\u001b[39m)\n  ammonite.$sess.cmd45$Helper.lengthR(\u001b[32mcmd45.sc\u001b[39m:\u001b[32m6\u001b[39m)\n  ammonite.$sess.cmd45$Helper.lengthR(\u001b[32mcmd45.sc\u001b[39m:\u001b[32m6\u001b[39m)\n  ammonite.$sess.cmd45$Helper.lengthR(\u001b[32mcmd45.sc\u001b[39m:\u001b[32m6\u001b[39m)\n  ammonite.$sess.cmd45$Helper.lengthR(\u001b[32mcmd45.sc\u001b[39m:\u001b[32m6\u001b[39m)\n  ammonite.$sess.cmd45$Helper.lengthR(\u001b[32mcmd45.sc\u001b[39m:\u001b[32m6\u001b[39m)\n  ammonite.$sess.cmd45$Helper.lengthR(\u001b[32mcmd45.sc\u001b[39m:\u001b[32m6\u001b[39m)\n  ammonite.$sess.cmd45$Helper.lengthR(\u001b[32mcmd45.sc\u001b[39m:\u001b[32m6\u001b[39m)\n  ammonite.$sess.cmd45$Helper.lengthR(\u001b[32mcmd45.sc\u001b[39m:\u001b[32m6\u001b[39m)\n  ammonite.$sess.cmd45$Helper.lengthR(\u001b[32mcmd45.sc\u001b[39m:\u001b[32m6\u001b[39m)\n  ammonite.$sess.cmd45$Helper.lengthR(\u001b[32mcmd45.sc\u001b[39m:\u001b[32m6\u001b[39m)\n  ammonite.$sess.cmd45$Helper.lengthR(\u001b[32mcmd45.sc\u001b[39m:\u001b[32m6\u001b[39m)\n  ammonite.$sess.cmd45$Helper.lengthR(\u001b[32mcmd45.sc\u001b[39m:\u001b[32m6\u001b[39m)\n  ammonite.$sess.cmd45$Helper.lengthR(\u001b[32mcmd45.sc\u001b[39m:\u001b[32m6\u001b[39m)\n  ammonite.$sess.cmd45$Helper.lengthR(\u001b[32mcmd45.sc\u001b[39m:\u001b[32m6\u001b[39m)\n  ammonite.$sess.cmd45$Helper.lengthR(\u001b[32mcmd45.sc\u001b[39m:\u001b[32m6\u001b[39m)\n  ammonite.$sess.cmd45$Helper.lengthR(\u001b[32mcmd45.sc\u001b[39m:\u001b[32m6\u001b[39m)\n  ammonite.$sess.cmd45$Helper.lengthR(\u001b[32mcmd45.sc\u001b[39m:\u001b[32m6\u001b[39m)\n  ammonite.$sess.cmd45$Helper.lengthR(\u001b[32mcmd45.sc\u001b[39m:\u001b[32m6\u001b[39m)\n  ammonite.$sess.cmd45$Helper.lengthR(\u001b[32mcmd45.sc\u001b[39m:\u001b[32m6\u001b[39m)\n  ammonite.$sess.cmd45$Helper.lengthR(\u001b[32mcmd45.sc\u001b[39m:\u001b[32m6\u001b[39m)\n  ammonite.$sess.cmd45$Helper.lengthR(\u001b[32mcmd45.sc\u001b[39m:\u001b[32m6\u001b[39m)\n  ammonite.$sess.cmd45$Helper.lengthR(\u001b[32mcmd45.sc\u001b[39m:\u001b[32m6\u001b[39m)\n  ammonite.$sess.cmd45$Helper.lengthR(\u001b[32mcmd45.sc\u001b[39m:\u001b[32m6\u001b[39m)\n  ammonite.$sess.cmd45$Helper.lengthR(\u001b[32mcmd45.sc\u001b[39m:\u001b[32m6\u001b[39m)\n  ammonite.$sess.cmd45$Helper.lengthR(\u001b[32mcmd45.sc\u001b[39m:\u001b[32m6\u001b[39m)\n  ammonite.$sess.cmd45$Helper.lengthR(\u001b[32mcmd45.sc\u001b[39m:\u001b[32m6\u001b[39m)\n  ammonite.$sess.cmd45$Helper.lengthR(\u001b[32mcmd45.sc\u001b[39m:\u001b[32m6\u001b[39m)\n  ammonite.$sess.cmd45$Helper.lengthR(\u001b[32mcmd45.sc\u001b[39m:\u001b[32m6\u001b[39m)\n  ammonite.$sess.cmd45$Helper.lengthR(\u001b[32mcmd45.sc\u001b[39m:\u001b[32m6\u001b[39m)\n  ammonite.$sess.cmd45$Helper.lengthR(\u001b[32mcmd45.sc\u001b[39m:\u001b[32m6\u001b[39m)\n  ammonite.$sess.cmd45$Helper.lengthR(\u001b[32mcmd45.sc\u001b[39m:\u001b[32m6\u001b[39m)\n  ammonite.$sess.cmd45$Helper.lengthR(\u001b[32mcmd45.sc\u001b[39m:\u001b[32m6\u001b[39m)\n  ammonite.$sess.cmd45$Helper.lengthR(\u001b[32mcmd45.sc\u001b[39m:\u001b[32m6\u001b[39m)\n  ammonite.$sess.cmd45$Helper.lengthR(\u001b[32mcmd45.sc\u001b[39m:\u001b[32m6\u001b[39m)\n  ammonite.$sess.cmd45$Helper.lengthR(\u001b[32mcmd45.sc\u001b[39m:\u001b[32m6\u001b[39m)\n  ammonite.$sess.cmd45$Helper.lengthR(\u001b[32mcmd45.sc\u001b[39m:\u001b[32m6\u001b[39m)\n  ammonite.$sess.cmd45$Helper.lengthR(\u001b[32mcmd45.sc\u001b[39m:\u001b[32m6\u001b[39m)\n  ammonite.$sess.cmd45$Helper.lengthR(\u001b[32mcmd45.sc\u001b[39m:\u001b[32m6\u001b[39m)\n  ammonite.$sess.cmd45$Helper.lengthR(\u001b[32mcmd45.sc\u001b[39m:\u001b[32m6\u001b[39m)\n  ammonite.$sess.cmd45$Helper.lengthR(\u001b[32mcmd45.sc\u001b[39m:\u001b[32m6\u001b[39m)\n  ammonite.$sess.cmd45$Helper.lengthR(\u001b[32mcmd45.sc\u001b[39m:\u001b[32m6\u001b[39m)\n  ammonite.$sess.cmd45$Helper.lengthR(\u001b[32mcmd45.sc\u001b[39m:\u001b[32m6\u001b[39m)\n  ammonite.$sess.cmd45$Helper.lengthR(\u001b[32mcmd45.sc\u001b[39m:\u001b[32m6\u001b[39m)\n  ammonite.$sess.cmd45$Helper.lengthR(\u001b[32mcmd45.sc\u001b[39m:\u001b[32m6\u001b[39m)\n  ammonite.$sess.cmd45$Helper.lengthR(\u001b[32mcmd45.sc\u001b[39m:\u001b[32m6\u001b[39m)\n  ammonite.$sess.cmd45$Helper.lengthR(\u001b[32mcmd45.sc\u001b[39m:\u001b[32m6\u001b[39m)\n  ammonite.$sess.cmd45$Helper.lengthR(\u001b[32mcmd45.sc\u001b[39m:\u001b[32m6\u001b[39m)\n  ammonite.$sess.cmd45$Helper.lengthR(\u001b[32mcmd45.sc\u001b[39m:\u001b[32m6\u001b[39m)\n  ammonite.$sess.cmd45$Helper.lengthR(\u001b[32mcmd45.sc\u001b[39m:\u001b[32m6\u001b[39m)\n  ammonite.$sess.cmd45$Helper.lengthR(\u001b[32mcmd45.sc\u001b[39m:\u001b[32m6\u001b[39m)\n  ammonite.$sess.cmd45$Helper.lengthR(\u001b[32mcmd45.sc\u001b[39m:\u001b[32m6\u001b[39m)\n  ammonite.$sess.cmd45$Helper.lengthR(\u001b[32mcmd45.sc\u001b[39m:\u001b[32m6\u001b[39m)\n  ammonite.$sess.cmd45$Helper.lengthR(\u001b[32mcmd45.sc\u001b[39m:\u001b[32m6\u001b[39m)\n  ammonite.$sess.cmd45$Helper.lengthR(\u001b[32mcmd45.sc\u001b[39m:\u001b[32m6\u001b[39m)\n  ammonite.$sess.cmd45$Helper.lengthR(\u001b[32mcmd45.sc\u001b[39m:\u001b[32m6\u001b[39m)\n  ammonite.$sess.cmd45$Helper.lengthR(\u001b[32mcmd45.sc\u001b[39m:\u001b[32m6\u001b[39m)\n  ammonite.$sess.cmd45$Helper.lengthR(\u001b[32mcmd45.sc\u001b[39m:\u001b[32m6\u001b[39m)\n  ammonite.$sess.cmd45$Helper.lengthR(\u001b[32mcmd45.sc\u001b[39m:\u001b[32m6\u001b[39m)\n  ammonite.$sess.cmd45$Helper.lengthR(\u001b[32mcmd45.sc\u001b[39m:\u001b[32m6\u001b[39m)\n  ammonite.$sess.cmd45$Helper.lengthR(\u001b[32mcmd45.sc\u001b[39m:\u001b[32m6\u001b[39m)\n  ammonite.$sess.cmd45$Helper.lengthR(\u001b[32mcmd45.sc\u001b[39m:\u001b[32m6\u001b[39m)\n  ammonite.$sess.cmd45$Helper.lengthR(\u001b[32mcmd45.sc\u001b[39m:\u001b[32m6\u001b[39m)\n  ammonite.$sess.cmd45$Helper.lengthR(\u001b[32mcmd45.sc\u001b[39m:\u001b[32m6\u001b[39m)\n  ammonite.$sess.cmd45$Helper.lengthR(\u001b[32mcmd45.sc\u001b[39m:\u001b[32m6\u001b[39m)\n  ammonite.$sess.cmd45$Helper.lengthR(\u001b[32mcmd45.sc\u001b[39m:\u001b[32m6\u001b[39m)\n  ammonite.$sess.cmd45$Helper.lengthR(\u001b[32mcmd45.sc\u001b[39m:\u001b[32m6\u001b[39m)\n  ammonite.$sess.cmd45$Helper.lengthR(\u001b[32mcmd45.sc\u001b[39m:\u001b[32m6\u001b[39m)\n  ammonite.$sess.cmd45$Helper.lengthR(\u001b[32mcmd45.sc\u001b[39m:\u001b[32m6\u001b[39m)\n  ammonite.$sess.cmd45$Helper.lengthR(\u001b[32mcmd45.sc\u001b[39m:\u001b[32m6\u001b[39m)\n  ammonite.$sess.cmd45$Helper.lengthR(\u001b[32mcmd45.sc\u001b[39m:\u001b[32m6\u001b[39m)\n  ammonite.$sess.cmd45$Helper.lengthR(\u001b[32mcmd45.sc\u001b[39m:\u001b[32m6\u001b[39m)\n  ammonite.$sess.cmd45$Helper.lengthR(\u001b[32mcmd45.sc\u001b[39m:\u001b[32m6\u001b[39m)\n  ammonite.$sess.cmd45$Helper.lengthR(\u001b[32mcmd45.sc\u001b[39m:\u001b[32m6\u001b[39m)\n  ammonite.$sess.cmd45$Helper.lengthR(\u001b[32mcmd45.sc\u001b[39m:\u001b[32m6\u001b[39m)\n  ammonite.$sess.cmd45$Helper.lengthR(\u001b[32mcmd45.sc\u001b[39m:\u001b[32m6\u001b[39m)\n  ammonite.$sess.cmd45$Helper.lengthR(\u001b[32mcmd45.sc\u001b[39m:\u001b[32m6\u001b[39m)\n  ammonite.$sess.cmd45$Helper.lengthR(\u001b[32mcmd45.sc\u001b[39m:\u001b[32m6\u001b[39m)\n  ammonite.$sess.cmd45$Helper.lengthR(\u001b[32mcmd45.sc\u001b[39m:\u001b[32m6\u001b[39m)\n  ammonite.$sess.cmd45$Helper.lengthR(\u001b[32mcmd45.sc\u001b[39m:\u001b[32m6\u001b[39m)\n  ammonite.$sess.cmd45$Helper.lengthR(\u001b[32mcmd45.sc\u001b[39m:\u001b[32m6\u001b[39m)\n  ammonite.$sess.cmd45$Helper.lengthR(\u001b[32mcmd45.sc\u001b[39m:\u001b[32m6\u001b[39m)\n  ammonite.$sess.cmd45$Helper.lengthR(\u001b[32mcmd45.sc\u001b[39m:\u001b[32m6\u001b[39m)\n  ammonite.$sess.cmd45$Helper.lengthR(\u001b[32mcmd45.sc\u001b[39m:\u001b[32m6\u001b[39m)\n  ammonite.$sess.cmd45$Helper.lengthR(\u001b[32mcmd45.sc\u001b[39m:\u001b[32m6\u001b[39m)\n  ammonite.$sess.cmd45$Helper.lengthR(\u001b[32mcmd45.sc\u001b[39m:\u001b[32m6\u001b[39m)\n  ammonite.$sess.cmd45$Helper.lengthR(\u001b[32mcmd45.sc\u001b[39m:\u001b[32m6\u001b[39m)\n  ammonite.$sess.cmd45$Helper.lengthR(\u001b[32mcmd45.sc\u001b[39m:\u001b[32m6\u001b[39m)\n  ammonite.$sess.cmd45$Helper.lengthR(\u001b[32mcmd45.sc\u001b[39m:\u001b[32m6\u001b[39m)\n  ammonite.$sess.cmd45$Helper.lengthR(\u001b[32mcmd45.sc\u001b[39m:\u001b[32m6\u001b[39m)\n  ammonite.$sess.cmd45$Helper.lengthR(\u001b[32mcmd45.sc\u001b[39m:\u001b[32m6\u001b[39m)\n  ammonite.$sess.cmd45$Helper.lengthR(\u001b[32mcmd45.sc\u001b[39m:\u001b[32m6\u001b[39m)\n  ammonite.$sess.cmd45$Helper.lengthR(\u001b[32mcmd45.sc\u001b[39m:\u001b[32m6\u001b[39m)\n  ammonite.$sess.cmd45$Helper.lengthR(\u001b[32mcmd45.sc\u001b[39m:\u001b[32m6\u001b[39m)\n  ammonite.$sess.cmd45$Helper.lengthR(\u001b[32mcmd45.sc\u001b[39m:\u001b[32m6\u001b[39m)\n  ammonite.$sess.cmd45$Helper.lengthR(\u001b[32mcmd45.sc\u001b[39m:\u001b[32m6\u001b[39m)\n  ammonite.$sess.cmd45$Helper.lengthR(\u001b[32mcmd45.sc\u001b[39m:\u001b[32m6\u001b[39m)\n  ammonite.$sess.cmd45$Helper.lengthR(\u001b[32mcmd45.sc\u001b[39m:\u001b[32m6\u001b[39m)\n  ammonite.$sess.cmd45$Helper.lengthR(\u001b[32mcmd45.sc\u001b[39m:\u001b[32m6\u001b[39m)\n  ammonite.$sess.cmd45$Helper.lengthR(\u001b[32mcmd45.sc\u001b[39m:\u001b[32m6\u001b[39m)\n  ammonite.$sess.cmd45$Helper.lengthR(\u001b[32mcmd45.sc\u001b[39m:\u001b[32m6\u001b[39m)\n  ammonite.$sess.cmd45$Helper.lengthR(\u001b[32mcmd45.sc\u001b[39m:\u001b[32m6\u001b[39m)\n  ammonite.$sess.cmd45$Helper.lengthR(\u001b[32mcmd45.sc\u001b[39m:\u001b[32m6\u001b[39m)\n  ammonite.$sess.cmd45$Helper.lengthR(\u001b[32mcmd45.sc\u001b[39m:\u001b[32m6\u001b[39m)\n  ammonite.$sess.cmd45$Helper.lengthR(\u001b[32mcmd45.sc\u001b[39m:\u001b[32m6\u001b[39m)\n  ammonite.$sess.cmd45$Helper.lengthR(\u001b[32mcmd45.sc\u001b[39m:\u001b[32m6\u001b[39m)\n  ammonite.$sess.cmd45$Helper.lengthR(\u001b[32mcmd45.sc\u001b[39m:\u001b[32m6\u001b[39m)\n  ammonite.$sess.cmd45$Helper.lengthR(\u001b[32mcmd45.sc\u001b[39m:\u001b[32m6\u001b[39m)\n  ammonite.$sess.cmd45$Helper.lengthR(\u001b[32mcmd45.sc\u001b[39m:\u001b[32m6\u001b[39m)\n  ammonite.$sess.cmd45$Helper.lengthR(\u001b[32mcmd45.sc\u001b[39m:\u001b[32m6\u001b[39m)\n  ammonite.$sess.cmd45$Helper.lengthR(\u001b[32mcmd45.sc\u001b[39m:\u001b[32m6\u001b[39m)\n  ammonite.$sess.cmd45$Helper.lengthR(\u001b[32mcmd45.sc\u001b[39m:\u001b[32m6\u001b[39m)\n  ammonite.$sess.cmd45$Helper.lengthR(\u001b[32mcmd45.sc\u001b[39m:\u001b[32m6\u001b[39m)\n  ammonite.$sess.cmd45$Helper.lengthR(\u001b[32mcmd45.sc\u001b[39m:\u001b[32m6\u001b[39m)\n  ammonite.$sess.cmd45$Helper.lengthR(\u001b[32mcmd45.sc\u001b[39m:\u001b[32m6\u001b[39m)\n  ammonite.$sess.cmd45$Helper.lengthR(\u001b[32mcmd45.sc\u001b[39m:\u001b[32m6\u001b[39m)\n  ammonite.$sess.cmd45$Helper.lengthR(\u001b[32mcmd45.sc\u001b[39m:\u001b[32m6\u001b[39m)\n  ammonite.$sess.cmd45$Helper.lengthR(\u001b[32mcmd45.sc\u001b[39m:\u001b[32m6\u001b[39m)\n  ammonite.$sess.cmd45$Helper.lengthR(\u001b[32mcmd45.sc\u001b[39m:\u001b[32m6\u001b[39m)\n  ammonite.$sess.cmd45$Helper.lengthR(\u001b[32mcmd45.sc\u001b[39m:\u001b[32m6\u001b[39m)\n  ammonite.$sess.cmd45$Helper.lengthR(\u001b[32mcmd45.sc\u001b[39m:\u001b[32m6\u001b[39m)\n  ammonite.$sess.cmd45$Helper.lengthR(\u001b[32mcmd45.sc\u001b[39m:\u001b[32m6\u001b[39m)\n  ammonite.$sess.cmd45$Helper.lengthR(\u001b[32mcmd45.sc\u001b[39m:\u001b[32m6\u001b[39m)\n  ammonite.$sess.cmd45$Helper.lengthR(\u001b[32mcmd45.sc\u001b[39m:\u001b[32m6\u001b[39m)\n  ammonite.$sess.cmd45$Helper.lengthR(\u001b[32mcmd45.sc\u001b[39m:\u001b[32m6\u001b[39m)\n  ammonite.$sess.cmd45$Helper.lengthR(\u001b[32mcmd45.sc\u001b[39m:\u001b[32m6\u001b[39m)\n  ammonite.$sess.cmd45$Helper.lengthR(\u001b[32mcmd45.sc\u001b[39m:\u001b[32m6\u001b[39m)\n  ammonite.$sess.cmd45$Helper.lengthR(\u001b[32mcmd45.sc\u001b[39m:\u001b[32m6\u001b[39m)\n  ammonite.$sess.cmd45$Helper.lengthR(\u001b[32mcmd45.sc\u001b[39m:\u001b[32m6\u001b[39m)\n  ammonite.$sess.cmd45$Helper.lengthR(\u001b[32mcmd45.sc\u001b[39m:\u001b[32m6\u001b[39m)\n  ammonite.$sess.cmd45$Helper.lengthR(\u001b[32mcmd45.sc\u001b[39m:\u001b[32m6\u001b[39m)\n  ammonite.$sess.cmd45$Helper.lengthR(\u001b[32mcmd45.sc\u001b[39m:\u001b[32m6\u001b[39m)\n  ammonite.$sess.cmd45$Helper.lengthR(\u001b[32mcmd45.sc\u001b[39m:\u001b[32m6\u001b[39m)\n  ammonite.$sess.cmd45$Helper.lengthR(\u001b[32mcmd45.sc\u001b[39m:\u001b[32m6\u001b[39m)\n  ammonite.$sess.cmd45$Helper.lengthR(\u001b[32mcmd45.sc\u001b[39m:\u001b[32m6\u001b[39m)\n  ammonite.$sess.cmd45$Helper.lengthR(\u001b[32mcmd45.sc\u001b[39m:\u001b[32m6\u001b[39m)\n  ammonite.$sess.cmd45$Helper.lengthR(\u001b[32mcmd45.sc\u001b[39m:\u001b[32m6\u001b[39m)\n  ammonite.$sess.cmd45$Helper.lengthR(\u001b[32mcmd45.sc\u001b[39m:\u001b[32m6\u001b[39m)\n  ammonite.$sess.cmd45$Helper.lengthR(\u001b[32mcmd45.sc\u001b[39m:\u001b[32m6\u001b[39m)\n  ammonite.$sess.cmd45$Helper.lengthR(\u001b[32mcmd45.sc\u001b[39m:\u001b[32m6\u001b[39m)\n  ammonite.$sess.cmd45$Helper.lengthR(\u001b[32mcmd45.sc\u001b[39m:\u001b[32m6\u001b[39m)\n  ammonite.$sess.cmd45$Helper.lengthR(\u001b[32mcmd45.sc\u001b[39m:\u001b[32m6\u001b[39m)\n  ammonite.$sess.cmd45$Helper.lengthR(\u001b[32mcmd45.sc\u001b[39m:\u001b[32m6\u001b[39m)\n  ammonite.$sess.cmd45$Helper.lengthR(\u001b[32mcmd45.sc\u001b[39m:\u001b[32m6\u001b[39m)\n  ammonite.$sess.cmd45$Helper.lengthR(\u001b[32mcmd45.sc\u001b[39m:\u001b[32m6\u001b[39m)\n  ammonite.$sess.cmd45$Helper.lengthR(\u001b[32mcmd45.sc\u001b[39m:\u001b[32m6\u001b[39m)\n  ammonite.$sess.cmd45$Helper.lengthR(\u001b[32mcmd45.sc\u001b[39m:\u001b[32m6\u001b[39m)\n  ammonite.$sess.cmd45$Helper.lengthR(\u001b[32mcmd45.sc\u001b[39m:\u001b[32m6\u001b[39m)\n  ammonite.$sess.cmd45$Helper.lengthR(\u001b[32mcmd45.sc\u001b[39m:\u001b[32m6\u001b[39m)\n  ammonite.$sess.cmd45$Helper.lengthR(\u001b[32mcmd45.sc\u001b[39m:\u001b[32m6\u001b[39m)\n  ammonite.$sess.cmd45$Helper.lengthR(\u001b[32mcmd45.sc\u001b[39m:\u001b[32m6\u001b[39m)\n  ammonite.$sess.cmd45$Helper.lengthR(\u001b[32mcmd45.sc\u001b[39m:\u001b[32m6\u001b[39m)\n  ammonite.$sess.cmd45$Helper.lengthR(\u001b[32mcmd45.sc\u001b[39m:\u001b[32m6\u001b[39m)\n  ammonite.$sess.cmd45$Helper.lengthR(\u001b[32mcmd45.sc\u001b[39m:\u001b[32m6\u001b[39m)\n  ammonite.$sess.cmd45$Helper.lengthR(\u001b[32mcmd45.sc\u001b[39m:\u001b[32m6\u001b[39m)\n  ammonite.$sess.cmd45$Helper.lengthR(\u001b[32mcmd45.sc\u001b[39m:\u001b[32m6\u001b[39m)\n  ammonite.$sess.cmd45$Helper.lengthR(\u001b[32mcmd45.sc\u001b[39m:\u001b[32m6\u001b[39m)\n  ammonite.$sess.cmd45$Helper.lengthR(\u001b[32mcmd45.sc\u001b[39m:\u001b[32m6\u001b[39m)\n  ammonite.$sess.cmd45$Helper.lengthR(\u001b[32mcmd45.sc\u001b[39m:\u001b[32m6\u001b[39m)\n  ammonite.$sess.cmd45$Helper.lengthR(\u001b[32mcmd45.sc\u001b[39m:\u001b[32m6\u001b[39m)\n  ammonite.$sess.cmd45$Helper.lengthR(\u001b[32mcmd45.sc\u001b[39m:\u001b[32m6\u001b[39m)\n  ammonite.$sess.cmd45$Helper.lengthR(\u001b[32mcmd45.sc\u001b[39m:\u001b[32m6\u001b[39m)\n  ammonite.$sess.cmd45$Helper.lengthR(\u001b[32mcmd45.sc\u001b[39m:\u001b[32m6\u001b[39m)\n  ammonite.$sess.cmd45$Helper.lengthR(\u001b[32mcmd45.sc\u001b[39m:\u001b[32m6\u001b[39m)\n  ammonite.$sess.cmd45$Helper.lengthR(\u001b[32mcmd45.sc\u001b[39m:\u001b[32m6\u001b[39m)\n  ammonite.$sess.cmd45$Helper.lengthR(\u001b[32mcmd45.sc\u001b[39m:\u001b[32m6\u001b[39m)\n  ammonite.$sess.cmd45$Helper.lengthR(\u001b[32mcmd45.sc\u001b[39m:\u001b[32m6\u001b[39m)\n  ammonite.$sess.cmd45$Helper.lengthR(\u001b[32mcmd45.sc\u001b[39m:\u001b[32m6\u001b[39m)\n  ammonite.$sess.cmd45$Helper.lengthR(\u001b[32mcmd45.sc\u001b[39m:\u001b[32m6\u001b[39m)\n  ammonite.$sess.cmd45$Helper.lengthR(\u001b[32mcmd45.sc\u001b[39m:\u001b[32m6\u001b[39m)\n  ammonite.$sess.cmd45$Helper.lengthR(\u001b[32mcmd45.sc\u001b[39m:\u001b[32m6\u001b[39m)\n  ammonite.$sess.cmd45$Helper.lengthR(\u001b[32mcmd45.sc\u001b[39m:\u001b[32m6\u001b[39m)\n  ammonite.$sess.cmd45$Helper.lengthR(\u001b[32mcmd45.sc\u001b[39m:\u001b[32m6\u001b[39m)\n  ammonite.$sess.cmd45$Helper.lengthR(\u001b[32mcmd45.sc\u001b[39m:\u001b[32m6\u001b[39m)\n  ammonite.$sess.cmd45$Helper.lengthR(\u001b[32mcmd45.sc\u001b[39m:\u001b[32m6\u001b[39m)\n  ammonite.$sess.cmd45$Helper.lengthR(\u001b[32mcmd45.sc\u001b[39m:\u001b[32m6\u001b[39m)\n  ammonite.$sess.cmd45$Helper.lengthR(\u001b[32mcmd45.sc\u001b[39m:\u001b[32m6\u001b[39m)\n  ammonite.$sess.cmd45$Helper.lengthR(\u001b[32mcmd45.sc\u001b[39m:\u001b[32m6\u001b[39m)\n  ammonite.$sess.cmd45$Helper.lengthR(\u001b[32mcmd45.sc\u001b[39m:\u001b[32m6\u001b[39m)\n  ammonite.$sess.cmd45$Helper.lengthR(\u001b[32mcmd45.sc\u001b[39m:\u001b[32m6\u001b[39m)\n  ammonite.$sess.cmd45$Helper.lengthR(\u001b[32mcmd45.sc\u001b[39m:\u001b[32m6\u001b[39m)\n  ammonite.$sess.cmd45$Helper.lengthR(\u001b[32mcmd45.sc\u001b[39m:\u001b[32m6\u001b[39m)\n  ammonite.$sess.cmd45$Helper.lengthR(\u001b[32mcmd45.sc\u001b[39m:\u001b[32m6\u001b[39m)\n  ammonite.$sess.cmd45$Helper.lengthR(\u001b[32mcmd45.sc\u001b[39m:\u001b[32m6\u001b[39m)\n  ammonite.$sess.cmd45$Helper.lengthR(\u001b[32mcmd45.sc\u001b[39m:\u001b[32m6\u001b[39m)\n  ammonite.$sess.cmd45$Helper.lengthR(\u001b[32mcmd45.sc\u001b[39m:\u001b[32m6\u001b[39m)\n  ammonite.$sess.cmd45$Helper.lengthR(\u001b[32mcmd45.sc\u001b[39m:\u001b[32m6\u001b[39m)\n  ammonite.$sess.cmd45$Helper.lengthR(\u001b[32mcmd45.sc\u001b[39m:\u001b[32m6\u001b[39m)\n  ammonite.$sess.cmd45$Helper.lengthR(\u001b[32mcmd45.sc\u001b[39m:\u001b[32m6\u001b[39m)\n  ammonite.$sess.cmd45$Helper.lengthR(\u001b[32mcmd45.sc\u001b[39m:\u001b[32m6\u001b[39m)\n  ammonite.$sess.cmd45$Helper.lengthR(\u001b[32mcmd45.sc\u001b[39m:\u001b[32m6\u001b[39m)\n  ammonite.$sess.cmd45$Helper.lengthR(\u001b[32mcmd45.sc\u001b[39m:\u001b[32m6\u001b[39m)\n  ammonite.$sess.cmd45$Helper.lengthR(\u001b[32mcmd45.sc\u001b[39m:\u001b[32m6\u001b[39m)\n  ammonite.$sess.cmd45$Helper.lengthR(\u001b[32mcmd45.sc\u001b[39m:\u001b[32m6\u001b[39m)\n  ammonite.$sess.cmd45$Helper.lengthR(\u001b[32mcmd45.sc\u001b[39m:\u001b[32m6\u001b[39m)\n  ammonite.$sess.cmd45$Helper.lengthR(\u001b[32mcmd45.sc\u001b[39m:\u001b[32m6\u001b[39m)\n  ammonite.$sess.cmd45$Helper.lengthR(\u001b[32mcmd45.sc\u001b[39m:\u001b[32m6\u001b[39m)\n  ammonite.$sess.cmd45$Helper.lengthR(\u001b[32mcmd45.sc\u001b[39m:\u001b[32m6\u001b[39m)\n  ammonite.$sess.cmd45$Helper.lengthR(\u001b[32mcmd45.sc\u001b[39m:\u001b[32m6\u001b[39m)\n  ammonite.$sess.cmd45$Helper.lengthR(\u001b[32mcmd45.sc\u001b[39m:\u001b[32m6\u001b[39m)\n  ammonite.$sess.cmd45$Helper.lengthR(\u001b[32mcmd45.sc\u001b[39m:\u001b[32m6\u001b[39m)\n  ammonite.$sess.cmd45$Helper.lengthR(\u001b[32mcmd45.sc\u001b[39m:\u001b[32m6\u001b[39m)\n  ammonite.$sess.cmd45$Helper.lengthR(\u001b[32mcmd45.sc\u001b[39m:\u001b[32m6\u001b[39m)\n  ammonite.$sess.cmd45$Helper.lengthR(\u001b[32mcmd45.sc\u001b[39m:\u001b[32m6\u001b[39m)\n  ammonite.$sess.cmd45$Helper.lengthR(\u001b[32mcmd45.sc\u001b[39m:\u001b[32m6\u001b[39m)\n  ammonite.$sess.cmd45$Helper.lengthR(\u001b[32mcmd45.sc\u001b[39m:\u001b[32m6\u001b[39m)\n  ammonite.$sess.cmd45$Helper.lengthR(\u001b[32mcmd45.sc\u001b[39m:\u001b[32m6\u001b[39m)\n  ammonite.$sess.cmd45$Helper.lengthR(\u001b[32mcmd45.sc\u001b[39m:\u001b[32m6\u001b[39m)\n  ammonite.$sess.cmd45$Helper.lengthR(\u001b[32mcmd45.sc\u001b[39m:\u001b[32m6\u001b[39m)\n  ammonite.$sess.cmd45$Helper.lengthR(\u001b[32mcmd45.sc\u001b[39m:\u001b[32m6\u001b[39m)\n  ammonite.$sess.cmd45$Helper.lengthR(\u001b[32mcmd45.sc\u001b[39m:\u001b[32m6\u001b[39m)\n  ammonite.$sess.cmd45$Helper.lengthR(\u001b[32mcmd45.sc\u001b[39m:\u001b[32m6\u001b[39m)\n  ammonite.$sess.cmd45$Helper.lengthR(\u001b[32mcmd45.sc\u001b[39m:\u001b[32m6\u001b[39m)\n  ammonite.$sess.cmd45$Helper.lengthR(\u001b[32mcmd45.sc\u001b[39m:\u001b[32m6\u001b[39m)\n  ammonite.$sess.cmd45$Helper.lengthR(\u001b[32mcmd45.sc\u001b[39m:\u001b[32m6\u001b[39m)\n  ammonite.$sess.cmd45$Helper.lengthR(\u001b[32mcmd45.sc\u001b[39m:\u001b[32m6\u001b[39m)\n  ammonite.$sess.cmd45$Helper.lengthR(\u001b[32mcmd45.sc\u001b[39m:\u001b[32m6\u001b[39m)\n  ammonite.$sess.cmd45$Helper.lengthR(\u001b[32mcmd45.sc\u001b[39m:\u001b[32m6\u001b[39m)\n  ammonite.$sess.cmd45$Helper.lengthR(\u001b[32mcmd45.sc\u001b[39m:\u001b[32m6\u001b[39m)\n  ammonite.$sess.cmd45$Helper.lengthR(\u001b[32mcmd45.sc\u001b[39m:\u001b[32m6\u001b[39m)\n  ammonite.$sess.cmd45$Helper.lengthR(\u001b[32mcmd45.sc\u001b[39m:\u001b[32m6\u001b[39m)\n  ammonite.$sess.cmd45$Helper.lengthR(\u001b[32mcmd45.sc\u001b[39m:\u001b[32m6\u001b[39m)\n  ammonite.$sess.cmd45$Helper.lengthR(\u001b[32mcmd45.sc\u001b[39m:\u001b[32m6\u001b[39m)\n  ammonite.$sess.cmd45$Helper.lengthR(\u001b[32mcmd45.sc\u001b[39m:\u001b[32m6\u001b[39m)\n  ammonite.$sess.cmd45$Helper.lengthR(\u001b[32mcmd45.sc\u001b[39m:\u001b[32m6\u001b[39m)\n  ammonite.$sess.cmd45$Helper.lengthR(\u001b[32mcmd45.sc\u001b[39m:\u001b[32m6\u001b[39m)\n  ammonite.$sess.cmd45$Helper.lengthR(\u001b[32mcmd45.sc\u001b[39m:\u001b[32m6\u001b[39m)\n  ammonite.$sess.cmd45$Helper.lengthR(\u001b[32mcmd45.sc\u001b[39m:\u001b[32m6\u001b[39m)\n  ammonite.$sess.cmd45$Helper.lengthR(\u001b[32mcmd45.sc\u001b[39m:\u001b[32m6\u001b[39m)\n  ammonite.$sess.cmd45$Helper.lengthR(\u001b[32mcmd45.sc\u001b[39m:\u001b[32m6\u001b[39m)\n  ammonite.$sess.cmd45$Helper.lengthR(\u001b[32mcmd45.sc\u001b[39m:\u001b[32m6\u001b[39m)\n  ammonite.$sess.cmd45$Helper.lengthR(\u001b[32mcmd45.sc\u001b[39m:\u001b[32m6\u001b[39m)\n  ammonite.$sess.cmd45$Helper.lengthR(\u001b[32mcmd45.sc\u001b[39m:\u001b[32m6\u001b[39m)\n  ammonite.$sess.cmd45$Helper.lengthR(\u001b[32mcmd45.sc\u001b[39m:\u001b[32m6\u001b[39m)\n  ammonite.$sess.cmd45$Helper.lengthR(\u001b[32mcmd45.sc\u001b[39m:\u001b[32m6\u001b[39m)\n  ammonite.$sess.cmd45$Helper.lengthR(\u001b[32mcmd45.sc\u001b[39m:\u001b[32m6\u001b[39m)\n  ammonite.$sess.cmd45$Helper.lengthR(\u001b[32mcmd45.sc\u001b[39m:\u001b[32m6\u001b[39m)\n  ammonite.$sess.cmd45$Helper.lengthR(\u001b[32mcmd45.sc\u001b[39m:\u001b[32m6\u001b[39m)\n  ammonite.$sess.cmd45$Helper.lengthR(\u001b[32mcmd45.sc\u001b[39m:\u001b[32m6\u001b[39m)\n  ammonite.$sess.cmd45$Helper.lengthR(\u001b[32mcmd45.sc\u001b[39m:\u001b[32m6\u001b[39m)\n  ammonite.$sess.cmd45$Helper.lengthR(\u001b[32mcmd45.sc\u001b[39m:\u001b[32m6\u001b[39m)\n  ammonite.$sess.cmd45$Helper.lengthR(\u001b[32mcmd45.sc\u001b[39m:\u001b[32m6\u001b[39m)\n  ammonite.$sess.cmd45$Helper.lengthR(\u001b[32mcmd45.sc\u001b[39m:\u001b[32m6\u001b[39m)\n  ammonite.$sess.cmd45$Helper.lengthR(\u001b[32mcmd45.sc\u001b[39m:\u001b[32m6\u001b[39m)\n  ammonite.$sess.cmd45$Helper.lengthR(\u001b[32mcmd45.sc\u001b[39m:\u001b[32m6\u001b[39m)\n  ammonite.$sess.cmd45$Helper.lengthR(\u001b[32mcmd45.sc\u001b[39m:\u001b[32m6\u001b[39m)\n  ammonite.$sess.cmd45$Helper.lengthR(\u001b[32mcmd45.sc\u001b[39m:\u001b[32m6\u001b[39m)\n  ammonite.$sess.cmd45$Helper.lengthR(\u001b[32mcmd45.sc\u001b[39m:\u001b[32m6\u001b[39m)\n  ammonite.$sess.cmd45$Helper.lengthR(\u001b[32mcmd45.sc\u001b[39m:\u001b[32m6\u001b[39m)\n  ammonite.$sess.cmd45$Helper.lengthR(\u001b[32mcmd45.sc\u001b[39m:\u001b[32m6\u001b[39m)\n  ammonite.$sess.cmd45$Helper.lengthR(\u001b[32mcmd45.sc\u001b[39m:\u001b[32m6\u001b[39m)\n  ammonite.$sess.cmd45$Helper.lengthR(\u001b[32mcmd45.sc\u001b[39m:\u001b[32m6\u001b[39m)\n  ammonite.$sess.cmd45$Helper.lengthR(\u001b[32mcmd45.sc\u001b[39m:\u001b[32m6\u001b[39m)\n  ammonite.$sess.cmd45$Helper.lengthR(\u001b[32mcmd45.sc\u001b[39m:\u001b[32m6\u001b[39m)\n  ammonite.$sess.cmd45$Helper.lengthR(\u001b[32mcmd45.sc\u001b[39m:\u001b[32m6\u001b[39m)\n  ammonite.$sess.cmd45$Helper.lengthR(\u001b[32mcmd45.sc\u001b[39m:\u001b[32m6\u001b[39m)\n  ammonite.$sess.cmd45$Helper.lengthR(\u001b[32mcmd45.sc\u001b[39m:\u001b[32m6\u001b[39m)\n  ammonite.$sess.cmd45$Helper.lengthR(\u001b[32mcmd45.sc\u001b[39m:\u001b[32m6\u001b[39m)\n  ammonite.$sess.cmd45$Helper.lengthR(\u001b[32mcmd45.sc\u001b[39m:\u001b[32m6\u001b[39m)\n  ammonite.$sess.cmd45$Helper.lengthR(\u001b[32mcmd45.sc\u001b[39m:\u001b[32m6\u001b[39m)\n  ammonite.$sess.cmd45$Helper.lengthR(\u001b[32mcmd45.sc\u001b[39m:\u001b[32m6\u001b[39m)\n  ammonite.$sess.cmd45$Helper.lengthR(\u001b[32mcmd45.sc\u001b[39m:\u001b[32m6\u001b[39m)\n  ammonite.$sess.cmd45$Helper.lengthR(\u001b[32mcmd45.sc\u001b[39m:\u001b[32m6\u001b[39m)\n  ammonite.$sess.cmd45$Helper.lengthR(\u001b[32mcmd45.sc\u001b[39m:\u001b[32m6\u001b[39m)\n  ammonite.$sess.cmd45$Helper.lengthR(\u001b[32mcmd45.sc\u001b[39m:\u001b[32m6\u001b[39m)\n  ammonite.$sess.cmd45$Helper.lengthR(\u001b[32mcmd45.sc\u001b[39m:\u001b[32m6\u001b[39m)\n  ammonite.$sess.cmd45$Helper.lengthR(\u001b[32mcmd45.sc\u001b[39m:\u001b[32m6\u001b[39m)\n  ammonite.$sess.cmd45$Helper.lengthR(\u001b[32mcmd45.sc\u001b[39m:\u001b[32m6\u001b[39m)\n  ammonite.$sess.cmd45$Helper.lengthR(\u001b[32mcmd45.sc\u001b[39m:\u001b[32m6\u001b[39m)\n  ammonite.$sess.cmd45$Helper.lengthR(\u001b[32mcmd45.sc\u001b[39m:\u001b[32m6\u001b[39m)\n  ammonite.$sess.cmd45$Helper.lengthR(\u001b[32mcmd45.sc\u001b[39m:\u001b[32m6\u001b[39m)\n  ammonite.$sess.cmd45$Helper.lengthR(\u001b[32mcmd45.sc\u001b[39m:\u001b[32m6\u001b[39m)\n  ammonite.$sess.cmd45$Helper.lengthR(\u001b[32mcmd45.sc\u001b[39m:\u001b[32m6\u001b[39m)\n  ammonite.$sess.cmd45$Helper.lengthR(\u001b[32mcmd45.sc\u001b[39m:\u001b[32m6\u001b[39m)\n  ammonite.$sess.cmd45$Helper.lengthR(\u001b[32mcmd45.sc\u001b[39m:\u001b[32m6\u001b[39m)\n  ammonite.$sess.cmd45$Helper.lengthR(\u001b[32mcmd45.sc\u001b[39m:\u001b[32m6\u001b[39m)\n  ammonite.$sess.cmd45$Helper.lengthR(\u001b[32mcmd45.sc\u001b[39m:\u001b[32m6\u001b[39m)\n  ammonite.$sess.cmd45$Helper.lengthR(\u001b[32mcmd45.sc\u001b[39m:\u001b[32m6\u001b[39m)\n  ammonite.$sess.cmd45$Helper.lengthR(\u001b[32mcmd45.sc\u001b[39m:\u001b[32m6\u001b[39m)\n  ammonite.$sess.cmd45$Helper.lengthR(\u001b[32mcmd45.sc\u001b[39m:\u001b[32m6\u001b[39m)\n  ammonite.$sess.cmd45$Helper.lengthR(\u001b[32mcmd45.sc\u001b[39m:\u001b[32m6\u001b[39m)\n  ammonite.$sess.cmd45$Helper.lengthR(\u001b[32mcmd45.sc\u001b[39m:\u001b[32m6\u001b[39m)\n  ammonite.$sess.cmd45$Helper.lengthR(\u001b[32mcmd45.sc\u001b[39m:\u001b[32m6\u001b[39m)\n  ammonite.$sess.cmd45$Helper.lengthR(\u001b[32mcmd45.sc\u001b[39m:\u001b[32m6\u001b[39m)\n  ammonite.$sess.cmd45$Helper.lengthR(\u001b[32mcmd45.sc\u001b[39m:\u001b[32m6\u001b[39m)\n  ammonite.$sess.cmd45$Helper.lengthR(\u001b[32mcmd45.sc\u001b[39m:\u001b[32m6\u001b[39m)\n  ammonite.$sess.cmd45$Helper.lengthR(\u001b[32mcmd45.sc\u001b[39m:\u001b[32m6\u001b[39m)\n  ammonite.$sess.cmd45$Helper.lengthR(\u001b[32mcmd45.sc\u001b[39m:\u001b[32m6\u001b[39m)\n  ammonite.$sess.cmd45$Helper.lengthR(\u001b[32mcmd45.sc\u001b[39m:\u001b[32m6\u001b[39m)\n  ammonite.$sess.cmd45$Helper.lengthR(\u001b[32mcmd45.sc\u001b[39m:\u001b[32m6\u001b[39m)\n  ammonite.$sess.cmd45$Helper.lengthR(\u001b[32mcmd45.sc\u001b[39m:\u001b[32m6\u001b[39m)\n  ammonite.$sess.cmd45$Helper.lengthR(\u001b[32mcmd45.sc\u001b[39m:\u001b[32m6\u001b[39m)\n  ammonite.$sess.cmd45$Helper.lengthR(\u001b[32mcmd45.sc\u001b[39m:\u001b[32m6\u001b[39m)\n  ammonite.$sess.cmd45$Helper.lengthR(\u001b[32mcmd45.sc\u001b[39m:\u001b[32m6\u001b[39m)\n  ammonite.$sess.cmd45$Helper.lengthR(\u001b[32mcmd45.sc\u001b[39m:\u001b[32m6\u001b[39m)\n  ammonite.$sess.cmd45$Helper.lengthR(\u001b[32mcmd45.sc\u001b[39m:\u001b[32m6\u001b[39m)\n  ammonite.$sess.cmd45$Helper.lengthR(\u001b[32mcmd45.sc\u001b[39m:\u001b[32m6\u001b[39m)\n  ammonite.$sess.cmd45$Helper.lengthR(\u001b[32mcmd45.sc\u001b[39m:\u001b[32m6\u001b[39m)\n  ammonite.$sess.cmd45$Helper.lengthR(\u001b[32mcmd45.sc\u001b[39m:\u001b[32m6\u001b[39m)\n  ammonite.$sess.cmd45$Helper.lengthR(\u001b[32mcmd45.sc\u001b[39m:\u001b[32m6\u001b[39m)\n  ammonite.$sess.cmd45$Helper.lengthR(\u001b[32mcmd45.sc\u001b[39m:\u001b[32m6\u001b[39m)\n  ammonite.$sess.cmd45$Helper.lengthR(\u001b[32mcmd45.sc\u001b[39m:\u001b[32m6\u001b[39m)\n  ammonite.$sess.cmd45$Helper.lengthR(\u001b[32mcmd45.sc\u001b[39m:\u001b[32m6\u001b[39m)\n  ammonite.$sess.cmd45$Helper.lengthR(\u001b[32mcmd45.sc\u001b[39m:\u001b[32m6\u001b[39m)\n  ammonite.$sess.cmd45$Helper.lengthR(\u001b[32mcmd45.sc\u001b[39m:\u001b[32m6\u001b[39m)\n  ammonite.$sess.cmd45$Helper.lengthR(\u001b[32mcmd45.sc\u001b[39m:\u001b[32m6\u001b[39m)\n  ammonite.$sess.cmd45$Helper.lengthR(\u001b[32mcmd45.sc\u001b[39m:\u001b[32m6\u001b[39m)\n  ammonite.$sess.cmd45$Helper.lengthR(\u001b[32mcmd45.sc\u001b[39m:\u001b[32m6\u001b[39m)\n  ammonite.$sess.cmd45$Helper.lengthR(\u001b[32mcmd45.sc\u001b[39m:\u001b[32m6\u001b[39m)\n  ammonite.$sess.cmd45$Helper.lengthR(\u001b[32mcmd45.sc\u001b[39m:\u001b[32m6\u001b[39m)\n  ammonite.$sess.cmd45$Helper.lengthR(\u001b[32mcmd45.sc\u001b[39m:\u001b[32m6\u001b[39m)\n  ammonite.$sess.cmd45$Helper.lengthR(\u001b[32mcmd45.sc\u001b[39m:\u001b[32m6\u001b[39m)\n  ammonite.$sess.cmd45$Helper.lengthR(\u001b[32mcmd45.sc\u001b[39m:\u001b[32m6\u001b[39m)\n  ammonite.$sess.cmd45$Helper.lengthR(\u001b[32mcmd45.sc\u001b[39m:\u001b[32m6\u001b[39m)\n  ammonite.$sess.cmd45$Helper.lengthR(\u001b[32mcmd45.sc\u001b[39m:\u001b[32m6\u001b[39m)\n  ammonite.$sess.cmd45$Helper.lengthR(\u001b[32mcmd45.sc\u001b[39m:\u001b[32m6\u001b[39m)\n  ammonite.$sess.cmd45$Helper.lengthR(\u001b[32mcmd45.sc\u001b[39m:\u001b[32m6\u001b[39m)\n  ammonite.$sess.cmd45$Helper.lengthR(\u001b[32mcmd45.sc\u001b[39m:\u001b[32m6\u001b[39m)\n  ammonite.$sess.cmd45$Helper.lengthR(\u001b[32mcmd45.sc\u001b[39m:\u001b[32m6\u001b[39m)\n  ammonite.$sess.cmd45$Helper.lengthR(\u001b[32mcmd45.sc\u001b[39m:\u001b[32m6\u001b[39m)\n  ammonite.$sess.cmd45$Helper.lengthR(\u001b[32mcmd45.sc\u001b[39m:\u001b[32m6\u001b[39m)\n  ammonite.$sess.cmd45$Helper.lengthR(\u001b[32mcmd45.sc\u001b[39m:\u001b[32m6\u001b[39m)\n  ammonite.$sess.cmd45$Helper.lengthR(\u001b[32mcmd45.sc\u001b[39m:\u001b[32m6\u001b[39m)\n  ammonite.$sess.cmd45$Helper.lengthR(\u001b[32mcmd45.sc\u001b[39m:\u001b[32m6\u001b[39m)\n  ammonite.$sess.cmd45$Helper.lengthR(\u001b[32mcmd45.sc\u001b[39m:\u001b[32m6\u001b[39m)\n  ammonite.$sess.cmd45$Helper.lengthR(\u001b[32mcmd45.sc\u001b[39m:\u001b[32m6\u001b[39m)\n  ammonite.$sess.cmd45$Helper.lengthR(\u001b[32mcmd45.sc\u001b[39m:\u001b[32m6\u001b[39m)\n  ammonite.$sess.cmd45$Helper.lengthR(\u001b[32mcmd45.sc\u001b[39m:\u001b[32m6\u001b[39m)\n  ammonite.$sess.cmd45$Helper.lengthR(\u001b[32mcmd45.sc\u001b[39m:\u001b[32m6\u001b[39m)\n  ammonite.$sess.cmd45$Helper.lengthR(\u001b[32mcmd45.sc\u001b[39m:\u001b[32m6\u001b[39m)\n  ammonite.$sess.cmd45$Helper.lengthR(\u001b[32mcmd45.sc\u001b[39m:\u001b[32m6\u001b[39m)\n  ammonite.$sess.cmd45$Helper.lengthR(\u001b[32mcmd45.sc\u001b[39m:\u001b[32m6\u001b[39m)\n  ammonite.$sess.cmd45$Helper.lengthR(\u001b[32mcmd45.sc\u001b[39m:\u001b[32m6\u001b[39m)\n  ammonite.$sess.cmd45$Helper.lengthR(\u001b[32mcmd45.sc\u001b[39m:\u001b[32m6\u001b[39m)\n  ammonite.$sess.cmd45$Helper.lengthR(\u001b[32mcmd45.sc\u001b[39m:\u001b[32m6\u001b[39m)\n  ammonite.$sess.cmd45$Helper.lengthR(\u001b[32mcmd45.sc\u001b[39m:\u001b[32m6\u001b[39m)\n  ammonite.$sess.cmd45$Helper.lengthR(\u001b[32mcmd45.sc\u001b[39m:\u001b[32m6\u001b[39m)\n  ammonite.$sess.cmd45$Helper.lengthR(\u001b[32mcmd45.sc\u001b[39m:\u001b[32m6\u001b[39m)\n  ammonite.$sess.cmd45$Helper.lengthR(\u001b[32mcmd45.sc\u001b[39m:\u001b[32m6\u001b[39m)\n  ammonite.$sess.cmd45$Helper.lengthR(\u001b[32mcmd45.sc\u001b[39m:\u001b[32m6\u001b[39m)\n  ammonite.$sess.cmd45$Helper.lengthR(\u001b[32mcmd45.sc\u001b[39m:\u001b[32m6\u001b[39m)\n  ammonite.$sess.cmd45$Helper.lengthR(\u001b[32mcmd45.sc\u001b[39m:\u001b[32m6\u001b[39m)\n  ammonite.$sess.cmd45$Helper.lengthR(\u001b[32mcmd45.sc\u001b[39m:\u001b[32m6\u001b[39m)\n  ammonite.$sess.cmd45$Helper.lengthR(\u001b[32mcmd45.sc\u001b[39m:\u001b[32m6\u001b[39m)\n  ammonite.$sess.cmd45$Helper.lengthR(\u001b[32mcmd45.sc\u001b[39m:\u001b[32m6\u001b[39m)\n  ammonite.$sess.cmd45$Helper.lengthR(\u001b[32mcmd45.sc\u001b[39m:\u001b[32m6\u001b[39m)\n  ammonite.$sess.cmd45$Helper.lengthR(\u001b[32mcmd45.sc\u001b[39m:\u001b[32m6\u001b[39m)\n  ammonite.$sess.cmd45$Helper.lengthR(\u001b[32mcmd45.sc\u001b[39m:\u001b[32m6\u001b[39m)\n  ammonite.$sess.cmd45$Helper.lengthR(\u001b[32mcmd45.sc\u001b[39m:\u001b[32m6\u001b[39m)\n  ammonite.$sess.cmd45$Helper.lengthR(\u001b[32mcmd45.sc\u001b[39m:\u001b[32m6\u001b[39m)\n  ammonite.$sess.cmd45$Helper.lengthR(\u001b[32mcmd45.sc\u001b[39m:\u001b[32m6\u001b[39m)\n  ammonite.$sess.cmd45$Helper.lengthR(\u001b[32mcmd45.sc\u001b[39m:\u001b[32m6\u001b[39m)\n  ammonite.$sess.cmd45$Helper.lengthR(\u001b[32mcmd45.sc\u001b[39m:\u001b[32m6\u001b[39m)\n  ammonite.$sess.cmd45$Helper.lengthR(\u001b[32mcmd45.sc\u001b[39m:\u001b[32m6\u001b[39m)\n  ammonite.$sess.cmd45$Helper.lengthR(\u001b[32mcmd45.sc\u001b[39m:\u001b[32m6\u001b[39m)\n  ammonite.$sess.cmd45$Helper.lengthR(\u001b[32mcmd45.sc\u001b[39m:\u001b[32m6\u001b[39m)\n  ammonite.$sess.cmd45$Helper.lengthR(\u001b[32mcmd45.sc\u001b[39m:\u001b[32m6\u001b[39m)\n  ammonite.$sess.cmd45$Helper.lengthR(\u001b[32mcmd45.sc\u001b[39m:\u001b[32m6\u001b[39m)\n  ammonite.$sess.cmd45$Helper.lengthR(\u001b[32mcmd45.sc\u001b[39m:\u001b[32m6\u001b[39m)\n  ammonite.$sess.cmd45$Helper.lengthR(\u001b[32mcmd45.sc\u001b[39m:\u001b[32m6\u001b[39m)\n  ammonite.$sess.cmd45$Helper.lengthR(\u001b[32mcmd45.sc\u001b[39m:\u001b[32m6\u001b[39m)\n  ammonite.$sess.cmd45$Helper.lengthR(\u001b[32mcmd45.sc\u001b[39m:\u001b[32m6\u001b[39m)\n  ammonite.$sess.cmd45$Helper.lengthR(\u001b[32mcmd45.sc\u001b[39m:\u001b[32m6\u001b[39m)\n  ammonite.$sess.cmd45$Helper.lengthR(\u001b[32mcmd45.sc\u001b[39m:\u001b[32m6\u001b[39m)\n  ammonite.$sess.cmd45$Helper.lengthR(\u001b[32mcmd45.sc\u001b[39m:\u001b[32m6\u001b[39m)\n  ammonite.$sess.cmd45$Helper.lengthR(\u001b[32mcmd45.sc\u001b[39m:\u001b[32m6\u001b[39m)\n  ammonite.$sess.cmd45$Helper.lengthR(\u001b[32mcmd45.sc\u001b[39m:\u001b[32m6\u001b[39m)\n  ammonite.$sess.cmd45$Helper.lengthR(\u001b[32mcmd45.sc\u001b[39m:\u001b[32m6\u001b[39m)\n  ammonite.$sess.cmd45$Helper.lengthR(\u001b[32mcmd45.sc\u001b[39m:\u001b[32m6\u001b[39m)\n  ammonite.$sess.cmd45$Helper.lengthR(\u001b[32mcmd45.sc\u001b[39m:\u001b[32m6\u001b[39m)\n  ammonite.$sess.cmd45$Helper.lengthR(\u001b[32mcmd45.sc\u001b[39m:\u001b[32m6\u001b[39m)\n  ammonite.$sess.cmd45$Helper.lengthR(\u001b[32mcmd45.sc\u001b[39m:\u001b[32m6\u001b[39m)\n  ammonite.$sess.cmd45$Helper.lengthR(\u001b[32mcmd45.sc\u001b[39m:\u001b[32m6\u001b[39m)\n  ammonite.$sess.cmd45$Helper.lengthR(\u001b[32mcmd45.sc\u001b[39m:\u001b[32m6\u001b[39m)\n  ammonite.$sess.cmd45$Helper.lengthR(\u001b[32mcmd45.sc\u001b[39m:\u001b[32m6\u001b[39m)\n  ammonite.$sess.cmd45$Helper.lengthR(\u001b[32mcmd45.sc\u001b[39m:\u001b[32m6\u001b[39m)\n  ammonite.$sess.cmd45$Helper.lengthR(\u001b[32mcmd45.sc\u001b[39m:\u001b[32m6\u001b[39m)\n  ammonite.$sess.cmd45$Helper.lengthR(\u001b[32mcmd45.sc\u001b[39m:\u001b[32m6\u001b[39m)\n  ammonite.$sess.cmd45$Helper.lengthR(\u001b[32mcmd45.sc\u001b[39m:\u001b[32m6\u001b[39m)\n  ammonite.$sess.cmd45$Helper.lengthR(\u001b[32mcmd45.sc\u001b[39m:\u001b[32m6\u001b[39m)\n  ammonite.$sess.cmd45$Helper.lengthR(\u001b[32mcmd45.sc\u001b[39m:\u001b[32m6\u001b[39m)\n  ammonite.$sess.cmd45$Helper.lengthR(\u001b[32mcmd45.sc\u001b[39m:\u001b[32m6\u001b[39m)\n  ammonite.$sess.cmd45$Helper.lengthR(\u001b[32mcmd45.sc\u001b[39m:\u001b[32m6\u001b[39m)\n  ammonite.$sess.cmd45$Helper.lengthR(\u001b[32mcmd45.sc\u001b[39m:\u001b[32m6\u001b[39m)\n  ammonite.$sess.cmd45$Helper.lengthR(\u001b[32mcmd45.sc\u001b[39m:\u001b[32m6\u001b[39m)\n  ammonite.$sess.cmd45$Helper.lengthR(\u001b[32mcmd45.sc\u001b[39m:\u001b[32m6\u001b[39m)\n  ammonite.$sess.cmd45$Helper.lengthR(\u001b[32mcmd45.sc\u001b[39m:\u001b[32m6\u001b[39m)\n  ammonite.$sess.cmd45$Helper.lengthR(\u001b[32mcmd45.sc\u001b[39m:\u001b[32m6\u001b[39m)\n  ammonite.$sess.cmd45$Helper.lengthR(\u001b[32mcmd45.sc\u001b[39m:\u001b[32m6\u001b[39m)\n  ammonite.$sess.cmd45$Helper.lengthR(\u001b[32mcmd45.sc\u001b[39m:\u001b[32m6\u001b[39m)\n  ammonite.$sess.cmd45$Helper.lengthR(\u001b[32mcmd45.sc\u001b[39m:\u001b[32m6\u001b[39m)\n  ammonite.$sess.cmd45$Helper.lengthR(\u001b[32mcmd45.sc\u001b[39m:\u001b[32m6\u001b[39m)\n  ammonite.$sess.cmd45$Helper.lengthR(\u001b[32mcmd45.sc\u001b[39m:\u001b[32m6\u001b[39m)\n  ammonite.$sess.cmd45$Helper.lengthR(\u001b[32mcmd45.sc\u001b[39m:\u001b[32m6\u001b[39m)\n  ammonite.$sess.cmd45$Helper.lengthR(\u001b[32mcmd45.sc\u001b[39m:\u001b[32m6\u001b[39m)\n  ammonite.$sess.cmd45$Helper.lengthR(\u001b[32mcmd45.sc\u001b[39m:\u001b[32m6\u001b[39m)\n  ammonite.$sess.cmd45$Helper.lengthR(\u001b[32mcmd45.sc\u001b[39m:\u001b[32m6\u001b[39m)\n  ammonite.$sess.cmd45$Helper.lengthR(\u001b[32mcmd45.sc\u001b[39m:\u001b[32m6\u001b[39m)\n  ammonite.$sess.cmd45$Helper.lengthR(\u001b[32mcmd45.sc\u001b[39m:\u001b[32m6\u001b[39m)\n  ammonite.$sess.cmd45$Helper.lengthR(\u001b[32mcmd45.sc\u001b[39m:\u001b[32m6\u001b[39m)\n  ammonite.$sess.cmd45$Helper.lengthR(\u001b[32mcmd45.sc\u001b[39m:\u001b[32m6\u001b[39m)\n  ammonite.$sess.cmd45$Helper.lengthR(\u001b[32mcmd45.sc\u001b[39m:\u001b[32m6\u001b[39m)\n  ammonite.$sess.cmd45$Helper.lengthR(\u001b[32mcmd45.sc\u001b[39m:\u001b[32m6\u001b[39m)\n  ammonite.$sess.cmd45$Helper.lengthR(\u001b[32mcmd45.sc\u001b[39m:\u001b[32m6\u001b[39m)\n  ammonite.$sess.cmd45$Helper.lengthR(\u001b[32mcmd45.sc\u001b[39m:\u001b[32m6\u001b[39m)\n  ammonite.$sess.cmd45$Helper.lengthR(\u001b[32mcmd45.sc\u001b[39m:\u001b[32m6\u001b[39m)\n  ammonite.$sess.cmd45$Helper.lengthR(\u001b[32mcmd45.sc\u001b[39m:\u001b[32m6\u001b[39m)\n  ammonite.$sess.cmd45$Helper.lengthR(\u001b[32mcmd45.sc\u001b[39m:\u001b[32m6\u001b[39m)\n  ammonite.$sess.cmd45$Helper.lengthR(\u001b[32mcmd45.sc\u001b[39m:\u001b[32m6\u001b[39m)\n  ammonite.$sess.cmd45$Helper.lengthR(\u001b[32mcmd45.sc\u001b[39m:\u001b[32m6\u001b[39m)\n  ammonite.$sess.cmd45$Helper.lengthR(\u001b[32mcmd45.sc\u001b[39m:\u001b[32m6\u001b[39m)\n  ammonite.$sess.cmd45$Helper.lengthR(\u001b[32mcmd45.sc\u001b[39m:\u001b[32m6\u001b[39m)\n  ammonite.$sess.cmd45$Helper.lengthR(\u001b[32mcmd45.sc\u001b[39m:\u001b[32m6\u001b[39m)\n  ammonite.$sess.cmd45$Helper.lengthR(\u001b[32mcmd45.sc\u001b[39m:\u001b[32m6\u001b[39m)\n  ammonite.$sess.cmd45$Helper.lengthR(\u001b[32mcmd45.sc\u001b[39m:\u001b[32m6\u001b[39m)\n  ammonite.$sess.cmd45$Helper.lengthR(\u001b[32mcmd45.sc\u001b[39m:\u001b[32m6\u001b[39m)\n  ammonite.$sess.cmd45$Helper.lengthR(\u001b[32mcmd45.sc\u001b[39m:\u001b[32m6\u001b[39m)\n  ammonite.$sess.cmd45$Helper.lengthR(\u001b[32mcmd45.sc\u001b[39m:\u001b[32m6\u001b[39m)\n  ammonite.$sess.cmd45$Helper.lengthR(\u001b[32mcmd45.sc\u001b[39m:\u001b[32m6\u001b[39m)\n  ammonite.$sess.cmd45$Helper.lengthR(\u001b[32mcmd45.sc\u001b[39m:\u001b[32m6\u001b[39m)\n  ammonite.$sess.cmd45$Helper.lengthR(\u001b[32mcmd45.sc\u001b[39m:\u001b[32m6\u001b[39m)\n  ammonite.$sess.cmd45$Helper.lengthR(\u001b[32mcmd45.sc\u001b[39m:\u001b[32m6\u001b[39m)\n  ammonite.$sess.cmd45$Helper.lengthR(\u001b[32mcmd45.sc\u001b[39m:\u001b[32m6\u001b[39m)\n  ammonite.$sess.cmd45$Helper.lengthR(\u001b[32mcmd45.sc\u001b[39m:\u001b[32m6\u001b[39m)\n  ammonite.$sess.cmd45$Helper.lengthR(\u001b[32mcmd45.sc\u001b[39m:\u001b[32m6\u001b[39m)\n  ammonite.$sess.cmd45$Helper.lengthR(\u001b[32mcmd45.sc\u001b[39m:\u001b[32m6\u001b[39m)\n  ammonite.$sess.cmd45$Helper.lengthR(\u001b[32mcmd45.sc\u001b[39m:\u001b[32m6\u001b[39m)\n  ammonite.$sess.cmd45$Helper.lengthR(\u001b[32mcmd45.sc\u001b[39m:\u001b[32m6\u001b[39m)\n  ammonite.$sess.cmd45$Helper.lengthR(\u001b[32mcmd45.sc\u001b[39m:\u001b[32m6\u001b[39m)\n  ammonite.$sess.cmd45$Helper.lengthR(\u001b[32mcmd45.sc\u001b[39m:\u001b[32m6\u001b[39m)\n  ammonite.$sess.cmd45$Helper.lengthR(\u001b[32mcmd45.sc\u001b[39m:\u001b[32m6\u001b[39m)\n  ammonite.$sess.cmd45$Helper.lengthR(\u001b[32mcmd45.sc\u001b[39m:\u001b[32m6\u001b[39m)\n  ammonite.$sess.cmd45$Helper.lengthR(\u001b[32mcmd45.sc\u001b[39m:\u001b[32m6\u001b[39m)\n  ammonite.$sess.cmd45$Helper.lengthR(\u001b[32mcmd45.sc\u001b[39m:\u001b[32m6\u001b[39m)\n  ammonite.$sess.cmd45$Helper.lengthR(\u001b[32mcmd45.sc\u001b[39m:\u001b[32m6\u001b[39m)\n  ammonite.$sess.cmd45$Helper.lengthR(\u001b[32mcmd45.sc\u001b[39m:\u001b[32m6\u001b[39m)\n  ammonite.$sess.cmd45$Helper.lengthR(\u001b[32mcmd45.sc\u001b[39m:\u001b[32m6\u001b[39m)\n  ammonite.$sess.cmd45$Helper.lengthR(\u001b[32mcmd45.sc\u001b[39m:\u001b[32m6\u001b[39m)\n  ammonite.$sess.cmd45$Helper.lengthR(\u001b[32mcmd45.sc\u001b[39m:\u001b[32m6\u001b[39m)\n  ammonite.$sess.cmd45$Helper.lengthR(\u001b[32mcmd45.sc\u001b[39m:\u001b[32m6\u001b[39m)\n  ammonite.$sess.cmd45$Helper.lengthR(\u001b[32mcmd45.sc\u001b[39m:\u001b[32m6\u001b[39m)\n  ammonite.$sess.cmd45$Helper.lengthR(\u001b[32mcmd45.sc\u001b[39m:\u001b[32m6\u001b[39m)\n  ammonite.$sess.cmd45$Helper.lengthR(\u001b[32mcmd45.sc\u001b[39m:\u001b[32m6\u001b[39m)\n  ammonite.$sess.cmd45$Helper.lengthR(\u001b[32mcmd45.sc\u001b[39m:\u001b[32m6\u001b[39m)\n  ammonite.$sess.cmd45$Helper.lengthR(\u001b[32mcmd45.sc\u001b[39m:\u001b[32m6\u001b[39m)\n  ammonite.$sess.cmd45$Helper.lengthR(\u001b[32mcmd45.sc\u001b[39m:\u001b[32m6\u001b[39m)\n  ammonite.$sess.cmd45$Helper.lengthR(\u001b[32mcmd45.sc\u001b[39m:\u001b[32m6\u001b[39m)\n  ammonite.$sess.cmd45$Helper.lengthR(\u001b[32mcmd45.sc\u001b[39m:\u001b[32m6\u001b[39m)\n  ammonite.$sess.cmd45$Helper.lengthR(\u001b[32mcmd45.sc\u001b[39m:\u001b[32m6\u001b[39m)\n  ammonite.$sess.cmd45$Helper.lengthR(\u001b[32mcmd45.sc\u001b[39m:\u001b[32m6\u001b[39m)\n  ammonite.$sess.cmd45$Helper.lengthR(\u001b[32mcmd45.sc\u001b[39m:\u001b[32m6\u001b[39m)\n  ammonite.$sess.cmd45$Helper.lengthR(\u001b[32mcmd45.sc\u001b[39m:\u001b[32m6\u001b[39m)\n  ammonite.$sess.cmd45$Helper.lengthR(\u001b[32mcmd45.sc\u001b[39m:\u001b[32m6\u001b[39m)\n  ammonite.$sess.cmd45$Helper.lengthR(\u001b[32mcmd45.sc\u001b[39m:\u001b[32m6\u001b[39m)\n  ammonite.$sess.cmd45$Helper.lengthR(\u001b[32mcmd45.sc\u001b[39m:\u001b[32m6\u001b[39m)\n  ammonite.$sess.cmd45$Helper.lengthR(\u001b[32mcmd45.sc\u001b[39m:\u001b[32m6\u001b[39m)\n  ammonite.$sess.cmd45$Helper.lengthR(\u001b[32mcmd45.sc\u001b[39m:\u001b[32m6\u001b[39m)\n  ammonite.$sess.cmd45$Helper.lengthR(\u001b[32mcmd45.sc\u001b[39m:\u001b[32m6\u001b[39m)\n  ammonite.$sess.cmd45$Helper.lengthR(\u001b[32mcmd45.sc\u001b[39m:\u001b[32m6\u001b[39m)\n  ammonite.$sess.cmd45$Helper.lengthR(\u001b[32mcmd45.sc\u001b[39m:\u001b[32m6\u001b[39m)\n  ammonite.$sess.cmd45$Helper.lengthR(\u001b[32mcmd45.sc\u001b[39m:\u001b[32m6\u001b[39m)\n  ammonite.$sess.cmd45$Helper.lengthR(\u001b[32mcmd45.sc\u001b[39m:\u001b[32m6\u001b[39m)\n  ammonite.$sess.cmd45$Helper.lengthR(\u001b[32mcmd45.sc\u001b[39m:\u001b[32m6\u001b[39m)\n  ammonite.$sess.cmd45$Helper.lengthR(\u001b[32mcmd45.sc\u001b[39m:\u001b[32m6\u001b[39m)\n  ammonite.$sess.cmd45$Helper.lengthR(\u001b[32mcmd45.sc\u001b[39m:\u001b[32m6\u001b[39m)\n  ammonite.$sess.cmd45$Helper.lengthR(\u001b[32mcmd45.sc\u001b[39m:\u001b[32m6\u001b[39m)\n  ammonite.$sess.cmd45$Helper.lengthR(\u001b[32mcmd45.sc\u001b[39m:\u001b[32m6\u001b[39m)\n  ammonite.$sess.cmd45$Helper.lengthR(\u001b[32mcmd45.sc\u001b[39m:\u001b[32m6\u001b[39m)\n  ammonite.$sess.cmd45$Helper.lengthR(\u001b[32mcmd45.sc\u001b[39m:\u001b[32m6\u001b[39m)\n  ammonite.$sess.cmd45$Helper.lengthR(\u001b[32mcmd45.sc\u001b[39m:\u001b[32m6\u001b[39m)\n  ammonite.$sess.cmd45$Helper.lengthR(\u001b[32mcmd45.sc\u001b[39m:\u001b[32m6\u001b[39m)\n  ammonite.$sess.cmd45$Helper.lengthR(\u001b[32mcmd45.sc\u001b[39m:\u001b[32m6\u001b[39m)\n  ammonite.$sess.cmd45$Helper.lengthR(\u001b[32mcmd45.sc\u001b[39m:\u001b[32m6\u001b[39m)\n  ammonite.$sess.cmd45$Helper.lengthR(\u001b[32mcmd45.sc\u001b[39m:\u001b[32m6\u001b[39m)\n  ammonite.$sess.cmd45$Helper.lengthR(\u001b[32mcmd45.sc\u001b[39m:\u001b[32m6\u001b[39m)\n  ammonite.$sess.cmd45$Helper.lengthR(\u001b[32mcmd45.sc\u001b[39m:\u001b[32m6\u001b[39m)\n  ammonite.$sess.cmd45$Helper.lengthR(\u001b[32mcmd45.sc\u001b[39m:\u001b[32m6\u001b[39m)\n  ammonite.$sess.cmd45$Helper.lengthR(\u001b[32mcmd45.sc\u001b[39m:\u001b[32m6\u001b[39m)\n  ammonite.$sess.cmd45$Helper.lengthR(\u001b[32mcmd45.sc\u001b[39m:\u001b[32m6\u001b[39m)\n  ammonite.$sess.cmd45$Helper.lengthR(\u001b[32mcmd45.sc\u001b[39m:\u001b[32m6\u001b[39m)\n  ammonite.$sess.cmd45$Helper.lengthR(\u001b[32mcmd45.sc\u001b[39m:\u001b[32m6\u001b[39m)\n  ammonite.$sess.cmd45$Helper.lengthR(\u001b[32mcmd45.sc\u001b[39m:\u001b[32m6\u001b[39m)\n  ammonite.$sess.cmd45$Helper.lengthR(\u001b[32mcmd45.sc\u001b[39m:\u001b[32m6\u001b[39m)\n  ammonite.$sess.cmd45$Helper.lengthR(\u001b[32mcmd45.sc\u001b[39m:\u001b[32m6\u001b[39m)\n  ammonite.$sess.cmd45$Helper.lengthR(\u001b[32mcmd45.sc\u001b[39m:\u001b[32m6\u001b[39m)\n  ammonite.$sess.cmd45$Helper.lengthR(\u001b[32mcmd45.sc\u001b[39m:\u001b[32m6\u001b[39m)\n  ammonite.$sess.cmd45$Helper.lengthR(\u001b[32mcmd45.sc\u001b[39m:\u001b[32m6\u001b[39m)\n  ammonite.$sess.cmd45$Helper.lengthR(\u001b[32mcmd45.sc\u001b[39m:\u001b[32m6\u001b[39m)\n  ammonite.$sess.cmd45$Helper.lengthR(\u001b[32mcmd45.sc\u001b[39m:\u001b[32m6\u001b[39m)\n  ammonite.$sess.cmd45$Helper.lengthR(\u001b[32mcmd45.sc\u001b[39m:\u001b[32m6\u001b[39m)\n  ammonite.$sess.cmd45$Helper.lengthR(\u001b[32mcmd45.sc\u001b[39m:\u001b[32m6\u001b[39m)\n  ammonite.$sess.cmd45$Helper.lengthR(\u001b[32mcmd45.sc\u001b[39m:\u001b[32m6\u001b[39m)\n  ammonite.$sess.cmd45$Helper.lengthR(\u001b[32mcmd45.sc\u001b[39m:\u001b[32m6\u001b[39m)\n  ammonite.$sess.cmd45$Helper.lengthR(\u001b[32mcmd45.sc\u001b[39m:\u001b[32m6\u001b[39m)\n  ammonite.$sess.cmd45$Helper.lengthR(\u001b[32mcmd45.sc\u001b[39m:\u001b[32m6\u001b[39m)\n  ammonite.$sess.cmd45$Helper.lengthR(\u001b[32mcmd45.sc\u001b[39m:\u001b[32m6\u001b[39m)\n  ammonite.$sess.cmd45$Helper.lengthR(\u001b[32mcmd45.sc\u001b[39m:\u001b[32m6\u001b[39m)\n  ammonite.$sess.cmd45$Helper.lengthR(\u001b[32mcmd45.sc\u001b[39m:\u001b[32m6\u001b[39m)\n  ammonite.$sess.cmd45$Helper.lengthR(\u001b[32mcmd45.sc\u001b[39m:\u001b[32m6\u001b[39m)\n  ammonite.$sess.cmd45$Helper.lengthR(\u001b[32mcmd45.sc\u001b[39m:\u001b[32m6\u001b[39m)\n  ammonite.$sess.cmd45$Helper.lengthR(\u001b[32mcmd45.sc\u001b[39m:\u001b[32m6\u001b[39m)\n  ammonite.$sess.cmd45$Helper.lengthR(\u001b[32mcmd45.sc\u001b[39m:\u001b[32m6\u001b[39m)\n  ammonite.$sess.cmd45$Helper.lengthR(\u001b[32mcmd45.sc\u001b[39m:\u001b[32m6\u001b[39m)\n  ammonite.$sess.cmd45$Helper.lengthR(\u001b[32mcmd45.sc\u001b[39m:\u001b[32m6\u001b[39m)\n  ammonite.$sess.cmd45$Helper.lengthR(\u001b[32mcmd45.sc\u001b[39m:\u001b[32m6\u001b[39m)\n  ammonite.$sess.cmd45$Helper.lengthR(\u001b[32mcmd45.sc\u001b[39m:\u001b[32m6\u001b[39m)\n  ammonite.$sess.cmd45$Helper.lengthR(\u001b[32mcmd45.sc\u001b[39m:\u001b[32m6\u001b[39m)\n  ammonite.$sess.cmd45$Helper.lengthR(\u001b[32mcmd45.sc\u001b[39m:\u001b[32m6\u001b[39m)\n  ammonite.$sess.cmd45$Helper.lengthR(\u001b[32mcmd45.sc\u001b[39m:\u001b[32m6\u001b[39m)\n  ammonite.$sess.cmd45$Helper.lengthR(\u001b[32mcmd45.sc\u001b[39m:\u001b[32m6\u001b[39m)\n  ammonite.$sess.cmd45$Helper.lengthR(\u001b[32mcmd45.sc\u001b[39m:\u001b[32m6\u001b[39m)\n  ammonite.$sess.cmd45$Helper.lengthR(\u001b[32mcmd45.sc\u001b[39m:\u001b[32m6\u001b[39m)\n  ammonite.$sess.cmd45$Helper.lengthR(\u001b[32mcmd45.sc\u001b[39m:\u001b[32m6\u001b[39m)\n  ammonite.$sess.cmd45$Helper.lengthR(\u001b[32mcmd45.sc\u001b[39m:\u001b[32m6\u001b[39m)\n  ammonite.$sess.cmd45$Helper.lengthR(\u001b[32mcmd45.sc\u001b[39m:\u001b[32m6\u001b[39m)\n  ammonite.$sess.cmd45$Helper.lengthR(\u001b[32mcmd45.sc\u001b[39m:\u001b[32m6\u001b[39m)\n  ammonite.$sess.cmd45$Helper.lengthR(\u001b[32mcmd45.sc\u001b[39m:\u001b[32m6\u001b[39m)\n  ammonite.$sess.cmd45$Helper.lengthR(\u001b[32mcmd45.sc\u001b[39m:\u001b[32m6\u001b[39m)\n  ammonite.$sess.cmd45$Helper.lengthR(\u001b[32mcmd45.sc\u001b[39m:\u001b[32m6\u001b[39m)\n  ammonite.$sess.cmd45$Helper.lengthR(\u001b[32mcmd45.sc\u001b[39m:\u001b[32m6\u001b[39m)\n  ammonite.$sess.cmd45$Helper.lengthR(\u001b[32mcmd45.sc\u001b[39m:\u001b[32m6\u001b[39m)\n  ammonite.$sess.cmd45$Helper.lengthR(\u001b[32mcmd45.sc\u001b[39m:\u001b[32m6\u001b[39m)\n  ammonite.$sess.cmd45$Helper.lengthR(\u001b[32mcmd45.sc\u001b[39m:\u001b[32m6\u001b[39m)\n  ammonite.$sess.cmd45$Helper.lengthR(\u001b[32mcmd45.sc\u001b[39m:\u001b[32m6\u001b[39m)\n  ammonite.$sess.cmd45$Helper.lengthR(\u001b[32mcmd45.sc\u001b[39m:\u001b[32m6\u001b[39m)\n  ammonite.$sess.cmd45$Helper.lengthR(\u001b[32mcmd45.sc\u001b[39m:\u001b[32m6\u001b[39m)\n  ammonite.$sess.cmd45$Helper.lengthR(\u001b[32mcmd45.sc\u001b[39m:\u001b[32m6\u001b[39m)\n  ammonite.$sess.cmd45$Helper.lengthR(\u001b[32mcmd45.sc\u001b[39m:\u001b[32m6\u001b[39m)\n  ammonite.$sess.cmd45$Helper.lengthR(\u001b[32mcmd45.sc\u001b[39m:\u001b[32m6\u001b[39m)\n  ammonite.$sess.cmd45$Helper.lengthR(\u001b[32mcmd45.sc\u001b[39m:\u001b[32m6\u001b[39m)\n  ammonite.$sess.cmd45$Helper.lengthR(\u001b[32mcmd45.sc\u001b[39m:\u001b[32m6\u001b[39m)\n  ammonite.$sess.cmd45$Helper.lengthR(\u001b[32mcmd45.sc\u001b[39m:\u001b[32m6\u001b[39m)\n  ammonite.$sess.cmd45$Helper.lengthR(\u001b[32mcmd45.sc\u001b[39m:\u001b[32m6\u001b[39m)\n  ammonite.$sess.cmd45$Helper.lengthR(\u001b[32mcmd45.sc\u001b[39m:\u001b[32m6\u001b[39m)\n  ammonite.$sess.cmd45$Helper.lengthR(\u001b[32mcmd45.sc\u001b[39m:\u001b[32m6\u001b[39m)\n  ammonite.$sess.cmd45$Helper.lengthR(\u001b[32mcmd45.sc\u001b[39m:\u001b[32m6\u001b[39m)\n  ammonite.$sess.cmd45$Helper.lengthR(\u001b[32mcmd45.sc\u001b[39m:\u001b[32m6\u001b[39m)"
     ]
    }
   ],
   "source": [
    "lengthR(biglist)"
   ]
  },
  {
   "cell_type": "code",
   "execution_count": null,
   "metadata": {},
   "outputs": [],
   "source": [
    "// Using recursive functions\n",
    "\n",
    "def lengthR[A](l: List[A]): Int = \n",
    "    l match {\n",
    "        case Nil => \n",
    "            0\n",
    "        case head :: tail =>\n",
    "            lengthR(tail) + 1\n",
    "    }"
   ]
  },
  {
   "cell_type": "code",
   "execution_count": 51,
   "metadata": {},
   "outputs": [
    {
     "data": {
      "text/plain": [
       "defined \u001b[32mfunction\u001b[39m \u001b[36mdyv\u001b[39m"
      ]
     },
     "execution_count": 51,
     "metadata": {},
     "output_type": "execute_result"
    }
   ],
   "source": [
    "// Using recursive functions\n",
    "\n",
    "def dyv[A, B](l: List[A])(atomic: B, \n",
    "                          compose: (B, A) => B): B = \n",
    "    l match {\n",
    "        case Nil => \n",
    "             atomic : B\n",
    "        case head :: tail =>\n",
    "            val tailSol: B = dyv(tail)(atomic, compose)\n",
    "            compose(tailSol, head) : B \n",
    "    }"
   ]
  },
  {
   "cell_type": "markdown",
   "metadata": {},
   "source": [
    "Some comments: \n",
    "- The recursive function is implemented in a _type-driven development_ style: we proceed, step-by-step, analysing the types of input data that we have available so far, and the types of output that we have to generate. This leads to a divide-and-conquer problem solving strategy and hugely facilitates the implementation.\n",
    "- The recursive function is less efficient, since the stack will blow up with lists of enough lenght."
   ]
  },
  {
   "cell_type": "markdown",
   "metadata": {},
   "source": [
    "### Tail-recursive functions"
   ]
  },
  {
   "cell_type": "markdown",
   "metadata": {},
   "source": [
    "The implementation using tail-recursion solves the problems with the stack. It commonly makes use of auxiliary functions:"
   ]
  },
  {
   "cell_type": "code",
   "execution_count": 51,
   "metadata": {},
   "outputs": [],
   "source": [
    "// Using tail-recursive functions\n",
    "\n"
   ]
  },
  {
   "cell_type": "code",
   "execution_count": null,
   "metadata": {},
   "outputs": [],
   "source": []
  },
  {
   "cell_type": "markdown",
   "metadata": {},
   "source": [
    "We can check the stack-safety problems of non-tail recursive functions, by calculating the length of a very big list. We will use the following function, which creates a constant list of given length."
   ]
  },
  {
   "cell_type": "code",
   "execution_count": 51,
   "metadata": {},
   "outputs": [],
   "source": [
    "// First, imperatively\n",
    "\n"
   ]
  },
  {
   "cell_type": "code",
   "execution_count": 51,
   "metadata": {},
   "outputs": [],
   "source": [
    "// Next, tail-recursively\n",
    "\n"
   ]
  },
  {
   "cell_type": "markdown",
   "metadata": {},
   "source": [
    "Now, let's calculate the length of a list long enough, using each of the three implementations:"
   ]
  },
  {
   "cell_type": "code",
   "execution_count": 51,
   "metadata": {},
   "outputs": [],
   "source": [
    "// Imperatively\n"
   ]
  },
  {
   "cell_type": "code",
   "execution_count": 51,
   "metadata": {},
   "outputs": [],
   "source": [
    "// Tail-recursive\n"
   ]
  },
  {
   "cell_type": "code",
   "execution_count": 51,
   "metadata": {},
   "outputs": [],
   "source": [
    "// Plain recursive\n"
   ]
  },
  {
   "cell_type": "markdown",
   "metadata": {},
   "source": [
    "### Unit testing with `scalatest`"
   ]
  },
  {
   "cell_type": "code",
   "execution_count": 1,
   "metadata": {},
   "outputs": [
    {
     "data": {
      "text/plain": [
       "\u001b[32mimport \u001b[39m\u001b[36m$ivy.$                               \n",
       "\u001b[39m\n",
       "\u001b[32mimport \u001b[39m\u001b[36morg.scalatest._\u001b[39m"
      ]
     },
     "execution_count": 1,
     "metadata": {},
     "output_type": "execute_result"
    }
   ],
   "source": [
    "import $ivy.`org.scalatest::scalatest:3.0.8`\n",
    "import org.scalatest._"
   ]
  },
  {
   "cell_type": "markdown",
   "metadata": {},
   "source": [
    "From now on, we will also make extensive use of unit testing for the different functions that we implement. And we will use the [`scalatest`](http://www.scalatest.org/) library for that purpose. In particular, for each function we will implement a test catalogue that test it against different test cases. For instance, this is a possible test class for the `length` function:"
   ]
  },
  {
   "cell_type": "code",
   "execution_count": 53,
   "metadata": {},
   "outputs": [
    {
     "data": {
      "text/plain": [
       "defined \u001b[32mclass\u001b[39m \u001b[36mLengthSpec\u001b[39m"
      ]
     },
     "execution_count": 53,
     "metadata": {},
     "output_type": "execute_result"
    }
   ],
   "source": [
    "class LengthSpec extends FlatSpec with Matchers{\n",
    "    \n",
    "    \"length of empty\" should \"work\" in { \n",
    "        lengthR(List()) shouldBe 0\n",
    "    }\n",
    "    \n",
    "    \"length of non-empty lists\" should \"work\" in {\n",
    "        lengthR(List(1)) shouldBe 1\n",
    "        lengthR(List(1,2,3,4)) shouldBe 4\n",
    "    }\n",
    "}\n"
   ]
  },
  {
   "cell_type": "code",
   "execution_count": 54,
   "metadata": {},
   "outputs": [
    {
     "data": {
      "text/plain": [
       "defined \u001b[32mclass\u001b[39m \u001b[36mLengthSpec\u001b[39m"
      ]
     },
     "execution_count": 54,
     "metadata": {},
     "output_type": "execute_result"
    }
   ],
   "source": [
    "class LengthSpec(lengthF: List[Int] => Int) \n",
    "extends FlatSpec with Matchers{\n",
    "    \n",
    "    \"length of empty\" should \"work\" in { \n",
    "        lengthF(List()) shouldBe 0\n",
    "    }\n",
    "    \n",
    "    \"length of non-empty lists\" should \"work\" in {\n",
    "        lengthF(List(1)) shouldBe 1\n",
    "        lengthF(List(1,2,3,4)) shouldBe 4\n",
    "    }\n",
    "}\n"
   ]
  },
  {
   "cell_type": "markdown",
   "metadata": {},
   "source": [
    "The method `shouldBe` is a _matcher_. The scalatest library offers an extensive catalogue of [them](http://www.scalatest.org/user_guide/using_matchers). Similarly, scalatest also support many different [testing styles](http://www.scalatest.org/user_guide/selecting_a_style). The chosen one here was `FlatSpec`. In order to execute the test catalogue we can simply use the scalatest method `run`:"
   ]
  },
  {
   "cell_type": "code",
   "execution_count": 56,
   "metadata": {},
   "outputs": [
    {
     "name": "stdout",
     "output_type": "stream",
     "text": [
      "\u001b[32mcmd53$Helper$LengthSpec:\u001b[0m\n",
      "\u001b[32mlength of empty\u001b[0m\n",
      "\u001b[32m- should work\u001b[0m\n",
      "\u001b[32mlength of non-empty lists\u001b[0m\n",
      "\u001b[32m- should work\u001b[0m\n",
      "\u001b[32mcmd53$Helper$LengthSpec:\u001b[0m\n",
      "\u001b[32mlength of empty\u001b[0m\n",
      "\u001b[32m- should work\u001b[0m\n",
      "\u001b[32mlength of non-empty lists\u001b[0m\n",
      "\u001b[32m- should work\u001b[0m\n",
      "\u001b[32mcmd53$Helper$LengthSpec:\u001b[0m\n",
      "\u001b[32mlength of empty\u001b[0m\n",
      "\u001b[32m- should work\u001b[0m\n",
      "\u001b[32mlength of non-empty lists\u001b[0m\n",
      "\u001b[32m- should work\u001b[0m\n"
     ]
    }
   ],
   "source": [
    "run(new LengthSpec(lengthTR[Int]))\n",
    "run(new LengthSpec((l: List[Int]) => lengthR(l)))\n",
    "run(new LengthSpec(lengthI))"
   ]
  },
  {
   "cell_type": "markdown",
   "metadata": {},
   "source": [
    "### Example: adding numbers"
   ]
  },
  {
   "cell_type": "markdown",
   "metadata": {},
   "source": [
    "Let's implement a function that sums all the numbers of a list."
   ]
  },
  {
   "cell_type": "code",
   "execution_count": 58,
   "metadata": {},
   "outputs": [
    {
     "data": {
      "text/plain": [
       "defined \u001b[32mclass\u001b[39m \u001b[36mTestSum\u001b[39m"
      ]
     },
     "execution_count": 58,
     "metadata": {},
     "output_type": "execute_result"
    }
   ],
   "source": [
    "class TestSum(sum: List[Int] => Int) \n",
    "extends FlatSpec with Matchers{\n",
    "    \"sum\" should \"work\" in {\n",
    "        sum(List()) shouldBe 0\n",
    "        sum(List(1)) shouldBe 1\n",
    "        sum(List(5)) shouldBe 5\n",
    "        sum(List(2,2,34,5)) shouldBe 43\n",
    "    }\n",
    "}"
   ]
  },
  {
   "cell_type": "code",
   "execution_count": 60,
   "metadata": {},
   "outputs": [
    {
     "data": {
      "text/plain": [
       "defined \u001b[32mfunction\u001b[39m \u001b[36msumR\u001b[39m"
      ]
     },
     "execution_count": 60,
     "metadata": {},
     "output_type": "execute_result"
    }
   ],
   "source": [
    "// Recursively\n",
    "def sumR(l: List[Int]): Int = \n",
    "    l match {\n",
    "        case Nil => \n",
    "            0 : Int\n",
    "        case head :: tail => \n",
    "            val tailSum: Int = sumR(tail)\n",
    "            tailSum + head : Int\n",
    "    }\n"
   ]
  },
  {
   "cell_type": "code",
   "execution_count": 61,
   "metadata": {},
   "outputs": [
    {
     "name": "stdout",
     "output_type": "stream",
     "text": [
      "\u001b[32mcmd57$Helper$TestSum:\u001b[0m\n",
      "\u001b[32msum\u001b[0m\n",
      "\u001b[32m- should work\u001b[0m\n"
     ]
    }
   ],
   "source": [
    "run(new TestSum(sumR))"
   ]
  },
  {
   "cell_type": "code",
   "execution_count": 62,
   "metadata": {},
   "outputs": [
    {
     "data": {
      "text/plain": [
       "defined \u001b[32mfunction\u001b[39m \u001b[36msumI\u001b[39m"
      ]
     },
     "execution_count": 62,
     "metadata": {},
     "output_type": "execute_result"
    }
   ],
   "source": [
    "// for-loops\n",
    "\n",
    "def sumI(l: List[Int]): Int = {\n",
    "    var out: Int = 0\n",
    "    for (e <- l)\n",
    "        out = out + e\n",
    "    out\n",
    "}"
   ]
  },
  {
   "cell_type": "code",
   "execution_count": 63,
   "metadata": {},
   "outputs": [
    {
     "name": "stdout",
     "output_type": "stream",
     "text": [
      "\u001b[32mcmd57$Helper$TestSum:\u001b[0m\n",
      "\u001b[32msum\u001b[0m\n",
      "\u001b[32m- should work\u001b[0m\n"
     ]
    }
   ],
   "source": [
    "run(new TestSum(sumI))"
   ]
  },
  {
   "cell_type": "code",
   "execution_count": 70,
   "metadata": {},
   "outputs": [
    {
     "data": {
      "text/plain": [
       "defined \u001b[32mfunction\u001b[39m \u001b[36msumTR\u001b[39m"
      ]
     },
     "execution_count": 70,
     "metadata": {},
     "output_type": "execute_result"
    }
   ],
   "source": [
    "// With tail-recursion\n",
    "\n",
    "def sumTR(list: List[Int]): Int = {\n",
    "    \n",
    "    def aux(out: Int, l: List[Int]): Int = \n",
    "        l match {\n",
    "            case Nil => out\n",
    "            case e :: tail => \n",
    "                aux(out + e, tail)\n",
    "        }\n",
    "    \n",
    "    aux(0, list)\n",
    "    /*\n",
    "    var out: Int = 0\n",
    "    for (e <- l)\n",
    "        out = out + e\n",
    "    out*/\n",
    "}"
   ]
  },
  {
   "cell_type": "code",
   "execution_count": 69,
   "metadata": {},
   "outputs": [
    {
     "name": "stdout",
     "output_type": "stream",
     "text": [
      "\u001b[32mcmd57$Helper$TestSum:\u001b[0m\n",
      "\u001b[32msum\u001b[0m\n",
      "\u001b[31m- should work *** FAILED ***\u001b[0m\n",
      "\u001b[31m  0 was not equal to 1 (cmd57.sc:5)\u001b[0m\n"
     ]
    }
   ],
   "source": [
    "run(new TestSum(sumTR))"
   ]
  },
  {
   "cell_type": "markdown",
   "metadata": {},
   "source": [
    "### Example: multiplying list elements"
   ]
  },
  {
   "cell_type": "markdown",
   "metadata": {},
   "source": [
    "Let's multiply the elements of a list. If the list is empty we return the identity element for integers."
   ]
  },
  {
   "cell_type": "code",
   "execution_count": 78,
   "metadata": {},
   "outputs": [
    {
     "data": {
      "text/plain": [
       "defined \u001b[32mclass\u001b[39m \u001b[36mTestProduct\u001b[39m"
      ]
     },
     "execution_count": 78,
     "metadata": {},
     "output_type": "execute_result"
    }
   ],
   "source": [
    "class TestProduct(product: List[Int] => Int) \n",
    "extends FlatSpec with Matchers{\n",
    "    \"product\" should \"work\" in {\n",
    "        product(List()) shouldBe 1\n",
    "        product(List(4)) shouldBe 4\n",
    "        product(List(1,2,3,4)) shouldBe 24\n",
    "        product(List(1,0,3,4)) shouldBe 0\n",
    "        // List(1,2,3,.....,0,4,5,5,6,7,.....)\n",
    "    }\n",
    "}"
   ]
  },
  {
   "cell_type": "markdown",
   "metadata": {},
   "source": [
    "This is the common recursive implementation:"
   ]
  },
  {
   "cell_type": "code",
   "execution_count": 79,
   "metadata": {},
   "outputs": [
    {
     "data": {
      "text/plain": [
       "defined \u001b[32mfunction\u001b[39m \u001b[36mproductR\u001b[39m"
      ]
     },
     "execution_count": 79,
     "metadata": {},
     "output_type": "execute_result"
    }
   ],
   "source": [
    "def productR(l: List[Int]): Int = \n",
    "    l match {\n",
    "        case Nil => \n",
    "            1 : Int\n",
    "        case head :: tail => \n",
    "            val tailProduct: Int = productR(tail)\n",
    "            tailProduct * head : Int\n",
    "    }\n"
   ]
  },
  {
   "cell_type": "code",
   "execution_count": 80,
   "metadata": {},
   "outputs": [
    {
     "data": {
      "text/plain": [
       "defined \u001b[32mfunction\u001b[39m \u001b[36mproductROpt\u001b[39m"
      ]
     },
     "execution_count": 80,
     "metadata": {},
     "output_type": "execute_result"
    }
   ],
   "source": [
    "def productROpt(l: List[Int]): Int = \n",
    "    l match {\n",
    "        case Nil => \n",
    "            1 : Int\n",
    "        case head :: tail => \n",
    "            if (head == 0) 0\n",
    "            else productROpt(tail) * head\n",
    "    }\n"
   ]
  },
  {
   "cell_type": "code",
   "execution_count": 80,
   "metadata": {},
   "outputs": [
    {
     "data": {
      "text/plain": [
       "defined \u001b[32mfunction\u001b[39m \u001b[36mproductROpt\u001b[39m"
      ]
     },
     "execution_count": 80,
     "metadata": {},
     "output_type": "execute_result"
    }
   ],
   "source": [
    "def productROpt(l: List[Int]): Int = \n",
    "    l match {\n",
    "        case Nil => \n",
    "            1 : Int\n",
    "        case head :: tail if (head == 0) => \n",
    "            0\n",
    "        case head :: tail => \n",
    "            productROpt(tail) * head\n",
    "    }\n"
   ]
  },
  {
   "cell_type": "code",
   "execution_count": 82,
   "metadata": {},
   "outputs": [
    {
     "data": {
      "text/plain": [
       "defined \u001b[32mfunction\u001b[39m \u001b[36mproductROpt\u001b[39m"
      ]
     },
     "execution_count": 82,
     "metadata": {},
     "output_type": "execute_result"
    }
   ],
   "source": [
    "def productROpt(l: List[Int]): Int = \n",
    "    l match {\n",
    "        case Nil => \n",
    "            1 : Int\n",
    "        case 0 :: tail => \n",
    "            0\n",
    "        case head :: tail => \n",
    "            productROpt(tail) * head\n",
    "    }\n"
   ]
  },
  {
   "cell_type": "markdown",
   "metadata": {},
   "source": [
    "It works as expected: "
   ]
  },
  {
   "cell_type": "code",
   "execution_count": 81,
   "metadata": {},
   "outputs": [
    {
     "name": "stdout",
     "output_type": "stream",
     "text": [
      "\u001b[32mcmd77$Helper$TestProduct:\u001b[0m\n",
      "\u001b[32mproduct\u001b[0m\n",
      "\u001b[32m- should work\u001b[0m\n",
      "\u001b[32mcmd77$Helper$TestProduct:\u001b[0m\n",
      "\u001b[32mproduct\u001b[0m\n",
      "\u001b[32m- should work\u001b[0m\n"
     ]
    }
   ],
   "source": [
    "run(new TestProduct(productR))\n",
    "run(new TestProduct(productROpt))"
   ]
  },
  {
   "cell_type": "markdown",
   "metadata": {},
   "source": [
    "But we can optimize the function a little bit. Note that if the number 0 belongs to the list, then the result is 0, no matter how many elements the list has. So, once we find the element 0 it's a waste of resources to make the recursive call. Let's take this into account."
   ]
  },
  {
   "cell_type": "code",
   "execution_count": null,
   "metadata": {},
   "outputs": [],
   "source": [
    "/*def product(list: List[Int]): Int =\n",
    "    list match {\n",
    "        case Nil => 1\n",
    "        case head :: tail => head * product(tail)\n",
    "    }\n",
    "    */"
   ]
  },
  {
   "cell_type": "code",
   "execution_count": 83,
   "metadata": {},
   "outputs": [
    {
     "data": {
      "text/plain": [
       "defined \u001b[32mfunction\u001b[39m \u001b[36mproductTR\u001b[39m"
      ]
     },
     "execution_count": 83,
     "metadata": {},
     "output_type": "execute_result"
    }
   ],
   "source": [
    "def productTR(list: List[Int]): Int = {\n",
    "    def aux(out: Int, l: List[Int]): Int = \n",
    "        l match {\n",
    "            case Nil => out\n",
    "            case e :: tail => \n",
    "                aux(out * e, tail)\n",
    "        }\n",
    "    \n",
    "    aux(1, list)\n",
    "}"
   ]
  },
  {
   "cell_type": "code",
   "execution_count": 84,
   "metadata": {},
   "outputs": [
    {
     "data": {
      "text/plain": [
       "defined \u001b[32mfunction\u001b[39m \u001b[36mproductTROpt\u001b[39m"
      ]
     },
     "execution_count": 84,
     "metadata": {},
     "output_type": "execute_result"
    }
   ],
   "source": [
    "def productTROpt(list: List[Int]): Int = {\n",
    "    def aux(out: Int, l: List[Int]): Int = \n",
    "        l match {\n",
    "            case Nil => out\n",
    "            case 0 :: tail => 0\n",
    "            case e :: tail => \n",
    "                aux(out * e, tail)\n",
    "        }\n",
    "    \n",
    "    aux(1, list)\n",
    "}"
   ]
  },
  {
   "cell_type": "code",
   "execution_count": 85,
   "metadata": {},
   "outputs": [
    {
     "name": "stdout",
     "output_type": "stream",
     "text": [
      "\u001b[32mcmd77$Helper$TestProduct:\u001b[0m\n",
      "\u001b[32mproduct\u001b[0m\n",
      "\u001b[32m- should work\u001b[0m\n"
     ]
    }
   ],
   "source": [
    "run(new TestProduct(productTROpt))"
   ]
  },
  {
   "cell_type": "markdown",
   "metadata": {},
   "source": [
    "A similar optimization can be made for the tail-recursive implementation."
   ]
  },
  {
   "cell_type": "markdown",
   "metadata": {},
   "source": [
    "### Example: membership"
   ]
  },
  {
   "cell_type": "markdown",
   "metadata": {},
   "source": [
    "Let's implement a function that given a list and an element, returns whether the element belongs to that list."
   ]
  },
  {
   "cell_type": "code",
   "execution_count": 87,
   "metadata": {},
   "outputs": [
    {
     "data": {
      "text/plain": [
       "defined \u001b[32mclass\u001b[39m \u001b[36mTestMember\u001b[39m"
      ]
     },
     "execution_count": 87,
     "metadata": {},
     "output_type": "execute_result"
    }
   ],
   "source": [
    "class TestMember(member: (List[Int], Int) => Boolean)\n",
    "extends FlatSpec with Matchers{\n",
    "    \"member\" should \"work\" in {\n",
    "        member(List(1,2,3), 1) shouldBe true\n",
    "        member(List(1,2,3), 2) shouldBe true\n",
    "        member(List(1,2,3), 4) shouldBe false\n",
    "        member(List(), 3) shouldBe false\n",
    "    }\n",
    "}"
   ]
  },
  {
   "cell_type": "code",
   "execution_count": 89,
   "metadata": {},
   "outputs": [
    {
     "data": {
      "text/plain": [
       "defined \u001b[32mfunction\u001b[39m \u001b[36mmemberR\u001b[39m"
      ]
     },
     "execution_count": 89,
     "metadata": {},
     "output_type": "execute_result"
    }
   ],
   "source": [
    "def memberR[A](l: List[A], e: A): Boolean = \n",
    "    l match {\n",
    "        case Nil => \n",
    "            false\n",
    "        case head :: tail => \n",
    "            val tailMember: Boolean = memberR(tail, e)\n",
    "            (head == e) || tailMember\n",
    "    }"
   ]
  },
  {
   "cell_type": "code",
   "execution_count": 91,
   "metadata": {},
   "outputs": [
    {
     "data": {
      "text/plain": [
       "defined \u001b[32mfunction\u001b[39m \u001b[36mmemberR\u001b[39m"
      ]
     },
     "execution_count": 91,
     "metadata": {},
     "output_type": "execute_result"
    }
   ],
   "source": [
    "def memberR[A](l: List[A], e: A): Boolean = \n",
    "    l match {\n",
    "        case Nil => \n",
    "            false\n",
    "        case head :: tail => \n",
    "            if (head == e) true\n",
    "            else {\n",
    "                val tailMember: Boolean = memberR(tail, e)\n",
    "                tailMember\n",
    "            }\n",
    "    }"
   ]
  },
  {
   "cell_type": "code",
   "execution_count": 93,
   "metadata": {},
   "outputs": [
    {
     "data": {
      "text/plain": [
       "defined \u001b[32mfunction\u001b[39m \u001b[36mmemberR\u001b[39m"
      ]
     },
     "execution_count": 93,
     "metadata": {},
     "output_type": "execute_result"
    }
   ],
   "source": [
    "def memberR[A](l: List[A], e: A): Boolean = \n",
    "    l match {\n",
    "        case Nil => false\n",
    "        case head :: tail if head == e => true\n",
    "        case head :: tail => memberR(tail, e)\n",
    "    }"
   ]
  },
  {
   "cell_type": "code",
   "execution_count": 98,
   "metadata": {},
   "outputs": [
    {
     "name": "stdout",
     "output_type": "stream",
     "text": [
      "2\n"
     ]
    },
    {
     "data": {
      "text/plain": [
       "\u001b[36me\u001b[39m: \u001b[32mInt\u001b[39m = \u001b[32m1\u001b[39m"
      ]
     },
     "execution_count": 98,
     "metadata": {},
     "output_type": "execute_result"
    }
   ],
   "source": [
    "{ val e = 1 ; \n",
    "    { val e = 2\n",
    "        println(e)\n",
    "    }\n",
    "}"
   ]
  },
  {
   "cell_type": "code",
   "execution_count": 99,
   "metadata": {},
   "outputs": [
    {
     "data": {
      "text/plain": [
       "defined \u001b[32mfunction\u001b[39m \u001b[36mmemberR\u001b[39m"
      ]
     },
     "execution_count": 99,
     "metadata": {},
     "output_type": "execute_result"
    }
   ],
   "source": [
    "def memberR[A](l: List[A], e: A): Boolean = \n",
    "    l match {\n",
    "        case Nil => false\n",
    "        case `e` :: tail => true\n",
    "        case head :: tail => memberR(tail, e)\n",
    "    }"
   ]
  },
  {
   "cell_type": "code",
   "execution_count": 100,
   "metadata": {},
   "outputs": [
    {
     "name": "stdout",
     "output_type": "stream",
     "text": [
      "\u001b[32mcmd86$Helper$TestMember:\u001b[0m\n",
      "\u001b[32mmember\u001b[0m\n",
      "\u001b[32m- should work\u001b[0m\n"
     ]
    }
   ],
   "source": [
    "run(new TestMember(memberR))"
   ]
  },
  {
   "cell_type": "markdown",
   "metadata": {},
   "source": [
    "We can also pattern match against a specific value as follows:"
   ]
  },
  {
   "cell_type": "code",
   "execution_count": null,
   "metadata": {},
   "outputs": [],
   "source": []
  },
  {
   "cell_type": "markdown",
   "metadata": {},
   "source": [
    "### Example: last element"
   ]
  },
  {
   "cell_type": "markdown",
   "metadata": {},
   "source": [
    "Let's implement a function that returns the last element of a given list. Note that an empty list does not have elements, and, hence, does not have a last element."
   ]
  },
  {
   "cell_type": "code",
   "execution_count": 102,
   "metadata": {},
   "outputs": [
    {
     "data": {
      "text/plain": [
       "defined \u001b[32mclass\u001b[39m \u001b[36mTestLast\u001b[39m"
      ]
     },
     "execution_count": 102,
     "metadata": {},
     "output_type": "execute_result"
    }
   ],
   "source": [
    "class TestLast(last: List[Int] => Option[Int]) \n",
    "extends FlatSpec with Matchers{\n",
    "    \"last\" should \"work\" in {\n",
    "        last(List(1,2,3)) shouldBe Some(3)\n",
    "        last(List(1,2)) shouldBe Some(2)\n",
    "        last(List(1)) shouldBe Some(1)\n",
    "        last(Nil) shouldBe None\n",
    "    }\n",
    "}"
   ]
  },
  {
   "cell_type": "code",
   "execution_count": 107,
   "metadata": {},
   "outputs": [
    {
     "data": {
      "text/plain": [
       "defined \u001b[32mfunction\u001b[39m \u001b[36mlastR\u001b[39m"
      ]
     },
     "execution_count": 107,
     "metadata": {},
     "output_type": "execute_result"
    }
   ],
   "source": [
    "def lastR(l: List[Int]): Option[Int] = \n",
    "    l match {\n",
    "        case Nil => \n",
    "            None\n",
    "        case head :: tail =>\n",
    "            if (tail == Nil) Some(head)\n",
    "            else {\n",
    "                val tailLast: Option[Int] = lastR(tail)\n",
    "                tailLast\n",
    "            }\n",
    "    }"
   ]
  },
  {
   "cell_type": "code",
   "execution_count": 111,
   "metadata": {},
   "outputs": [
    {
     "data": {
      "text/plain": [
       "defined \u001b[32mfunction\u001b[39m \u001b[36mlastR\u001b[39m"
      ]
     },
     "execution_count": 111,
     "metadata": {},
     "output_type": "execute_result"
    }
   ],
   "source": [
    "def lastR(l: List[Int]): Option[Int] = \n",
    "    l match {\n",
    "        case Nil => None\n",
    "        case head :: Nil => Some(head)\n",
    "        case _ :: tail => lastR(tail)\n",
    "    }"
   ]
  },
  {
   "cell_type": "code",
   "execution_count": 112,
   "metadata": {},
   "outputs": [
    {
     "name": "stdout",
     "output_type": "stream",
     "text": [
      "\u001b[32mcmd101$Helper$TestLast:\u001b[0m\n",
      "\u001b[32mlast\u001b[0m\n",
      "\u001b[32m- should work\u001b[0m\n"
     ]
    }
   ],
   "source": [
    "run(new TestLast(lastR))"
   ]
  },
  {
   "cell_type": "markdown",
   "metadata": {},
   "source": [
    "### Example: insert last"
   ]
  },
  {
   "cell_type": "markdown",
   "metadata": {},
   "source": [
    "Now, a function that allows us to insert an element at the end of the list. "
   ]
  },
  {
   "cell_type": "code",
   "execution_count": null,
   "metadata": {},
   "outputs": [],
   "source": [
    "object TestInsertLast extends FlatSpec with Matchers{\n",
    "    \"insertLast\" should \"work\" in {\n",
    "    }\n",
    "}"
   ]
  },
  {
   "cell_type": "code",
   "execution_count": null,
   "metadata": {},
   "outputs": [],
   "source": []
  },
  {
   "cell_type": "code",
   "execution_count": null,
   "metadata": {},
   "outputs": [],
   "source": [
    "run(TestInsertLast)"
   ]
  },
  {
   "cell_type": "markdown",
   "metadata": {},
   "source": [
    "### Example: reverse lists"
   ]
  },
  {
   "cell_type": "markdown",
   "metadata": {},
   "source": [
    "Implement a function which receives a list and returns its reverse."
   ]
  },
  {
   "cell_type": "code",
   "execution_count": 5,
   "metadata": {},
   "outputs": [
    {
     "data": {
      "text/plain": [
       "\u001b[36mres4\u001b[39m: \u001b[32mList\u001b[39m[\u001b[32mInt\u001b[39m] = \u001b[33mList\u001b[39m(\u001b[32m1\u001b[39m, \u001b[32m2\u001b[39m, \u001b[32m3\u001b[39m, \u001b[32m4\u001b[39m)"
      ]
     },
     "execution_count": 5,
     "metadata": {},
     "output_type": "execute_result"
    }
   ],
   "source": [
    "List(1,2,3) :+ 4"
   ]
  },
  {
   "cell_type": "code",
   "execution_count": 6,
   "metadata": {},
   "outputs": [
    {
     "data": {
      "text/plain": [
       "defined \u001b[32mclass\u001b[39m \u001b[36mTestReverse\u001b[39m"
      ]
     },
     "execution_count": 6,
     "metadata": {},
     "output_type": "execute_result"
    }
   ],
   "source": [
    "class TestReverse(reverse: List[Int] => List[Int]) extends FlatSpec with Matchers{\n",
    "    \"reverse\" should \"work\" in {\n",
    "        reverse(1::List(2,3,4)) shouldBe List(4,3,2) :+ 1\n",
    "        reverse(List(1,2,3,2,1)) shouldBe List(1,2,3,2,1)\n",
    "        reverse(List()) shouldBe List()\n",
    "    }\n",
    "}"
   ]
  },
  {
   "cell_type": "code",
   "execution_count": 8,
   "metadata": {},
   "outputs": [
    {
     "data": {
      "text/plain": [
       "defined \u001b[32mfunction\u001b[39m \u001b[36mreverseR\u001b[39m"
      ]
     },
     "execution_count": 8,
     "metadata": {},
     "output_type": "execute_result"
    }
   ],
   "source": [
    "// Recursively: Really inefficient \n",
    "def reverseR(l: List[Int]): List[Int] =  \n",
    "    l match {\n",
    "        case Nil => List() : List[Int]\n",
    "        case head :: tail => \n",
    "            val tailReverse: List[Int] = reverseR(tail) \n",
    "            tailReverse :+ head : List[Int] \n",
    "    }"
   ]
  },
  {
   "cell_type": "code",
   "execution_count": 9,
   "metadata": {},
   "outputs": [
    {
     "name": "stdout",
     "output_type": "stream",
     "text": [
      "\u001b[32mcmd5$Helper$TestReverse:\u001b[0m\n",
      "\u001b[32mreverse\u001b[0m\n",
      "\u001b[32m- should work\u001b[0m\n"
     ]
    }
   ],
   "source": [
    "run(new TestReverse(reverseR))"
   ]
  },
  {
   "cell_type": "code",
   "execution_count": 10,
   "metadata": {},
   "outputs": [
    {
     "data": {
      "text/plain": [
       "defined \u001b[32mfunction\u001b[39m \u001b[36mreverseTR\u001b[39m"
      ]
     },
     "execution_count": 10,
     "metadata": {},
     "output_type": "execute_result"
    }
   ],
   "source": [
    "// Tail-recursive, efficiently\n",
    "def reverseTR(list: List[Int]): List[Int] = {\n",
    "    def aux(out: List[Int], l: List[Int]): List[Int] = \n",
    "        l match {\n",
    "            case Nil => out\n",
    "            case head :: tail => \n",
    "                aux(head :: out, tail)\n",
    "        }\n",
    "\n",
    "    aux(List(), list)\n",
    "}"
   ]
  },
  {
   "cell_type": "code",
   "execution_count": 11,
   "metadata": {},
   "outputs": [
    {
     "name": "stdout",
     "output_type": "stream",
     "text": [
      "\u001b[32mcmd5$Helper$TestReverse:\u001b[0m\n",
      "\u001b[32mreverse\u001b[0m\n",
      "\u001b[32m- should work\u001b[0m\n"
     ]
    }
   ],
   "source": [
    "run(new TestReverse(reverseTR))"
   ]
  },
  {
   "cell_type": "markdown",
   "metadata": {},
   "source": [
    "### Example: concatenate lists"
   ]
  },
  {
   "cell_type": "markdown",
   "metadata": {},
   "source": [
    "Let's implement this function step-by-step, following the types. We start from the signature of the desired function:"
   ]
  },
  {
   "cell_type": "code",
   "execution_count": null,
   "metadata": {},
   "outputs": [],
   "source": [
    "object TestConcatenate extends FlatSpec with Matchers{\n",
    "    \"concatenate\" should \"work\" in {\n",
    "    }\n",
    "}"
   ]
  },
  {
   "cell_type": "code",
   "execution_count": null,
   "metadata": {},
   "outputs": [],
   "source": [
    "// Recursive"
   ]
  },
  {
   "cell_type": "code",
   "execution_count": null,
   "metadata": {},
   "outputs": [],
   "source": [
    "run(TestConcatenate)"
   ]
  },
  {
   "cell_type": "code",
   "execution_count": null,
   "metadata": {},
   "outputs": [],
   "source": [
    "// Tail-recursive"
   ]
  },
  {
   "cell_type": "code",
   "execution_count": null,
   "metadata": {},
   "outputs": [],
   "source": [
    "run(TestConcatenate)"
   ]
  }
 ],
 "metadata": {
  "kernelspec": {
   "display_name": "Scala",
   "language": "scala",
   "name": "scala"
  },
  "language_info": {
   "codemirror_mode": "text/x-scala",
   "file_extension": ".sc",
   "mimetype": "text/x-scala",
   "name": "scala",
   "nbconvert_exporter": "script",
   "version": "2.13.1"
  }
 },
 "nbformat": 4,
 "nbformat_minor": 2
}
