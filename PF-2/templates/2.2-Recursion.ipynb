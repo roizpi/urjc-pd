{
 "cells": [
  {
   "cell_type": "markdown",
   "metadata": {},
   "source": [
    "# Recursive data types and functions"
   ]
  },
  {
   "cell_type": "markdown",
   "metadata": {},
   "source": [
    "## Recursive types"
   ]
  },
  {
   "cell_type": "markdown",
   "metadata": {},
   "source": [
    "### The `List` type"
   ]
  },
  {
   "cell_type": "markdown",
   "metadata": {},
   "source": [
    "Lists are data structures which represent sequences of values of the same type, of finite length. They can be defined recursively in an informal way as follows: \n",
    "- A list is the empty sequence\n",
    "- A list is a non-empty sequence made of a value and another list, which represent the head and tail of the list, respectively\n",
    "\n",
    "Thus, the type `IntList`, which represents lists of integers, must satisfy the following algebraic equation:\n",
    "\n",
    "`type IntList = 1 + Int * IntList`\n",
    "\n",
    "i.e., a list of integers is the empty sequence (represented by the singleton type `1`), or an integer (the head) and a list (its tail).\n",
    "\n"
   ]
  },
  {
   "cell_type": "markdown",
   "metadata": {},
   "source": [
    "The implementation in Scala is similar to the following one (we also give the generic version `List[A]`, rather than the implementation of `IntList`):"
   ]
  },
  {
   "cell_type": "code",
   "execution_count": null,
   "metadata": {},
   "outputs": [],
   "source": [
    "object StdDefinition {\n",
    "    // type Option[T] = 1 + T\n",
    "    // type Either[S, T] = S + T \n",
    "    // type List[T] = 1 + T * List[T]\n",
    "    //              = 1+T*(1+T*List[T])=1+T*1+T*T*List[T]=1+T+T^2*List[T]\n",
    "    //              = 1 + T + T^2 + T^3 + T^4 + ...\n",
    "}"
   ]
  },
  {
   "cell_type": "markdown",
   "metadata": {},
   "source": [
    "However the actual implementation of [immutable lists](https://github.com/scala/scala/blob/v2.13.1/src/library/scala/collection/immutable/List.scala#L79) in the standard library of Scala defines the empty list as an object, rather than a class. This forces us to declare the list covariantly in its generic parameter `A`, which is somewhat inconvenient at times.  The standard definition looks like as follows:"
   ]
  },
  {
   "cell_type": "code",
   "execution_count": 0,
   "metadata": {},
   "outputs": [
    {
     "name": "stderr",
     "output_type": "stream",
     "text": [
      "cmd0.sc:1: type mismatch;\n",
      " found   : Int(1)\n",
      " required: String\n",
      "val s: String = 1\n",
      "                ^Compilation Failed"
     ]
    },
    {
     "ename": "",
     "evalue": "",
     "output_type": "error",
     "traceback": [
      "Compilation Failed"
     ]
    }
   ],
   "source": [
    "val s: String = 1"
   ]
  },
  {
   "cell_type": "code",
   "execution_count": 1,
   "metadata": {},
   "outputs": [
    {
     "data": {
      "text/plain": [
       "defined \u001b[32mfunction\u001b[39m \u001b[36mfoo\u001b[39m"
      ]
     },
     "execution_count": 1,
     "metadata": {},
     "output_type": "execute_result"
    }
   ],
   "source": [
    "def foo(n: Nothing): Int = n"
   ]
  },
  {
   "cell_type": "code",
   "execution_count": 2,
   "metadata": {},
   "outputs": [
    {
     "data": {
      "text/plain": [
       "defined \u001b[32mobject\u001b[39m \u001b[36mActualStdDefinition\u001b[39m"
      ]
     },
     "execution_count": 2,
     "metadata": {},
     "output_type": "execute_result"
    }
   ],
   "source": [
    "object ActualStdDefinition{\n",
    "    sealed abstract class MiList[T]\n",
    "    case class Empty[T](u: Unit) extends MiList[T]\n",
    "    case class NonEmpty[T](head: T, tail: MiList[T]) extends MiList[T]\n",
    "    \n",
    "    sealed abstract class List[+T]\n",
    "    case object Nil extends List[Nothing]\n",
    "    case class ::[T](head: T, tail: List[T]) extends List[T]\n",
    "    \n",
    "    val l3: List[Int] = Nil : List[Nothing]\n",
    "    val l2: List[Int] = ::[Int](1, \n",
    "                                ::(2, \n",
    "                                   ::[Int](3, \n",
    "                                           Nil: List[Int]\n",
    "                                    )\n",
    "                                )\n",
    "                        )\n",
    "    \n",
    "    // l = [1,2,3]\n",
    "    val l: MiList[Int] = \n",
    "        NonEmpty(1, NonEmpty(2, NonEmpty(3, Empty())))\n",
    "}"
   ]
  },
  {
   "cell_type": "markdown",
   "metadata": {},
   "source": [
    "### Some syntactic sugar"
   ]
  },
  {
   "cell_type": "markdown",
   "metadata": {},
   "source": [
    "Note that we can write standard lists with a more compact syntax: "
   ]
  },
  {
   "cell_type": "code",
   "execution_count": null,
   "metadata": {},
   "outputs": [],
   "source": [
    "// Less beautifully \n",
    "\n",
    "\n",
    "\n",
    "// More idiomatically\n",
    "\n",
    "val l = List(1,2,3)\n",
    "val l2: List[Int] =  1 :: 2 :: 3 :: Nil\n",
    "val l3: List[Int] = ::(1, ::(2, ::(3, Nil)))"
   ]
  },
  {
   "cell_type": "code",
   "execution_count": null,
   "metadata": {},
   "outputs": [],
   "source": []
  },
  {
   "cell_type": "markdown",
   "metadata": {},
   "source": [
    "And can also pattern match lists, similarly:"
   ]
  },
  {
   "cell_type": "code",
   "execution_count": 5,
   "metadata": {},
   "outputs": [
    {
     "data": {
      "text/plain": [
       "\u001b[36mo\u001b[39m: \u001b[32mOption\u001b[39m[\u001b[32mInt\u001b[39m] = \u001b[33mSome\u001b[39m(\u001b[32m1\u001b[39m)\n",
       "\u001b[36mres4_1\u001b[39m: \u001b[32mString\u001b[39m = \u001b[32m\"\"\u001b[39m\n",
       "\u001b[36me\u001b[39m: \u001b[32mEither\u001b[39m[\u001b[32mInt\u001b[39m, \u001b[32mString\u001b[39m] = \u001b[33mLeft\u001b[39m(\u001b[32m1\u001b[39m)\n",
       "\u001b[36mres4_3\u001b[39m: \u001b[32mString\u001b[39m = \u001b[32m\"\"\u001b[39m\n",
       "\u001b[36ml\u001b[39m: \u001b[32mList\u001b[39m[\u001b[32mInt\u001b[39m] = \u001b[33mList\u001b[39m(\u001b[32m1\u001b[39m, \u001b[32m2\u001b[39m, \u001b[32m3\u001b[39m)\n",
       "\u001b[36mres4_5\u001b[39m: \u001b[32mString\u001b[39m = \u001b[32m\"nonempty\"\u001b[39m\n",
       "\u001b[36ml2\u001b[39m: \u001b[32mList\u001b[39m[\u001b[32mInt\u001b[39m] = \u001b[33mList\u001b[39m(\u001b[32m1\u001b[39m, \u001b[32m2\u001b[39m, \u001b[32m3\u001b[39m)\n",
       "\u001b[36mres4_7\u001b[39m: \u001b[32mString\u001b[39m = \u001b[32m\"nonempty\"\u001b[39m"
      ]
     },
     "execution_count": 5,
     "metadata": {},
     "output_type": "execute_result"
    }
   ],
   "source": [
    "// Less beautifully\n",
    "\n",
    "// more idiomatically\n",
    "\n",
    "val o: Option[Int] = Some(1)\n",
    "o match {\n",
    "    case None => \"\" \n",
    "    case Some(i) => \"\" \n",
    "}\n",
    "\n",
    "val e: Either[Int, String] = Left(1)\n",
    "e match {\n",
    "    case Left(i: Int) => \"\"\n",
    "    case Right(s: String) => \"\"\n",
    "}\n",
    "\n",
    "val l: List[Int] = List(1,2,3)\n",
    "l match {\n",
    "    case Nil => \"empty\" \n",
    "    case ::(head: Int, tail: List[Int]) => \"nonempty\"\n",
    "}\n",
    "\n",
    "val l2: List[Int] = List(1,2,3)\n",
    "l match {\n",
    "    case Nil => \"empty\" \n",
    "    case head :: tail => \"nonempty\"\n",
    "}\n",
    "\n",
    "// or\n"
   ]
  },
  {
   "cell_type": "markdown",
   "metadata": {},
   "source": [
    "##  Recursive functions"
   ]
  },
  {
   "cell_type": "markdown",
   "metadata": {},
   "source": [
    "Since lists are defined recursively, functions over lists will be commonly recursive as well. For instance, let's implement a recursive function that computes the length of a list. But before, let's implement the function imperatively for the sake of comparison:"
   ]
  },
  {
   "cell_type": "code",
   "execution_count": 16,
   "metadata": {},
   "outputs": [
    {
     "data": {
      "text/plain": [
       "defined \u001b[32mfunction\u001b[39m \u001b[36mlengthI\u001b[39m"
      ]
     },
     "execution_count": 16,
     "metadata": {},
     "output_type": "execute_result"
    }
   ],
   "source": [
    "// Using mutable variables\n",
    "\n",
    "def lengthI[T](list: List[T]): Int = {\n",
    "    var out: Int = 0\n",
    "    for (e <- list)\n",
    "        out = out + 1\n",
    "    return out\n",
    "}\n",
    "    "
   ]
  },
  {
   "cell_type": "code",
   "execution_count": 28,
   "metadata": {},
   "outputs": [
    {
     "data": {
      "text/plain": [
       "\u001b[32mimport \u001b[39m\u001b[36mscala.annotation.tailrec\n",
       "\u001b[39m\n",
       "defined \u001b[32mfunction\u001b[39m \u001b[36mlengthTR\u001b[39m"
      ]
     },
     "execution_count": 28,
     "metadata": {},
     "output_type": "execute_result"
    }
   ],
   "source": [
    "// Using mutable variables\n",
    "import scala.annotation.tailrec\n",
    "def lengthTR[T](list: List[T]): Int = {\n",
    "    \n",
    "    @tailrec\n",
    "    def aux(out: Int, l: List[T]): Int = \n",
    "        l match {\n",
    "            case Nil => out\n",
    "            case e :: tail => \n",
    "                aux(out+1, tail)\n",
    "        }\n",
    "    \n",
    "    aux(0, list)\n",
    "    /*\n",
    "    var out: Int = 0\n",
    "    for (e <- list)\n",
    "        out = out + 1\n",
    "    return out\n",
    "    */\n",
    "}\n",
    "    "
   ]
  },
  {
   "cell_type": "code",
   "execution_count": 17,
   "metadata": {},
   "outputs": [
    {
     "data": {
      "text/plain": [
       "\u001b[36mres16_0\u001b[39m: \u001b[32mInt\u001b[39m = \u001b[32m5\u001b[39m\n",
       "\u001b[36mres16_1\u001b[39m: \u001b[32mInt\u001b[39m = \u001b[32m0\u001b[39m\n",
       "\u001b[36mres16_2\u001b[39m: \u001b[32mInt\u001b[39m = \u001b[32m0\u001b[39m\n",
       "\u001b[36mres16_3\u001b[39m: \u001b[32mInt\u001b[39m = \u001b[32m5\u001b[39m"
      ]
     },
     "execution_count": 17,
     "metadata": {},
     "output_type": "execute_result"
    }
   ],
   "source": [
    "length(List(1,2,3,4,5))\n",
    "length(List())\n",
    "length(Nil)\n",
    "length(1::2::3::4::5::Nil)"
   ]
  },
  {
   "cell_type": "markdown",
   "metadata": {},
   "source": [
    "The recursive function is implemented as follows: "
   ]
  },
  {
   "cell_type": "code",
   "execution_count": 30,
   "metadata": {},
   "outputs": [
    {
     "data": {
      "text/plain": [
       "\u001b[32mimport \u001b[39m\u001b[36mscala.annotation.tailrec\n",
       "\n",
       "//@tailrec\n",
       "\u001b[39m\n",
       "defined \u001b[32mfunction\u001b[39m \u001b[36mlengthR\u001b[39m"
      ]
     },
     "execution_count": 30,
     "metadata": {},
     "output_type": "execute_result"
    }
   ],
   "source": [
    "// Using recursive functions\n",
    "import scala.annotation.tailrec\n",
    "\n",
    "//@tailrec\n",
    "def lengthR[T](list: List[T]): Int = \n",
    "    list match {\n",
    "        case Nil => \n",
    "            0 : Int\n",
    "        case head :: (tail: List[T]) => \n",
    "            val tailLength: Int = lengthR(tail) \n",
    "            tailLength + 1 : Int \n",
    "    }\n"
   ]
  },
  {
   "cell_type": "markdown",
   "metadata": {},
   "source": [
    "Some comments: \n",
    "- The recursive function is implemented in a _type-driven development_ style: we proceed, step-by-step, analysing the types of input data that we have available so far, and the types of output that we have to generate. This leads to a divide-and-conquer problem solving strategy and hugely facilitates the implementation.\n",
    "- The recursive function is less efficient, since the stack will blow up with lists of enough lenght."
   ]
  },
  {
   "cell_type": "code",
   "execution_count": 20,
   "metadata": {
    "scrolled": true
   },
   "outputs": [
    {
     "data": {
      "text/plain": [
       "\u001b[36mlistatocha\u001b[39m: \u001b[32mList\u001b[39m[\u001b[32mInt\u001b[39m] = \u001b[33mList\u001b[39m(\n",
       "  \u001b[32m1\u001b[39m,\n",
       "  \u001b[32m1\u001b[39m,\n",
       "  \u001b[32m1\u001b[39m,\n",
       "  \u001b[32m1\u001b[39m,\n",
       "  \u001b[32m1\u001b[39m,\n",
       "  \u001b[32m1\u001b[39m,\n",
       "  \u001b[32m1\u001b[39m,\n",
       "  \u001b[32m1\u001b[39m,\n",
       "  \u001b[32m1\u001b[39m,\n",
       "  \u001b[32m1\u001b[39m,\n",
       "  \u001b[32m1\u001b[39m,\n",
       "  \u001b[32m1\u001b[39m,\n",
       "  \u001b[32m1\u001b[39m,\n",
       "  \u001b[32m1\u001b[39m,\n",
       "  \u001b[32m1\u001b[39m,\n",
       "  \u001b[32m1\u001b[39m,\n",
       "  \u001b[32m1\u001b[39m,\n",
       "  \u001b[32m1\u001b[39m,\n",
       "  \u001b[32m1\u001b[39m,\n",
       "  \u001b[32m1\u001b[39m,\n",
       "  \u001b[32m1\u001b[39m,\n",
       "  \u001b[32m1\u001b[39m,\n",
       "  \u001b[32m1\u001b[39m,\n",
       "  \u001b[32m1\u001b[39m,\n",
       "  \u001b[32m1\u001b[39m,\n",
       "  \u001b[32m1\u001b[39m,\n",
       "  \u001b[32m1\u001b[39m,\n",
       "  \u001b[32m1\u001b[39m,\n",
       "  \u001b[32m1\u001b[39m,\n",
       "  \u001b[32m1\u001b[39m,\n",
       "  \u001b[32m1\u001b[39m,\n",
       "  \u001b[32m1\u001b[39m,\n",
       "  \u001b[32m1\u001b[39m,\n",
       "  \u001b[32m1\u001b[39m,\n",
       "  \u001b[32m1\u001b[39m,\n",
       "  \u001b[32m1\u001b[39m,\n",
       "  \u001b[32m1\u001b[39m,\n",
       "  \u001b[32m1\u001b[39m,\n",
       "..."
      ]
     },
     "execution_count": 20,
     "metadata": {},
     "output_type": "execute_result"
    }
   ],
   "source": [
    "val listatocha: List[Int] = List.fill(200000)(1)"
   ]
  },
  {
   "cell_type": "code",
   "execution_count": 21,
   "metadata": {},
   "outputs": [
    {
     "data": {
      "text/plain": [
       "\u001b[36mres20\u001b[39m: \u001b[32mInt\u001b[39m = \u001b[32m200000\u001b[39m"
      ]
     },
     "execution_count": 21,
     "metadata": {},
     "output_type": "execute_result"
    }
   ],
   "source": [
    "lengthI(listatocha)"
   ]
  },
  {
   "cell_type": "code",
   "execution_count": 27,
   "metadata": {},
   "outputs": [
    {
     "data": {
      "text/plain": [
       "\u001b[36mres26\u001b[39m: \u001b[32mInt\u001b[39m = \u001b[32m200000\u001b[39m"
      ]
     },
     "execution_count": 27,
     "metadata": {},
     "output_type": "execute_result"
    }
   ],
   "source": [
    "lengthTR(listatocha)"
   ]
  },
  {
   "cell_type": "code",
   "execution_count": 22,
   "metadata": {
    "scrolled": true
   },
   "outputs": [
    {
     "ename": "",
     "evalue": "",
     "output_type": "error",
     "traceback": [
      "\u001b[31mjava.lang.StackOverflowError\u001b[39m\n  ammonite.$sess.cmd17$Helper.lengthR(\u001b[32mcmd17.sc\u001b[39m:\u001b[32m2\u001b[39m)\n  ammonite.$sess.cmd17$Helper.lengthR(\u001b[32mcmd17.sc\u001b[39m:\u001b[32m6\u001b[39m)\n  ammonite.$sess.cmd17$Helper.lengthR(\u001b[32mcmd17.sc\u001b[39m:\u001b[32m6\u001b[39m)\n  ammonite.$sess.cmd17$Helper.lengthR(\u001b[32mcmd17.sc\u001b[39m:\u001b[32m6\u001b[39m)\n  ammonite.$sess.cmd17$Helper.lengthR(\u001b[32mcmd17.sc\u001b[39m:\u001b[32m6\u001b[39m)\n  ammonite.$sess.cmd17$Helper.lengthR(\u001b[32mcmd17.sc\u001b[39m:\u001b[32m6\u001b[39m)\n  ammonite.$sess.cmd17$Helper.lengthR(\u001b[32mcmd17.sc\u001b[39m:\u001b[32m6\u001b[39m)\n  ammonite.$sess.cmd17$Helper.lengthR(\u001b[32mcmd17.sc\u001b[39m:\u001b[32m6\u001b[39m)\n  ammonite.$sess.cmd17$Helper.lengthR(\u001b[32mcmd17.sc\u001b[39m:\u001b[32m6\u001b[39m)\n  ammonite.$sess.cmd17$Helper.lengthR(\u001b[32mcmd17.sc\u001b[39m:\u001b[32m6\u001b[39m)\n  ammonite.$sess.cmd17$Helper.lengthR(\u001b[32mcmd17.sc\u001b[39m:\u001b[32m6\u001b[39m)\n  ammonite.$sess.cmd17$Helper.lengthR(\u001b[32mcmd17.sc\u001b[39m:\u001b[32m6\u001b[39m)\n  ammonite.$sess.cmd17$Helper.lengthR(\u001b[32mcmd17.sc\u001b[39m:\u001b[32m6\u001b[39m)\n  ammonite.$sess.cmd17$Helper.lengthR(\u001b[32mcmd17.sc\u001b[39m:\u001b[32m6\u001b[39m)\n  ammonite.$sess.cmd17$Helper.lengthR(\u001b[32mcmd17.sc\u001b[39m:\u001b[32m6\u001b[39m)\n  ammonite.$sess.cmd17$Helper.lengthR(\u001b[32mcmd17.sc\u001b[39m:\u001b[32m6\u001b[39m)\n  ammonite.$sess.cmd17$Helper.lengthR(\u001b[32mcmd17.sc\u001b[39m:\u001b[32m6\u001b[39m)\n  ammonite.$sess.cmd17$Helper.lengthR(\u001b[32mcmd17.sc\u001b[39m:\u001b[32m6\u001b[39m)\n  ammonite.$sess.cmd17$Helper.lengthR(\u001b[32mcmd17.sc\u001b[39m:\u001b[32m6\u001b[39m)\n  ammonite.$sess.cmd17$Helper.lengthR(\u001b[32mcmd17.sc\u001b[39m:\u001b[32m6\u001b[39m)\n  ammonite.$sess.cmd17$Helper.lengthR(\u001b[32mcmd17.sc\u001b[39m:\u001b[32m6\u001b[39m)\n  ammonite.$sess.cmd17$Helper.lengthR(\u001b[32mcmd17.sc\u001b[39m:\u001b[32m6\u001b[39m)\n  ammonite.$sess.cmd17$Helper.lengthR(\u001b[32mcmd17.sc\u001b[39m:\u001b[32m6\u001b[39m)\n  ammonite.$sess.cmd17$Helper.lengthR(\u001b[32mcmd17.sc\u001b[39m:\u001b[32m6\u001b[39m)\n  ammonite.$sess.cmd17$Helper.lengthR(\u001b[32mcmd17.sc\u001b[39m:\u001b[32m6\u001b[39m)\n  ammonite.$sess.cmd17$Helper.lengthR(\u001b[32mcmd17.sc\u001b[39m:\u001b[32m6\u001b[39m)\n  ammonite.$sess.cmd17$Helper.lengthR(\u001b[32mcmd17.sc\u001b[39m:\u001b[32m6\u001b[39m)\n  ammonite.$sess.cmd17$Helper.lengthR(\u001b[32mcmd17.sc\u001b[39m:\u001b[32m6\u001b[39m)\n  ammonite.$sess.cmd17$Helper.lengthR(\u001b[32mcmd17.sc\u001b[39m:\u001b[32m6\u001b[39m)\n  ammonite.$sess.cmd17$Helper.lengthR(\u001b[32mcmd17.sc\u001b[39m:\u001b[32m6\u001b[39m)\n  ammonite.$sess.cmd17$Helper.lengthR(\u001b[32mcmd17.sc\u001b[39m:\u001b[32m6\u001b[39m)\n  ammonite.$sess.cmd17$Helper.lengthR(\u001b[32mcmd17.sc\u001b[39m:\u001b[32m6\u001b[39m)\n  ammonite.$sess.cmd17$Helper.lengthR(\u001b[32mcmd17.sc\u001b[39m:\u001b[32m6\u001b[39m)\n  ammonite.$sess.cmd17$Helper.lengthR(\u001b[32mcmd17.sc\u001b[39m:\u001b[32m6\u001b[39m)\n  ammonite.$sess.cmd17$Helper.lengthR(\u001b[32mcmd17.sc\u001b[39m:\u001b[32m6\u001b[39m)\n  ammonite.$sess.cmd17$Helper.lengthR(\u001b[32mcmd17.sc\u001b[39m:\u001b[32m6\u001b[39m)\n  ammonite.$sess.cmd17$Helper.lengthR(\u001b[32mcmd17.sc\u001b[39m:\u001b[32m6\u001b[39m)\n  ammonite.$sess.cmd17$Helper.lengthR(\u001b[32mcmd17.sc\u001b[39m:\u001b[32m6\u001b[39m)\n  ammonite.$sess.cmd17$Helper.lengthR(\u001b[32mcmd17.sc\u001b[39m:\u001b[32m6\u001b[39m)\n  ammonite.$sess.cmd17$Helper.lengthR(\u001b[32mcmd17.sc\u001b[39m:\u001b[32m6\u001b[39m)\n  ammonite.$sess.cmd17$Helper.lengthR(\u001b[32mcmd17.sc\u001b[39m:\u001b[32m6\u001b[39m)\n  ammonite.$sess.cmd17$Helper.lengthR(\u001b[32mcmd17.sc\u001b[39m:\u001b[32m6\u001b[39m)\n  ammonite.$sess.cmd17$Helper.lengthR(\u001b[32mcmd17.sc\u001b[39m:\u001b[32m6\u001b[39m)\n  ammonite.$sess.cmd17$Helper.lengthR(\u001b[32mcmd17.sc\u001b[39m:\u001b[32m6\u001b[39m)\n  ammonite.$sess.cmd17$Helper.lengthR(\u001b[32mcmd17.sc\u001b[39m:\u001b[32m6\u001b[39m)\n  ammonite.$sess.cmd17$Helper.lengthR(\u001b[32mcmd17.sc\u001b[39m:\u001b[32m6\u001b[39m)\n  ammonite.$sess.cmd17$Helper.lengthR(\u001b[32mcmd17.sc\u001b[39m:\u001b[32m6\u001b[39m)\n  ammonite.$sess.cmd17$Helper.lengthR(\u001b[32mcmd17.sc\u001b[39m:\u001b[32m6\u001b[39m)\n  ammonite.$sess.cmd17$Helper.lengthR(\u001b[32mcmd17.sc\u001b[39m:\u001b[32m6\u001b[39m)\n  ammonite.$sess.cmd17$Helper.lengthR(\u001b[32mcmd17.sc\u001b[39m:\u001b[32m6\u001b[39m)\n  ammonite.$sess.cmd17$Helper.lengthR(\u001b[32mcmd17.sc\u001b[39m:\u001b[32m6\u001b[39m)\n  ammonite.$sess.cmd17$Helper.lengthR(\u001b[32mcmd17.sc\u001b[39m:\u001b[32m6\u001b[39m)\n  ammonite.$sess.cmd17$Helper.lengthR(\u001b[32mcmd17.sc\u001b[39m:\u001b[32m6\u001b[39m)\n  ammonite.$sess.cmd17$Helper.lengthR(\u001b[32mcmd17.sc\u001b[39m:\u001b[32m6\u001b[39m)\n  ammonite.$sess.cmd17$Helper.lengthR(\u001b[32mcmd17.sc\u001b[39m:\u001b[32m6\u001b[39m)\n  ammonite.$sess.cmd17$Helper.lengthR(\u001b[32mcmd17.sc\u001b[39m:\u001b[32m6\u001b[39m)\n  ammonite.$sess.cmd17$Helper.lengthR(\u001b[32mcmd17.sc\u001b[39m:\u001b[32m6\u001b[39m)\n  ammonite.$sess.cmd17$Helper.lengthR(\u001b[32mcmd17.sc\u001b[39m:\u001b[32m6\u001b[39m)\n  ammonite.$sess.cmd17$Helper.lengthR(\u001b[32mcmd17.sc\u001b[39m:\u001b[32m6\u001b[39m)\n  ammonite.$sess.cmd17$Helper.lengthR(\u001b[32mcmd17.sc\u001b[39m:\u001b[32m6\u001b[39m)\n  ammonite.$sess.cmd17$Helper.lengthR(\u001b[32mcmd17.sc\u001b[39m:\u001b[32m6\u001b[39m)\n  ammonite.$sess.cmd17$Helper.lengthR(\u001b[32mcmd17.sc\u001b[39m:\u001b[32m6\u001b[39m)\n  ammonite.$sess.cmd17$Helper.lengthR(\u001b[32mcmd17.sc\u001b[39m:\u001b[32m6\u001b[39m)\n  ammonite.$sess.cmd17$Helper.lengthR(\u001b[32mcmd17.sc\u001b[39m:\u001b[32m6\u001b[39m)\n  ammonite.$sess.cmd17$Helper.lengthR(\u001b[32mcmd17.sc\u001b[39m:\u001b[32m6\u001b[39m)\n  ammonite.$sess.cmd17$Helper.lengthR(\u001b[32mcmd17.sc\u001b[39m:\u001b[32m6\u001b[39m)\n  ammonite.$sess.cmd17$Helper.lengthR(\u001b[32mcmd17.sc\u001b[39m:\u001b[32m6\u001b[39m)\n  ammonite.$sess.cmd17$Helper.lengthR(\u001b[32mcmd17.sc\u001b[39m:\u001b[32m6\u001b[39m)\n  ammonite.$sess.cmd17$Helper.lengthR(\u001b[32mcmd17.sc\u001b[39m:\u001b[32m6\u001b[39m)\n  ammonite.$sess.cmd17$Helper.lengthR(\u001b[32mcmd17.sc\u001b[39m:\u001b[32m6\u001b[39m)\n  ammonite.$sess.cmd17$Helper.lengthR(\u001b[32mcmd17.sc\u001b[39m:\u001b[32m6\u001b[39m)\n  ammonite.$sess.cmd17$Helper.lengthR(\u001b[32mcmd17.sc\u001b[39m:\u001b[32m6\u001b[39m)\n  ammonite.$sess.cmd17$Helper.lengthR(\u001b[32mcmd17.sc\u001b[39m:\u001b[32m6\u001b[39m)\n  ammonite.$sess.cmd17$Helper.lengthR(\u001b[32mcmd17.sc\u001b[39m:\u001b[32m6\u001b[39m)\n  ammonite.$sess.cmd17$Helper.lengthR(\u001b[32mcmd17.sc\u001b[39m:\u001b[32m6\u001b[39m)\n  ammonite.$sess.cmd17$Helper.lengthR(\u001b[32mcmd17.sc\u001b[39m:\u001b[32m6\u001b[39m)\n  ammonite.$sess.cmd17$Helper.lengthR(\u001b[32mcmd17.sc\u001b[39m:\u001b[32m6\u001b[39m)\n  ammonite.$sess.cmd17$Helper.lengthR(\u001b[32mcmd17.sc\u001b[39m:\u001b[32m6\u001b[39m)\n  ammonite.$sess.cmd17$Helper.lengthR(\u001b[32mcmd17.sc\u001b[39m:\u001b[32m6\u001b[39m)\n  ammonite.$sess.cmd17$Helper.lengthR(\u001b[32mcmd17.sc\u001b[39m:\u001b[32m6\u001b[39m)\n  ammonite.$sess.cmd17$Helper.lengthR(\u001b[32mcmd17.sc\u001b[39m:\u001b[32m6\u001b[39m)\n  ammonite.$sess.cmd17$Helper.lengthR(\u001b[32mcmd17.sc\u001b[39m:\u001b[32m6\u001b[39m)\n  ammonite.$sess.cmd17$Helper.lengthR(\u001b[32mcmd17.sc\u001b[39m:\u001b[32m6\u001b[39m)\n  ammonite.$sess.cmd17$Helper.lengthR(\u001b[32mcmd17.sc\u001b[39m:\u001b[32m6\u001b[39m)\n  ammonite.$sess.cmd17$Helper.lengthR(\u001b[32mcmd17.sc\u001b[39m:\u001b[32m6\u001b[39m)\n  ammonite.$sess.cmd17$Helper.lengthR(\u001b[32mcmd17.sc\u001b[39m:\u001b[32m6\u001b[39m)\n  ammonite.$sess.cmd17$Helper.lengthR(\u001b[32mcmd17.sc\u001b[39m:\u001b[32m6\u001b[39m)\n  ammonite.$sess.cmd17$Helper.lengthR(\u001b[32mcmd17.sc\u001b[39m:\u001b[32m6\u001b[39m)\n  ammonite.$sess.cmd17$Helper.lengthR(\u001b[32mcmd17.sc\u001b[39m:\u001b[32m6\u001b[39m)\n  ammonite.$sess.cmd17$Helper.lengthR(\u001b[32mcmd17.sc\u001b[39m:\u001b[32m6\u001b[39m)\n  ammonite.$sess.cmd17$Helper.lengthR(\u001b[32mcmd17.sc\u001b[39m:\u001b[32m6\u001b[39m)\n  ammonite.$sess.cmd17$Helper.lengthR(\u001b[32mcmd17.sc\u001b[39m:\u001b[32m6\u001b[39m)\n  ammonite.$sess.cmd17$Helper.lengthR(\u001b[32mcmd17.sc\u001b[39m:\u001b[32m6\u001b[39m)\n  ammonite.$sess.cmd17$Helper.lengthR(\u001b[32mcmd17.sc\u001b[39m:\u001b[32m6\u001b[39m)\n  ammonite.$sess.cmd17$Helper.lengthR(\u001b[32mcmd17.sc\u001b[39m:\u001b[32m6\u001b[39m)\n  ammonite.$sess.cmd17$Helper.lengthR(\u001b[32mcmd17.sc\u001b[39m:\u001b[32m6\u001b[39m)\n  ammonite.$sess.cmd17$Helper.lengthR(\u001b[32mcmd17.sc\u001b[39m:\u001b[32m6\u001b[39m)\n  ammonite.$sess.cmd17$Helper.lengthR(\u001b[32mcmd17.sc\u001b[39m:\u001b[32m6\u001b[39m)\n  ammonite.$sess.cmd17$Helper.lengthR(\u001b[32mcmd17.sc\u001b[39m:\u001b[32m6\u001b[39m)\n  ammonite.$sess.cmd17$Helper.lengthR(\u001b[32mcmd17.sc\u001b[39m:\u001b[32m6\u001b[39m)\n  ammonite.$sess.cmd17$Helper.lengthR(\u001b[32mcmd17.sc\u001b[39m:\u001b[32m6\u001b[39m)\n  ammonite.$sess.cmd17$Helper.lengthR(\u001b[32mcmd17.sc\u001b[39m:\u001b[32m6\u001b[39m)\n  ammonite.$sess.cmd17$Helper.lengthR(\u001b[32mcmd17.sc\u001b[39m:\u001b[32m6\u001b[39m)\n  ammonite.$sess.cmd17$Helper.lengthR(\u001b[32mcmd17.sc\u001b[39m:\u001b[32m6\u001b[39m)\n  ammonite.$sess.cmd17$Helper.lengthR(\u001b[32mcmd17.sc\u001b[39m:\u001b[32m6\u001b[39m)\n  ammonite.$sess.cmd17$Helper.lengthR(\u001b[32mcmd17.sc\u001b[39m:\u001b[32m6\u001b[39m)\n  ammonite.$sess.cmd17$Helper.lengthR(\u001b[32mcmd17.sc\u001b[39m:\u001b[32m6\u001b[39m)\n  ammonite.$sess.cmd17$Helper.lengthR(\u001b[32mcmd17.sc\u001b[39m:\u001b[32m6\u001b[39m)\n  ammonite.$sess.cmd17$Helper.lengthR(\u001b[32mcmd17.sc\u001b[39m:\u001b[32m6\u001b[39m)\n  ammonite.$sess.cmd17$Helper.lengthR(\u001b[32mcmd17.sc\u001b[39m:\u001b[32m6\u001b[39m)\n  ammonite.$sess.cmd17$Helper.lengthR(\u001b[32mcmd17.sc\u001b[39m:\u001b[32m6\u001b[39m)\n  ammonite.$sess.cmd17$Helper.lengthR(\u001b[32mcmd17.sc\u001b[39m:\u001b[32m6\u001b[39m)\n  ammonite.$sess.cmd17$Helper.lengthR(\u001b[32mcmd17.sc\u001b[39m:\u001b[32m6\u001b[39m)\n  ammonite.$sess.cmd17$Helper.lengthR(\u001b[32mcmd17.sc\u001b[39m:\u001b[32m6\u001b[39m)\n  ammonite.$sess.cmd17$Helper.lengthR(\u001b[32mcmd17.sc\u001b[39m:\u001b[32m6\u001b[39m)\n  ammonite.$sess.cmd17$Helper.lengthR(\u001b[32mcmd17.sc\u001b[39m:\u001b[32m6\u001b[39m)\n  ammonite.$sess.cmd17$Helper.lengthR(\u001b[32mcmd17.sc\u001b[39m:\u001b[32m6\u001b[39m)\n  ammonite.$sess.cmd17$Helper.lengthR(\u001b[32mcmd17.sc\u001b[39m:\u001b[32m6\u001b[39m)\n  ammonite.$sess.cmd17$Helper.lengthR(\u001b[32mcmd17.sc\u001b[39m:\u001b[32m6\u001b[39m)\n  ammonite.$sess.cmd17$Helper.lengthR(\u001b[32mcmd17.sc\u001b[39m:\u001b[32m6\u001b[39m)\n  ammonite.$sess.cmd17$Helper.lengthR(\u001b[32mcmd17.sc\u001b[39m:\u001b[32m6\u001b[39m)\n  ammonite.$sess.cmd17$Helper.lengthR(\u001b[32mcmd17.sc\u001b[39m:\u001b[32m6\u001b[39m)\n  ammonite.$sess.cmd17$Helper.lengthR(\u001b[32mcmd17.sc\u001b[39m:\u001b[32m6\u001b[39m)\n  ammonite.$sess.cmd17$Helper.lengthR(\u001b[32mcmd17.sc\u001b[39m:\u001b[32m6\u001b[39m)\n  ammonite.$sess.cmd17$Helper.lengthR(\u001b[32mcmd17.sc\u001b[39m:\u001b[32m6\u001b[39m)\n  ammonite.$sess.cmd17$Helper.lengthR(\u001b[32mcmd17.sc\u001b[39m:\u001b[32m6\u001b[39m)\n  ammonite.$sess.cmd17$Helper.lengthR(\u001b[32mcmd17.sc\u001b[39m:\u001b[32m6\u001b[39m)\n  ammonite.$sess.cmd17$Helper.lengthR(\u001b[32mcmd17.sc\u001b[39m:\u001b[32m6\u001b[39m)\n  ammonite.$sess.cmd17$Helper.lengthR(\u001b[32mcmd17.sc\u001b[39m:\u001b[32m6\u001b[39m)\n  ammonite.$sess.cmd17$Helper.lengthR(\u001b[32mcmd17.sc\u001b[39m:\u001b[32m6\u001b[39m)\n  ammonite.$sess.cmd17$Helper.lengthR(\u001b[32mcmd17.sc\u001b[39m:\u001b[32m6\u001b[39m)\n  ammonite.$sess.cmd17$Helper.lengthR(\u001b[32mcmd17.sc\u001b[39m:\u001b[32m6\u001b[39m)\n  ammonite.$sess.cmd17$Helper.lengthR(\u001b[32mcmd17.sc\u001b[39m:\u001b[32m6\u001b[39m)\n  ammonite.$sess.cmd17$Helper.lengthR(\u001b[32mcmd17.sc\u001b[39m:\u001b[32m6\u001b[39m)\n  ammonite.$sess.cmd17$Helper.lengthR(\u001b[32mcmd17.sc\u001b[39m:\u001b[32m6\u001b[39m)\n  ammonite.$sess.cmd17$Helper.lengthR(\u001b[32mcmd17.sc\u001b[39m:\u001b[32m6\u001b[39m)\n  ammonite.$sess.cmd17$Helper.lengthR(\u001b[32mcmd17.sc\u001b[39m:\u001b[32m6\u001b[39m)\n  ammonite.$sess.cmd17$Helper.lengthR(\u001b[32mcmd17.sc\u001b[39m:\u001b[32m6\u001b[39m)\n  ammonite.$sess.cmd17$Helper.lengthR(\u001b[32mcmd17.sc\u001b[39m:\u001b[32m6\u001b[39m)\n  ammonite.$sess.cmd17$Helper.lengthR(\u001b[32mcmd17.sc\u001b[39m:\u001b[32m6\u001b[39m)\n  ammonite.$sess.cmd17$Helper.lengthR(\u001b[32mcmd17.sc\u001b[39m:\u001b[32m6\u001b[39m)\n  ammonite.$sess.cmd17$Helper.lengthR(\u001b[32mcmd17.sc\u001b[39m:\u001b[32m6\u001b[39m)\n  ammonite.$sess.cmd17$Helper.lengthR(\u001b[32mcmd17.sc\u001b[39m:\u001b[32m6\u001b[39m)\n  ammonite.$sess.cmd17$Helper.lengthR(\u001b[32mcmd17.sc\u001b[39m:\u001b[32m6\u001b[39m)\n  ammonite.$sess.cmd17$Helper.lengthR(\u001b[32mcmd17.sc\u001b[39m:\u001b[32m6\u001b[39m)\n  ammonite.$sess.cmd17$Helper.lengthR(\u001b[32mcmd17.sc\u001b[39m:\u001b[32m6\u001b[39m)\n  ammonite.$sess.cmd17$Helper.lengthR(\u001b[32mcmd17.sc\u001b[39m:\u001b[32m6\u001b[39m)\n  ammonite.$sess.cmd17$Helper.lengthR(\u001b[32mcmd17.sc\u001b[39m:\u001b[32m6\u001b[39m)\n  ammonite.$sess.cmd17$Helper.lengthR(\u001b[32mcmd17.sc\u001b[39m:\u001b[32m6\u001b[39m)\n  ammonite.$sess.cmd17$Helper.lengthR(\u001b[32mcmd17.sc\u001b[39m:\u001b[32m6\u001b[39m)\n  ammonite.$sess.cmd17$Helper.lengthR(\u001b[32mcmd17.sc\u001b[39m:\u001b[32m6\u001b[39m)\n  ammonite.$sess.cmd17$Helper.lengthR(\u001b[32mcmd17.sc\u001b[39m:\u001b[32m6\u001b[39m)\n  ammonite.$sess.cmd17$Helper.lengthR(\u001b[32mcmd17.sc\u001b[39m:\u001b[32m6\u001b[39m)\n  ammonite.$sess.cmd17$Helper.lengthR(\u001b[32mcmd17.sc\u001b[39m:\u001b[32m6\u001b[39m)\n  ammonite.$sess.cmd17$Helper.lengthR(\u001b[32mcmd17.sc\u001b[39m:\u001b[32m6\u001b[39m)\n  ammonite.$sess.cmd17$Helper.lengthR(\u001b[32mcmd17.sc\u001b[39m:\u001b[32m6\u001b[39m)\n  ammonite.$sess.cmd17$Helper.lengthR(\u001b[32mcmd17.sc\u001b[39m:\u001b[32m6\u001b[39m)\n  ammonite.$sess.cmd17$Helper.lengthR(\u001b[32mcmd17.sc\u001b[39m:\u001b[32m6\u001b[39m)\n  ammonite.$sess.cmd17$Helper.lengthR(\u001b[32mcmd17.sc\u001b[39m:\u001b[32m6\u001b[39m)\n  ammonite.$sess.cmd17$Helper.lengthR(\u001b[32mcmd17.sc\u001b[39m:\u001b[32m6\u001b[39m)\n  ammonite.$sess.cmd17$Helper.lengthR(\u001b[32mcmd17.sc\u001b[39m:\u001b[32m6\u001b[39m)\n  ammonite.$sess.cmd17$Helper.lengthR(\u001b[32mcmd17.sc\u001b[39m:\u001b[32m6\u001b[39m)\n  ammonite.$sess.cmd17$Helper.lengthR(\u001b[32mcmd17.sc\u001b[39m:\u001b[32m6\u001b[39m)\n  ammonite.$sess.cmd17$Helper.lengthR(\u001b[32mcmd17.sc\u001b[39m:\u001b[32m6\u001b[39m)\n  ammonite.$sess.cmd17$Helper.lengthR(\u001b[32mcmd17.sc\u001b[39m:\u001b[32m6\u001b[39m)\n  ammonite.$sess.cmd17$Helper.lengthR(\u001b[32mcmd17.sc\u001b[39m:\u001b[32m6\u001b[39m)\n  ammonite.$sess.cmd17$Helper.lengthR(\u001b[32mcmd17.sc\u001b[39m:\u001b[32m6\u001b[39m)\n  ammonite.$sess.cmd17$Helper.lengthR(\u001b[32mcmd17.sc\u001b[39m:\u001b[32m6\u001b[39m)\n  ammonite.$sess.cmd17$Helper.lengthR(\u001b[32mcmd17.sc\u001b[39m:\u001b[32m6\u001b[39m)\n  ammonite.$sess.cmd17$Helper.lengthR(\u001b[32mcmd17.sc\u001b[39m:\u001b[32m6\u001b[39m)\n  ammonite.$sess.cmd17$Helper.lengthR(\u001b[32mcmd17.sc\u001b[39m:\u001b[32m6\u001b[39m)\n  ammonite.$sess.cmd17$Helper.lengthR(\u001b[32mcmd17.sc\u001b[39m:\u001b[32m6\u001b[39m)\n  ammonite.$sess.cmd17$Helper.lengthR(\u001b[32mcmd17.sc\u001b[39m:\u001b[32m6\u001b[39m)\n  ammonite.$sess.cmd17$Helper.lengthR(\u001b[32mcmd17.sc\u001b[39m:\u001b[32m6\u001b[39m)\n  ammonite.$sess.cmd17$Helper.lengthR(\u001b[32mcmd17.sc\u001b[39m:\u001b[32m6\u001b[39m)\n  ammonite.$sess.cmd17$Helper.lengthR(\u001b[32mcmd17.sc\u001b[39m:\u001b[32m6\u001b[39m)\n  ammonite.$sess.cmd17$Helper.lengthR(\u001b[32mcmd17.sc\u001b[39m:\u001b[32m6\u001b[39m)\n  ammonite.$sess.cmd17$Helper.lengthR(\u001b[32mcmd17.sc\u001b[39m:\u001b[32m6\u001b[39m)\n  ammonite.$sess.cmd17$Helper.lengthR(\u001b[32mcmd17.sc\u001b[39m:\u001b[32m6\u001b[39m)\n  ammonite.$sess.cmd17$Helper.lengthR(\u001b[32mcmd17.sc\u001b[39m:\u001b[32m6\u001b[39m)\n  ammonite.$sess.cmd17$Helper.lengthR(\u001b[32mcmd17.sc\u001b[39m:\u001b[32m6\u001b[39m)\n  ammonite.$sess.cmd17$Helper.lengthR(\u001b[32mcmd17.sc\u001b[39m:\u001b[32m6\u001b[39m)\n  ammonite.$sess.cmd17$Helper.lengthR(\u001b[32mcmd17.sc\u001b[39m:\u001b[32m6\u001b[39m)\n  ammonite.$sess.cmd17$Helper.lengthR(\u001b[32mcmd17.sc\u001b[39m:\u001b[32m6\u001b[39m)\n  ammonite.$sess.cmd17$Helper.lengthR(\u001b[32mcmd17.sc\u001b[39m:\u001b[32m6\u001b[39m)\n  ammonite.$sess.cmd17$Helper.lengthR(\u001b[32mcmd17.sc\u001b[39m:\u001b[32m6\u001b[39m)\n  ammonite.$sess.cmd17$Helper.lengthR(\u001b[32mcmd17.sc\u001b[39m:\u001b[32m6\u001b[39m)\n  ammonite.$sess.cmd17$Helper.lengthR(\u001b[32mcmd17.sc\u001b[39m:\u001b[32m6\u001b[39m)\n  ammonite.$sess.cmd17$Helper.lengthR(\u001b[32mcmd17.sc\u001b[39m:\u001b[32m6\u001b[39m)\n  ammonite.$sess.cmd17$Helper.lengthR(\u001b[32mcmd17.sc\u001b[39m:\u001b[32m6\u001b[39m)\n  ammonite.$sess.cmd17$Helper.lengthR(\u001b[32mcmd17.sc\u001b[39m:\u001b[32m6\u001b[39m)\n  ammonite.$sess.cmd17$Helper.lengthR(\u001b[32mcmd17.sc\u001b[39m:\u001b[32m6\u001b[39m)\n  ammonite.$sess.cmd17$Helper.lengthR(\u001b[32mcmd17.sc\u001b[39m:\u001b[32m6\u001b[39m)\n  ammonite.$sess.cmd17$Helper.lengthR(\u001b[32mcmd17.sc\u001b[39m:\u001b[32m6\u001b[39m)\n  ammonite.$sess.cmd17$Helper.lengthR(\u001b[32mcmd17.sc\u001b[39m:\u001b[32m6\u001b[39m)\n  ammonite.$sess.cmd17$Helper.lengthR(\u001b[32mcmd17.sc\u001b[39m:\u001b[32m6\u001b[39m)\n  ammonite.$sess.cmd17$Helper.lengthR(\u001b[32mcmd17.sc\u001b[39m:\u001b[32m6\u001b[39m)\n  ammonite.$sess.cmd17$Helper.lengthR(\u001b[32mcmd17.sc\u001b[39m:\u001b[32m6\u001b[39m)\n  ammonite.$sess.cmd17$Helper.lengthR(\u001b[32mcmd17.sc\u001b[39m:\u001b[32m6\u001b[39m)\n  ammonite.$sess.cmd17$Helper.lengthR(\u001b[32mcmd17.sc\u001b[39m:\u001b[32m6\u001b[39m)\n  ammonite.$sess.cmd17$Helper.lengthR(\u001b[32mcmd17.sc\u001b[39m:\u001b[32m6\u001b[39m)\n  ammonite.$sess.cmd17$Helper.lengthR(\u001b[32mcmd17.sc\u001b[39m:\u001b[32m6\u001b[39m)\n  ammonite.$sess.cmd17$Helper.lengthR(\u001b[32mcmd17.sc\u001b[39m:\u001b[32m6\u001b[39m)\n  ammonite.$sess.cmd17$Helper.lengthR(\u001b[32mcmd17.sc\u001b[39m:\u001b[32m6\u001b[39m)\n  ammonite.$sess.cmd17$Helper.lengthR(\u001b[32mcmd17.sc\u001b[39m:\u001b[32m6\u001b[39m)\n  ammonite.$sess.cmd17$Helper.lengthR(\u001b[32mcmd17.sc\u001b[39m:\u001b[32m6\u001b[39m)\n  ammonite.$sess.cmd17$Helper.lengthR(\u001b[32mcmd17.sc\u001b[39m:\u001b[32m6\u001b[39m)\n  ammonite.$sess.cmd17$Helper.lengthR(\u001b[32mcmd17.sc\u001b[39m:\u001b[32m6\u001b[39m)\n  ammonite.$sess.cmd17$Helper.lengthR(\u001b[32mcmd17.sc\u001b[39m:\u001b[32m6\u001b[39m)\n  ammonite.$sess.cmd17$Helper.lengthR(\u001b[32mcmd17.sc\u001b[39m:\u001b[32m6\u001b[39m)\n  ammonite.$sess.cmd17$Helper.lengthR(\u001b[32mcmd17.sc\u001b[39m:\u001b[32m6\u001b[39m)\n  ammonite.$sess.cmd17$Helper.lengthR(\u001b[32mcmd17.sc\u001b[39m:\u001b[32m6\u001b[39m)\n  ammonite.$sess.cmd17$Helper.lengthR(\u001b[32mcmd17.sc\u001b[39m:\u001b[32m6\u001b[39m)\n  ammonite.$sess.cmd17$Helper.lengthR(\u001b[32mcmd17.sc\u001b[39m:\u001b[32m6\u001b[39m)\n  ammonite.$sess.cmd17$Helper.lengthR(\u001b[32mcmd17.sc\u001b[39m:\u001b[32m6\u001b[39m)\n  ammonite.$sess.cmd17$Helper.lengthR(\u001b[32mcmd17.sc\u001b[39m:\u001b[32m6\u001b[39m)\n  ammonite.$sess.cmd17$Helper.lengthR(\u001b[32mcmd17.sc\u001b[39m:\u001b[32m6\u001b[39m)\n  ammonite.$sess.cmd17$Helper.lengthR(\u001b[32mcmd17.sc\u001b[39m:\u001b[32m6\u001b[39m)\n  ammonite.$sess.cmd17$Helper.lengthR(\u001b[32mcmd17.sc\u001b[39m:\u001b[32m6\u001b[39m)\n  ammonite.$sess.cmd17$Helper.lengthR(\u001b[32mcmd17.sc\u001b[39m:\u001b[32m6\u001b[39m)\n  ammonite.$sess.cmd17$Helper.lengthR(\u001b[32mcmd17.sc\u001b[39m:\u001b[32m6\u001b[39m)\n  ammonite.$sess.cmd17$Helper.lengthR(\u001b[32mcmd17.sc\u001b[39m:\u001b[32m6\u001b[39m)\n  ammonite.$sess.cmd17$Helper.lengthR(\u001b[32mcmd17.sc\u001b[39m:\u001b[32m6\u001b[39m)\n  ammonite.$sess.cmd17$Helper.lengthR(\u001b[32mcmd17.sc\u001b[39m:\u001b[32m6\u001b[39m)\n  ammonite.$sess.cmd17$Helper.lengthR(\u001b[32mcmd17.sc\u001b[39m:\u001b[32m6\u001b[39m)\n  ammonite.$sess.cmd17$Helper.lengthR(\u001b[32mcmd17.sc\u001b[39m:\u001b[32m6\u001b[39m)\n  ammonite.$sess.cmd17$Helper.lengthR(\u001b[32mcmd17.sc\u001b[39m:\u001b[32m6\u001b[39m)\n  ammonite.$sess.cmd17$Helper.lengthR(\u001b[32mcmd17.sc\u001b[39m:\u001b[32m6\u001b[39m)\n  ammonite.$sess.cmd17$Helper.lengthR(\u001b[32mcmd17.sc\u001b[39m:\u001b[32m6\u001b[39m)\n  ammonite.$sess.cmd17$Helper.lengthR(\u001b[32mcmd17.sc\u001b[39m:\u001b[32m6\u001b[39m)\n  ammonite.$sess.cmd17$Helper.lengthR(\u001b[32mcmd17.sc\u001b[39m:\u001b[32m6\u001b[39m)\n  ammonite.$sess.cmd17$Helper.lengthR(\u001b[32mcmd17.sc\u001b[39m:\u001b[32m6\u001b[39m)\n  ammonite.$sess.cmd17$Helper.lengthR(\u001b[32mcmd17.sc\u001b[39m:\u001b[32m6\u001b[39m)\n  ammonite.$sess.cmd17$Helper.lengthR(\u001b[32mcmd17.sc\u001b[39m:\u001b[32m6\u001b[39m)\n  ammonite.$sess.cmd17$Helper.lengthR(\u001b[32mcmd17.sc\u001b[39m:\u001b[32m6\u001b[39m)\n  ammonite.$sess.cmd17$Helper.lengthR(\u001b[32mcmd17.sc\u001b[39m:\u001b[32m6\u001b[39m)\n  ammonite.$sess.cmd17$Helper.lengthR(\u001b[32mcmd17.sc\u001b[39m:\u001b[32m6\u001b[39m)\n  ammonite.$sess.cmd17$Helper.lengthR(\u001b[32mcmd17.sc\u001b[39m:\u001b[32m6\u001b[39m)\n  ammonite.$sess.cmd17$Helper.lengthR(\u001b[32mcmd17.sc\u001b[39m:\u001b[32m6\u001b[39m)\n  ammonite.$sess.cmd17$Helper.lengthR(\u001b[32mcmd17.sc\u001b[39m:\u001b[32m6\u001b[39m)\n  ammonite.$sess.cmd17$Helper.lengthR(\u001b[32mcmd17.sc\u001b[39m:\u001b[32m6\u001b[39m)\n  ammonite.$sess.cmd17$Helper.lengthR(\u001b[32mcmd17.sc\u001b[39m:\u001b[32m6\u001b[39m)\n  ammonite.$sess.cmd17$Helper.lengthR(\u001b[32mcmd17.sc\u001b[39m:\u001b[32m6\u001b[39m)\n  ammonite.$sess.cmd17$Helper.lengthR(\u001b[32mcmd17.sc\u001b[39m:\u001b[32m6\u001b[39m)\n  ammonite.$sess.cmd17$Helper.lengthR(\u001b[32mcmd17.sc\u001b[39m:\u001b[32m6\u001b[39m)\n  ammonite.$sess.cmd17$Helper.lengthR(\u001b[32mcmd17.sc\u001b[39m:\u001b[32m6\u001b[39m)\n  ammonite.$sess.cmd17$Helper.lengthR(\u001b[32mcmd17.sc\u001b[39m:\u001b[32m6\u001b[39m)\n  ammonite.$sess.cmd17$Helper.lengthR(\u001b[32mcmd17.sc\u001b[39m:\u001b[32m6\u001b[39m)\n  ammonite.$sess.cmd17$Helper.lengthR(\u001b[32mcmd17.sc\u001b[39m:\u001b[32m6\u001b[39m)\n  ammonite.$sess.cmd17$Helper.lengthR(\u001b[32mcmd17.sc\u001b[39m:\u001b[32m6\u001b[39m)\n  ammonite.$sess.cmd17$Helper.lengthR(\u001b[32mcmd17.sc\u001b[39m:\u001b[32m6\u001b[39m)\n  ammonite.$sess.cmd17$Helper.lengthR(\u001b[32mcmd17.sc\u001b[39m:\u001b[32m6\u001b[39m)\n  ammonite.$sess.cmd17$Helper.lengthR(\u001b[32mcmd17.sc\u001b[39m:\u001b[32m6\u001b[39m)\n  ammonite.$sess.cmd17$Helper.lengthR(\u001b[32mcmd17.sc\u001b[39m:\u001b[32m6\u001b[39m)\n  ammonite.$sess.cmd17$Helper.lengthR(\u001b[32mcmd17.sc\u001b[39m:\u001b[32m6\u001b[39m)\n  ammonite.$sess.cmd17$Helper.lengthR(\u001b[32mcmd17.sc\u001b[39m:\u001b[32m6\u001b[39m)\n  ammonite.$sess.cmd17$Helper.lengthR(\u001b[32mcmd17.sc\u001b[39m:\u001b[32m6\u001b[39m)\n  ammonite.$sess.cmd17$Helper.lengthR(\u001b[32mcmd17.sc\u001b[39m:\u001b[32m6\u001b[39m)\n  ammonite.$sess.cmd17$Helper.lengthR(\u001b[32mcmd17.sc\u001b[39m:\u001b[32m6\u001b[39m)\n  ammonite.$sess.cmd17$Helper.lengthR(\u001b[32mcmd17.sc\u001b[39m:\u001b[32m6\u001b[39m)\n  ammonite.$sess.cmd17$Helper.lengthR(\u001b[32mcmd17.sc\u001b[39m:\u001b[32m6\u001b[39m)\n  ammonite.$sess.cmd17$Helper.lengthR(\u001b[32mcmd17.sc\u001b[39m:\u001b[32m6\u001b[39m)\n  ammonite.$sess.cmd17$Helper.lengthR(\u001b[32mcmd17.sc\u001b[39m:\u001b[32m6\u001b[39m)\n  ammonite.$sess.cmd17$Helper.lengthR(\u001b[32mcmd17.sc\u001b[39m:\u001b[32m6\u001b[39m)\n  ammonite.$sess.cmd17$Helper.lengthR(\u001b[32mcmd17.sc\u001b[39m:\u001b[32m6\u001b[39m)\n  ammonite.$sess.cmd17$Helper.lengthR(\u001b[32mcmd17.sc\u001b[39m:\u001b[32m6\u001b[39m)\n  ammonite.$sess.cmd17$Helper.lengthR(\u001b[32mcmd17.sc\u001b[39m:\u001b[32m6\u001b[39m)\n  ammonite.$sess.cmd17$Helper.lengthR(\u001b[32mcmd17.sc\u001b[39m:\u001b[32m6\u001b[39m)\n  ammonite.$sess.cmd17$Helper.lengthR(\u001b[32mcmd17.sc\u001b[39m:\u001b[32m6\u001b[39m)\n  ammonite.$sess.cmd17$Helper.lengthR(\u001b[32mcmd17.sc\u001b[39m:\u001b[32m6\u001b[39m)\n  ammonite.$sess.cmd17$Helper.lengthR(\u001b[32mcmd17.sc\u001b[39m:\u001b[32m6\u001b[39m)\n  ammonite.$sess.cmd17$Helper.lengthR(\u001b[32mcmd17.sc\u001b[39m:\u001b[32m6\u001b[39m)\n  ammonite.$sess.cmd17$Helper.lengthR(\u001b[32mcmd17.sc\u001b[39m:\u001b[32m6\u001b[39m)\n  ammonite.$sess.cmd17$Helper.lengthR(\u001b[32mcmd17.sc\u001b[39m:\u001b[32m6\u001b[39m)\n  ammonite.$sess.cmd17$Helper.lengthR(\u001b[32mcmd17.sc\u001b[39m:\u001b[32m6\u001b[39m)\n  ammonite.$sess.cmd17$Helper.lengthR(\u001b[32mcmd17.sc\u001b[39m:\u001b[32m6\u001b[39m)\n  ammonite.$sess.cmd17$Helper.lengthR(\u001b[32mcmd17.sc\u001b[39m:\u001b[32m6\u001b[39m)\n  ammonite.$sess.cmd17$Helper.lengthR(\u001b[32mcmd17.sc\u001b[39m:\u001b[32m6\u001b[39m)\n  ammonite.$sess.cmd17$Helper.lengthR(\u001b[32mcmd17.sc\u001b[39m:\u001b[32m6\u001b[39m)\n  ammonite.$sess.cmd17$Helper.lengthR(\u001b[32mcmd17.sc\u001b[39m:\u001b[32m6\u001b[39m)\n  ammonite.$sess.cmd17$Helper.lengthR(\u001b[32mcmd17.sc\u001b[39m:\u001b[32m6\u001b[39m)\n  ammonite.$sess.cmd17$Helper.lengthR(\u001b[32mcmd17.sc\u001b[39m:\u001b[32m6\u001b[39m)\n  ammonite.$sess.cmd17$Helper.lengthR(\u001b[32mcmd17.sc\u001b[39m:\u001b[32m6\u001b[39m)\n  ammonite.$sess.cmd17$Helper.lengthR(\u001b[32mcmd17.sc\u001b[39m:\u001b[32m6\u001b[39m)\n  ammonite.$sess.cmd17$Helper.lengthR(\u001b[32mcmd17.sc\u001b[39m:\u001b[32m6\u001b[39m)\n  ammonite.$sess.cmd17$Helper.lengthR(\u001b[32mcmd17.sc\u001b[39m:\u001b[32m6\u001b[39m)\n  ammonite.$sess.cmd17$Helper.lengthR(\u001b[32mcmd17.sc\u001b[39m:\u001b[32m6\u001b[39m)\n  ammonite.$sess.cmd17$Helper.lengthR(\u001b[32mcmd17.sc\u001b[39m:\u001b[32m6\u001b[39m)\n  ammonite.$sess.cmd17$Helper.lengthR(\u001b[32mcmd17.sc\u001b[39m:\u001b[32m6\u001b[39m)\n  ammonite.$sess.cmd17$Helper.lengthR(\u001b[32mcmd17.sc\u001b[39m:\u001b[32m6\u001b[39m)\n  ammonite.$sess.cmd17$Helper.lengthR(\u001b[32mcmd17.sc\u001b[39m:\u001b[32m6\u001b[39m)\n  ammonite.$sess.cmd17$Helper.lengthR(\u001b[32mcmd17.sc\u001b[39m:\u001b[32m6\u001b[39m)\n  ammonite.$sess.cmd17$Helper.lengthR(\u001b[32mcmd17.sc\u001b[39m:\u001b[32m6\u001b[39m)\n  ammonite.$sess.cmd17$Helper.lengthR(\u001b[32mcmd17.sc\u001b[39m:\u001b[32m6\u001b[39m)\n  ammonite.$sess.cmd17$Helper.lengthR(\u001b[32mcmd17.sc\u001b[39m:\u001b[32m6\u001b[39m)\n  ammonite.$sess.cmd17$Helper.lengthR(\u001b[32mcmd17.sc\u001b[39m:\u001b[32m6\u001b[39m)\n  ammonite.$sess.cmd17$Helper.lengthR(\u001b[32mcmd17.sc\u001b[39m:\u001b[32m6\u001b[39m)\n  ammonite.$sess.cmd17$Helper.lengthR(\u001b[32mcmd17.sc\u001b[39m:\u001b[32m6\u001b[39m)\n  ammonite.$sess.cmd17$Helper.lengthR(\u001b[32mcmd17.sc\u001b[39m:\u001b[32m6\u001b[39m)\n  ammonite.$sess.cmd17$Helper.lengthR(\u001b[32mcmd17.sc\u001b[39m:\u001b[32m6\u001b[39m)\n  ammonite.$sess.cmd17$Helper.lengthR(\u001b[32mcmd17.sc\u001b[39m:\u001b[32m6\u001b[39m)\n  ammonite.$sess.cmd17$Helper.lengthR(\u001b[32mcmd17.sc\u001b[39m:\u001b[32m6\u001b[39m)\n  ammonite.$sess.cmd17$Helper.lengthR(\u001b[32mcmd17.sc\u001b[39m:\u001b[32m6\u001b[39m)\n  ammonite.$sess.cmd17$Helper.lengthR(\u001b[32mcmd17.sc\u001b[39m:\u001b[32m6\u001b[39m)\n  ammonite.$sess.cmd17$Helper.lengthR(\u001b[32mcmd17.sc\u001b[39m:\u001b[32m6\u001b[39m)\n  ammonite.$sess.cmd17$Helper.lengthR(\u001b[32mcmd17.sc\u001b[39m:\u001b[32m6\u001b[39m)\n  ammonite.$sess.cmd17$Helper.lengthR(\u001b[32mcmd17.sc\u001b[39m:\u001b[32m6\u001b[39m)\n  ammonite.$sess.cmd17$Helper.lengthR(\u001b[32mcmd17.sc\u001b[39m:\u001b[32m6\u001b[39m)\n  ammonite.$sess.cmd17$Helper.lengthR(\u001b[32mcmd17.sc\u001b[39m:\u001b[32m6\u001b[39m)\n  ammonite.$sess.cmd17$Helper.lengthR(\u001b[32mcmd17.sc\u001b[39m:\u001b[32m6\u001b[39m)\n  ammonite.$sess.cmd17$Helper.lengthR(\u001b[32mcmd17.sc\u001b[39m:\u001b[32m6\u001b[39m)\n  ammonite.$sess.cmd17$Helper.lengthR(\u001b[32mcmd17.sc\u001b[39m:\u001b[32m6\u001b[39m)\n  ammonite.$sess.cmd17$Helper.lengthR(\u001b[32mcmd17.sc\u001b[39m:\u001b[32m6\u001b[39m)\n  ammonite.$sess.cmd17$Helper.lengthR(\u001b[32mcmd17.sc\u001b[39m:\u001b[32m6\u001b[39m)\n  ammonite.$sess.cmd17$Helper.lengthR(\u001b[32mcmd17.sc\u001b[39m:\u001b[32m6\u001b[39m)\n  ammonite.$sess.cmd17$Helper.lengthR(\u001b[32mcmd17.sc\u001b[39m:\u001b[32m6\u001b[39m)\n  ammonite.$sess.cmd17$Helper.lengthR(\u001b[32mcmd17.sc\u001b[39m:\u001b[32m6\u001b[39m)\n  ammonite.$sess.cmd17$Helper.lengthR(\u001b[32mcmd17.sc\u001b[39m:\u001b[32m6\u001b[39m)\n  ammonite.$sess.cmd17$Helper.lengthR(\u001b[32mcmd17.sc\u001b[39m:\u001b[32m6\u001b[39m)\n  ammonite.$sess.cmd17$Helper.lengthR(\u001b[32mcmd17.sc\u001b[39m:\u001b[32m6\u001b[39m)\n  ammonite.$sess.cmd17$Helper.lengthR(\u001b[32mcmd17.sc\u001b[39m:\u001b[32m6\u001b[39m)\n  ammonite.$sess.cmd17$Helper.lengthR(\u001b[32mcmd17.sc\u001b[39m:\u001b[32m6\u001b[39m)\n  ammonite.$sess.cmd17$Helper.lengthR(\u001b[32mcmd17.sc\u001b[39m:\u001b[32m6\u001b[39m)\n  ammonite.$sess.cmd17$Helper.lengthR(\u001b[32mcmd17.sc\u001b[39m:\u001b[32m6\u001b[39m)\n  ammonite.$sess.cmd17$Helper.lengthR(\u001b[32mcmd17.sc\u001b[39m:\u001b[32m6\u001b[39m)\n  ammonite.$sess.cmd17$Helper.lengthR(\u001b[32mcmd17.sc\u001b[39m:\u001b[32m6\u001b[39m)\n  ammonite.$sess.cmd17$Helper.lengthR(\u001b[32mcmd17.sc\u001b[39m:\u001b[32m6\u001b[39m)\n  ammonite.$sess.cmd17$Helper.lengthR(\u001b[32mcmd17.sc\u001b[39m:\u001b[32m6\u001b[39m)\n  ammonite.$sess.cmd17$Helper.lengthR(\u001b[32mcmd17.sc\u001b[39m:\u001b[32m6\u001b[39m)\n  ammonite.$sess.cmd17$Helper.lengthR(\u001b[32mcmd17.sc\u001b[39m:\u001b[32m6\u001b[39m)\n  ammonite.$sess.cmd17$Helper.lengthR(\u001b[32mcmd17.sc\u001b[39m:\u001b[32m6\u001b[39m)\n  ammonite.$sess.cmd17$Helper.lengthR(\u001b[32mcmd17.sc\u001b[39m:\u001b[32m6\u001b[39m)\n  ammonite.$sess.cmd17$Helper.lengthR(\u001b[32mcmd17.sc\u001b[39m:\u001b[32m6\u001b[39m)\n  ammonite.$sess.cmd17$Helper.lengthR(\u001b[32mcmd17.sc\u001b[39m:\u001b[32m6\u001b[39m)\n  ammonite.$sess.cmd17$Helper.lengthR(\u001b[32mcmd17.sc\u001b[39m:\u001b[32m6\u001b[39m)\n  ammonite.$sess.cmd17$Helper.lengthR(\u001b[32mcmd17.sc\u001b[39m:\u001b[32m6\u001b[39m)\n  ammonite.$sess.cmd17$Helper.lengthR(\u001b[32mcmd17.sc\u001b[39m:\u001b[32m6\u001b[39m)\n  ammonite.$sess.cmd17$Helper.lengthR(\u001b[32mcmd17.sc\u001b[39m:\u001b[32m6\u001b[39m)\n  ammonite.$sess.cmd17$Helper.lengthR(\u001b[32mcmd17.sc\u001b[39m:\u001b[32m6\u001b[39m)\n  ammonite.$sess.cmd17$Helper.lengthR(\u001b[32mcmd17.sc\u001b[39m:\u001b[32m6\u001b[39m)\n  ammonite.$sess.cmd17$Helper.lengthR(\u001b[32mcmd17.sc\u001b[39m:\u001b[32m6\u001b[39m)\n  ammonite.$sess.cmd17$Helper.lengthR(\u001b[32mcmd17.sc\u001b[39m:\u001b[32m6\u001b[39m)\n  ammonite.$sess.cmd17$Helper.lengthR(\u001b[32mcmd17.sc\u001b[39m:\u001b[32m6\u001b[39m)\n  ammonite.$sess.cmd17$Helper.lengthR(\u001b[32mcmd17.sc\u001b[39m:\u001b[32m6\u001b[39m)\n  ammonite.$sess.cmd17$Helper.lengthR(\u001b[32mcmd17.sc\u001b[39m:\u001b[32m6\u001b[39m)\n  ammonite.$sess.cmd17$Helper.lengthR(\u001b[32mcmd17.sc\u001b[39m:\u001b[32m6\u001b[39m)\n  ammonite.$sess.cmd17$Helper.lengthR(\u001b[32mcmd17.sc\u001b[39m:\u001b[32m6\u001b[39m)\n  ammonite.$sess.cmd17$Helper.lengthR(\u001b[32mcmd17.sc\u001b[39m:\u001b[32m6\u001b[39m)\n  ammonite.$sess.cmd17$Helper.lengthR(\u001b[32mcmd17.sc\u001b[39m:\u001b[32m6\u001b[39m)\n  ammonite.$sess.cmd17$Helper.lengthR(\u001b[32mcmd17.sc\u001b[39m:\u001b[32m6\u001b[39m)\n  ammonite.$sess.cmd17$Helper.lengthR(\u001b[32mcmd17.sc\u001b[39m:\u001b[32m6\u001b[39m)\n  ammonite.$sess.cmd17$Helper.lengthR(\u001b[32mcmd17.sc\u001b[39m:\u001b[32m6\u001b[39m)\n  ammonite.$sess.cmd17$Helper.lengthR(\u001b[32mcmd17.sc\u001b[39m:\u001b[32m6\u001b[39m)\n  ammonite.$sess.cmd17$Helper.lengthR(\u001b[32mcmd17.sc\u001b[39m:\u001b[32m6\u001b[39m)\n  ammonite.$sess.cmd17$Helper.lengthR(\u001b[32mcmd17.sc\u001b[39m:\u001b[32m6\u001b[39m)\n  ammonite.$sess.cmd17$Helper.lengthR(\u001b[32mcmd17.sc\u001b[39m:\u001b[32m6\u001b[39m)\n  ammonite.$sess.cmd17$Helper.lengthR(\u001b[32mcmd17.sc\u001b[39m:\u001b[32m6\u001b[39m)\n  ammonite.$sess.cmd17$Helper.lengthR(\u001b[32mcmd17.sc\u001b[39m:\u001b[32m6\u001b[39m)\n  ammonite.$sess.cmd17$Helper.lengthR(\u001b[32mcmd17.sc\u001b[39m:\u001b[32m6\u001b[39m)\n  ammonite.$sess.cmd17$Helper.lengthR(\u001b[32mcmd17.sc\u001b[39m:\u001b[32m6\u001b[39m)\n  ammonite.$sess.cmd17$Helper.lengthR(\u001b[32mcmd17.sc\u001b[39m:\u001b[32m6\u001b[39m)\n  ammonite.$sess.cmd17$Helper.lengthR(\u001b[32mcmd17.sc\u001b[39m:\u001b[32m6\u001b[39m)\n  ammonite.$sess.cmd17$Helper.lengthR(\u001b[32mcmd17.sc\u001b[39m:\u001b[32m6\u001b[39m)\n  ammonite.$sess.cmd17$Helper.lengthR(\u001b[32mcmd17.sc\u001b[39m:\u001b[32m6\u001b[39m)\n  ammonite.$sess.cmd17$Helper.lengthR(\u001b[32mcmd17.sc\u001b[39m:\u001b[32m6\u001b[39m)\n  ammonite.$sess.cmd17$Helper.lengthR(\u001b[32mcmd17.sc\u001b[39m:\u001b[32m6\u001b[39m)\n  ammonite.$sess.cmd17$Helper.lengthR(\u001b[32mcmd17.sc\u001b[39m:\u001b[32m6\u001b[39m)\n  ammonite.$sess.cmd17$Helper.lengthR(\u001b[32mcmd17.sc\u001b[39m:\u001b[32m6\u001b[39m)\n  ammonite.$sess.cmd17$Helper.lengthR(\u001b[32mcmd17.sc\u001b[39m:\u001b[32m6\u001b[39m)\n  ammonite.$sess.cmd17$Helper.lengthR(\u001b[32mcmd17.sc\u001b[39m:\u001b[32m6\u001b[39m)\n  ammonite.$sess.cmd17$Helper.lengthR(\u001b[32mcmd17.sc\u001b[39m:\u001b[32m6\u001b[39m)\n  ammonite.$sess.cmd17$Helper.lengthR(\u001b[32mcmd17.sc\u001b[39m:\u001b[32m6\u001b[39m)\n  ammonite.$sess.cmd17$Helper.lengthR(\u001b[32mcmd17.sc\u001b[39m:\u001b[32m6\u001b[39m)\n  ammonite.$sess.cmd17$Helper.lengthR(\u001b[32mcmd17.sc\u001b[39m:\u001b[32m6\u001b[39m)\n  ammonite.$sess.cmd17$Helper.lengthR(\u001b[32mcmd17.sc\u001b[39m:\u001b[32m6\u001b[39m)\n  ammonite.$sess.cmd17$Helper.lengthR(\u001b[32mcmd17.sc\u001b[39m:\u001b[32m6\u001b[39m)\n  ammonite.$sess.cmd17$Helper.lengthR(\u001b[32mcmd17.sc\u001b[39m:\u001b[32m6\u001b[39m)\n  ammonite.$sess.cmd17$Helper.lengthR(\u001b[32mcmd17.sc\u001b[39m:\u001b[32m6\u001b[39m)\n  ammonite.$sess.cmd17$Helper.lengthR(\u001b[32mcmd17.sc\u001b[39m:\u001b[32m6\u001b[39m)\n  ammonite.$sess.cmd17$Helper.lengthR(\u001b[32mcmd17.sc\u001b[39m:\u001b[32m6\u001b[39m)\n  ammonite.$sess.cmd17$Helper.lengthR(\u001b[32mcmd17.sc\u001b[39m:\u001b[32m6\u001b[39m)\n  ammonite.$sess.cmd17$Helper.lengthR(\u001b[32mcmd17.sc\u001b[39m:\u001b[32m6\u001b[39m)\n  ammonite.$sess.cmd17$Helper.lengthR(\u001b[32mcmd17.sc\u001b[39m:\u001b[32m6\u001b[39m)\n  ammonite.$sess.cmd17$Helper.lengthR(\u001b[32mcmd17.sc\u001b[39m:\u001b[32m6\u001b[39m)\n  ammonite.$sess.cmd17$Helper.lengthR(\u001b[32mcmd17.sc\u001b[39m:\u001b[32m6\u001b[39m)\n  ammonite.$sess.cmd17$Helper.lengthR(\u001b[32mcmd17.sc\u001b[39m:\u001b[32m6\u001b[39m)\n  ammonite.$sess.cmd17$Helper.lengthR(\u001b[32mcmd17.sc\u001b[39m:\u001b[32m6\u001b[39m)\n  ammonite.$sess.cmd17$Helper.lengthR(\u001b[32mcmd17.sc\u001b[39m:\u001b[32m6\u001b[39m)\n  ammonite.$sess.cmd17$Helper.lengthR(\u001b[32mcmd17.sc\u001b[39m:\u001b[32m6\u001b[39m)\n  ammonite.$sess.cmd17$Helper.lengthR(\u001b[32mcmd17.sc\u001b[39m:\u001b[32m6\u001b[39m)\n  ammonite.$sess.cmd17$Helper.lengthR(\u001b[32mcmd17.sc\u001b[39m:\u001b[32m6\u001b[39m)\n  ammonite.$sess.cmd17$Helper.lengthR(\u001b[32mcmd17.sc\u001b[39m:\u001b[32m6\u001b[39m)\n  ammonite.$sess.cmd17$Helper.lengthR(\u001b[32mcmd17.sc\u001b[39m:\u001b[32m6\u001b[39m)\n  ammonite.$sess.cmd17$Helper.lengthR(\u001b[32mcmd17.sc\u001b[39m:\u001b[32m6\u001b[39m)\n  ammonite.$sess.cmd17$Helper.lengthR(\u001b[32mcmd17.sc\u001b[39m:\u001b[32m6\u001b[39m)\n  ammonite.$sess.cmd17$Helper.lengthR(\u001b[32mcmd17.sc\u001b[39m:\u001b[32m6\u001b[39m)\n  ammonite.$sess.cmd17$Helper.lengthR(\u001b[32mcmd17.sc\u001b[39m:\u001b[32m6\u001b[39m)\n  ammonite.$sess.cmd17$Helper.lengthR(\u001b[32mcmd17.sc\u001b[39m:\u001b[32m6\u001b[39m)\n  ammonite.$sess.cmd17$Helper.lengthR(\u001b[32mcmd17.sc\u001b[39m:\u001b[32m6\u001b[39m)\n  ammonite.$sess.cmd17$Helper.lengthR(\u001b[32mcmd17.sc\u001b[39m:\u001b[32m6\u001b[39m)\n  ammonite.$sess.cmd17$Helper.lengthR(\u001b[32mcmd17.sc\u001b[39m:\u001b[32m6\u001b[39m)\n  ammonite.$sess.cmd17$Helper.lengthR(\u001b[32mcmd17.sc\u001b[39m:\u001b[32m6\u001b[39m)\n  ammonite.$sess.cmd17$Helper.lengthR(\u001b[32mcmd17.sc\u001b[39m:\u001b[32m6\u001b[39m)\n  ammonite.$sess.cmd17$Helper.lengthR(\u001b[32mcmd17.sc\u001b[39m:\u001b[32m6\u001b[39m)\n  ammonite.$sess.cmd17$Helper.lengthR(\u001b[32mcmd17.sc\u001b[39m:\u001b[32m6\u001b[39m)\n  ammonite.$sess.cmd17$Helper.lengthR(\u001b[32mcmd17.sc\u001b[39m:\u001b[32m6\u001b[39m)\n  ammonite.$sess.cmd17$Helper.lengthR(\u001b[32mcmd17.sc\u001b[39m:\u001b[32m6\u001b[39m)\n  ammonite.$sess.cmd17$Helper.lengthR(\u001b[32mcmd17.sc\u001b[39m:\u001b[32m6\u001b[39m)\n  ammonite.$sess.cmd17$Helper.lengthR(\u001b[32mcmd17.sc\u001b[39m:\u001b[32m6\u001b[39m)\n  ammonite.$sess.cmd17$Helper.lengthR(\u001b[32mcmd17.sc\u001b[39m:\u001b[32m6\u001b[39m)\n  ammonite.$sess.cmd17$Helper.lengthR(\u001b[32mcmd17.sc\u001b[39m:\u001b[32m6\u001b[39m)\n  ammonite.$sess.cmd17$Helper.lengthR(\u001b[32mcmd17.sc\u001b[39m:\u001b[32m6\u001b[39m)\n  ammonite.$sess.cmd17$Helper.lengthR(\u001b[32mcmd17.sc\u001b[39m:\u001b[32m6\u001b[39m)\n  ammonite.$sess.cmd17$Helper.lengthR(\u001b[32mcmd17.sc\u001b[39m:\u001b[32m6\u001b[39m)\n  ammonite.$sess.cmd17$Helper.lengthR(\u001b[32mcmd17.sc\u001b[39m:\u001b[32m6\u001b[39m)\n  ammonite.$sess.cmd17$Helper.lengthR(\u001b[32mcmd17.sc\u001b[39m:\u001b[32m6\u001b[39m)\n  ammonite.$sess.cmd17$Helper.lengthR(\u001b[32mcmd17.sc\u001b[39m:\u001b[32m6\u001b[39m)\n  ammonite.$sess.cmd17$Helper.lengthR(\u001b[32mcmd17.sc\u001b[39m:\u001b[32m6\u001b[39m)\n  ammonite.$sess.cmd17$Helper.lengthR(\u001b[32mcmd17.sc\u001b[39m:\u001b[32m6\u001b[39m)\n  ammonite.$sess.cmd17$Helper.lengthR(\u001b[32mcmd17.sc\u001b[39m:\u001b[32m6\u001b[39m)\n  ammonite.$sess.cmd17$Helper.lengthR(\u001b[32mcmd17.sc\u001b[39m:\u001b[32m6\u001b[39m)\n  ammonite.$sess.cmd17$Helper.lengthR(\u001b[32mcmd17.sc\u001b[39m:\u001b[32m6\u001b[39m)\n  ammonite.$sess.cmd17$Helper.lengthR(\u001b[32mcmd17.sc\u001b[39m:\u001b[32m6\u001b[39m)\n  ammonite.$sess.cmd17$Helper.lengthR(\u001b[32mcmd17.sc\u001b[39m:\u001b[32m6\u001b[39m)\n  ammonite.$sess.cmd17$Helper.lengthR(\u001b[32mcmd17.sc\u001b[39m:\u001b[32m6\u001b[39m)\n  ammonite.$sess.cmd17$Helper.lengthR(\u001b[32mcmd17.sc\u001b[39m:\u001b[32m6\u001b[39m)\n  ammonite.$sess.cmd17$Helper.lengthR(\u001b[32mcmd17.sc\u001b[39m:\u001b[32m6\u001b[39m)\n  ammonite.$sess.cmd17$Helper.lengthR(\u001b[32mcmd17.sc\u001b[39m:\u001b[32m6\u001b[39m)\n  ammonite.$sess.cmd17$Helper.lengthR(\u001b[32mcmd17.sc\u001b[39m:\u001b[32m6\u001b[39m)\n  ammonite.$sess.cmd17$Helper.lengthR(\u001b[32mcmd17.sc\u001b[39m:\u001b[32m6\u001b[39m)\n  ammonite.$sess.cmd17$Helper.lengthR(\u001b[32mcmd17.sc\u001b[39m:\u001b[32m6\u001b[39m)\n  ammonite.$sess.cmd17$Helper.lengthR(\u001b[32mcmd17.sc\u001b[39m:\u001b[32m6\u001b[39m)\n  ammonite.$sess.cmd17$Helper.lengthR(\u001b[32mcmd17.sc\u001b[39m:\u001b[32m6\u001b[39m)\n  ammonite.$sess.cmd17$Helper.lengthR(\u001b[32mcmd17.sc\u001b[39m:\u001b[32m6\u001b[39m)\n  ammonite.$sess.cmd17$Helper.lengthR(\u001b[32mcmd17.sc\u001b[39m:\u001b[32m6\u001b[39m)\n  ammonite.$sess.cmd17$Helper.lengthR(\u001b[32mcmd17.sc\u001b[39m:\u001b[32m6\u001b[39m)\n  ammonite.$sess.cmd17$Helper.lengthR(\u001b[32mcmd17.sc\u001b[39m:\u001b[32m6\u001b[39m)\n  ammonite.$sess.cmd17$Helper.lengthR(\u001b[32mcmd17.sc\u001b[39m:\u001b[32m6\u001b[39m)\n  ammonite.$sess.cmd17$Helper.lengthR(\u001b[32mcmd17.sc\u001b[39m:\u001b[32m6\u001b[39m)\n  ammonite.$sess.cmd17$Helper.lengthR(\u001b[32mcmd17.sc\u001b[39m:\u001b[32m6\u001b[39m)\n  ammonite.$sess.cmd17$Helper.lengthR(\u001b[32mcmd17.sc\u001b[39m:\u001b[32m6\u001b[39m)\n  ammonite.$sess.cmd17$Helper.lengthR(\u001b[32mcmd17.sc\u001b[39m:\u001b[32m6\u001b[39m)\n  ammonite.$sess.cmd17$Helper.lengthR(\u001b[32mcmd17.sc\u001b[39m:\u001b[32m6\u001b[39m)\n  ammonite.$sess.cmd17$Helper.lengthR(\u001b[32mcmd17.sc\u001b[39m:\u001b[32m6\u001b[39m)\n  ammonite.$sess.cmd17$Helper.lengthR(\u001b[32mcmd17.sc\u001b[39m:\u001b[32m6\u001b[39m)\n  ammonite.$sess.cmd17$Helper.lengthR(\u001b[32mcmd17.sc\u001b[39m:\u001b[32m6\u001b[39m)\n  ammonite.$sess.cmd17$Helper.lengthR(\u001b[32mcmd17.sc\u001b[39m:\u001b[32m6\u001b[39m)\n  ammonite.$sess.cmd17$Helper.lengthR(\u001b[32mcmd17.sc\u001b[39m:\u001b[32m6\u001b[39m)\n  ammonite.$sess.cmd17$Helper.lengthR(\u001b[32mcmd17.sc\u001b[39m:\u001b[32m6\u001b[39m)\n  ammonite.$sess.cmd17$Helper.lengthR(\u001b[32mcmd17.sc\u001b[39m:\u001b[32m6\u001b[39m)\n  ammonite.$sess.cmd17$Helper.lengthR(\u001b[32mcmd17.sc\u001b[39m:\u001b[32m6\u001b[39m)\n  ammonite.$sess.cmd17$Helper.lengthR(\u001b[32mcmd17.sc\u001b[39m:\u001b[32m6\u001b[39m)\n  ammonite.$sess.cmd17$Helper.lengthR(\u001b[32mcmd17.sc\u001b[39m:\u001b[32m6\u001b[39m)\n  ammonite.$sess.cmd17$Helper.lengthR(\u001b[32mcmd17.sc\u001b[39m:\u001b[32m6\u001b[39m)\n  ammonite.$sess.cmd17$Helper.lengthR(\u001b[32mcmd17.sc\u001b[39m:\u001b[32m6\u001b[39m)\n  ammonite.$sess.cmd17$Helper.lengthR(\u001b[32mcmd17.sc\u001b[39m:\u001b[32m6\u001b[39m)\n  ammonite.$sess.cmd17$Helper.lengthR(\u001b[32mcmd17.sc\u001b[39m:\u001b[32m6\u001b[39m)\n  ammonite.$sess.cmd17$Helper.lengthR(\u001b[32mcmd17.sc\u001b[39m:\u001b[32m6\u001b[39m)\n  ammonite.$sess.cmd17$Helper.lengthR(\u001b[32mcmd17.sc\u001b[39m:\u001b[32m6\u001b[39m)\n  ammonite.$sess.cmd17$Helper.lengthR(\u001b[32mcmd17.sc\u001b[39m:\u001b[32m6\u001b[39m)\n  ammonite.$sess.cmd17$Helper.lengthR(\u001b[32mcmd17.sc\u001b[39m:\u001b[32m6\u001b[39m)\n  ammonite.$sess.cmd17$Helper.lengthR(\u001b[32mcmd17.sc\u001b[39m:\u001b[32m6\u001b[39m)\n  ammonite.$sess.cmd17$Helper.lengthR(\u001b[32mcmd17.sc\u001b[39m:\u001b[32m6\u001b[39m)\n  ammonite.$sess.cmd17$Helper.lengthR(\u001b[32mcmd17.sc\u001b[39m:\u001b[32m6\u001b[39m)\n  ammonite.$sess.cmd17$Helper.lengthR(\u001b[32mcmd17.sc\u001b[39m:\u001b[32m6\u001b[39m)\n  ammonite.$sess.cmd17$Helper.lengthR(\u001b[32mcmd17.sc\u001b[39m:\u001b[32m6\u001b[39m)\n  ammonite.$sess.cmd17$Helper.lengthR(\u001b[32mcmd17.sc\u001b[39m:\u001b[32m6\u001b[39m)\n  ammonite.$sess.cmd17$Helper.lengthR(\u001b[32mcmd17.sc\u001b[39m:\u001b[32m6\u001b[39m)\n  ammonite.$sess.cmd17$Helper.lengthR(\u001b[32mcmd17.sc\u001b[39m:\u001b[32m6\u001b[39m)\n  ammonite.$sess.cmd17$Helper.lengthR(\u001b[32mcmd17.sc\u001b[39m:\u001b[32m6\u001b[39m)\n  ammonite.$sess.cmd17$Helper.lengthR(\u001b[32mcmd17.sc\u001b[39m:\u001b[32m6\u001b[39m)\n  ammonite.$sess.cmd17$Helper.lengthR(\u001b[32mcmd17.sc\u001b[39m:\u001b[32m6\u001b[39m)\n  ammonite.$sess.cmd17$Helper.lengthR(\u001b[32mcmd17.sc\u001b[39m:\u001b[32m6\u001b[39m)\n  ammonite.$sess.cmd17$Helper.lengthR(\u001b[32mcmd17.sc\u001b[39m:\u001b[32m6\u001b[39m)\n  ammonite.$sess.cmd17$Helper.lengthR(\u001b[32mcmd17.sc\u001b[39m:\u001b[32m6\u001b[39m)\n  ammonite.$sess.cmd17$Helper.lengthR(\u001b[32mcmd17.sc\u001b[39m:\u001b[32m6\u001b[39m)\n  ammonite.$sess.cmd17$Helper.lengthR(\u001b[32mcmd17.sc\u001b[39m:\u001b[32m6\u001b[39m)\n  ammonite.$sess.cmd17$Helper.lengthR(\u001b[32mcmd17.sc\u001b[39m:\u001b[32m6\u001b[39m)\n  ammonite.$sess.cmd17$Helper.lengthR(\u001b[32mcmd17.sc\u001b[39m:\u001b[32m6\u001b[39m)\n  ammonite.$sess.cmd17$Helper.lengthR(\u001b[32mcmd17.sc\u001b[39m:\u001b[32m6\u001b[39m)\n  ammonite.$sess.cmd17$Helper.lengthR(\u001b[32mcmd17.sc\u001b[39m:\u001b[32m6\u001b[39m)\n  ammonite.$sess.cmd17$Helper.lengthR(\u001b[32mcmd17.sc\u001b[39m:\u001b[32m6\u001b[39m)\n  ammonite.$sess.cmd17$Helper.lengthR(\u001b[32mcmd17.sc\u001b[39m:\u001b[32m6\u001b[39m)\n  ammonite.$sess.cmd17$Helper.lengthR(\u001b[32mcmd17.sc\u001b[39m:\u001b[32m6\u001b[39m)\n  ammonite.$sess.cmd17$Helper.lengthR(\u001b[32mcmd17.sc\u001b[39m:\u001b[32m6\u001b[39m)\n  ammonite.$sess.cmd17$Helper.lengthR(\u001b[32mcmd17.sc\u001b[39m:\u001b[32m6\u001b[39m)\n  ammonite.$sess.cmd17$Helper.lengthR(\u001b[32mcmd17.sc\u001b[39m:\u001b[32m6\u001b[39m)\n  ammonite.$sess.cmd17$Helper.lengthR(\u001b[32mcmd17.sc\u001b[39m:\u001b[32m6\u001b[39m)\n  ammonite.$sess.cmd17$Helper.lengthR(\u001b[32mcmd17.sc\u001b[39m:\u001b[32m6\u001b[39m)\n  ammonite.$sess.cmd17$Helper.lengthR(\u001b[32mcmd17.sc\u001b[39m:\u001b[32m6\u001b[39m)\n  ammonite.$sess.cmd17$Helper.lengthR(\u001b[32mcmd17.sc\u001b[39m:\u001b[32m6\u001b[39m)\n  ammonite.$sess.cmd17$Helper.lengthR(\u001b[32mcmd17.sc\u001b[39m:\u001b[32m6\u001b[39m)\n  ammonite.$sess.cmd17$Helper.lengthR(\u001b[32mcmd17.sc\u001b[39m:\u001b[32m6\u001b[39m)\n  ammonite.$sess.cmd17$Helper.lengthR(\u001b[32mcmd17.sc\u001b[39m:\u001b[32m6\u001b[39m)\n  ammonite.$sess.cmd17$Helper.lengthR(\u001b[32mcmd17.sc\u001b[39m:\u001b[32m6\u001b[39m)\n  ammonite.$sess.cmd17$Helper.lengthR(\u001b[32mcmd17.sc\u001b[39m:\u001b[32m6\u001b[39m)\n  ammonite.$sess.cmd17$Helper.lengthR(\u001b[32mcmd17.sc\u001b[39m:\u001b[32m6\u001b[39m)\n  ammonite.$sess.cmd17$Helper.lengthR(\u001b[32mcmd17.sc\u001b[39m:\u001b[32m6\u001b[39m)\n  ammonite.$sess.cmd17$Helper.lengthR(\u001b[32mcmd17.sc\u001b[39m:\u001b[32m6\u001b[39m)\n  ammonite.$sess.cmd17$Helper.lengthR(\u001b[32mcmd17.sc\u001b[39m:\u001b[32m6\u001b[39m)\n  ammonite.$sess.cmd17$Helper.lengthR(\u001b[32mcmd17.sc\u001b[39m:\u001b[32m6\u001b[39m)\n  ammonite.$sess.cmd17$Helper.lengthR(\u001b[32mcmd17.sc\u001b[39m:\u001b[32m6\u001b[39m)\n  ammonite.$sess.cmd17$Helper.lengthR(\u001b[32mcmd17.sc\u001b[39m:\u001b[32m6\u001b[39m)\n  ammonite.$sess.cmd17$Helper.lengthR(\u001b[32mcmd17.sc\u001b[39m:\u001b[32m6\u001b[39m)\n  ammonite.$sess.cmd17$Helper.lengthR(\u001b[32mcmd17.sc\u001b[39m:\u001b[32m6\u001b[39m)\n  ammonite.$sess.cmd17$Helper.lengthR(\u001b[32mcmd17.sc\u001b[39m:\u001b[32m6\u001b[39m)\n  ammonite.$sess.cmd17$Helper.lengthR(\u001b[32mcmd17.sc\u001b[39m:\u001b[32m6\u001b[39m)\n  ammonite.$sess.cmd17$Helper.lengthR(\u001b[32mcmd17.sc\u001b[39m:\u001b[32m6\u001b[39m)\n  ammonite.$sess.cmd17$Helper.lengthR(\u001b[32mcmd17.sc\u001b[39m:\u001b[32m6\u001b[39m)\n  ammonite.$sess.cmd17$Helper.lengthR(\u001b[32mcmd17.sc\u001b[39m:\u001b[32m6\u001b[39m)\n  ammonite.$sess.cmd17$Helper.lengthR(\u001b[32mcmd17.sc\u001b[39m:\u001b[32m6\u001b[39m)\n  ammonite.$sess.cmd17$Helper.lengthR(\u001b[32mcmd17.sc\u001b[39m:\u001b[32m6\u001b[39m)\n  ammonite.$sess.cmd17$Helper.lengthR(\u001b[32mcmd17.sc\u001b[39m:\u001b[32m6\u001b[39m)\n  ammonite.$sess.cmd17$Helper.lengthR(\u001b[32mcmd17.sc\u001b[39m:\u001b[32m6\u001b[39m)\n  ammonite.$sess.cmd17$Helper.lengthR(\u001b[32mcmd17.sc\u001b[39m:\u001b[32m6\u001b[39m)\n  ammonite.$sess.cmd17$Helper.lengthR(\u001b[32mcmd17.sc\u001b[39m:\u001b[32m6\u001b[39m)\n  ammonite.$sess.cmd17$Helper.lengthR(\u001b[32mcmd17.sc\u001b[39m:\u001b[32m6\u001b[39m)\n  ammonite.$sess.cmd17$Helper.lengthR(\u001b[32mcmd17.sc\u001b[39m:\u001b[32m6\u001b[39m)\n  ammonite.$sess.cmd17$Helper.lengthR(\u001b[32mcmd17.sc\u001b[39m:\u001b[32m6\u001b[39m)\n  ammonite.$sess.cmd17$Helper.lengthR(\u001b[32mcmd17.sc\u001b[39m:\u001b[32m6\u001b[39m)\n  ammonite.$sess.cmd17$Helper.lengthR(\u001b[32mcmd17.sc\u001b[39m:\u001b[32m6\u001b[39m)\n  ammonite.$sess.cmd17$Helper.lengthR(\u001b[32mcmd17.sc\u001b[39m:\u001b[32m6\u001b[39m)\n  ammonite.$sess.cmd17$Helper.lengthR(\u001b[32mcmd17.sc\u001b[39m:\u001b[32m6\u001b[39m)\n  ammonite.$sess.cmd17$Helper.lengthR(\u001b[32mcmd17.sc\u001b[39m:\u001b[32m6\u001b[39m)\n  ammonite.$sess.cmd17$Helper.lengthR(\u001b[32mcmd17.sc\u001b[39m:\u001b[32m6\u001b[39m)\n  ammonite.$sess.cmd17$Helper.lengthR(\u001b[32mcmd17.sc\u001b[39m:\u001b[32m6\u001b[39m)\n  ammonite.$sess.cmd17$Helper.lengthR(\u001b[32mcmd17.sc\u001b[39m:\u001b[32m6\u001b[39m)\n  ammonite.$sess.cmd17$Helper.lengthR(\u001b[32mcmd17.sc\u001b[39m:\u001b[32m6\u001b[39m)\n  ammonite.$sess.cmd17$Helper.lengthR(\u001b[32mcmd17.sc\u001b[39m:\u001b[32m6\u001b[39m)\n  ammonite.$sess.cmd17$Helper.lengthR(\u001b[32mcmd17.sc\u001b[39m:\u001b[32m6\u001b[39m)\n  ammonite.$sess.cmd17$Helper.lengthR(\u001b[32mcmd17.sc\u001b[39m:\u001b[32m6\u001b[39m)\n  ammonite.$sess.cmd17$Helper.lengthR(\u001b[32mcmd17.sc\u001b[39m:\u001b[32m6\u001b[39m)\n  ammonite.$sess.cmd17$Helper.lengthR(\u001b[32mcmd17.sc\u001b[39m:\u001b[32m6\u001b[39m)\n  ammonite.$sess.cmd17$Helper.lengthR(\u001b[32mcmd17.sc\u001b[39m:\u001b[32m6\u001b[39m)\n  ammonite.$sess.cmd17$Helper.lengthR(\u001b[32mcmd17.sc\u001b[39m:\u001b[32m6\u001b[39m)\n  ammonite.$sess.cmd17$Helper.lengthR(\u001b[32mcmd17.sc\u001b[39m:\u001b[32m6\u001b[39m)\n  ammonite.$sess.cmd17$Helper.lengthR(\u001b[32mcmd17.sc\u001b[39m:\u001b[32m6\u001b[39m)\n  ammonite.$sess.cmd17$Helper.lengthR(\u001b[32mcmd17.sc\u001b[39m:\u001b[32m6\u001b[39m)\n  ammonite.$sess.cmd17$Helper.lengthR(\u001b[32mcmd17.sc\u001b[39m:\u001b[32m6\u001b[39m)\n  ammonite.$sess.cmd17$Helper.lengthR(\u001b[32mcmd17.sc\u001b[39m:\u001b[32m6\u001b[39m)\n  ammonite.$sess.cmd17$Helper.lengthR(\u001b[32mcmd17.sc\u001b[39m:\u001b[32m6\u001b[39m)\n  ammonite.$sess.cmd17$Helper.lengthR(\u001b[32mcmd17.sc\u001b[39m:\u001b[32m6\u001b[39m)\n  ammonite.$sess.cmd17$Helper.lengthR(\u001b[32mcmd17.sc\u001b[39m:\u001b[32m6\u001b[39m)\n  ammonite.$sess.cmd17$Helper.lengthR(\u001b[32mcmd17.sc\u001b[39m:\u001b[32m6\u001b[39m)\n  ammonite.$sess.cmd17$Helper.lengthR(\u001b[32mcmd17.sc\u001b[39m:\u001b[32m6\u001b[39m)\n  ammonite.$sess.cmd17$Helper.lengthR(\u001b[32mcmd17.sc\u001b[39m:\u001b[32m6\u001b[39m)\n  ammonite.$sess.cmd17$Helper.lengthR(\u001b[32mcmd17.sc\u001b[39m:\u001b[32m6\u001b[39m)\n  ammonite.$sess.cmd17$Helper.lengthR(\u001b[32mcmd17.sc\u001b[39m:\u001b[32m6\u001b[39m)\n  ammonite.$sess.cmd17$Helper.lengthR(\u001b[32mcmd17.sc\u001b[39m:\u001b[32m6\u001b[39m)\n  ammonite.$sess.cmd17$Helper.lengthR(\u001b[32mcmd17.sc\u001b[39m:\u001b[32m6\u001b[39m)\n  ammonite.$sess.cmd17$Helper.lengthR(\u001b[32mcmd17.sc\u001b[39m:\u001b[32m6\u001b[39m)\n  ammonite.$sess.cmd17$Helper.lengthR(\u001b[32mcmd17.sc\u001b[39m:\u001b[32m6\u001b[39m)\n  ammonite.$sess.cmd17$Helper.lengthR(\u001b[32mcmd17.sc\u001b[39m:\u001b[32m6\u001b[39m)\n  ammonite.$sess.cmd17$Helper.lengthR(\u001b[32mcmd17.sc\u001b[39m:\u001b[32m6\u001b[39m)\n  ammonite.$sess.cmd17$Helper.lengthR(\u001b[32mcmd17.sc\u001b[39m:\u001b[32m6\u001b[39m)\n  ammonite.$sess.cmd17$Helper.lengthR(\u001b[32mcmd17.sc\u001b[39m:\u001b[32m6\u001b[39m)\n  ammonite.$sess.cmd17$Helper.lengthR(\u001b[32mcmd17.sc\u001b[39m:\u001b[32m6\u001b[39m)\n  ammonite.$sess.cmd17$Helper.lengthR(\u001b[32mcmd17.sc\u001b[39m:\u001b[32m6\u001b[39m)\n  ammonite.$sess.cmd17$Helper.lengthR(\u001b[32mcmd17.sc\u001b[39m:\u001b[32m6\u001b[39m)\n  ammonite.$sess.cmd17$Helper.lengthR(\u001b[32mcmd17.sc\u001b[39m:\u001b[32m6\u001b[39m)\n  ammonite.$sess.cmd17$Helper.lengthR(\u001b[32mcmd17.sc\u001b[39m:\u001b[32m6\u001b[39m)\n  ammonite.$sess.cmd17$Helper.lengthR(\u001b[32mcmd17.sc\u001b[39m:\u001b[32m6\u001b[39m)\n  ammonite.$sess.cmd17$Helper.lengthR(\u001b[32mcmd17.sc\u001b[39m:\u001b[32m6\u001b[39m)\n  ammonite.$sess.cmd17$Helper.lengthR(\u001b[32mcmd17.sc\u001b[39m:\u001b[32m6\u001b[39m)\n  ammonite.$sess.cmd17$Helper.lengthR(\u001b[32mcmd17.sc\u001b[39m:\u001b[32m6\u001b[39m)\n  ammonite.$sess.cmd17$Helper.lengthR(\u001b[32mcmd17.sc\u001b[39m:\u001b[32m6\u001b[39m)\n  ammonite.$sess.cmd17$Helper.lengthR(\u001b[32mcmd17.sc\u001b[39m:\u001b[32m6\u001b[39m)\n  ammonite.$sess.cmd17$Helper.lengthR(\u001b[32mcmd17.sc\u001b[39m:\u001b[32m6\u001b[39m)\n  ammonite.$sess.cmd17$Helper.lengthR(\u001b[32mcmd17.sc\u001b[39m:\u001b[32m6\u001b[39m)\n  ammonite.$sess.cmd17$Helper.lengthR(\u001b[32mcmd17.sc\u001b[39m:\u001b[32m6\u001b[39m)\n  ammonite.$sess.cmd17$Helper.lengthR(\u001b[32mcmd17.sc\u001b[39m:\u001b[32m6\u001b[39m)\n  ammonite.$sess.cmd17$Helper.lengthR(\u001b[32mcmd17.sc\u001b[39m:\u001b[32m6\u001b[39m)\n  ammonite.$sess.cmd17$Helper.lengthR(\u001b[32mcmd17.sc\u001b[39m:\u001b[32m6\u001b[39m)\n  ammonite.$sess.cmd17$Helper.lengthR(\u001b[32mcmd17.sc\u001b[39m:\u001b[32m6\u001b[39m)\n  ammonite.$sess.cmd17$Helper.lengthR(\u001b[32mcmd17.sc\u001b[39m:\u001b[32m6\u001b[39m)\n  ammonite.$sess.cmd17$Helper.lengthR(\u001b[32mcmd17.sc\u001b[39m:\u001b[32m6\u001b[39m)\n  ammonite.$sess.cmd17$Helper.lengthR(\u001b[32mcmd17.sc\u001b[39m:\u001b[32m6\u001b[39m)\n  ammonite.$sess.cmd17$Helper.lengthR(\u001b[32mcmd17.sc\u001b[39m:\u001b[32m6\u001b[39m)\n  ammonite.$sess.cmd17$Helper.lengthR(\u001b[32mcmd17.sc\u001b[39m:\u001b[32m6\u001b[39m)\n  ammonite.$sess.cmd17$Helper.lengthR(\u001b[32mcmd17.sc\u001b[39m:\u001b[32m6\u001b[39m)\n  ammonite.$sess.cmd17$Helper.lengthR(\u001b[32mcmd17.sc\u001b[39m:\u001b[32m6\u001b[39m)\n  ammonite.$sess.cmd17$Helper.lengthR(\u001b[32mcmd17.sc\u001b[39m:\u001b[32m6\u001b[39m)\n  ammonite.$sess.cmd17$Helper.lengthR(\u001b[32mcmd17.sc\u001b[39m:\u001b[32m6\u001b[39m)\n  ammonite.$sess.cmd17$Helper.lengthR(\u001b[32mcmd17.sc\u001b[39m:\u001b[32m6\u001b[39m)\n  ammonite.$sess.cmd17$Helper.lengthR(\u001b[32mcmd17.sc\u001b[39m:\u001b[32m6\u001b[39m)\n  ammonite.$sess.cmd17$Helper.lengthR(\u001b[32mcmd17.sc\u001b[39m:\u001b[32m6\u001b[39m)\n  ammonite.$sess.cmd17$Helper.lengthR(\u001b[32mcmd17.sc\u001b[39m:\u001b[32m6\u001b[39m)\n  ammonite.$sess.cmd17$Helper.lengthR(\u001b[32mcmd17.sc\u001b[39m:\u001b[32m6\u001b[39m)\n  ammonite.$sess.cmd17$Helper.lengthR(\u001b[32mcmd17.sc\u001b[39m:\u001b[32m6\u001b[39m)\n  ammonite.$sess.cmd17$Helper.lengthR(\u001b[32mcmd17.sc\u001b[39m:\u001b[32m6\u001b[39m)\n  ammonite.$sess.cmd17$Helper.lengthR(\u001b[32mcmd17.sc\u001b[39m:\u001b[32m6\u001b[39m)\n  ammonite.$sess.cmd17$Helper.lengthR(\u001b[32mcmd17.sc\u001b[39m:\u001b[32m6\u001b[39m)\n  ammonite.$sess.cmd17$Helper.lengthR(\u001b[32mcmd17.sc\u001b[39m:\u001b[32m6\u001b[39m)\n  ammonite.$sess.cmd17$Helper.lengthR(\u001b[32mcmd17.sc\u001b[39m:\u001b[32m6\u001b[39m)\n  ammonite.$sess.cmd17$Helper.lengthR(\u001b[32mcmd17.sc\u001b[39m:\u001b[32m6\u001b[39m)\n  ammonite.$sess.cmd17$Helper.lengthR(\u001b[32mcmd17.sc\u001b[39m:\u001b[32m6\u001b[39m)\n  ammonite.$sess.cmd17$Helper.lengthR(\u001b[32mcmd17.sc\u001b[39m:\u001b[32m6\u001b[39m)\n  ammonite.$sess.cmd17$Helper.lengthR(\u001b[32mcmd17.sc\u001b[39m:\u001b[32m6\u001b[39m)\n  ammonite.$sess.cmd17$Helper.lengthR(\u001b[32mcmd17.sc\u001b[39m:\u001b[32m6\u001b[39m)\n  ammonite.$sess.cmd17$Helper.lengthR(\u001b[32mcmd17.sc\u001b[39m:\u001b[32m6\u001b[39m)\n  ammonite.$sess.cmd17$Helper.lengthR(\u001b[32mcmd17.sc\u001b[39m:\u001b[32m6\u001b[39m)\n  ammonite.$sess.cmd17$Helper.lengthR(\u001b[32mcmd17.sc\u001b[39m:\u001b[32m6\u001b[39m)\n  ammonite.$sess.cmd17$Helper.lengthR(\u001b[32mcmd17.sc\u001b[39m:\u001b[32m6\u001b[39m)\n  ammonite.$sess.cmd17$Helper.lengthR(\u001b[32mcmd17.sc\u001b[39m:\u001b[32m6\u001b[39m)\n  ammonite.$sess.cmd17$Helper.lengthR(\u001b[32mcmd17.sc\u001b[39m:\u001b[32m6\u001b[39m)\n  ammonite.$sess.cmd17$Helper.lengthR(\u001b[32mcmd17.sc\u001b[39m:\u001b[32m6\u001b[39m)\n  ammonite.$sess.cmd17$Helper.lengthR(\u001b[32mcmd17.sc\u001b[39m:\u001b[32m6\u001b[39m)\n  ammonite.$sess.cmd17$Helper.lengthR(\u001b[32mcmd17.sc\u001b[39m:\u001b[32m6\u001b[39m)\n  ammonite.$sess.cmd17$Helper.lengthR(\u001b[32mcmd17.sc\u001b[39m:\u001b[32m6\u001b[39m)\n  ammonite.$sess.cmd17$Helper.lengthR(\u001b[32mcmd17.sc\u001b[39m:\u001b[32m6\u001b[39m)\n  ammonite.$sess.cmd17$Helper.lengthR(\u001b[32mcmd17.sc\u001b[39m:\u001b[32m6\u001b[39m)\n  ammonite.$sess.cmd17$Helper.lengthR(\u001b[32mcmd17.sc\u001b[39m:\u001b[32m6\u001b[39m)\n  ammonite.$sess.cmd17$Helper.lengthR(\u001b[32mcmd17.sc\u001b[39m:\u001b[32m6\u001b[39m)\n  ammonite.$sess.cmd17$Helper.lengthR(\u001b[32mcmd17.sc\u001b[39m:\u001b[32m6\u001b[39m)\n  ammonite.$sess.cmd17$Helper.lengthR(\u001b[32mcmd17.sc\u001b[39m:\u001b[32m6\u001b[39m)\n  ammonite.$sess.cmd17$Helper.lengthR(\u001b[32mcmd17.sc\u001b[39m:\u001b[32m6\u001b[39m)\n  ammonite.$sess.cmd17$Helper.lengthR(\u001b[32mcmd17.sc\u001b[39m:\u001b[32m6\u001b[39m)\n  ammonite.$sess.cmd17$Helper.lengthR(\u001b[32mcmd17.sc\u001b[39m:\u001b[32m6\u001b[39m)\n  ammonite.$sess.cmd17$Helper.lengthR(\u001b[32mcmd17.sc\u001b[39m:\u001b[32m6\u001b[39m)\n  ammonite.$sess.cmd17$Helper.lengthR(\u001b[32mcmd17.sc\u001b[39m:\u001b[32m6\u001b[39m)\n  ammonite.$sess.cmd17$Helper.lengthR(\u001b[32mcmd17.sc\u001b[39m:\u001b[32m6\u001b[39m)\n  ammonite.$sess.cmd17$Helper.lengthR(\u001b[32mcmd17.sc\u001b[39m:\u001b[32m6\u001b[39m)\n  ammonite.$sess.cmd17$Helper.lengthR(\u001b[32mcmd17.sc\u001b[39m:\u001b[32m6\u001b[39m)\n  ammonite.$sess.cmd17$Helper.lengthR(\u001b[32mcmd17.sc\u001b[39m:\u001b[32m6\u001b[39m)\n  ammonite.$sess.cmd17$Helper.lengthR(\u001b[32mcmd17.sc\u001b[39m:\u001b[32m6\u001b[39m)\n  ammonite.$sess.cmd17$Helper.lengthR(\u001b[32mcmd17.sc\u001b[39m:\u001b[32m6\u001b[39m)\n  ammonite.$sess.cmd17$Helper.lengthR(\u001b[32mcmd17.sc\u001b[39m:\u001b[32m6\u001b[39m)\n  ammonite.$sess.cmd17$Helper.lengthR(\u001b[32mcmd17.sc\u001b[39m:\u001b[32m6\u001b[39m)\n  ammonite.$sess.cmd17$Helper.lengthR(\u001b[32mcmd17.sc\u001b[39m:\u001b[32m6\u001b[39m)\n  ammonite.$sess.cmd17$Helper.lengthR(\u001b[32mcmd17.sc\u001b[39m:\u001b[32m6\u001b[39m)\n  ammonite.$sess.cmd17$Helper.lengthR(\u001b[32mcmd17.sc\u001b[39m:\u001b[32m6\u001b[39m)\n  ammonite.$sess.cmd17$Helper.lengthR(\u001b[32mcmd17.sc\u001b[39m:\u001b[32m6\u001b[39m)\n  ammonite.$sess.cmd17$Helper.lengthR(\u001b[32mcmd17.sc\u001b[39m:\u001b[32m6\u001b[39m)\n  ammonite.$sess.cmd17$Helper.lengthR(\u001b[32mcmd17.sc\u001b[39m:\u001b[32m6\u001b[39m)\n  ammonite.$sess.cmd17$Helper.lengthR(\u001b[32mcmd17.sc\u001b[39m:\u001b[32m6\u001b[39m)\n  ammonite.$sess.cmd17$Helper.lengthR(\u001b[32mcmd17.sc\u001b[39m:\u001b[32m6\u001b[39m)\n  ammonite.$sess.cmd17$Helper.lengthR(\u001b[32mcmd17.sc\u001b[39m:\u001b[32m6\u001b[39m)\n  ammonite.$sess.cmd17$Helper.lengthR(\u001b[32mcmd17.sc\u001b[39m:\u001b[32m6\u001b[39m)\n  ammonite.$sess.cmd17$Helper.lengthR(\u001b[32mcmd17.sc\u001b[39m:\u001b[32m6\u001b[39m)\n  ammonite.$sess.cmd17$Helper.lengthR(\u001b[32mcmd17.sc\u001b[39m:\u001b[32m6\u001b[39m)\n  ammonite.$sess.cmd17$Helper.lengthR(\u001b[32mcmd17.sc\u001b[39m:\u001b[32m6\u001b[39m)\n  ammonite.$sess.cmd17$Helper.lengthR(\u001b[32mcmd17.sc\u001b[39m:\u001b[32m6\u001b[39m)\n  ammonite.$sess.cmd17$Helper.lengthR(\u001b[32mcmd17.sc\u001b[39m:\u001b[32m6\u001b[39m)\n  ammonite.$sess.cmd17$Helper.lengthR(\u001b[32mcmd17.sc\u001b[39m:\u001b[32m6\u001b[39m)\n  ammonite.$sess.cmd17$Helper.lengthR(\u001b[32mcmd17.sc\u001b[39m:\u001b[32m6\u001b[39m)\n  ammonite.$sess.cmd17$Helper.lengthR(\u001b[32mcmd17.sc\u001b[39m:\u001b[32m6\u001b[39m)\n  ammonite.$sess.cmd17$Helper.lengthR(\u001b[32mcmd17.sc\u001b[39m:\u001b[32m6\u001b[39m)\n  ammonite.$sess.cmd17$Helper.lengthR(\u001b[32mcmd17.sc\u001b[39m:\u001b[32m6\u001b[39m)\n  ammonite.$sess.cmd17$Helper.lengthR(\u001b[32mcmd17.sc\u001b[39m:\u001b[32m6\u001b[39m)\n  ammonite.$sess.cmd17$Helper.lengthR(\u001b[32mcmd17.sc\u001b[39m:\u001b[32m6\u001b[39m)\n  ammonite.$sess.cmd17$Helper.lengthR(\u001b[32mcmd17.sc\u001b[39m:\u001b[32m6\u001b[39m)\n  ammonite.$sess.cmd17$Helper.lengthR(\u001b[32mcmd17.sc\u001b[39m:\u001b[32m6\u001b[39m)\n  ammonite.$sess.cmd17$Helper.lengthR(\u001b[32mcmd17.sc\u001b[39m:\u001b[32m6\u001b[39m)\n  ammonite.$sess.cmd17$Helper.lengthR(\u001b[32mcmd17.sc\u001b[39m:\u001b[32m6\u001b[39m)\n  ammonite.$sess.cmd17$Helper.lengthR(\u001b[32mcmd17.sc\u001b[39m:\u001b[32m6\u001b[39m)\n  ammonite.$sess.cmd17$Helper.lengthR(\u001b[32mcmd17.sc\u001b[39m:\u001b[32m6\u001b[39m)\n  ammonite.$sess.cmd17$Helper.lengthR(\u001b[32mcmd17.sc\u001b[39m:\u001b[32m6\u001b[39m)\n  ammonite.$sess.cmd17$Helper.lengthR(\u001b[32mcmd17.sc\u001b[39m:\u001b[32m6\u001b[39m)\n  ammonite.$sess.cmd17$Helper.lengthR(\u001b[32mcmd17.sc\u001b[39m:\u001b[32m6\u001b[39m)\n  ammonite.$sess.cmd17$Helper.lengthR(\u001b[32mcmd17.sc\u001b[39m:\u001b[32m6\u001b[39m)\n  ammonite.$sess.cmd17$Helper.lengthR(\u001b[32mcmd17.sc\u001b[39m:\u001b[32m6\u001b[39m)\n  ammonite.$sess.cmd17$Helper.lengthR(\u001b[32mcmd17.sc\u001b[39m:\u001b[32m6\u001b[39m)\n  ammonite.$sess.cmd17$Helper.lengthR(\u001b[32mcmd17.sc\u001b[39m:\u001b[32m6\u001b[39m)\n  ammonite.$sess.cmd17$Helper.lengthR(\u001b[32mcmd17.sc\u001b[39m:\u001b[32m6\u001b[39m)\n  ammonite.$sess.cmd17$Helper.lengthR(\u001b[32mcmd17.sc\u001b[39m:\u001b[32m6\u001b[39m)\n  ammonite.$sess.cmd17$Helper.lengthR(\u001b[32mcmd17.sc\u001b[39m:\u001b[32m6\u001b[39m)\n  ammonite.$sess.cmd17$Helper.lengthR(\u001b[32mcmd17.sc\u001b[39m:\u001b[32m6\u001b[39m)\n  ammonite.$sess.cmd17$Helper.lengthR(\u001b[32mcmd17.sc\u001b[39m:\u001b[32m6\u001b[39m)\n  ammonite.$sess.cmd17$Helper.lengthR(\u001b[32mcmd17.sc\u001b[39m:\u001b[32m6\u001b[39m)\n  ammonite.$sess.cmd17$Helper.lengthR(\u001b[32mcmd17.sc\u001b[39m:\u001b[32m6\u001b[39m)\n  ammonite.$sess.cmd17$Helper.lengthR(\u001b[32mcmd17.sc\u001b[39m:\u001b[32m6\u001b[39m)\n  ammonite.$sess.cmd17$Helper.lengthR(\u001b[32mcmd17.sc\u001b[39m:\u001b[32m6\u001b[39m)\n  ammonite.$sess.cmd17$Helper.lengthR(\u001b[32mcmd17.sc\u001b[39m:\u001b[32m6\u001b[39m)\n  ammonite.$sess.cmd17$Helper.lengthR(\u001b[32mcmd17.sc\u001b[39m:\u001b[32m6\u001b[39m)\n  ammonite.$sess.cmd17$Helper.lengthR(\u001b[32mcmd17.sc\u001b[39m:\u001b[32m6\u001b[39m)\n  ammonite.$sess.cmd17$Helper.lengthR(\u001b[32mcmd17.sc\u001b[39m:\u001b[32m6\u001b[39m)\n  ammonite.$sess.cmd17$Helper.lengthR(\u001b[32mcmd17.sc\u001b[39m:\u001b[32m6\u001b[39m)\n  ammonite.$sess.cmd17$Helper.lengthR(\u001b[32mcmd17.sc\u001b[39m:\u001b[32m6\u001b[39m)\n  ammonite.$sess.cmd17$Helper.lengthR(\u001b[32mcmd17.sc\u001b[39m:\u001b[32m6\u001b[39m)\n  ammonite.$sess.cmd17$Helper.lengthR(\u001b[32mcmd17.sc\u001b[39m:\u001b[32m6\u001b[39m)\n  ammonite.$sess.cmd17$Helper.lengthR(\u001b[32mcmd17.sc\u001b[39m:\u001b[32m6\u001b[39m)\n  ammonite.$sess.cmd17$Helper.lengthR(\u001b[32mcmd17.sc\u001b[39m:\u001b[32m6\u001b[39m)\n  ammonite.$sess.cmd17$Helper.lengthR(\u001b[32mcmd17.sc\u001b[39m:\u001b[32m6\u001b[39m)\n  ammonite.$sess.cmd17$Helper.lengthR(\u001b[32mcmd17.sc\u001b[39m:\u001b[32m6\u001b[39m)\n  ammonite.$sess.cmd17$Helper.lengthR(\u001b[32mcmd17.sc\u001b[39m:\u001b[32m6\u001b[39m)\n  ammonite.$sess.cmd17$Helper.lengthR(\u001b[32mcmd17.sc\u001b[39m:\u001b[32m6\u001b[39m)\n  ammonite.$sess.cmd17$Helper.lengthR(\u001b[32mcmd17.sc\u001b[39m:\u001b[32m6\u001b[39m)\n  ammonite.$sess.cmd17$Helper.lengthR(\u001b[32mcmd17.sc\u001b[39m:\u001b[32m6\u001b[39m)\n  ammonite.$sess.cmd17$Helper.lengthR(\u001b[32mcmd17.sc\u001b[39m:\u001b[32m6\u001b[39m)\n  ammonite.$sess.cmd17$Helper.lengthR(\u001b[32mcmd17.sc\u001b[39m:\u001b[32m6\u001b[39m)\n  ammonite.$sess.cmd17$Helper.lengthR(\u001b[32mcmd17.sc\u001b[39m:\u001b[32m6\u001b[39m)\n  ammonite.$sess.cmd17$Helper.lengthR(\u001b[32mcmd17.sc\u001b[39m:\u001b[32m6\u001b[39m)\n  ammonite.$sess.cmd17$Helper.lengthR(\u001b[32mcmd17.sc\u001b[39m:\u001b[32m6\u001b[39m)\n  ammonite.$sess.cmd17$Helper.lengthR(\u001b[32mcmd17.sc\u001b[39m:\u001b[32m6\u001b[39m)\n  ammonite.$sess.cmd17$Helper.lengthR(\u001b[32mcmd17.sc\u001b[39m:\u001b[32m6\u001b[39m)\n  ammonite.$sess.cmd17$Helper.lengthR(\u001b[32mcmd17.sc\u001b[39m:\u001b[32m6\u001b[39m)\n  ammonite.$sess.cmd17$Helper.lengthR(\u001b[32mcmd17.sc\u001b[39m:\u001b[32m6\u001b[39m)\n  ammonite.$sess.cmd17$Helper.lengthR(\u001b[32mcmd17.sc\u001b[39m:\u001b[32m6\u001b[39m)\n  ammonite.$sess.cmd17$Helper.lengthR(\u001b[32mcmd17.sc\u001b[39m:\u001b[32m6\u001b[39m)\n  ammonite.$sess.cmd17$Helper.lengthR(\u001b[32mcmd17.sc\u001b[39m:\u001b[32m6\u001b[39m)\n  ammonite.$sess.cmd17$Helper.lengthR(\u001b[32mcmd17.sc\u001b[39m:\u001b[32m6\u001b[39m)\n  ammonite.$sess.cmd17$Helper.lengthR(\u001b[32mcmd17.sc\u001b[39m:\u001b[32m6\u001b[39m)\n  ammonite.$sess.cmd17$Helper.lengthR(\u001b[32mcmd17.sc\u001b[39m:\u001b[32m6\u001b[39m)\n  ammonite.$sess.cmd17$Helper.lengthR(\u001b[32mcmd17.sc\u001b[39m:\u001b[32m6\u001b[39m)\n  ammonite.$sess.cmd17$Helper.lengthR(\u001b[32mcmd17.sc\u001b[39m:\u001b[32m6\u001b[39m)\n  ammonite.$sess.cmd17$Helper.lengthR(\u001b[32mcmd17.sc\u001b[39m:\u001b[32m6\u001b[39m)\n  ammonite.$sess.cmd17$Helper.lengthR(\u001b[32mcmd17.sc\u001b[39m:\u001b[32m6\u001b[39m)\n  ammonite.$sess.cmd17$Helper.lengthR(\u001b[32mcmd17.sc\u001b[39m:\u001b[32m6\u001b[39m)\n  ammonite.$sess.cmd17$Helper.lengthR(\u001b[32mcmd17.sc\u001b[39m:\u001b[32m6\u001b[39m)\n  ammonite.$sess.cmd17$Helper.lengthR(\u001b[32mcmd17.sc\u001b[39m:\u001b[32m6\u001b[39m)\n  ammonite.$sess.cmd17$Helper.lengthR(\u001b[32mcmd17.sc\u001b[39m:\u001b[32m6\u001b[39m)\n  ammonite.$sess.cmd17$Helper.lengthR(\u001b[32mcmd17.sc\u001b[39m:\u001b[32m6\u001b[39m)\n  ammonite.$sess.cmd17$Helper.lengthR(\u001b[32mcmd17.sc\u001b[39m:\u001b[32m6\u001b[39m)\n  ammonite.$sess.cmd17$Helper.lengthR(\u001b[32mcmd17.sc\u001b[39m:\u001b[32m6\u001b[39m)\n  ammonite.$sess.cmd17$Helper.lengthR(\u001b[32mcmd17.sc\u001b[39m:\u001b[32m6\u001b[39m)\n  ammonite.$sess.cmd17$Helper.lengthR(\u001b[32mcmd17.sc\u001b[39m:\u001b[32m6\u001b[39m)\n  ammonite.$sess.cmd17$Helper.lengthR(\u001b[32mcmd17.sc\u001b[39m:\u001b[32m6\u001b[39m)\n  ammonite.$sess.cmd17$Helper.lengthR(\u001b[32mcmd17.sc\u001b[39m:\u001b[32m6\u001b[39m)\n  ammonite.$sess.cmd17$Helper.lengthR(\u001b[32mcmd17.sc\u001b[39m:\u001b[32m6\u001b[39m)\n  ammonite.$sess.cmd17$Helper.lengthR(\u001b[32mcmd17.sc\u001b[39m:\u001b[32m6\u001b[39m)\n  ammonite.$sess.cmd17$Helper.lengthR(\u001b[32mcmd17.sc\u001b[39m:\u001b[32m6\u001b[39m)\n  ammonite.$sess.cmd17$Helper.lengthR(\u001b[32mcmd17.sc\u001b[39m:\u001b[32m6\u001b[39m)\n  ammonite.$sess.cmd17$Helper.lengthR(\u001b[32mcmd17.sc\u001b[39m:\u001b[32m6\u001b[39m)\n  ammonite.$sess.cmd17$Helper.lengthR(\u001b[32mcmd17.sc\u001b[39m:\u001b[32m6\u001b[39m)\n  ammonite.$sess.cmd17$Helper.lengthR(\u001b[32mcmd17.sc\u001b[39m:\u001b[32m6\u001b[39m)\n  ammonite.$sess.cmd17$Helper.lengthR(\u001b[32mcmd17.sc\u001b[39m:\u001b[32m6\u001b[39m)\n  ammonite.$sess.cmd17$Helper.lengthR(\u001b[32mcmd17.sc\u001b[39m:\u001b[32m6\u001b[39m)\n  ammonite.$sess.cmd17$Helper.lengthR(\u001b[32mcmd17.sc\u001b[39m:\u001b[32m6\u001b[39m)\n  ammonite.$sess.cmd17$Helper.lengthR(\u001b[32mcmd17.sc\u001b[39m:\u001b[32m6\u001b[39m)\n  ammonite.$sess.cmd17$Helper.lengthR(\u001b[32mcmd17.sc\u001b[39m:\u001b[32m6\u001b[39m)\n  ammonite.$sess.cmd17$Helper.lengthR(\u001b[32mcmd17.sc\u001b[39m:\u001b[32m6\u001b[39m)\n  ammonite.$sess.cmd17$Helper.lengthR(\u001b[32mcmd17.sc\u001b[39m:\u001b[32m6\u001b[39m)\n  ammonite.$sess.cmd17$Helper.lengthR(\u001b[32mcmd17.sc\u001b[39m:\u001b[32m6\u001b[39m)\n  ammonite.$sess.cmd17$Helper.lengthR(\u001b[32mcmd17.sc\u001b[39m:\u001b[32m6\u001b[39m)\n  ammonite.$sess.cmd17$Helper.lengthR(\u001b[32mcmd17.sc\u001b[39m:\u001b[32m6\u001b[39m)\n  ammonite.$sess.cmd17$Helper.lengthR(\u001b[32mcmd17.sc\u001b[39m:\u001b[32m6\u001b[39m)\n  ammonite.$sess.cmd17$Helper.lengthR(\u001b[32mcmd17.sc\u001b[39m:\u001b[32m6\u001b[39m)\n  ammonite.$sess.cmd17$Helper.lengthR(\u001b[32mcmd17.sc\u001b[39m:\u001b[32m6\u001b[39m)\n  ammonite.$sess.cmd17$Helper.lengthR(\u001b[32mcmd17.sc\u001b[39m:\u001b[32m6\u001b[39m)\n  ammonite.$sess.cmd17$Helper.lengthR(\u001b[32mcmd17.sc\u001b[39m:\u001b[32m6\u001b[39m)\n  ammonite.$sess.cmd17$Helper.lengthR(\u001b[32mcmd17.sc\u001b[39m:\u001b[32m6\u001b[39m)\n  ammonite.$sess.cmd17$Helper.lengthR(\u001b[32mcmd17.sc\u001b[39m:\u001b[32m6\u001b[39m)\n  ammonite.$sess.cmd17$Helper.lengthR(\u001b[32mcmd17.sc\u001b[39m:\u001b[32m6\u001b[39m)\n  ammonite.$sess.cmd17$Helper.lengthR(\u001b[32mcmd17.sc\u001b[39m:\u001b[32m6\u001b[39m)\n  ammonite.$sess.cmd17$Helper.lengthR(\u001b[32mcmd17.sc\u001b[39m:\u001b[32m6\u001b[39m)\n  ammonite.$sess.cmd17$Helper.lengthR(\u001b[32mcmd17.sc\u001b[39m:\u001b[32m6\u001b[39m)\n  ammonite.$sess.cmd17$Helper.lengthR(\u001b[32mcmd17.sc\u001b[39m:\u001b[32m6\u001b[39m)\n  ammonite.$sess.cmd17$Helper.lengthR(\u001b[32mcmd17.sc\u001b[39m:\u001b[32m6\u001b[39m)\n  ammonite.$sess.cmd17$Helper.lengthR(\u001b[32mcmd17.sc\u001b[39m:\u001b[32m6\u001b[39m)\n  ammonite.$sess.cmd17$Helper.lengthR(\u001b[32mcmd17.sc\u001b[39m:\u001b[32m6\u001b[39m)\n  ammonite.$sess.cmd17$Helper.lengthR(\u001b[32mcmd17.sc\u001b[39m:\u001b[32m6\u001b[39m)\n  ammonite.$sess.cmd17$Helper.lengthR(\u001b[32mcmd17.sc\u001b[39m:\u001b[32m6\u001b[39m)\n  ammonite.$sess.cmd17$Helper.lengthR(\u001b[32mcmd17.sc\u001b[39m:\u001b[32m6\u001b[39m)\n  ammonite.$sess.cmd17$Helper.lengthR(\u001b[32mcmd17.sc\u001b[39m:\u001b[32m6\u001b[39m)\n  ammonite.$sess.cmd17$Helper.lengthR(\u001b[32mcmd17.sc\u001b[39m:\u001b[32m6\u001b[39m)\n  ammonite.$sess.cmd17$Helper.lengthR(\u001b[32mcmd17.sc\u001b[39m:\u001b[32m6\u001b[39m)\n  ammonite.$sess.cmd17$Helper.lengthR(\u001b[32mcmd17.sc\u001b[39m:\u001b[32m6\u001b[39m)\n  ammonite.$sess.cmd17$Helper.lengthR(\u001b[32mcmd17.sc\u001b[39m:\u001b[32m6\u001b[39m)\n  ammonite.$sess.cmd17$Helper.lengthR(\u001b[32mcmd17.sc\u001b[39m:\u001b[32m6\u001b[39m)\n  ammonite.$sess.cmd17$Helper.lengthR(\u001b[32mcmd17.sc\u001b[39m:\u001b[32m6\u001b[39m)\n  ammonite.$sess.cmd17$Helper.lengthR(\u001b[32mcmd17.sc\u001b[39m:\u001b[32m6\u001b[39m)\n  ammonite.$sess.cmd17$Helper.lengthR(\u001b[32mcmd17.sc\u001b[39m:\u001b[32m6\u001b[39m)\n  ammonite.$sess.cmd17$Helper.lengthR(\u001b[32mcmd17.sc\u001b[39m:\u001b[32m6\u001b[39m)\n  ammonite.$sess.cmd17$Helper.lengthR(\u001b[32mcmd17.sc\u001b[39m:\u001b[32m6\u001b[39m)\n  ammonite.$sess.cmd17$Helper.lengthR(\u001b[32mcmd17.sc\u001b[39m:\u001b[32m6\u001b[39m)\n  ammonite.$sess.cmd17$Helper.lengthR(\u001b[32mcmd17.sc\u001b[39m:\u001b[32m6\u001b[39m)\n  ammonite.$sess.cmd17$Helper.lengthR(\u001b[32mcmd17.sc\u001b[39m:\u001b[32m6\u001b[39m)\n  ammonite.$sess.cmd17$Helper.lengthR(\u001b[32mcmd17.sc\u001b[39m:\u001b[32m6\u001b[39m)\n  ammonite.$sess.cmd17$Helper.lengthR(\u001b[32mcmd17.sc\u001b[39m:\u001b[32m6\u001b[39m)\n  ammonite.$sess.cmd17$Helper.lengthR(\u001b[32mcmd17.sc\u001b[39m:\u001b[32m6\u001b[39m)\n  ammonite.$sess.cmd17$Helper.lengthR(\u001b[32mcmd17.sc\u001b[39m:\u001b[32m6\u001b[39m)\n  ammonite.$sess.cmd17$Helper.lengthR(\u001b[32mcmd17.sc\u001b[39m:\u001b[32m6\u001b[39m)\n  ammonite.$sess.cmd17$Helper.lengthR(\u001b[32mcmd17.sc\u001b[39m:\u001b[32m6\u001b[39m)\n  ammonite.$sess.cmd17$Helper.lengthR(\u001b[32mcmd17.sc\u001b[39m:\u001b[32m6\u001b[39m)\n  ammonite.$sess.cmd17$Helper.lengthR(\u001b[32mcmd17.sc\u001b[39m:\u001b[32m6\u001b[39m)\n  ammonite.$sess.cmd17$Helper.lengthR(\u001b[32mcmd17.sc\u001b[39m:\u001b[32m6\u001b[39m)\n  ammonite.$sess.cmd17$Helper.lengthR(\u001b[32mcmd17.sc\u001b[39m:\u001b[32m6\u001b[39m)\n  ammonite.$sess.cmd17$Helper.lengthR(\u001b[32mcmd17.sc\u001b[39m:\u001b[32m6\u001b[39m)\n  ammonite.$sess.cmd17$Helper.lengthR(\u001b[32mcmd17.sc\u001b[39m:\u001b[32m6\u001b[39m)\n  ammonite.$sess.cmd17$Helper.lengthR(\u001b[32mcmd17.sc\u001b[39m:\u001b[32m6\u001b[39m)\n  ammonite.$sess.cmd17$Helper.lengthR(\u001b[32mcmd17.sc\u001b[39m:\u001b[32m6\u001b[39m)\n  ammonite.$sess.cmd17$Helper.lengthR(\u001b[32mcmd17.sc\u001b[39m:\u001b[32m6\u001b[39m)\n  ammonite.$sess.cmd17$Helper.lengthR(\u001b[32mcmd17.sc\u001b[39m:\u001b[32m6\u001b[39m)\n  ammonite.$sess.cmd17$Helper.lengthR(\u001b[32mcmd17.sc\u001b[39m:\u001b[32m6\u001b[39m)\n  ammonite.$sess.cmd17$Helper.lengthR(\u001b[32mcmd17.sc\u001b[39m:\u001b[32m6\u001b[39m)\n  ammonite.$sess.cmd17$Helper.lengthR(\u001b[32mcmd17.sc\u001b[39m:\u001b[32m6\u001b[39m)\n  ammonite.$sess.cmd17$Helper.lengthR(\u001b[32mcmd17.sc\u001b[39m:\u001b[32m6\u001b[39m)\n  ammonite.$sess.cmd17$Helper.lengthR(\u001b[32mcmd17.sc\u001b[39m:\u001b[32m6\u001b[39m)\n  ammonite.$sess.cmd17$Helper.lengthR(\u001b[32mcmd17.sc\u001b[39m:\u001b[32m6\u001b[39m)\n  ammonite.$sess.cmd17$Helper.lengthR(\u001b[32mcmd17.sc\u001b[39m:\u001b[32m6\u001b[39m)\n  ammonite.$sess.cmd17$Helper.lengthR(\u001b[32mcmd17.sc\u001b[39m:\u001b[32m6\u001b[39m)\n  ammonite.$sess.cmd17$Helper.lengthR(\u001b[32mcmd17.sc\u001b[39m:\u001b[32m6\u001b[39m)\n  ammonite.$sess.cmd17$Helper.lengthR(\u001b[32mcmd17.sc\u001b[39m:\u001b[32m6\u001b[39m)\n  ammonite.$sess.cmd17$Helper.lengthR(\u001b[32mcmd17.sc\u001b[39m:\u001b[32m6\u001b[39m)\n  ammonite.$sess.cmd17$Helper.lengthR(\u001b[32mcmd17.sc\u001b[39m:\u001b[32m6\u001b[39m)\n  ammonite.$sess.cmd17$Helper.lengthR(\u001b[32mcmd17.sc\u001b[39m:\u001b[32m6\u001b[39m)\n  ammonite.$sess.cmd17$Helper.lengthR(\u001b[32mcmd17.sc\u001b[39m:\u001b[32m6\u001b[39m)\n  ammonite.$sess.cmd17$Helper.lengthR(\u001b[32mcmd17.sc\u001b[39m:\u001b[32m6\u001b[39m)\n  ammonite.$sess.cmd17$Helper.lengthR(\u001b[32mcmd17.sc\u001b[39m:\u001b[32m6\u001b[39m)\n  ammonite.$sess.cmd17$Helper.lengthR(\u001b[32mcmd17.sc\u001b[39m:\u001b[32m6\u001b[39m)\n  ammonite.$sess.cmd17$Helper.lengthR(\u001b[32mcmd17.sc\u001b[39m:\u001b[32m6\u001b[39m)\n  ammonite.$sess.cmd17$Helper.lengthR(\u001b[32mcmd17.sc\u001b[39m:\u001b[32m6\u001b[39m)\n  ammonite.$sess.cmd17$Helper.lengthR(\u001b[32mcmd17.sc\u001b[39m:\u001b[32m6\u001b[39m)\n  ammonite.$sess.cmd17$Helper.lengthR(\u001b[32mcmd17.sc\u001b[39m:\u001b[32m6\u001b[39m)\n  ammonite.$sess.cmd17$Helper.lengthR(\u001b[32mcmd17.sc\u001b[39m:\u001b[32m6\u001b[39m)\n  ammonite.$sess.cmd17$Helper.lengthR(\u001b[32mcmd17.sc\u001b[39m:\u001b[32m6\u001b[39m)\n  ammonite.$sess.cmd17$Helper.lengthR(\u001b[32mcmd17.sc\u001b[39m:\u001b[32m6\u001b[39m)\n  ammonite.$sess.cmd17$Helper.lengthR(\u001b[32mcmd17.sc\u001b[39m:\u001b[32m6\u001b[39m)\n  ammonite.$sess.cmd17$Helper.lengthR(\u001b[32mcmd17.sc\u001b[39m:\u001b[32m6\u001b[39m)\n  ammonite.$sess.cmd17$Helper.lengthR(\u001b[32mcmd17.sc\u001b[39m:\u001b[32m6\u001b[39m)\n  ammonite.$sess.cmd17$Helper.lengthR(\u001b[32mcmd17.sc\u001b[39m:\u001b[32m6\u001b[39m)\n  ammonite.$sess.cmd17$Helper.lengthR(\u001b[32mcmd17.sc\u001b[39m:\u001b[32m6\u001b[39m)\n  ammonite.$sess.cmd17$Helper.lengthR(\u001b[32mcmd17.sc\u001b[39m:\u001b[32m6\u001b[39m)\n  ammonite.$sess.cmd17$Helper.lengthR(\u001b[32mcmd17.sc\u001b[39m:\u001b[32m6\u001b[39m)\n  ammonite.$sess.cmd17$Helper.lengthR(\u001b[32mcmd17.sc\u001b[39m:\u001b[32m6\u001b[39m)\n  ammonite.$sess.cmd17$Helper.lengthR(\u001b[32mcmd17.sc\u001b[39m:\u001b[32m6\u001b[39m)\n  ammonite.$sess.cmd17$Helper.lengthR(\u001b[32mcmd17.sc\u001b[39m:\u001b[32m6\u001b[39m)\n  ammonite.$sess.cmd17$Helper.lengthR(\u001b[32mcmd17.sc\u001b[39m:\u001b[32m6\u001b[39m)\n  ammonite.$sess.cmd17$Helper.lengthR(\u001b[32mcmd17.sc\u001b[39m:\u001b[32m6\u001b[39m)\n  ammonite.$sess.cmd17$Helper.lengthR(\u001b[32mcmd17.sc\u001b[39m:\u001b[32m6\u001b[39m)\n  ammonite.$sess.cmd17$Helper.lengthR(\u001b[32mcmd17.sc\u001b[39m:\u001b[32m6\u001b[39m)\n  ammonite.$sess.cmd17$Helper.lengthR(\u001b[32mcmd17.sc\u001b[39m:\u001b[32m6\u001b[39m)\n  ammonite.$sess.cmd17$Helper.lengthR(\u001b[32mcmd17.sc\u001b[39m:\u001b[32m6\u001b[39m)\n  ammonite.$sess.cmd17$Helper.lengthR(\u001b[32mcmd17.sc\u001b[39m:\u001b[32m6\u001b[39m)\n  ammonite.$sess.cmd17$Helper.lengthR(\u001b[32mcmd17.sc\u001b[39m:\u001b[32m6\u001b[39m)\n  ammonite.$sess.cmd17$Helper.lengthR(\u001b[32mcmd17.sc\u001b[39m:\u001b[32m6\u001b[39m)\n  ammonite.$sess.cmd17$Helper.lengthR(\u001b[32mcmd17.sc\u001b[39m:\u001b[32m6\u001b[39m)\n  ammonite.$sess.cmd17$Helper.lengthR(\u001b[32mcmd17.sc\u001b[39m:\u001b[32m6\u001b[39m)\n  ammonite.$sess.cmd17$Helper.lengthR(\u001b[32mcmd17.sc\u001b[39m:\u001b[32m6\u001b[39m)\n  ammonite.$sess.cmd17$Helper.lengthR(\u001b[32mcmd17.sc\u001b[39m:\u001b[32m6\u001b[39m)\n  ammonite.$sess.cmd17$Helper.lengthR(\u001b[32mcmd17.sc\u001b[39m:\u001b[32m6\u001b[39m)\n  ammonite.$sess.cmd17$Helper.lengthR(\u001b[32mcmd17.sc\u001b[39m:\u001b[32m6\u001b[39m)\n  ammonite.$sess.cmd17$Helper.lengthR(\u001b[32mcmd17.sc\u001b[39m:\u001b[32m6\u001b[39m)\n  ammonite.$sess.cmd17$Helper.lengthR(\u001b[32mcmd17.sc\u001b[39m:\u001b[32m6\u001b[39m)\n  ammonite.$sess.cmd17$Helper.lengthR(\u001b[32mcmd17.sc\u001b[39m:\u001b[32m6\u001b[39m)\n  ammonite.$sess.cmd17$Helper.lengthR(\u001b[32mcmd17.sc\u001b[39m:\u001b[32m6\u001b[39m)\n  ammonite.$sess.cmd17$Helper.lengthR(\u001b[32mcmd17.sc\u001b[39m:\u001b[32m6\u001b[39m)\n  ammonite.$sess.cmd17$Helper.lengthR(\u001b[32mcmd17.sc\u001b[39m:\u001b[32m6\u001b[39m)\n  ammonite.$sess.cmd17$Helper.lengthR(\u001b[32mcmd17.sc\u001b[39m:\u001b[32m6\u001b[39m)\n  ammonite.$sess.cmd17$Helper.lengthR(\u001b[32mcmd17.sc\u001b[39m:\u001b[32m6\u001b[39m)\n  ammonite.$sess.cmd17$Helper.lengthR(\u001b[32mcmd17.sc\u001b[39m:\u001b[32m6\u001b[39m)\n  ammonite.$sess.cmd17$Helper.lengthR(\u001b[32mcmd17.sc\u001b[39m:\u001b[32m6\u001b[39m)\n  ammonite.$sess.cmd17$Helper.lengthR(\u001b[32mcmd17.sc\u001b[39m:\u001b[32m6\u001b[39m)\n  ammonite.$sess.cmd17$Helper.lengthR(\u001b[32mcmd17.sc\u001b[39m:\u001b[32m6\u001b[39m)\n  ammonite.$sess.cmd17$Helper.lengthR(\u001b[32mcmd17.sc\u001b[39m:\u001b[32m6\u001b[39m)\n  ammonite.$sess.cmd17$Helper.lengthR(\u001b[32mcmd17.sc\u001b[39m:\u001b[32m6\u001b[39m)\n  ammonite.$sess.cmd17$Helper.lengthR(\u001b[32mcmd17.sc\u001b[39m:\u001b[32m6\u001b[39m)\n  ammonite.$sess.cmd17$Helper.lengthR(\u001b[32mcmd17.sc\u001b[39m:\u001b[32m6\u001b[39m)\n  ammonite.$sess.cmd17$Helper.lengthR(\u001b[32mcmd17.sc\u001b[39m:\u001b[32m6\u001b[39m)\n  ammonite.$sess.cmd17$Helper.lengthR(\u001b[32mcmd17.sc\u001b[39m:\u001b[32m6\u001b[39m)\n  ammonite.$sess.cmd17$Helper.lengthR(\u001b[32mcmd17.sc\u001b[39m:\u001b[32m6\u001b[39m)\n  ammonite.$sess.cmd17$Helper.lengthR(\u001b[32mcmd17.sc\u001b[39m:\u001b[32m6\u001b[39m)\n  ammonite.$sess.cmd17$Helper.lengthR(\u001b[32mcmd17.sc\u001b[39m:\u001b[32m6\u001b[39m)\n  ammonite.$sess.cmd17$Helper.lengthR(\u001b[32mcmd17.sc\u001b[39m:\u001b[32m6\u001b[39m)\n  ammonite.$sess.cmd17$Helper.lengthR(\u001b[32mcmd17.sc\u001b[39m:\u001b[32m6\u001b[39m)\n  ammonite.$sess.cmd17$Helper.lengthR(\u001b[32mcmd17.sc\u001b[39m:\u001b[32m6\u001b[39m)\n  ammonite.$sess.cmd17$Helper.lengthR(\u001b[32mcmd17.sc\u001b[39m:\u001b[32m6\u001b[39m)\n  ammonite.$sess.cmd17$Helper.lengthR(\u001b[32mcmd17.sc\u001b[39m:\u001b[32m6\u001b[39m)\n  ammonite.$sess.cmd17$Helper.lengthR(\u001b[32mcmd17.sc\u001b[39m:\u001b[32m6\u001b[39m)\n  ammonite.$sess.cmd17$Helper.lengthR(\u001b[32mcmd17.sc\u001b[39m:\u001b[32m6\u001b[39m)\n  ammonite.$sess.cmd17$Helper.lengthR(\u001b[32mcmd17.sc\u001b[39m:\u001b[32m6\u001b[39m)\n  ammonite.$sess.cmd17$Helper.lengthR(\u001b[32mcmd17.sc\u001b[39m:\u001b[32m6\u001b[39m)\n  ammonite.$sess.cmd17$Helper.lengthR(\u001b[32mcmd17.sc\u001b[39m:\u001b[32m6\u001b[39m)\n  ammonite.$sess.cmd17$Helper.lengthR(\u001b[32mcmd17.sc\u001b[39m:\u001b[32m6\u001b[39m)\n  ammonite.$sess.cmd17$Helper.lengthR(\u001b[32mcmd17.sc\u001b[39m:\u001b[32m6\u001b[39m)\n  ammonite.$sess.cmd17$Helper.lengthR(\u001b[32mcmd17.sc\u001b[39m:\u001b[32m6\u001b[39m)\n  ammonite.$sess.cmd17$Helper.lengthR(\u001b[32mcmd17.sc\u001b[39m:\u001b[32m6\u001b[39m)\n  ammonite.$sess.cmd17$Helper.lengthR(\u001b[32mcmd17.sc\u001b[39m:\u001b[32m6\u001b[39m)\n  ammonite.$sess.cmd17$Helper.lengthR(\u001b[32mcmd17.sc\u001b[39m:\u001b[32m6\u001b[39m)\n  ammonite.$sess.cmd17$Helper.lengthR(\u001b[32mcmd17.sc\u001b[39m:\u001b[32m6\u001b[39m)\n  ammonite.$sess.cmd17$Helper.lengthR(\u001b[32mcmd17.sc\u001b[39m:\u001b[32m6\u001b[39m)\n  ammonite.$sess.cmd17$Helper.lengthR(\u001b[32mcmd17.sc\u001b[39m:\u001b[32m6\u001b[39m)\n  ammonite.$sess.cmd17$Helper.lengthR(\u001b[32mcmd17.sc\u001b[39m:\u001b[32m6\u001b[39m)\n  ammonite.$sess.cmd17$Helper.lengthR(\u001b[32mcmd17.sc\u001b[39m:\u001b[32m6\u001b[39m)\n  ammonite.$sess.cmd17$Helper.lengthR(\u001b[32mcmd17.sc\u001b[39m:\u001b[32m6\u001b[39m)\n  ammonite.$sess.cmd17$Helper.lengthR(\u001b[32mcmd17.sc\u001b[39m:\u001b[32m6\u001b[39m)\n  ammonite.$sess.cmd17$Helper.lengthR(\u001b[32mcmd17.sc\u001b[39m:\u001b[32m6\u001b[39m)\n  ammonite.$sess.cmd17$Helper.lengthR(\u001b[32mcmd17.sc\u001b[39m:\u001b[32m6\u001b[39m)\n  ammonite.$sess.cmd17$Helper.lengthR(\u001b[32mcmd17.sc\u001b[39m:\u001b[32m6\u001b[39m)\n  ammonite.$sess.cmd17$Helper.lengthR(\u001b[32mcmd17.sc\u001b[39m:\u001b[32m6\u001b[39m)\n  ammonite.$sess.cmd17$Helper.lengthR(\u001b[32mcmd17.sc\u001b[39m:\u001b[32m6\u001b[39m)\n  ammonite.$sess.cmd17$Helper.lengthR(\u001b[32mcmd17.sc\u001b[39m:\u001b[32m6\u001b[39m)\n  ammonite.$sess.cmd17$Helper.lengthR(\u001b[32mcmd17.sc\u001b[39m:\u001b[32m6\u001b[39m)\n  ammonite.$sess.cmd17$Helper.lengthR(\u001b[32mcmd17.sc\u001b[39m:\u001b[32m6\u001b[39m)\n  ammonite.$sess.cmd17$Helper.lengthR(\u001b[32mcmd17.sc\u001b[39m:\u001b[32m6\u001b[39m)\n  ammonite.$sess.cmd17$Helper.lengthR(\u001b[32mcmd17.sc\u001b[39m:\u001b[32m6\u001b[39m)\n  ammonite.$sess.cmd17$Helper.lengthR(\u001b[32mcmd17.sc\u001b[39m:\u001b[32m6\u001b[39m)\n  ammonite.$sess.cmd17$Helper.lengthR(\u001b[32mcmd17.sc\u001b[39m:\u001b[32m6\u001b[39m)\n  ammonite.$sess.cmd17$Helper.lengthR(\u001b[32mcmd17.sc\u001b[39m:\u001b[32m6\u001b[39m)\n  ammonite.$sess.cmd17$Helper.lengthR(\u001b[32mcmd17.sc\u001b[39m:\u001b[32m6\u001b[39m)\n  ammonite.$sess.cmd17$Helper.lengthR(\u001b[32mcmd17.sc\u001b[39m:\u001b[32m6\u001b[39m)\n  ammonite.$sess.cmd17$Helper.lengthR(\u001b[32mcmd17.sc\u001b[39m:\u001b[32m6\u001b[39m)\n  ammonite.$sess.cmd17$Helper.lengthR(\u001b[32mcmd17.sc\u001b[39m:\u001b[32m6\u001b[39m)\n  ammonite.$sess.cmd17$Helper.lengthR(\u001b[32mcmd17.sc\u001b[39m:\u001b[32m6\u001b[39m)\n  ammonite.$sess.cmd17$Helper.lengthR(\u001b[32mcmd17.sc\u001b[39m:\u001b[32m6\u001b[39m)\n  ammonite.$sess.cmd17$Helper.lengthR(\u001b[32mcmd17.sc\u001b[39m:\u001b[32m6\u001b[39m)\n  ammonite.$sess.cmd17$Helper.lengthR(\u001b[32mcmd17.sc\u001b[39m:\u001b[32m6\u001b[39m)\n  ammonite.$sess.cmd17$Helper.lengthR(\u001b[32mcmd17.sc\u001b[39m:\u001b[32m6\u001b[39m)\n  ammonite.$sess.cmd17$Helper.lengthR(\u001b[32mcmd17.sc\u001b[39m:\u001b[32m6\u001b[39m)\n  ammonite.$sess.cmd17$Helper.lengthR(\u001b[32mcmd17.sc\u001b[39m:\u001b[32m6\u001b[39m)\n  ammonite.$sess.cmd17$Helper.lengthR(\u001b[32mcmd17.sc\u001b[39m:\u001b[32m6\u001b[39m)\n  ammonite.$sess.cmd17$Helper.lengthR(\u001b[32mcmd17.sc\u001b[39m:\u001b[32m6\u001b[39m)\n  ammonite.$sess.cmd17$Helper.lengthR(\u001b[32mcmd17.sc\u001b[39m:\u001b[32m6\u001b[39m)\n  ammonite.$sess.cmd17$Helper.lengthR(\u001b[32mcmd17.sc\u001b[39m:\u001b[32m6\u001b[39m)\n  ammonite.$sess.cmd17$Helper.lengthR(\u001b[32mcmd17.sc\u001b[39m:\u001b[32m6\u001b[39m)\n  ammonite.$sess.cmd17$Helper.lengthR(\u001b[32mcmd17.sc\u001b[39m:\u001b[32m6\u001b[39m)\n  ammonite.$sess.cmd17$Helper.lengthR(\u001b[32mcmd17.sc\u001b[39m:\u001b[32m6\u001b[39m)\n  ammonite.$sess.cmd17$Helper.lengthR(\u001b[32mcmd17.sc\u001b[39m:\u001b[32m6\u001b[39m)\n  ammonite.$sess.cmd17$Helper.lengthR(\u001b[32mcmd17.sc\u001b[39m:\u001b[32m6\u001b[39m)\n  ammonite.$sess.cmd17$Helper.lengthR(\u001b[32mcmd17.sc\u001b[39m:\u001b[32m6\u001b[39m)\n  ammonite.$sess.cmd17$Helper.lengthR(\u001b[32mcmd17.sc\u001b[39m:\u001b[32m6\u001b[39m)\n  ammonite.$sess.cmd17$Helper.lengthR(\u001b[32mcmd17.sc\u001b[39m:\u001b[32m6\u001b[39m)\n  ammonite.$sess.cmd17$Helper.lengthR(\u001b[32mcmd17.sc\u001b[39m:\u001b[32m6\u001b[39m)\n  ammonite.$sess.cmd17$Helper.lengthR(\u001b[32mcmd17.sc\u001b[39m:\u001b[32m6\u001b[39m)\n  ammonite.$sess.cmd17$Helper.lengthR(\u001b[32mcmd17.sc\u001b[39m:\u001b[32m6\u001b[39m)\n  ammonite.$sess.cmd17$Helper.lengthR(\u001b[32mcmd17.sc\u001b[39m:\u001b[32m6\u001b[39m)\n  ammonite.$sess.cmd17$Helper.lengthR(\u001b[32mcmd17.sc\u001b[39m:\u001b[32m6\u001b[39m)\n  ammonite.$sess.cmd17$Helper.lengthR(\u001b[32mcmd17.sc\u001b[39m:\u001b[32m6\u001b[39m)\n  ammonite.$sess.cmd17$Helper.lengthR(\u001b[32mcmd17.sc\u001b[39m:\u001b[32m6\u001b[39m)\n  ammonite.$sess.cmd17$Helper.lengthR(\u001b[32mcmd17.sc\u001b[39m:\u001b[32m6\u001b[39m)\n  ammonite.$sess.cmd17$Helper.lengthR(\u001b[32mcmd17.sc\u001b[39m:\u001b[32m6\u001b[39m)\n  ammonite.$sess.cmd17$Helper.lengthR(\u001b[32mcmd17.sc\u001b[39m:\u001b[32m6\u001b[39m)\n  ammonite.$sess.cmd17$Helper.lengthR(\u001b[32mcmd17.sc\u001b[39m:\u001b[32m6\u001b[39m)\n  ammonite.$sess.cmd17$Helper.lengthR(\u001b[32mcmd17.sc\u001b[39m:\u001b[32m6\u001b[39m)\n  ammonite.$sess.cmd17$Helper.lengthR(\u001b[32mcmd17.sc\u001b[39m:\u001b[32m6\u001b[39m)\n  ammonite.$sess.cmd17$Helper.lengthR(\u001b[32mcmd17.sc\u001b[39m:\u001b[32m6\u001b[39m)\n  ammonite.$sess.cmd17$Helper.lengthR(\u001b[32mcmd17.sc\u001b[39m:\u001b[32m6\u001b[39m)\n  ammonite.$sess.cmd17$Helper.lengthR(\u001b[32mcmd17.sc\u001b[39m:\u001b[32m6\u001b[39m)\n  ammonite.$sess.cmd17$Helper.lengthR(\u001b[32mcmd17.sc\u001b[39m:\u001b[32m6\u001b[39m)\n  ammonite.$sess.cmd17$Helper.lengthR(\u001b[32mcmd17.sc\u001b[39m:\u001b[32m6\u001b[39m)\n  ammonite.$sess.cmd17$Helper.lengthR(\u001b[32mcmd17.sc\u001b[39m:\u001b[32m6\u001b[39m)\n  ammonite.$sess.cmd17$Helper.lengthR(\u001b[32mcmd17.sc\u001b[39m:\u001b[32m6\u001b[39m)\n  ammonite.$sess.cmd17$Helper.lengthR(\u001b[32mcmd17.sc\u001b[39m:\u001b[32m6\u001b[39m)\n  ammonite.$sess.cmd17$Helper.lengthR(\u001b[32mcmd17.sc\u001b[39m:\u001b[32m6\u001b[39m)\n  ammonite.$sess.cmd17$Helper.lengthR(\u001b[32mcmd17.sc\u001b[39m:\u001b[32m6\u001b[39m)\n  ammonite.$sess.cmd17$Helper.lengthR(\u001b[32mcmd17.sc\u001b[39m:\u001b[32m6\u001b[39m)\n  ammonite.$sess.cmd17$Helper.lengthR(\u001b[32mcmd17.sc\u001b[39m:\u001b[32m6\u001b[39m)\n  ammonite.$sess.cmd17$Helper.lengthR(\u001b[32mcmd17.sc\u001b[39m:\u001b[32m6\u001b[39m)\n  ammonite.$sess.cmd17$Helper.lengthR(\u001b[32mcmd17.sc\u001b[39m:\u001b[32m6\u001b[39m)\n  ammonite.$sess.cmd17$Helper.lengthR(\u001b[32mcmd17.sc\u001b[39m:\u001b[32m6\u001b[39m)\n  ammonite.$sess.cmd17$Helper.lengthR(\u001b[32mcmd17.sc\u001b[39m:\u001b[32m6\u001b[39m)\n  ammonite.$sess.cmd17$Helper.lengthR(\u001b[32mcmd17.sc\u001b[39m:\u001b[32m6\u001b[39m)\n  ammonite.$sess.cmd17$Helper.lengthR(\u001b[32mcmd17.sc\u001b[39m:\u001b[32m6\u001b[39m)\n  ammonite.$sess.cmd17$Helper.lengthR(\u001b[32mcmd17.sc\u001b[39m:\u001b[32m6\u001b[39m)\n  ammonite.$sess.cmd17$Helper.lengthR(\u001b[32mcmd17.sc\u001b[39m:\u001b[32m6\u001b[39m)\n  ammonite.$sess.cmd17$Helper.lengthR(\u001b[32mcmd17.sc\u001b[39m:\u001b[32m6\u001b[39m)\n  ammonite.$sess.cmd17$Helper.lengthR(\u001b[32mcmd17.sc\u001b[39m:\u001b[32m6\u001b[39m)\n  ammonite.$sess.cmd17$Helper.lengthR(\u001b[32mcmd17.sc\u001b[39m:\u001b[32m6\u001b[39m)\n  ammonite.$sess.cmd17$Helper.lengthR(\u001b[32mcmd17.sc\u001b[39m:\u001b[32m6\u001b[39m)\n  ammonite.$sess.cmd17$Helper.lengthR(\u001b[32mcmd17.sc\u001b[39m:\u001b[32m6\u001b[39m)\n  ammonite.$sess.cmd17$Helper.lengthR(\u001b[32mcmd17.sc\u001b[39m:\u001b[32m6\u001b[39m)\n  ammonite.$sess.cmd17$Helper.lengthR(\u001b[32mcmd17.sc\u001b[39m:\u001b[32m6\u001b[39m)\n  ammonite.$sess.cmd17$Helper.lengthR(\u001b[32mcmd17.sc\u001b[39m:\u001b[32m6\u001b[39m)\n  ammonite.$sess.cmd17$Helper.lengthR(\u001b[32mcmd17.sc\u001b[39m:\u001b[32m6\u001b[39m)\n  ammonite.$sess.cmd17$Helper.lengthR(\u001b[32mcmd17.sc\u001b[39m:\u001b[32m6\u001b[39m)\n  ammonite.$sess.cmd17$Helper.lengthR(\u001b[32mcmd17.sc\u001b[39m:\u001b[32m6\u001b[39m)\n  ammonite.$sess.cmd17$Helper.lengthR(\u001b[32mcmd17.sc\u001b[39m:\u001b[32m6\u001b[39m)\n  ammonite.$sess.cmd17$Helper.lengthR(\u001b[32mcmd17.sc\u001b[39m:\u001b[32m6\u001b[39m)\n  ammonite.$sess.cmd17$Helper.lengthR(\u001b[32mcmd17.sc\u001b[39m:\u001b[32m6\u001b[39m)\n  ammonite.$sess.cmd17$Helper.lengthR(\u001b[32mcmd17.sc\u001b[39m:\u001b[32m6\u001b[39m)\n  ammonite.$sess.cmd17$Helper.lengthR(\u001b[32mcmd17.sc\u001b[39m:\u001b[32m6\u001b[39m)\n  ammonite.$sess.cmd17$Helper.lengthR(\u001b[32mcmd17.sc\u001b[39m:\u001b[32m6\u001b[39m)\n  ammonite.$sess.cmd17$Helper.lengthR(\u001b[32mcmd17.sc\u001b[39m:\u001b[32m6\u001b[39m)\n  ammonite.$sess.cmd17$Helper.lengthR(\u001b[32mcmd17.sc\u001b[39m:\u001b[32m6\u001b[39m)\n  ammonite.$sess.cmd17$Helper.lengthR(\u001b[32mcmd17.sc\u001b[39m:\u001b[32m6\u001b[39m)\n  ammonite.$sess.cmd17$Helper.lengthR(\u001b[32mcmd17.sc\u001b[39m:\u001b[32m6\u001b[39m)\n  ammonite.$sess.cmd17$Helper.lengthR(\u001b[32mcmd17.sc\u001b[39m:\u001b[32m6\u001b[39m)\n  ammonite.$sess.cmd17$Helper.lengthR(\u001b[32mcmd17.sc\u001b[39m:\u001b[32m6\u001b[39m)\n  ammonite.$sess.cmd17$Helper.lengthR(\u001b[32mcmd17.sc\u001b[39m:\u001b[32m6\u001b[39m)\n  ammonite.$sess.cmd17$Helper.lengthR(\u001b[32mcmd17.sc\u001b[39m:\u001b[32m6\u001b[39m)\n  ammonite.$sess.cmd17$Helper.lengthR(\u001b[32mcmd17.sc\u001b[39m:\u001b[32m6\u001b[39m)\n  ammonite.$sess.cmd17$Helper.lengthR(\u001b[32mcmd17.sc\u001b[39m:\u001b[32m6\u001b[39m)\n  ammonite.$sess.cmd17$Helper.lengthR(\u001b[32mcmd17.sc\u001b[39m:\u001b[32m6\u001b[39m)\n  ammonite.$sess.cmd17$Helper.lengthR(\u001b[32mcmd17.sc\u001b[39m:\u001b[32m6\u001b[39m)\n  ammonite.$sess.cmd17$Helper.lengthR(\u001b[32mcmd17.sc\u001b[39m:\u001b[32m6\u001b[39m)\n  ammonite.$sess.cmd17$Helper.lengthR(\u001b[32mcmd17.sc\u001b[39m:\u001b[32m6\u001b[39m)\n  ammonite.$sess.cmd17$Helper.lengthR(\u001b[32mcmd17.sc\u001b[39m:\u001b[32m6\u001b[39m)\n  ammonite.$sess.cmd17$Helper.lengthR(\u001b[32mcmd17.sc\u001b[39m:\u001b[32m6\u001b[39m)\n  ammonite.$sess.cmd17$Helper.lengthR(\u001b[32mcmd17.sc\u001b[39m:\u001b[32m6\u001b[39m)\n  ammonite.$sess.cmd17$Helper.lengthR(\u001b[32mcmd17.sc\u001b[39m:\u001b[32m6\u001b[39m)\n  ammonite.$sess.cmd17$Helper.lengthR(\u001b[32mcmd17.sc\u001b[39m:\u001b[32m6\u001b[39m)\n  ammonite.$sess.cmd17$Helper.lengthR(\u001b[32mcmd17.sc\u001b[39m:\u001b[32m6\u001b[39m)\n  ammonite.$sess.cmd17$Helper.lengthR(\u001b[32mcmd17.sc\u001b[39m:\u001b[32m6\u001b[39m)\n  ammonite.$sess.cmd17$Helper.lengthR(\u001b[32mcmd17.sc\u001b[39m:\u001b[32m6\u001b[39m)\n  ammonite.$sess.cmd17$Helper.lengthR(\u001b[32mcmd17.sc\u001b[39m:\u001b[32m6\u001b[39m)\n  ammonite.$sess.cmd17$Helper.lengthR(\u001b[32mcmd17.sc\u001b[39m:\u001b[32m6\u001b[39m)\n  ammonite.$sess.cmd17$Helper.lengthR(\u001b[32mcmd17.sc\u001b[39m:\u001b[32m6\u001b[39m)\n  ammonite.$sess.cmd17$Helper.lengthR(\u001b[32mcmd17.sc\u001b[39m:\u001b[32m6\u001b[39m)\n  ammonite.$sess.cmd17$Helper.lengthR(\u001b[32mcmd17.sc\u001b[39m:\u001b[32m6\u001b[39m)\n  ammonite.$sess.cmd17$Helper.lengthR(\u001b[32mcmd17.sc\u001b[39m:\u001b[32m6\u001b[39m)\n  ammonite.$sess.cmd17$Helper.lengthR(\u001b[32mcmd17.sc\u001b[39m:\u001b[32m6\u001b[39m)\n  ammonite.$sess.cmd17$Helper.lengthR(\u001b[32mcmd17.sc\u001b[39m:\u001b[32m6\u001b[39m)\n  ammonite.$sess.cmd17$Helper.lengthR(\u001b[32mcmd17.sc\u001b[39m:\u001b[32m6\u001b[39m)\n  ammonite.$sess.cmd17$Helper.lengthR(\u001b[32mcmd17.sc\u001b[39m:\u001b[32m6\u001b[39m)\n  ammonite.$sess.cmd17$Helper.lengthR(\u001b[32mcmd17.sc\u001b[39m:\u001b[32m6\u001b[39m)\n  ammonite.$sess.cmd17$Helper.lengthR(\u001b[32mcmd17.sc\u001b[39m:\u001b[32m6\u001b[39m)\n  ammonite.$sess.cmd17$Helper.lengthR(\u001b[32mcmd17.sc\u001b[39m:\u001b[32m6\u001b[39m)\n  ammonite.$sess.cmd17$Helper.lengthR(\u001b[32mcmd17.sc\u001b[39m:\u001b[32m6\u001b[39m)\n  ammonite.$sess.cmd17$Helper.lengthR(\u001b[32mcmd17.sc\u001b[39m:\u001b[32m6\u001b[39m)\n  ammonite.$sess.cmd17$Helper.lengthR(\u001b[32mcmd17.sc\u001b[39m:\u001b[32m6\u001b[39m)\n  ammonite.$sess.cmd17$Helper.lengthR(\u001b[32mcmd17.sc\u001b[39m:\u001b[32m6\u001b[39m)\n  ammonite.$sess.cmd17$Helper.lengthR(\u001b[32mcmd17.sc\u001b[39m:\u001b[32m6\u001b[39m)\n  ammonite.$sess.cmd17$Helper.lengthR(\u001b[32mcmd17.sc\u001b[39m:\u001b[32m6\u001b[39m)\n  ammonite.$sess.cmd17$Helper.lengthR(\u001b[32mcmd17.sc\u001b[39m:\u001b[32m6\u001b[39m)\n  ammonite.$sess.cmd17$Helper.lengthR(\u001b[32mcmd17.sc\u001b[39m:\u001b[32m6\u001b[39m)\n  ammonite.$sess.cmd17$Helper.lengthR(\u001b[32mcmd17.sc\u001b[39m:\u001b[32m6\u001b[39m)\n  ammonite.$sess.cmd17$Helper.lengthR(\u001b[32mcmd17.sc\u001b[39m:\u001b[32m6\u001b[39m)\n  ammonite.$sess.cmd17$Helper.lengthR(\u001b[32mcmd17.sc\u001b[39m:\u001b[32m6\u001b[39m)\n  ammonite.$sess.cmd17$Helper.lengthR(\u001b[32mcmd17.sc\u001b[39m:\u001b[32m6\u001b[39m)\n  ammonite.$sess.cmd17$Helper.lengthR(\u001b[32mcmd17.sc\u001b[39m:\u001b[32m6\u001b[39m)\n  ammonite.$sess.cmd17$Helper.lengthR(\u001b[32mcmd17.sc\u001b[39m:\u001b[32m6\u001b[39m)\n  ammonite.$sess.cmd17$Helper.lengthR(\u001b[32mcmd17.sc\u001b[39m:\u001b[32m6\u001b[39m)\n  ammonite.$sess.cmd17$Helper.lengthR(\u001b[32mcmd17.sc\u001b[39m:\u001b[32m6\u001b[39m)\n  ammonite.$sess.cmd17$Helper.lengthR(\u001b[32mcmd17.sc\u001b[39m:\u001b[32m6\u001b[39m)\n  ammonite.$sess.cmd17$Helper.lengthR(\u001b[32mcmd17.sc\u001b[39m:\u001b[32m6\u001b[39m)\n  ammonite.$sess.cmd17$Helper.lengthR(\u001b[32mcmd17.sc\u001b[39m:\u001b[32m6\u001b[39m)\n  ammonite.$sess.cmd17$Helper.lengthR(\u001b[32mcmd17.sc\u001b[39m:\u001b[32m6\u001b[39m)\n  ammonite.$sess.cmd17$Helper.lengthR(\u001b[32mcmd17.sc\u001b[39m:\u001b[32m6\u001b[39m)\n  ammonite.$sess.cmd17$Helper.lengthR(\u001b[32mcmd17.sc\u001b[39m:\u001b[32m6\u001b[39m)\n  ammonite.$sess.cmd17$Helper.lengthR(\u001b[32mcmd17.sc\u001b[39m:\u001b[32m6\u001b[39m)\n  ammonite.$sess.cmd17$Helper.lengthR(\u001b[32mcmd17.sc\u001b[39m:\u001b[32m6\u001b[39m)\n  ammonite.$sess.cmd17$Helper.lengthR(\u001b[32mcmd17.sc\u001b[39m:\u001b[32m6\u001b[39m)\n  ammonite.$sess.cmd17$Helper.lengthR(\u001b[32mcmd17.sc\u001b[39m:\u001b[32m6\u001b[39m)\n  ammonite.$sess.cmd17$Helper.lengthR(\u001b[32mcmd17.sc\u001b[39m:\u001b[32m6\u001b[39m)"
     ]
    }
   ],
   "source": [
    "lengthR(listatocha)"
   ]
  },
  {
   "cell_type": "markdown",
   "metadata": {},
   "source": [
    "### Tail-recursive functions"
   ]
  },
  {
   "cell_type": "markdown",
   "metadata": {},
   "source": [
    "The implementation using tail-recursion solves the problems with the stack. It commonly makes use of auxiliary functions:"
   ]
  },
  {
   "cell_type": "code",
   "execution_count": null,
   "metadata": {},
   "outputs": [],
   "source": [
    "// Using tail-recursive functions\n",
    "\n"
   ]
  },
  {
   "cell_type": "code",
   "execution_count": null,
   "metadata": {},
   "outputs": [],
   "source": []
  },
  {
   "cell_type": "markdown",
   "metadata": {},
   "source": [
    "We can check the stack-safety problems of non-tail recursive functions, by calculating the length of a very big list. We will use the following function, which creates a constant list of given length."
   ]
  },
  {
   "cell_type": "code",
   "execution_count": null,
   "metadata": {},
   "outputs": [],
   "source": [
    "// First, imperatively\n",
    "\n"
   ]
  },
  {
   "cell_type": "code",
   "execution_count": null,
   "metadata": {},
   "outputs": [],
   "source": [
    "// Next, tail-recursively\n",
    "\n"
   ]
  },
  {
   "cell_type": "markdown",
   "metadata": {},
   "source": [
    "Now, let's calculate the length of a list long enough, using each of the three implementations:"
   ]
  },
  {
   "cell_type": "code",
   "execution_count": null,
   "metadata": {},
   "outputs": [],
   "source": [
    "// Imperatively\n"
   ]
  },
  {
   "cell_type": "code",
   "execution_count": null,
   "metadata": {},
   "outputs": [],
   "source": [
    "// Tail-recursive\n"
   ]
  },
  {
   "cell_type": "code",
   "execution_count": null,
   "metadata": {},
   "outputs": [],
   "source": [
    "// Plain recursive\n"
   ]
  },
  {
   "cell_type": "markdown",
   "metadata": {},
   "source": [
    "### Unit testing with `scalatest`"
   ]
  },
  {
   "cell_type": "code",
   "execution_count": 1,
   "metadata": {},
   "outputs": [
    {
     "data": {
      "text/plain": [
       "\u001b[32mimport \u001b[39m\u001b[36m$ivy.$                               \n",
       "\u001b[39m\n",
       "\u001b[32mimport \u001b[39m\u001b[36morg.scalatest._\u001b[39m"
      ]
     },
     "execution_count": 1,
     "metadata": {},
     "output_type": "execute_result"
    }
   ],
   "source": [
    "import $ivy.`org.scalatest::scalatest:3.0.8`\n",
    "import org.scalatest._"
   ]
  },
  {
   "cell_type": "markdown",
   "metadata": {},
   "source": [
    "From now on, we will also make extensive use of unit testing for the different functions that we implement. And we will use the [`scalatest`](http://www.scalatest.org/) library for that purpose. In particular, for each function we will implement a test catalogue that test it against different test cases. For instance, this is a possible test class for the `length` function:"
   ]
  },
  {
   "cell_type": "code",
   "execution_count": 40,
   "metadata": {},
   "outputs": [
    {
     "data": {
      "text/plain": [
       "defined \u001b[32mclass\u001b[39m \u001b[36mTestLength\u001b[39m"
      ]
     },
     "execution_count": 40,
     "metadata": {},
     "output_type": "execute_result"
    }
   ],
   "source": [
    "class TestLength extends FlatSpec with Matchers{\n",
    "    \"length of empty list\" should \"work\" in {\n",
    "        lengthR(List()) shouldBe 1\n",
    "    }\n",
    "    \n",
    "    \"length of non-empty list\" should \"work\" in {\n",
    "        lengthR(List(1)) shouldBe 1\n",
    "        lengthR(List(1,2,3,4)) shouldBe 4\n",
    "    }\n",
    "}"
   ]
  },
  {
   "cell_type": "code",
   "execution_count": 53,
   "metadata": {},
   "outputs": [
    {
     "data": {
      "text/plain": [
       "defined \u001b[32mclass\u001b[39m \u001b[36mTestLength\u001b[39m"
      ]
     },
     "execution_count": 53,
     "metadata": {},
     "output_type": "execute_result"
    }
   ],
   "source": [
    "class TestLength(lengthF: List[Int] => Int) \n",
    "extends FlatSpec with Matchers{\n",
    "    \n",
    "    \"length of empty list\" should \"work\" in {\n",
    "        lengthF(List()) shouldBe 0\n",
    "    }\n",
    "    \n",
    "    \"length of non-empty list\" should \"work\" in {\n",
    "        lengthF(List(1)) shouldBe 1\n",
    "        lengthF(List(1,2,3,4)) shouldBe 4\n",
    "    }\n",
    "}"
   ]
  },
  {
   "cell_type": "code",
   "execution_count": 54,
   "metadata": {},
   "outputs": [
    {
     "data": {
      "text/plain": [
       "defined \u001b[32mclass\u001b[39m \u001b[36mTestLength\u001b[39m"
      ]
     },
     "execution_count": 54,
     "metadata": {},
     "output_type": "execute_result"
    }
   ],
   "source": [
    "class TestLength(lengthF: List[Boolean] => Int) \n",
    "extends FlatSpec with Matchers{\n",
    "    \n",
    "    \"length of empty list\" should \"work\" in {\n",
    "        lengthF(List()) shouldBe 0\n",
    "    }\n",
    "    \n",
    "    \"length of non-empty list\" should \"work\" in {\n",
    "        lengthF(List(true)) shouldBe 1\n",
    "        lengthF(List(false,true,false,false)) shouldBe 4\n",
    "    }\n",
    "}"
   ]
  },
  {
   "cell_type": "code",
   "execution_count": 52,
   "metadata": {},
   "outputs": [
    {
     "data": {
      "text/plain": [
       "\u001b[36mres51_0\u001b[39m: \u001b[32mInt\u001b[39m = \u001b[32m3\u001b[39m\n",
       "\u001b[36mres51_1\u001b[39m: \u001b[32mInt\u001b[39m = \u001b[32m3\u001b[39m\n",
       "\u001b[36mres51_2\u001b[39m: \u001b[32mInt\u001b[39m = \u001b[32m3\u001b[39m"
      ]
     },
     "execution_count": 52,
     "metadata": {},
     "output_type": "execute_result"
    }
   ],
   "source": [
    "lengthR[Char](List('a', 'b', 'c'))\n",
    "lengthR[Int](List(1,2,3))\n",
    "lengthR[Boolean](List(true, false, true))"
   ]
  },
  {
   "cell_type": "code",
   "execution_count": 56,
   "metadata": {},
   "outputs": [
    {
     "name": "stdout",
     "output_type": "stream",
     "text": [
      "\u001b[32mcmd53$Helper$TestLength:\u001b[0m\n",
      "\u001b[32mlength of empty list\u001b[0m\n",
      "\u001b[32m- should work\u001b[0m\n",
      "\u001b[32mlength of non-empty list\u001b[0m\n",
      "\u001b[32m- should work\u001b[0m\n",
      "\u001b[32mcmd53$Helper$TestLength:\u001b[0m\n",
      "\u001b[32mlength of empty list\u001b[0m\n",
      "\u001b[32m- should work\u001b[0m\n",
      "\u001b[32mlength of non-empty list\u001b[0m\n",
      "\u001b[32m- should work\u001b[0m\n",
      "\u001b[32mcmd53$Helper$TestLength:\u001b[0m\n",
      "\u001b[32mlength of empty list\u001b[0m\n",
      "\u001b[32m- should work\u001b[0m\n",
      "\u001b[32mlength of non-empty list\u001b[0m\n",
      "\u001b[32m- should work\u001b[0m\n"
     ]
    }
   ],
   "source": [
    "//def lengthR[T](list: List[T]): Int = \n",
    "run(new TestLength(lengthR[Boolean]))\n",
    "run(new TestLength(lengthTR[Boolean]))\n",
    "run(new TestLength(lengthI[Boolean]))"
   ]
  },
  {
   "cell_type": "markdown",
   "metadata": {},
   "source": [
    "The method `shouldBe` is a _matcher_. The scalatest library offers an extensive catalogue of [them](http://www.scalatest.org/user_guide/using_matchers). Similarly, scalatest also support many different [testing styles](http://www.scalatest.org/user_guide/selecting_a_style). The chosen one here was `FlatSpec`. In order to execute the test catalogue we can simply use the scalatest method `run`:"
   ]
  },
  {
   "cell_type": "code",
   "execution_count": null,
   "metadata": {},
   "outputs": [],
   "source": []
  },
  {
   "cell_type": "markdown",
   "metadata": {},
   "source": [
    "### Example: adding numbers"
   ]
  },
  {
   "cell_type": "markdown",
   "metadata": {},
   "source": [
    "Let's implement a function that sums all the numbers of a list."
   ]
  },
  {
   "cell_type": "code",
   "execution_count": 57,
   "metadata": {},
   "outputs": [
    {
     "data": {
      "text/plain": [
       "defined \u001b[32mclass\u001b[39m \u001b[36mTestSum\u001b[39m"
      ]
     },
     "execution_count": 57,
     "metadata": {},
     "output_type": "execute_result"
    }
   ],
   "source": [
    "class TestSum(sum: List[Int] => Int) \n",
    "extends FlatSpec with Matchers{\n",
    "    \"sum\" should \"work\" in {\n",
    "        sum(List()) shouldBe 0\n",
    "        sum(List(1,2,3,4)) shouldBe 10\n",
    "        sum(List(4)) shouldBe 4\n",
    "    }\n",
    "}"
   ]
  },
  {
   "cell_type": "code",
   "execution_count": null,
   "metadata": {},
   "outputs": [],
   "source": [
    "// Recursively\n",
    "\n",
    "def sum(list: List[Int]): Int = \n",
    "    list match {\n",
    "        case Nil => \n",
    "            ??? : Int\n",
    "        case head :: (tail: List[Int]) => \n",
    "            val tailSum: Int = ??? \n",
    "            ??? : Int \n",
    "    }"
   ]
  },
  {
   "cell_type": "code",
   "execution_count": 58,
   "metadata": {},
   "outputs": [
    {
     "data": {
      "text/plain": [
       "defined \u001b[32mfunction\u001b[39m \u001b[36msum\u001b[39m"
      ]
     },
     "execution_count": 58,
     "metadata": {},
     "output_type": "execute_result"
    }
   ],
   "source": [
    "// Recursively\n",
    "\n",
    "def sum(list: List[Int]): Int = \n",
    "    list match {\n",
    "        case Nil => \n",
    "            0 : Int\n",
    "        case head :: (tail: List[Int]) => \n",
    "            val tailSum: Int = sum(tail) \n",
    "            head + tailSum : Int \n",
    "    }"
   ]
  },
  {
   "cell_type": "code",
   "execution_count": 59,
   "metadata": {},
   "outputs": [
    {
     "name": "stdout",
     "output_type": "stream",
     "text": [
      "\u001b[32mcmd56$Helper$TestSum:\u001b[0m\n",
      "\u001b[32msum\u001b[0m\n",
      "\u001b[32m- should work\u001b[0m\n"
     ]
    }
   ],
   "source": [
    "run(new TestSum(sum))"
   ]
  },
  {
   "cell_type": "code",
   "execution_count": null,
   "metadata": {},
   "outputs": [],
   "source": [
    "// With tail-recursion\n",
    "\n",
    "def sumTR(l: List[Int]): Int = {\n",
    "    def aux(out: Int, l: List[Int]): Int = \n",
    "        l match {\n",
    "            case Nil => ??? \n",
    "            case e :: tail => \n",
    "                aux(???, tail)\n",
    "        } \n",
    "    \n",
    "    aux(???, l)\n",
    "}"
   ]
  },
  {
   "cell_type": "code",
   "execution_count": 60,
   "metadata": {},
   "outputs": [
    {
     "data": {
      "text/plain": [
       "defined \u001b[32mfunction\u001b[39m \u001b[36msumTR\u001b[39m"
      ]
     },
     "execution_count": 60,
     "metadata": {},
     "output_type": "execute_result"
    }
   ],
   "source": [
    "// With tail-recursion\n",
    "\n",
    "def sumTR(l: List[Int]): Int = {\n",
    "    def aux(out: Int, l: List[Int]): Int = \n",
    "        l match {\n",
    "            case Nil => out\n",
    "            case e :: tail => \n",
    "                aux(out + e, tail)\n",
    "        } \n",
    "    \n",
    "    aux(0, l)\n",
    "}"
   ]
  },
  {
   "cell_type": "code",
   "execution_count": null,
   "metadata": {},
   "outputs": [],
   "source": []
  },
  {
   "cell_type": "markdown",
   "metadata": {},
   "source": [
    "### Example: multiplying list elements"
   ]
  },
  {
   "cell_type": "markdown",
   "metadata": {},
   "source": [
    "Let's multiply the elements of a list. If the list is empty we return the identity element for integers."
   ]
  },
  {
   "cell_type": "code",
   "execution_count": 62,
   "metadata": {},
   "outputs": [
    {
     "data": {
      "text/plain": [
       "defined \u001b[32mclass\u001b[39m \u001b[36mTestProduct\u001b[39m"
      ]
     },
     "execution_count": 62,
     "metadata": {},
     "output_type": "execute_result"
    }
   ],
   "source": [
    "class TestProduct(product: List[Int] => Int) \n",
    "extends FlatSpec with Matchers{\n",
    "    \"product\" should \"work\" in {\n",
    "        product(List(1,2,3,4)) shouldBe 24\n",
    "        product(List(1,2,3,0,6,7,8,8,10)) shouldBe 0\n",
    "        product(List(1,5)) shouldBe 5\n",
    "        product(List()) shouldBe 1\n",
    "    }\n",
    "}"
   ]
  },
  {
   "cell_type": "markdown",
   "metadata": {},
   "source": [
    "This is the common recursive implementation:"
   ]
  },
  {
   "cell_type": "code",
   "execution_count": 63,
   "metadata": {},
   "outputs": [
    {
     "data": {
      "text/plain": [
       "defined \u001b[32mfunction\u001b[39m \u001b[36mmultiply\u001b[39m"
      ]
     },
     "execution_count": 63,
     "metadata": {},
     "output_type": "execute_result"
    }
   ],
   "source": [
    "def multiply(l: List[Int]): Int = \n",
    "    l match {\n",
    "        case Nil => ??? \n",
    "        case head :: tail => \n",
    "            val tailMult: Int = ??? \n",
    "            ??? : Int\n",
    "    }"
   ]
  },
  {
   "cell_type": "code",
   "execution_count": 64,
   "metadata": {},
   "outputs": [
    {
     "data": {
      "text/plain": [
       "defined \u001b[32mfunction\u001b[39m \u001b[36mmultiply\u001b[39m"
      ]
     },
     "execution_count": 64,
     "metadata": {},
     "output_type": "execute_result"
    }
   ],
   "source": [
    "def multiply(l: List[Int]): Int = \n",
    "    l match {\n",
    "        case Nil => 1\n",
    "        case head :: tail => \n",
    "            val tailMult: Int = multiply(tail)\n",
    "            head * tailMult : Int\n",
    "    }"
   ]
  },
  {
   "cell_type": "code",
   "execution_count": 64,
   "metadata": {},
   "outputs": [
    {
     "data": {
      "text/plain": [
       "defined \u001b[32mfunction\u001b[39m \u001b[36mmultiply\u001b[39m"
      ]
     },
     "execution_count": 64,
     "metadata": {},
     "output_type": "execute_result"
    }
   ],
   "source": [
    "def multiply(l: List[Int]): Int = \n",
    "    l match {\n",
    "        case Nil => 1\n",
    "        case head :: tail => \n",
    "            if (head == 0) 0\n",
    "            else {\n",
    "                val tailMult: Int = multiply(tail)\n",
    "                head * tailMult : Int\n",
    "            }\n",
    "    }"
   ]
  },
  {
   "cell_type": "code",
   "execution_count": 66,
   "metadata": {},
   "outputs": [
    {
     "data": {
      "text/plain": [
       "defined \u001b[32mfunction\u001b[39m \u001b[36mmultiply\u001b[39m"
      ]
     },
     "execution_count": 66,
     "metadata": {},
     "output_type": "execute_result"
    }
   ],
   "source": [
    "def multiply(l: List[Int]): Int = \n",
    "    l match {\n",
    "        case Nil => 1\n",
    "        case head :: tail if head == 0 => 0\n",
    "        case head :: tail => \n",
    "            val tailMult: Int = multiply(tail)\n",
    "            head * tailMult : Int\n",
    "    }"
   ]
  },
  {
   "cell_type": "code",
   "execution_count": 66,
   "metadata": {},
   "outputs": [
    {
     "data": {
      "text/plain": [
       "defined \u001b[32mfunction\u001b[39m \u001b[36mmultiply\u001b[39m"
      ]
     },
     "execution_count": 66,
     "metadata": {},
     "output_type": "execute_result"
    }
   ],
   "source": [
    "def multiply(l: List[Int]): Int = \n",
    "    l match {\n",
    "        case Nil => 1\n",
    "        case 0 :: tail => 0\n",
    "        case head :: tail => \n",
    "            val tailMult: Int = multiply(tail)\n",
    "            head * tailMult : Int\n",
    "    }"
   ]
  },
  {
   "cell_type": "markdown",
   "metadata": {},
   "source": [
    "It works as expected: "
   ]
  },
  {
   "cell_type": "code",
   "execution_count": 65,
   "metadata": {},
   "outputs": [
    {
     "name": "stdout",
     "output_type": "stream",
     "text": [
      "\u001b[32mcmd61$Helper$TestProduct:\u001b[0m\n",
      "\u001b[32mproduct\u001b[0m\n",
      "\u001b[32m- should work\u001b[0m\n"
     ]
    }
   ],
   "source": [
    "run(new TestProduct(multiply))"
   ]
  },
  {
   "cell_type": "markdown",
   "metadata": {},
   "source": [
    "But we can optimize the function a little bit. Note that if the number 0 belongs to the list, then the result is 0, no matter how many elements the list has. So, once we find the element 0 it's a waste of resources to make the recursive call. Let's take this into account."
   ]
  },
  {
   "cell_type": "code",
   "execution_count": null,
   "metadata": {},
   "outputs": [],
   "source": [
    "/*def product(list: List[Int]): Int =\n",
    "    list match {\n",
    "        case Nil => 1\n",
    "        case head :: tail => head * product(tail)\n",
    "    }\n",
    "    */"
   ]
  },
  {
   "cell_type": "code",
   "execution_count": null,
   "metadata": {},
   "outputs": [],
   "source": [
    "run(TestProduct)"
   ]
  },
  {
   "cell_type": "markdown",
   "metadata": {},
   "source": [
    "A similar optimization can be made for the tail-recursive implementation."
   ]
  },
  {
   "cell_type": "markdown",
   "metadata": {},
   "source": [
    "### Example: membership"
   ]
  },
  {
   "cell_type": "markdown",
   "metadata": {},
   "source": [
    "Let's implement a function that given a list and an element, returns whether the element belongs to that list."
   ]
  },
  {
   "cell_type": "code",
   "execution_count": null,
   "metadata": {},
   "outputs": [],
   "source": [
    "object TestMember extends FlatSpec with Matchers{\n",
    "    \"member\" should \"work\" in {\n",
    "    }\n",
    "}"
   ]
  },
  {
   "cell_type": "code",
   "execution_count": null,
   "metadata": {},
   "outputs": [],
   "source": []
  },
  {
   "cell_type": "code",
   "execution_count": null,
   "metadata": {},
   "outputs": [],
   "source": [
    "run(TestMember)"
   ]
  },
  {
   "cell_type": "markdown",
   "metadata": {},
   "source": [
    "We can also pattern match against a specific value as follows:"
   ]
  },
  {
   "cell_type": "code",
   "execution_count": null,
   "metadata": {},
   "outputs": [],
   "source": []
  },
  {
   "cell_type": "markdown",
   "metadata": {},
   "source": [
    "### Example: last element"
   ]
  },
  {
   "cell_type": "markdown",
   "metadata": {},
   "source": [
    "Let's implement a function that returns the last element of a given list. Note that an empty list does not have elements, and, hence, does not have a last element."
   ]
  },
  {
   "cell_type": "code",
   "execution_count": 2,
   "metadata": {},
   "outputs": [
    {
     "data": {
      "text/plain": [
       "defined \u001b[32mclass\u001b[39m \u001b[36mTestLast\u001b[39m"
      ]
     },
     "execution_count": 2,
     "metadata": {},
     "output_type": "execute_result"
    }
   ],
   "source": [
    "class TestLast(last: List[Int] => Option[Int]) \n",
    "extends FlatSpec with Matchers{\n",
    "    \"last\" should \"work\" in {\n",
    "        last(List(1,2,3)) shouldBe Some(3)\n",
    "        last(List(1,2)) shouldBe Some(2)\n",
    "        last(List(1)) shouldBe Some(1)\n",
    "        last(List()) shouldBe None\n",
    "    }\n",
    "}"
   ]
  },
  {
   "cell_type": "code",
   "execution_count": 3,
   "metadata": {},
   "outputs": [
    {
     "data": {
      "text/plain": [
       "defined \u001b[32mfunction\u001b[39m \u001b[36mlast\u001b[39m"
      ]
     },
     "execution_count": 3,
     "metadata": {},
     "output_type": "execute_result"
    }
   ],
   "source": [
    "def last[A](list: List[A]): Option[A] = \n",
    "    list match {\n",
    "        case Nil => \n",
    "            None : Option[A]\n",
    "        case head :: tail => \n",
    "            val tailSol: Option[A] = last(tail)\n",
    "            tailSol match {\n",
    "                case None => \n",
    "                    Some(head) : Option[A]\n",
    "                case Some(e) => \n",
    "                    Some(e) : Option[A]\n",
    "            }\n",
    "    }"
   ]
  },
  {
   "cell_type": "code",
   "execution_count": 5,
   "metadata": {},
   "outputs": [
    {
     "data": {
      "text/plain": [
       "defined \u001b[32mfunction\u001b[39m \u001b[36mlast\u001b[39m"
      ]
     },
     "execution_count": 5,
     "metadata": {},
     "output_type": "execute_result"
    }
   ],
   "source": [
    "def last[A](list: List[A]): Option[A] = \n",
    "    list match {\n",
    "        case Nil => \n",
    "            None \n",
    "        case head :: tail => \n",
    "            last(tail) match {\n",
    "                case None => \n",
    "                    Some(head) \n",
    "                case s => s\n",
    "            }\n",
    "    }"
   ]
  },
  {
   "cell_type": "code",
   "execution_count": 6,
   "metadata": {},
   "outputs": [
    {
     "data": {
      "text/plain": [
       "defined \u001b[32mfunction\u001b[39m \u001b[36mlast\u001b[39m"
      ]
     },
     "execution_count": 6,
     "metadata": {},
     "output_type": "execute_result"
    }
   ],
   "source": [
    "def last[A](list: List[A]): Option[A] = \n",
    "    list match {\n",
    "        case Nil => \n",
    "            None \n",
    "        case head :: Nil => \n",
    "            Some(head)\n",
    "        case _ :: tail => \n",
    "            last(tail)\n",
    "    }"
   ]
  },
  {
   "cell_type": "code",
   "execution_count": 7,
   "metadata": {},
   "outputs": [
    {
     "name": "stdout",
     "output_type": "stream",
     "text": [
      "\u001b[32mcmd1$Helper$TestLast:\u001b[0m\n",
      "\u001b[32mlast\u001b[0m\n",
      "\u001b[32m- should work\u001b[0m\n"
     ]
    }
   ],
   "source": [
    "run(new TestLast(last))"
   ]
  },
  {
   "cell_type": "markdown",
   "metadata": {},
   "source": [
    "### Example: insert last"
   ]
  },
  {
   "cell_type": "markdown",
   "metadata": {},
   "source": [
    "Now, a function that allows us to insert an element at the end of the list. "
   ]
  },
  {
   "cell_type": "code",
   "execution_count": null,
   "metadata": {},
   "outputs": [],
   "source": [
    "object TestInsertLast extends FlatSpec with Matchers{\n",
    "    \"insertLast\" should \"work\" in {\n",
    "    }\n",
    "}"
   ]
  },
  {
   "cell_type": "code",
   "execution_count": null,
   "metadata": {},
   "outputs": [],
   "source": []
  },
  {
   "cell_type": "code",
   "execution_count": null,
   "metadata": {},
   "outputs": [],
   "source": [
    "run(TestInsertLast)"
   ]
  },
  {
   "cell_type": "markdown",
   "metadata": {},
   "source": [
    "### Example: reverse lists"
   ]
  },
  {
   "cell_type": "markdown",
   "metadata": {},
   "source": [
    "Implement a function which receives a list and returns its reverse."
   ]
  },
  {
   "cell_type": "code",
   "execution_count": 12,
   "metadata": {},
   "outputs": [
    {
     "data": {
      "text/plain": [
       "\u001b[36mres11\u001b[39m: \u001b[32mList\u001b[39m[\u001b[32mInt\u001b[39m] = \u001b[33mList\u001b[39m(\u001b[32m1\u001b[39m, \u001b[32m2\u001b[39m, \u001b[32m3\u001b[39m, \u001b[32m4\u001b[39m)"
      ]
     },
     "execution_count": 12,
     "metadata": {},
     "output_type": "execute_result"
    }
   ],
   "source": [
    "List(1,2,3) :+ 4"
   ]
  },
  {
   "cell_type": "code",
   "execution_count": 14,
   "metadata": {},
   "outputs": [
    {
     "data": {
      "text/plain": [
       "defined \u001b[32mclass\u001b[39m \u001b[36mTestReverse\u001b[39m"
      ]
     },
     "execution_count": 14,
     "metadata": {},
     "output_type": "execute_result"
    }
   ],
   "source": [
    "class TestReverse(reverse: List[Int] => List[Int]) \n",
    "extends FlatSpec with Matchers{\n",
    "    \"reverse\" should \"work\" in {\n",
    "        reverse(1 :: List(2,3,4,5)) shouldBe \n",
    "                List(5,4,3,2) :+ 1\n",
    "        reverse(List(1,2)) shouldBe List(2,1)\n",
    "        reverse(List()) shouldBe List()\n",
    "    }\n",
    "}"
   ]
  },
  {
   "cell_type": "code",
   "execution_count": 16,
   "metadata": {},
   "outputs": [
    {
     "data": {
      "text/plain": [
       "defined \u001b[32mfunction\u001b[39m \u001b[36mreverseR\u001b[39m"
      ]
     },
     "execution_count": 16,
     "metadata": {},
     "output_type": "execute_result"
    }
   ],
   "source": [
    "// Recursively: Really inefficient \n",
    "\n",
    "def reverseR[A](l: List[A]): List[A] = \n",
    "    l match {\n",
    "        case Nil => Nil : List[A]\n",
    "        case head :: tail => \n",
    "            val tailReversed: List[A] = reverseR(tail)\n",
    "            tailReversed :+ head : List[A]\n",
    "    }"
   ]
  },
  {
   "cell_type": "code",
   "execution_count": 17,
   "metadata": {},
   "outputs": [
    {
     "name": "stdout",
     "output_type": "stream",
     "text": [
      "\u001b[32mcmd13$Helper$TestReverse:\u001b[0m\n",
      "\u001b[32mreverse\u001b[0m\n",
      "\u001b[32m- should work\u001b[0m\n"
     ]
    }
   ],
   "source": [
    "run(new TestReverse(reverseR))"
   ]
  },
  {
   "cell_type": "code",
   "execution_count": 18,
   "metadata": {},
   "outputs": [
    {
     "data": {
      "text/plain": [
       "defined \u001b[32mfunction\u001b[39m \u001b[36mreverseTR\u001b[39m\n",
       "\u001b[36mres17_1\u001b[39m: \u001b[32mList\u001b[39m[\u001b[32mInt\u001b[39m] = \u001b[33mList\u001b[39m(\u001b[32m1\u001b[39m, \u001b[32m2\u001b[39m, \u001b[32m3\u001b[39m, \u001b[32m4\u001b[39m, \u001b[32m5\u001b[39m)\n",
       "\u001b[36mres17_2\u001b[39m: \u001b[32mNil\u001b[39m.type = \u001b[33mList\u001b[39m()\n",
       "\u001b[36mres17_3\u001b[39m: \u001b[32mList\u001b[39m[\u001b[32mInt\u001b[39m] = \u001b[33mList\u001b[39m(\u001b[32m5\u001b[39m, \u001b[32m4\u001b[39m, \u001b[32m3\u001b[39m, \u001b[32m2\u001b[39m, \u001b[32m1\u001b[39m)"
      ]
     },
     "execution_count": 18,
     "metadata": {},
     "output_type": "execute_result"
    }
   ],
   "source": [
    "// Tail-recursive, efficiently\n",
    "\n",
    "def reverseTR[A](list: List[A]): List[A] = {\n",
    "    def aux(out: List[A], l: List[A]): List[A] = \n",
    "        l match {\n",
    "            case Nil => out\n",
    "            case head :: tail => \n",
    "                aux(head :: out, tail)\n",
    "        }\n",
    "\n",
    "    aux(Nil, list)\n",
    "}\n",
    "\n"
   ]
  },
  {
   "cell_type": "code",
   "execution_count": 20,
   "metadata": {},
   "outputs": [
    {
     "data": {
      "text/plain": [
       "defined \u001b[32mfunction\u001b[39m \u001b[36mreverseI\u001b[39m"
      ]
     },
     "execution_count": 20,
     "metadata": {},
     "output_type": "execute_result"
    }
   ],
   "source": [
    "// Tail-recursive, efficiently\n",
    "\n",
    "def reverseI[A](list: List[A]): List[A] = {\n",
    "    var out: List[A] = Nil\n",
    "    for (head <- list)\n",
    "       out = head :: out\n",
    "    out\n",
    "}\n",
    "\n"
   ]
  },
  {
   "cell_type": "code",
   "execution_count": 21,
   "metadata": {},
   "outputs": [
    {
     "name": "stdout",
     "output_type": "stream",
     "text": [
      "\u001b[32mcmd13$Helper$TestReverse:\u001b[0m\n",
      "\u001b[32mreverse\u001b[0m\n",
      "\u001b[32m- should work\u001b[0m\n"
     ]
    }
   ],
   "source": [
    "run(new TestReverse(reverseI))"
   ]
  },
  {
   "cell_type": "code",
   "execution_count": 19,
   "metadata": {},
   "outputs": [
    {
     "name": "stdout",
     "output_type": "stream",
     "text": [
      "\u001b[32mcmd13$Helper$TestReverse:\u001b[0m\n",
      "\u001b[32mreverse\u001b[0m\n",
      "\u001b[32m- should work\u001b[0m\n"
     ]
    }
   ],
   "source": [
    "run(new TestReverse(reverseTR))"
   ]
  },
  {
   "cell_type": "markdown",
   "metadata": {},
   "source": [
    "### Example: concatenate lists"
   ]
  },
  {
   "cell_type": "markdown",
   "metadata": {},
   "source": [
    "Let's implement this function step-by-step, following the types. We start from the signature of the desired function:"
   ]
  },
  {
   "cell_type": "code",
   "execution_count": null,
   "metadata": {},
   "outputs": [],
   "source": [
    "object TestConcatenate extends FlatSpec with Matchers{\n",
    "    \"concatenate\" should \"work\" in {\n",
    "    }\n",
    "}"
   ]
  },
  {
   "cell_type": "code",
   "execution_count": null,
   "metadata": {},
   "outputs": [],
   "source": [
    "// Recursive"
   ]
  },
  {
   "cell_type": "code",
   "execution_count": null,
   "metadata": {},
   "outputs": [],
   "source": [
    "run(TestConcatenate)"
   ]
  },
  {
   "cell_type": "code",
   "execution_count": null,
   "metadata": {},
   "outputs": [],
   "source": [
    "// Tail-recursive"
   ]
  },
  {
   "cell_type": "code",
   "execution_count": null,
   "metadata": {},
   "outputs": [],
   "source": [
    "run(TestConcatenate)"
   ]
  }
 ],
 "metadata": {
  "kernelspec": {
   "display_name": "Scala",
   "language": "scala",
   "name": "scala"
  },
  "language_info": {
   "codemirror_mode": "text/x-scala",
   "file_extension": ".sc",
   "mimetype": "text/x-scala",
   "name": "scala",
   "nbconvert_exporter": "script",
   "version": "2.13.1"
  }
 },
 "nbformat": 4,
 "nbformat_minor": 2
}
