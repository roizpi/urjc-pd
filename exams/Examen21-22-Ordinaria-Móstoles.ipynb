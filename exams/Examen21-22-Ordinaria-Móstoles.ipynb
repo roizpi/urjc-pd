{
 "cells": [
  {
   "cell_type": "markdown",
   "metadata": {},
   "source": [
    "# Programación declarativa @ URJC\n",
    "# Programación funcional\n",
    "## Curso 21-22, convocatoria ordinaria (29 de octubre de 2021)\n",
    "## Campus de Móstoles\n"
   ]
  },
  {
   "cell_type": "markdown",
   "metadata": {},
   "source": [
    "# Definiciones auxiliares"
   ]
  },
  {
   "cell_type": "code",
   "execution_count": null,
   "metadata": {},
   "outputs": [],
   "source": [
    "import $ivy.`org.scalatest::scalatest:3.0.8`\n",
    "import org.scalatest._"
   ]
  },
  {
   "cell_type": "code",
   "execution_count": null,
   "metadata": {},
   "outputs": [],
   "source": [
    "sealed abstract class Tree[A]\n",
    "case class Empty[A]() extends Tree[A]\n",
    "case class Node[A](left: Tree[A], root: A, right: Tree[A]) extends Tree[A]\n",
    "\n",
    "object Tree{\n",
    "    def void[A]: Tree[A] = Empty()\n",
    "    def leaf[A](a: A): Node[A] = Node(Empty(), a, Empty())\n",
    "    def right[A](a: A, tree: Tree[A]): Node[A] = Node(Empty(), a, tree)\n",
    "    def left[A](tree: Tree[A], a: A): Node[A] = Node(tree, a, Empty())\n",
    "    def node[A](left: Tree[A], a: A, right: Tree[A]): Node[A] = Node(left, a, right)\n",
    "}\n",
    "\n",
    "import Tree._\n",
    "\n",
    "def foldTree[A, B](tree: Tree[A])(empty: B)(node: (B, A, B) => B): B = \n",
    "    tree match {\n",
    "        case Empty() => empty\n",
    "        case Node(left, root, right) => node(foldTree(left)(empty)(node), root, foldTree(right)(empty)(node))\n",
    "    }"
   ]
  },
  {
   "cell_type": "code",
   "execution_count": null,
   "metadata": {},
   "outputs": [],
   "source": [
    "object Signatures{\n",
    "    abstract class List[A]{\n",
    "        \n",
    "        // Common HOFs\n",
    "        def foldRight[B](nil: B)(cons: (A, B) => B): B\n",
    "        def foldLeft[B](initial: B)(update: (B, A) => B): B\n",
    "        def map[B](f: A => B): List[B]\n",
    "        def flatMap[B](f: A => List[B]): List[B]\n",
    "        def filter(f: A => Boolean): List[A]\n",
    "        def forall(pred: A => Boolean): Boolean\n",
    "        def exists(pred: A => Boolean): Boolean\n",
    " \n",
    "        // Returns the number of elements of this list\n",
    "        def length: Int\n",
    "        def reverse: List[A]\n",
    "    }\n",
    "}"
   ]
  },
  {
   "cell_type": "code",
   "execution_count": null,
   "metadata": {},
   "outputs": [],
   "source": [
    "type Not[P] = P => Nothing"
   ]
  },
  {
   "cell_type": "markdown",
   "metadata": {},
   "source": [
    "# Ejercicio 1\n",
    "__(2 puntos)__\n",
    "\n",
    "\n",
    "__a) (1 punto)__ Utiliza la correspondencia de Curry-Howard para demostrar los siguientes teoremas de la lógica intuicionista: \n",
    "\n",
    "$⊢ (p \\wedge q) \\rightarrow \\neg(\\neg p \\vee \\neg q) $"
   ]
  },
  {
   "cell_type": "code",
   "execution_count": null,
   "metadata": {},
   "outputs": [],
   "source": [
    "def proof[P, Q]: (P, Q) => Not[Either[Not[P], Not[Q]]] = \n",
    "    { case (p: P, q: Q) => \n",
    "        {\n",
    "            case Left(notP: (P => Nothing)) => notP(p)\n",
    "            case Right(notQ: (Q => Nothing)) => notQ(q)\n",
    "        }\n",
    "    }"
   ]
  },
  {
   "cell_type": "markdown",
   "metadata": {},
   "source": [
    "$⊢ (p \\vee q) \\rightarrow \\neg(\\neg p \\wedge \\neg q) $"
   ]
  },
  {
   "cell_type": "code",
   "execution_count": null,
   "metadata": {},
   "outputs": [],
   "source": [
    "def proof[P, Q]: Either[P, Q] => Not[(Not[P], Not[Q])] = \n",
    "    { \n",
    "        case Left(p: P) => \n",
    "            { case (notP, notQ) => notP(p) }\n",
    "        case Right(q: Q) => \n",
    "            { case (notP, notQ) => notQ(q) }\n",
    "    }"
   ]
  },
  {
   "cell_type": "markdown",
   "metadata": {},
   "source": [
    "__b) (1 punto)__ Utiliza la correspondencia de Curry-Howard para demostrar el siguiente teorema de la lógica clásica: \n",
    "\n",
    "$⊢ \\neg (\\neg p \\wedge \\neg q) \\rightarrow p \\vee q $\n",
    "\n",
    "Supóngase para ello que la ley del tercio excluso se cumple para las variables proposicionales $p$ y $q$, es decir, que las fórmulas  $p \\vee \\neg p$ y $q \\vee \\neg q$ pueden utilizarse como premisas."
   ]
  },
  {
   "cell_type": "code",
   "execution_count": null,
   "metadata": {},
   "outputs": [],
   "source": [
    "def proof[P, Q](middleP: Either[P, Not[P]], middleQ: Either[Q, Not[Q]]): Not[(Not[P], Not[Q])] => Either[P, Q] =  \n",
    "    (middleP, middleQ) match {\n",
    "        case (Left(p), _) => \n",
    "            _ => Left(p)\n",
    "        case (_, Left(q)) => \n",
    "            _ => Right(q)\n",
    "        case (Right(notP), Right(notQ)) => \n",
    "            _((notP, notQ))\n",
    "    }"
   ]
  },
  {
   "cell_type": "markdown",
   "metadata": {},
   "source": [
    "# Ejercicio 2 \n",
    "__(2 puntos)__"
   ]
  },
  {
   "cell_type": "markdown",
   "metadata": {},
   "source": [
    "Demuestra el siguiente isomorfismo entre tipos algebraicos de datos para todo tipo $X$, $Y$ y $Z$: \n",
    "\n",
    "$(1+Y+Z+Y*Z)^X \\cong (Y+1)^X * (Z+1)^X$\n",
    "\n",
    "A continuación se muestran unos casos de prueba de este isomorfismo para $X=Int$, $Y=Unit$ y $Z=Unit$:"
   ]
  },
  {
   "cell_type": "code",
   "execution_count": null,
   "metadata": {},
   "outputs": [],
   "source": [
    "class IsoTest(\n",
    "    from: (Int => Either[Unit, Either[Unit, Either[Unit, (Unit, Unit)]]]) => (Int => Option[Unit], Int => Option[Unit]), \n",
    "    to: ((Int => Option[Unit], Int => Option[Unit])) => Int => Either[Unit, Either[Unit, Either[Unit, (Unit, Unit)]]]\n",
    ") extends FlatSpec with Matchers{\n",
    "    \n",
    "    val f: Int => Either[Unit, Either[Unit, Either[Unit, (Unit, Unit)]]] = \n",
    "        i => if (i % 4 == 0) Left(()) \n",
    "             else if (i % 4 == 1) Right(Left(()))\n",
    "             else if (i % 4 == 2) Right(Right(Left(())))\n",
    "             else Right(Right(Right(((),()))))\n",
    "    \n",
    "    val g: (Int => Option[Unit], Int => Option[Unit]) = \n",
    "        (i => if (i % 2 == 0) None else Some(()),\n",
    "         i => if (i % 2 == 0) None else Some(()))\n",
    "    \n",
    "    \"from-to\" should \"work\" in {\n",
    "        from(to(g))._1(0) shouldBe g._1(0)\n",
    "        from(to(g))._1(1) shouldBe g._1(1)\n",
    "        from(to(g))._1(2) shouldBe g._1(2)\n",
    "        from(to(g))._1(3) shouldBe g._1(3)\n",
    "        from(to(g))._2(0) shouldBe g._2(0)\n",
    "        from(to(g))._2(1) shouldBe g._2(1)\n",
    "        from(to(g))._2(2) shouldBe g._2(2)\n",
    "        from(to(g))._2(3) shouldBe g._2(3)\n",
    "    }\n",
    "    \n",
    "    \"to-from\" should \"work\" in {\n",
    "        to(from(f))(0) shouldBe f(0)\n",
    "        to(from(f))(1) shouldBe f(1)\n",
    "        to(from(f))(2) shouldBe f(2)\n",
    "        to(from(f))(3) shouldBe f(3)\n",
    "    }\n",
    "}"
   ]
  },
  {
   "cell_type": "code",
   "execution_count": null,
   "metadata": {},
   "outputs": [],
   "source": [
    "def from[X, Y, Z](l: X => Either[Unit, Either[Y, Either[Z, (Y, Z)]]]): (X => Option[Y], X => Option[Z]) = \n",
    "    (x => l(x) match {\n",
    "        case Right(Right(Right((y, _)))) => Some(y)\n",
    "        case Right(Left(y)) => Some(y)\n",
    "        case _ => None\n",
    "    }, x => l(x) match {\n",
    "        case Right(Right(Right((_, z)))) => Some(z)\n",
    "        case Right(Right(Left(z))) => Some(z)\n",
    "        case _ => None\n",
    "    })"
   ]
  },
  {
   "cell_type": "code",
   "execution_count": null,
   "metadata": {},
   "outputs": [],
   "source": [
    "def to[X, Y, Z](t: (X => Option[Y], X => Option[Z])): X => Either[Unit, Either[Y, Either[Z, (Y, Z)]]] = \n",
    "    t match {\n",
    "        case (fy, fz) => \n",
    "            x => (fy(x), fz(x)) match {\n",
    "                case (None, None) => Left(None)\n",
    "                case (Some(y), None) => Right(Left(y))\n",
    "                case (None, Some(z)) => Right(Right(Left(z)))\n",
    "                case (Some(y), Some(z)) => Right(Right(Right((y,z))))\n",
    "            }\n",
    "    }"
   ]
  },
  {
   "cell_type": "code",
   "execution_count": null,
   "metadata": {},
   "outputs": [],
   "source": [
    "run(new IsoTest(from[Int, Unit, Unit], to[Int, Unit, Unit]))"
   ]
  },
  {
   "cell_type": "markdown",
   "metadata": {},
   "source": [
    "# Ejercicio 3\n",
    "__(3 puntos)__\n",
    "\n",
    "La función `lift` recibe una lista y devuelve una función que indexa sus elementos de acuerdo a su posición en la lista, es decir, si la función recibe un entero que representa una posición de la lista, devuelve el elemento almacenado en ella; en caso contrario, devuelve un valor que indica que en dicha posición no existe ningún elemento. A continuación se muestran distintos casos de prueba particularizados para una lista de caracteres:"
   ]
  },
  {
   "cell_type": "code",
   "execution_count": null,
   "metadata": {},
   "outputs": [],
   "source": [
    "class TestLift(\n",
    "    lift: List[Char] => Int => Option[Char]\n",
    ") extends FlatSpec with Matchers{\n",
    "    \"lift\" should \"work\" in {\n",
    "        lift(List())(0) shouldBe None\n",
    "        lift(List())(1) shouldBe None\n",
    "        lift(List())(2) shouldBe None\n",
    "        \n",
    "        lift(List('a'))(0) shouldBe Some('a')\n",
    "        lift(List('a'))(1) shouldBe None\n",
    "        lift(List('a'))(2) shouldBe None\n",
    "        \n",
    "        lift(List('a','b'))(0) shouldBe Some('a')\n",
    "        lift(List('a','b'))(1) shouldBe Some('b')\n",
    "        lift(List('a','b'))(2) shouldBe None\n",
    "        \n",
    "        lift(List('a','b','c'))(0) shouldBe Some('a')\n",
    "        lift(List('a','b','c'))(1) shouldBe Some('b')\n",
    "        lift(List('a','b','c'))(2) shouldBe Some('c')\n",
    "        lift(List('a','b','c'))(3) shouldBe None\n",
    "    }\n",
    "}"
   ]
  },
  {
   "cell_type": "markdown",
   "metadata": {},
   "source": [
    "__a) (1 punto)__ Implementa la función `lift` de manera recursiva."
   ]
  },
  {
   "cell_type": "code",
   "execution_count": 2,
   "metadata": {},
   "outputs": [
    {
     "data": {
      "text/plain": [
       "defined \u001b[32mfunction\u001b[39m \u001b[36mlift\u001b[39m"
      ]
     },
     "execution_count": 2,
     "metadata": {},
     "output_type": "execute_result"
    }
   ],
   "source": [
    "def lift[A](l: List[A]): Int => Option[A] = {\n",
    "    def aux(out: Int => Option[A], l: List[A]): Int => Option[A] = \n",
    "        l match {\n",
    "            case Nil => out\n",
    "            case e :: tail => \n",
    "                aux(idx => if (idx == actual) Some(e) else out(idx), tail)\n",
    "        }\n",
    "    \n",
    "    aux(_ => None, l)\n",
    "}"
   ]
  },
  {
   "cell_type": "code",
   "execution_count": 3,
   "metadata": {},
   "outputs": [
    {
     "data": {
      "text/plain": [
       "defined \u001b[32mfunction\u001b[39m \u001b[36mlift\u001b[39m"
      ]
     },
     "execution_count": 3,
     "metadata": {},
     "output_type": "execute_result"
    }
   ],
   "source": [
    "def lift[A](l: List[A]): Int => Option[A] = \n",
    "    l.foldLeft((0, (_: Int) => None: Option[A]))(\n",
    "        (out, e) => \n",
    "            (out._1 +1, idx => if (idx == out._1) Some(e) else out._2(idx))\n",
    "    )._2"
   ]
  },
  {
   "cell_type": "code",
   "execution_count": 2,
   "metadata": {},
   "outputs": [
    {
     "data": {
      "text/plain": [
       "defined \u001b[32mfunction\u001b[39m \u001b[36mlift\u001b[39m"
      ]
     },
     "execution_count": 2,
     "metadata": {},
     "output_type": "execute_result"
    }
   ],
   "source": [
    "def lift[A](l: List[A]): Int => Option[A] = {\n",
    "    def aux(actual: Int, out: Int => Option[A], l: List[A]): Int => Option[A] = \n",
    "        l match {\n",
    "            case Nil => out\n",
    "            case e :: tail => \n",
    "                aux(actual+1, idx => if (idx == actual) Some(e) else out(idx), tail)\n",
    "        }\n",
    "    \n",
    "    aux(0, _ => None, l)\n",
    "}"
   ]
  },
  {
   "cell_type": "code",
   "execution_count": null,
   "metadata": {},
   "outputs": [],
   "source": [
    "def lift[A](l: List[A]): Int => Option[A] = \n",
    "    idx => l match {\n",
    "        case Nil => \n",
    "            None\n",
    "        case head :: tail => \n",
    "            if (idx == 0) Some(head)\n",
    "            else lift(tail)(idx-1)\n",
    "    }"
   ]
  },
  {
   "cell_type": "code",
   "execution_count": null,
   "metadata": {},
   "outputs": [],
   "source": [
    "// Otra versión también aceptada como válida\n",
    "def lift[A](l: List[A]): Int => Option[A] = \n",
    "    l match {\n",
    "        case Nil => \n",
    "            _ => None\n",
    "        case head :: tail => \n",
    "            idx => if (idx == 0) Some(head)\n",
    "                   else lift(tail)(idx-1)\n",
    "    }"
   ]
  },
  {
   "cell_type": "code",
   "execution_count": null,
   "metadata": {},
   "outputs": [],
   "source": [
    "run(new TestLift(lift))"
   ]
  },
  {
   "cell_type": "markdown",
   "metadata": {},
   "source": [
    "__b) (1 punto)__ Implementa la función `lift` utilizando la función de orden superior `foldRight`."
   ]
  },
  {
   "cell_type": "code",
   "execution_count": null,
   "metadata": {},
   "outputs": [],
   "source": [
    "def lift[A](l: List[A]): Int => Option[A] = \n",
    "    l.foldRight((_: Int) => None: Option[A]){\n",
    "        (head, liftTail) => \n",
    "            idx => if (idx == 0) Some(head)\n",
    "                   else liftTail(idx-1)\n",
    "    }"
   ]
  },
  {
   "cell_type": "code",
   "execution_count": null,
   "metadata": {},
   "outputs": [],
   "source": [
    "// Otra versión también aceptada como válida\n",
    "def lift[A](l: List[A]): Int => Option[A] = \n",
    "    idx => l.foldRight((None: Option[A], l.length-1)){\n",
    "        case (head, (None, `idx`)) => (Some(head), idx -1)\n",
    "        case (_, (out, pos)) => (out, pos-1)\n",
    "    }._1"
   ]
  },
  {
   "cell_type": "code",
   "execution_count": null,
   "metadata": {},
   "outputs": [],
   "source": [
    "run(new TestLift(lift))"
   ]
  },
  {
   "cell_type": "markdown",
   "metadata": {},
   "source": [
    "__c) (1 punto)__ Implementa la función `lift` mediante la función de orden superior `foldLeft`."
   ]
  },
  {
   "cell_type": "code",
   "execution_count": null,
   "metadata": {},
   "outputs": [],
   "source": [
    "def lift[A](l: List[A]): Int => Option[A] = \n",
    "    l.foldLeft((0, (_: Int) => None: Option[A])){\n",
    "        case ((next, out), e) => \n",
    "            (next + 1, idx => \n",
    "                 if (idx == next) Some(e) \n",
    "                 else out(idx))\n",
    "    }._2"
   ]
  },
  {
   "cell_type": "code",
   "execution_count": null,
   "metadata": {},
   "outputs": [],
   "source": [
    "// Otra versión también aceptada como válida\n",
    "def lift[A](l: List[A]): Int => Option[A] = \n",
    "    idx => l.foldLeft((0, None: Option[A])){\n",
    "        case ((next, out), e) => \n",
    "            (next + 1, \n",
    "                 if (idx == next) Some(e) \n",
    "                 else out)\n",
    "    }._2"
   ]
  },
  {
   "cell_type": "code",
   "execution_count": null,
   "metadata": {},
   "outputs": [],
   "source": [
    "run(new TestLift(lift))"
   ]
  },
  {
   "cell_type": "markdown",
   "metadata": {},
   "source": [
    "# Ejercicio 4\n",
    "__(3 puntos)__\n",
    "\n",
    "Una rama de un árbol binario consiste en una secuencia de nodos desde la raíz a una de sus hojas. Dado un árbol binario de números enteros, el coste de una rama consiste en la suma de todos los nodos que la componen. Se desea implementar una función que devuelva la rama del árbol de coste máximo. En caso de que existan varias ramas con el mismo coste máximo, la función deberá devolver una cualquiera de ellas. "
   ]
  },
  {
   "cell_type": "code",
   "execution_count": null,
   "metadata": {},
   "outputs": [],
   "source": [
    "class TestHighestCostBranch(highest: Tree[Int] => List[Int]) extends FlatSpec with Matchers{\n",
    "    \"highest path\" should \"work\" in {\n",
    "        highest(void) shouldBe List()\n",
    "        highest(left(left(right(3,right(2,leaf(1))), 4), 5)) shouldBe List(5,4,3,2,1)\n",
    "        highest(node(left(leaf(8), 7), 0, node(leaf(3), 2, right(2, right(4, leaf(5)))))) shouldBe List(0, 7, 8)\n",
    "        highest(node(left(leaf(8), 7), 0, node(leaf(6), 9, right(2, right(2, leaf(1)))))) should\n",
    "            (be(List(0, 7, 8)) or be(List(0, 9, 6)))\n",
    "    }\n",
    "}"
   ]
  },
  {
   "cell_type": "markdown",
   "metadata": {},
   "source": [
    "__a) (1,5 puntos)__ Implementa la función `highestCostBranch` recursivamente. La implementación deberá utilizar la siguiente función `sum` que calcula la suma de todos los elementos de una lista de enteros:"
   ]
  },
  {
   "cell_type": "code",
   "execution_count": null,
   "metadata": {},
   "outputs": [],
   "source": [
    "def sum(list: List[Int]): Int = \n",
    "    list.foldRight(0)(_ + _)"
   ]
  },
  {
   "cell_type": "code",
   "execution_count": null,
   "metadata": {},
   "outputs": [],
   "source": [
    "def highestCostBranch(tree: Tree[Int]): List[Int] = \n",
    "    tree match {\n",
    "        case Empty() => List()\n",
    "        case Node(left, root, right) => \n",
    "            val highestLeft: List[Int] = highestCostBranch(left)\n",
    "            val highestRight: List[Int] = highestCostBranch(right)\n",
    "            root :: (if (sum(highestRight) > sum(highestLeft)) highestRight else highestLeft)\n",
    "    }"
   ]
  },
  {
   "cell_type": "code",
   "execution_count": null,
   "metadata": {},
   "outputs": [],
   "source": [
    "run(new TestHighestCostBranch(highestCostBranch))"
   ]
  },
  {
   "cell_type": "markdown",
   "metadata": {},
   "source": [
    "__b) (1,5 puntos)__ Implementa la función `highestCostBranch` mediante la función de orden superior `foldTree`, __sin__ utilizar la función auxiliar `sum`."
   ]
  },
  {
   "cell_type": "code",
   "execution_count": null,
   "metadata": {},
   "outputs": [],
   "source": [
    "def highestPath(tree: Tree[Int]): List[Int] = \n",
    "    foldTree(tree)((0, List[Int]())){\n",
    "        case ((sumL, highestLeft), root, (sumR, highestRight)) => \n",
    "            if (sumL > sumR) (sumL + root, root :: highestLeft) \n",
    "            else (sumR + root, root :: highestRight)\n",
    "    }._2"
   ]
  },
  {
   "cell_type": "code",
   "execution_count": null,
   "metadata": {},
   "outputs": [],
   "source": [
    "run(new TestHighestCostBranch(highestCostBranch))"
   ]
  },
  {
   "cell_type": "code",
   "execution_count": null,
   "metadata": {},
   "outputs": [],
   "source": []
  }
 ],
 "metadata": {
  "kernelspec": {
   "display_name": "Scala (2.13)",
   "language": "scala",
   "name": "scala213"
  },
  "language_info": {
   "codemirror_mode": "text/x-scala",
   "file_extension": ".sc",
   "mimetype": "text/x-scala",
   "name": "scala",
   "nbconvert_exporter": "script",
   "version": "2.13.3"
  }
 },
 "nbformat": 4,
 "nbformat_minor": 2
}
