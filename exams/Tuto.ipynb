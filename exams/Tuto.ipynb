{
 "cells": [
  {
   "cell_type": "markdown",
   "metadata": {},
   "source": [
    "# Definiciones auxiliares"
   ]
  },
  {
   "cell_type": "code",
   "execution_count": 1,
   "metadata": {},
   "outputs": [
    {
     "data": {
      "text/plain": [
       "\u001b[32mimport \u001b[39m\u001b[36m$ivy.$                               \n",
       "\u001b[39m\n",
       "\u001b[32mimport \u001b[39m\u001b[36morg.scalatest._\u001b[39m"
      ]
     },
     "execution_count": 1,
     "metadata": {},
     "output_type": "execute_result"
    }
   ],
   "source": [
    "import $ivy.`org.scalatest::scalatest:3.0.8`\n",
    "import org.scalatest._"
   ]
  },
  {
   "cell_type": "markdown",
   "metadata": {},
   "source": [
    "### Definiciones sobre árboles binarios"
   ]
  },
  {
   "cell_type": "code",
   "execution_count": 2,
   "metadata": {},
   "outputs": [
    {
     "data": {
      "text/plain": [
       "defined \u001b[32mclass\u001b[39m \u001b[36mTree\u001b[39m\n",
       "defined \u001b[32mclass\u001b[39m \u001b[36mEmpty\u001b[39m\n",
       "defined \u001b[32mclass\u001b[39m \u001b[36mNode\u001b[39m"
      ]
     },
     "execution_count": 2,
     "metadata": {},
     "output_type": "execute_result"
    }
   ],
   "source": [
    "sealed abstract class Tree[A]\n",
    "case class Empty[A]() extends Tree[A]\n",
    "case class Node[A](left: Tree[A], root: A, right: Tree[A]) extends Tree[A]"
   ]
  },
  {
   "cell_type": "code",
   "execution_count": 3,
   "metadata": {},
   "outputs": [
    {
     "data": {
      "text/plain": [
       "defined \u001b[32mobject\u001b[39m \u001b[36mTree\u001b[39m\n",
       "\u001b[32mimport \u001b[39m\u001b[36mTree._\u001b[39m"
      ]
     },
     "execution_count": 3,
     "metadata": {},
     "output_type": "execute_result"
    }
   ],
   "source": [
    "object Tree{\n",
    "    \n",
    "    def void[A]: Tree[A] = \n",
    "        Empty()\n",
    "    \n",
    "    def leaf[A](a: A): Node[A] = \n",
    "        Node(Empty(), a, Empty())\n",
    "    \n",
    "    def right[A](a: A, tree: Tree[A]): Node[A] = \n",
    "        Node(Empty(), a, tree)\n",
    "    \n",
    "    def left[A](tree: Tree[A], a: A): Node[A] = \n",
    "        Node(tree, a, Empty())\n",
    "    \n",
    "    def node[A](left: Tree[A], a: A, right: Tree[A]): Node[A] = \n",
    "        Node(left, a, right)\n",
    "    \n",
    "    def foldTree[A, B](tree: Tree[A])(empty: B)(node: (B, A, B) => B): B = \n",
    "        tree match {\n",
    "            case Empty() => \n",
    "                empty\n",
    "            case Node(left, a, right) =>\n",
    "                node(foldTree(left)(empty)(node),\n",
    "                    a,\n",
    "                    foldTree(right)(empty)(node))\n",
    "        }\n",
    "}\n",
    "\n",
    "import Tree._"
   ]
  },
  {
   "cell_type": "markdown",
   "metadata": {},
   "source": [
    "# Ejercicio"
   ]
  },
  {
   "cell_type": "markdown",
   "metadata": {},
   "source": [
    "La función _penultimate_ devuelve el penúltimo elemento de una lista, en caso de que este exista. "
   ]
  },
  {
   "cell_type": "code",
   "execution_count": 4,
   "metadata": {},
   "outputs": [
    {
     "data": {
      "text/plain": [
       "defined \u001b[32mclass\u001b[39m \u001b[36mTestPenultimate\u001b[39m"
      ]
     },
     "execution_count": 4,
     "metadata": {},
     "output_type": "execute_result"
    }
   ],
   "source": [
    "class TestPenultimate(\n",
    "    penultimate: List[Int] => Option[Int]\n",
    ") extends FlatSpec with Matchers{\n",
    "    \n",
    "    \"penultimate\" should \"work\" in {\n",
    "        penultimate(List()) shouldBe None\n",
    "        penultimate(1 :: Nil) shouldBe None\n",
    "        penultimate(2 :: (3 :: Nil)) shouldBe Some(2)\n",
    "        penultimate(1 :: List(2,4,3,5)) shouldBe Some(3)\n",
    "    }\n",
    "}"
   ]
  },
  {
   "cell_type": "markdown",
   "metadata": {},
   "source": [
    "Implementa la función de manera recursiva (no es necesario que sea recursiva por la cola)."
   ]
  },
  {
   "cell_type": "code",
   "execution_count": 5,
   "metadata": {},
   "outputs": [
    {
     "data": {
      "text/plain": [
       "defined \u001b[32mfunction\u001b[39m \u001b[36mpenultimate\u001b[39m"
      ]
     },
     "execution_count": 5,
     "metadata": {},
     "output_type": "execute_result"
    }
   ],
   "source": [
    "def penultimate[A](list: List[A]): Option[A] = \n",
    "    list match {\n",
    "        case Nil => None : Option[A]\n",
    "        case head :: tail => \n",
    "            val tailSol: Option[A] = penultimate(tail)\n",
    "            tail match {\n",
    "                case Nil => None\n",
    "                case head2 :: tail2 => \n",
    "                    tail2 match {\n",
    "                        case Nil => Some(head)\n",
    "                        case _ => tailSol\n",
    "                    } \n",
    "            }\n",
    "    }"
   ]
  },
  {
   "cell_type": "code",
   "execution_count": 10,
   "metadata": {},
   "outputs": [
    {
     "data": {
      "text/plain": [
       "defined \u001b[32mfunction\u001b[39m \u001b[36mpenultimate\u001b[39m"
      ]
     },
     "execution_count": 10,
     "metadata": {},
     "output_type": "execute_result"
    }
   ],
   "source": [
    "def penultimate[A](list: List[A]): Option[A] = \n",
    "    list match {\n",
    "        case Nil => None\n",
    "        case _ :: Nil => None\n",
    "        case head :: _ :: Nil => Some(head)\n",
    "        case _ :: tail => penultimate(tail)\n",
    "    }"
   ]
  },
  {
   "cell_type": "code",
   "execution_count": 11,
   "metadata": {},
   "outputs": [
    {
     "data": {
      "text/plain": [
       "defined \u001b[32mfunction\u001b[39m \u001b[36mpenultimate\u001b[39m"
      ]
     },
     "execution_count": 11,
     "metadata": {},
     "output_type": "execute_result"
    }
   ],
   "source": [
    "def penultimate[A](list: List[A]): Option[A] = \n",
    "    list match {\n",
    "        case Nil | _ :: Nil => None\n",
    "        case head :: _ :: Nil => Some(head)\n",
    "        case _ :: tail => penultimate(tail)\n",
    "    }"
   ]
  },
  {
   "cell_type": "markdown",
   "metadata": {},
   "source": [
    "Versión con foldRight"
   ]
  },
  {
   "cell_type": "code",
   "execution_count": 12,
   "metadata": {},
   "outputs": [
    {
     "name": "stderr",
     "output_type": "stream",
     "text": [
      "cmd12.sc:4: not found: value t\n",
      "            t match {\n",
      "            ^Compilation Failed"
     ]
    },
    {
     "ename": "",
     "evalue": "",
     "output_type": "error",
     "traceback": [
      "Compilation Failed"
     ]
    }
   ],
   "source": [
    "def penultimate[A](list: List[A]): Option[A] = \n",
    "    list.foldRight(None : Option[A])(\n",
    "        (head: A, tailSol: Option[A]) => \n",
    "            tail match {\n",
    "                case Nil => None\n",
    "                case head2 :: tail2 => \n",
    "                    tail2 match {\n",
    "                        case Nil => Some(head)\n",
    "                        case _ => tailSol\n",
    "                    } \n",
    "            }\n",
    "    )\n",
    "/*\n",
    "    list match {\n",
    "        case Nil => None : Option[A]\n",
    "        case head :: tail => \n",
    "            val tailSol: Option[A] = penultimate(tail)\n",
    "            tail match {\n",
    "                case Nil => None\n",
    "                case head2 :: tail2 => \n",
    "                    tail2 match {\n",
    "                        case Nil => Some(head)\n",
    "                        case _ => tailSol\n",
    "                    } \n",
    "            }\n",
    "    }\n",
    "    */"
   ]
  },
  {
   "cell_type": "code",
   "execution_count": 13,
   "metadata": {},
   "outputs": [
    {
     "data": {
      "text/plain": [
       "defined \u001b[32mfunction\u001b[39m \u001b[36mpenultimate\u001b[39m"
      ]
     },
     "execution_count": 13,
     "metadata": {},
     "output_type": "execute_result"
    }
   ],
   "source": [
    "def penultimate[A](list: List[A]): Option[A] = \n",
    "    list.foldRight((Nil : List[A], None : Option[A]))(\n",
    "        (head: A, tailSol: (List[A], Option[A])) => \n",
    "            tailSol._1 match {\n",
    "                case Nil => (head :: tailSol._1, None)\n",
    "                case head2 :: tail2 => \n",
    "                    tail2 match {\n",
    "                        case Nil => (head :: tailSol._1, Some(head))\n",
    "                        case _ => (head :: tailSol._1, tailSol._2)\n",
    "                    } \n",
    "            }\n",
    "    )._2\n"
   ]
  },
  {
   "cell_type": "code",
   "execution_count": 17,
   "metadata": {},
   "outputs": [
    {
     "data": {
      "text/plain": [
       "defined \u001b[32mfunction\u001b[39m \u001b[36mpenultimate\u001b[39m"
      ]
     },
     "execution_count": 17,
     "metadata": {},
     "output_type": "execute_result"
    }
   ],
   "source": [
    "def penultimate[A](list: List[A]): Option[A] = \n",
    "    list.foldRight((Nil : List[A], None : Option[A])){\n",
    "        case (head, (Nil, _)) => (head :: Nil, None)\n",
    "        case (head, (head2 :: Nil, _)) => (head :: head2 :: Nil, Some(head))\n",
    "        case (head, (tail, tailSol)) => (head :: tail, tailSol)\n",
    "    }._2\n"
   ]
  },
  {
   "cell_type": "markdown",
   "metadata": {},
   "source": [
    "Con foldRight, pero con una variable auxiliar distinta del resto de la lista: \n",
    "Primero con el patrón recursivo."
   ]
  },
  {
   "cell_type": "code",
   "execution_count": 20,
   "metadata": {},
   "outputs": [
    {
     "data": {
      "text/plain": [
       "defined \u001b[32mfunction\u001b[39m \u001b[36mpenultimate\u001b[39m"
      ]
     },
     "execution_count": 20,
     "metadata": {},
     "output_type": "execute_result"
    }
   ],
   "source": [
    "def penultimate[A](list: List[A]): Option[A] = {\n",
    "\n",
    "    def aux[A](list: List[A]): (Int, Option[A]) = \n",
    "        list match {\n",
    "            case Nil => (1, None : Option[A])\n",
    "            case head :: tail => \n",
    "                val tailSol: (Int, Option[A]) = aux(tail)\n",
    "                if (tailSol._1 == 1) (tailSol._1 + 1, None)\n",
    "                else if (tailSol._1 == 2) (tailSol._1 + 1, Some(head))\n",
    "                else (tailSol._1 + 1, tailSol._2)\n",
    "        }\n",
    "    \n",
    "    aux(list)._2\n",
    "}"
   ]
  },
  {
   "cell_type": "markdown",
   "metadata": {},
   "source": [
    "Con foldright:"
   ]
  },
  {
   "cell_type": "code",
   "execution_count": 25,
   "metadata": {},
   "outputs": [
    {
     "data": {
      "text/plain": [
       "defined \u001b[32mfunction\u001b[39m \u001b[36mpenultimate\u001b[39m"
      ]
     },
     "execution_count": 25,
     "metadata": {},
     "output_type": "execute_result"
    }
   ],
   "source": [
    "def penultimate[A](list: List[A]): Option[A] = \n",
    "    list.foldRight((1, None : Option[A])){\n",
    "        case (head, (1, _)) => (2, None)\n",
    "        case (head, (2, _)) => (3, Some(head))\n",
    "        case (head, tailSol) => tailSol\n",
    "    }._2"
   ]
  },
  {
   "cell_type": "markdown",
   "metadata": {},
   "source": [
    "Mediante un algoritmo iterativo (recursión final)"
   ]
  },
  {
   "cell_type": "markdown",
   "metadata": {},
   "source": [
    "None, None, 1 :: 2 :: 3 :: 4 :: 5 :: Nil\n",
    "\n",
    "     None, S(1), 2 :: 3 :: 4 :: 5 :: Nil\n",
    "\n",
    "          S(1), S(2), 3 :: 4 :: 5 :: Nil\n",
    "\n",
    "               S(2), S(3), 4 :: 5 :: Nil\n",
    "   \n",
    "                    S(3), S(4), 5 :: Nil\n",
    "\n",
    "                         S(4), S(5), Nil\n",
    "\n"
   ]
  },
  {
   "cell_type": "code",
   "execution_count": 28,
   "metadata": {},
   "outputs": [
    {
     "data": {
      "text/plain": [
       "defined \u001b[32mfunction\u001b[39m \u001b[36mpenultimate\u001b[39m"
      ]
     },
     "execution_count": 28,
     "metadata": {},
     "output_type": "execute_result"
    }
   ],
   "source": [
    "def penultimate[A](list: List[A]): Option[A] = {\n",
    "    def aux(out1: Option[A], out2: Option[A], l: List[A]): Option[A] = \n",
    "        l match {\n",
    "            case Nil => out1\n",
    "            case (e: A) :: tail => \n",
    "                aux(out2, Some(e), tail)\n",
    "        }\n",
    "    \n",
    "    aux(None, None, list)\n",
    "}"
   ]
  },
  {
   "cell_type": "markdown",
   "metadata": {},
   "source": [
    "Lo transformamos para hacer la conversión a foldLeft más sencillamente: "
   ]
  },
  {
   "cell_type": "code",
   "execution_count": 30,
   "metadata": {},
   "outputs": [
    {
     "data": {
      "text/plain": [
       "defined \u001b[32mfunction\u001b[39m \u001b[36mpenultimate\u001b[39m"
      ]
     },
     "execution_count": 30,
     "metadata": {},
     "output_type": "execute_result"
    }
   ],
   "source": [
    "def penultimate[A](list: List[A]): Option[A] = {\n",
    "    def aux(out: (Option[A], Option[A]), l: List[A]): (Option[A], Option[A]) = \n",
    "        l match {\n",
    "            case Nil => out\n",
    "            case (e: A) :: tail => \n",
    "                aux((out._2, Some(e)), tail)\n",
    "        }\n",
    "    \n",
    "    aux((None, None), list)._1\n",
    "}"
   ]
  },
  {
   "cell_type": "markdown",
   "metadata": {},
   "source": [
    "Versión con foldLeft:"
   ]
  },
  {
   "cell_type": "code",
   "execution_count": 32,
   "metadata": {},
   "outputs": [
    {
     "data": {
      "text/plain": [
       "defined \u001b[32mfunction\u001b[39m \u001b[36mpenultimate\u001b[39m"
      ]
     },
     "execution_count": 32,
     "metadata": {},
     "output_type": "execute_result"
    }
   ],
   "source": [
    "def penultimate[A](list: List[A]): Option[A] = \n",
    "    list.foldLeft((None: Option[A], None: Option[A])){\n",
    "        case ((_, out2), e) => \n",
    "            (out2, Some(e))\n",
    "    }._1"
   ]
  },
  {
   "cell_type": "code",
   "execution_count": 33,
   "metadata": {},
   "outputs": [
    {
     "name": "stdout",
     "output_type": "stream",
     "text": [
      "\u001b[32mcmd3$Helper$TestPenultimate:\u001b[0m\n",
      "\u001b[32mpenultimate\u001b[0m\n",
      "\u001b[32m- should work\u001b[0m\n"
     ]
    }
   ],
   "source": [
    "run(new TestPenultimate(penultimate))"
   ]
  },
  {
   "cell_type": "markdown",
   "metadata": {},
   "source": [
    "# Ejercicio\n",
    "\n",
    "La función `odds` devuelve los elementos de una lista que se encuentran situados en una posición impar (donde la posición del primer elemento es uno, del segundo dos, etc.)."
   ]
  },
  {
   "cell_type": "code",
   "execution_count": null,
   "metadata": {},
   "outputs": [],
   "source": [
    "class TestOdds(\n",
    "    odds: List[Int] => List[Int]\n",
    ") extends FlatSpec with Matchers{\n",
    "    \n",
    "    \"odds\" should \"work\" in {\n",
    "        odds(List()) shouldBe List()\n",
    "        odds(List(1)) shouldBe List(1)\n",
    "        odds(List(2,3)) shouldBe List(2)\n",
    "        odds(List(1,2,4,3,5)) shouldBe List(1,4,5)\n",
    "        odds(List(1,2,4,3,5,6)) shouldBe List(1,4,5)\n",
    "    }\n",
    "}"
   ]
  },
  {
   "cell_type": "code",
   "execution_count": null,
   "metadata": {},
   "outputs": [],
   "source": [
    "def odds[A](list: List[A]): List[A] = \n",
    "    ???"
   ]
  },
  {
   "cell_type": "code",
   "execution_count": null,
   "metadata": {},
   "outputs": [],
   "source": [
    "run(new TestOdds(odds))"
   ]
  },
  {
   "cell_type": "markdown",
   "metadata": {},
   "source": [
    "# Ejercicio\n"
   ]
  },
  {
   "cell_type": "markdown",
   "metadata": {},
   "source": [
    "Un árbol se encuentra _balanceado_ si (1) es el árbol vacío o (2) si sus hijos izquierdo y derecho se encuentran balanceados, y la diferencia entre sus profundidades no excede la unidad. La profundidad de un árbol vacío es cero, y la de un árbol no vacío el máximo de las profundidades de sus hijos más uno."
   ]
  },
  {
   "cell_type": "code",
   "execution_count": 36,
   "metadata": {},
   "outputs": [
    {
     "data": {
      "text/plain": [
       "defined \u001b[32mclass\u001b[39m \u001b[36mTestBalanced\u001b[39m"
      ]
     },
     "execution_count": 36,
     "metadata": {},
     "output_type": "execute_result"
    }
   ],
   "source": [
    "class TestBalanced(\n",
    "    balanced: Tree[Int] => Boolean\n",
    ") extends FlatSpec with Matchers {\n",
    "    \n",
    "    \"balanced\" should \"work\" in {\n",
    "        balanced(void) shouldBe true\n",
    "        balanced(leaf(1)) shouldBe true\n",
    "        balanced(left(leaf(1), 2)) shouldBe true\n",
    "        balanced(node(leaf(1), 2, leaf(3))) shouldBe true\n",
    "        balanced(node(left(leaf(1),4), 2, leaf(3))) shouldBe true\n",
    "        balanced(right(3, left(leaf(1),4))) shouldBe false\n",
    "        balanced(node(right(3, left(leaf(1),4)),5,leaf(3))) shouldBe false\n",
    "    }\n",
    "}"
   ]
  },
  {
   "cell_type": "markdown",
   "metadata": {},
   "source": [
    "versión divide y vencerás, con patrón de recursión:"
   ]
  },
  {
   "cell_type": "code",
   "execution_count": 43,
   "metadata": {},
   "outputs": [
    {
     "data": {
      "text/plain": [
       "defined \u001b[32mfunction\u001b[39m \u001b[36mheight\u001b[39m"
      ]
     },
     "execution_count": 43,
     "metadata": {},
     "output_type": "execute_result"
    }
   ],
   "source": [
    "def height[A](tree: Tree[A]): Int = \n",
    "    tree match {\n",
    "        case Empty() => \n",
    "            0\n",
    "        case Node(left, root, right) => \n",
    "            val leftH: Int = height(left)\n",
    "            val rightH: Int = height(right)\n",
    "            (leftH max rightH) + 1\n",
    "    }"
   ]
  },
  {
   "cell_type": "code",
   "execution_count": 44,
   "metadata": {},
   "outputs": [
    {
     "data": {
      "text/plain": [
       "defined \u001b[32mfunction\u001b[39m \u001b[36mbalanced\u001b[39m"
      ]
     },
     "execution_count": 44,
     "metadata": {},
     "output_type": "execute_result"
    }
   ],
   "source": [
    "def balanced[A](tree: Tree[A]): Boolean = \n",
    "    tree match {\n",
    "        case Empty() => \n",
    "            true\n",
    "        case Node(left, root, right) => \n",
    "            val leftBalanced: Boolean = balanced(left)\n",
    "            val rightBalanced: Boolean = balanced(right)\n",
    "            leftBalanced && rightBalanced && (height(left) - height(right)).abs <= 1 : Boolean \n",
    "    }"
   ]
  },
  {
   "cell_type": "markdown",
   "metadata": {},
   "source": [
    "versión divide y vencerás, con foldTree: "
   ]
  },
  {
   "cell_type": "code",
   "execution_count": 45,
   "metadata": {},
   "outputs": [
    {
     "name": "stderr",
     "output_type": "stream",
     "text": [
      "cmd45.sc:4: not found: value l\n",
      "            leftBalanced && rightBalanced && (height(l) - height(r)).abs <= 1 : Boolean \n",
      "                                                     ^cmd45.sc:4: not found: value r\n",
      "            leftBalanced && rightBalanced && (height(l) - height(r)).abs <= 1 : Boolean \n",
      "                                                                 ^Compilation Failed"
     ]
    },
    {
     "ename": "",
     "evalue": "",
     "output_type": "error",
     "traceback": [
      "Compilation Failed"
     ]
    }
   ],
   "source": [
    "def balanced[A](tree: Tree[A]): Boolean = \n",
    "    foldTree(tree)(true){\n",
    "        case (leftBalanced, root, rightBalanced) => \n",
    "            leftBalanced && rightBalanced && (height(l) - height(r)).abs <= 1 : Boolean \n",
    "    }"
   ]
  },
  {
   "cell_type": "code",
   "execution_count": 46,
   "metadata": {},
   "outputs": [
    {
     "data": {
      "text/plain": [
       "defined \u001b[32mfunction\u001b[39m \u001b[36mbalanced\u001b[39m"
      ]
     },
     "execution_count": 46,
     "metadata": {},
     "output_type": "execute_result"
    }
   ],
   "source": [
    "def balanced[A](tree: Tree[A]): Boolean = \n",
    "    foldTree(tree)((0, true)){\n",
    "        case ((leftH, leftBalanced), root, (rightH, rightBalanced)) => \n",
    "            ((leftH max rightH)+ 1 : Int, \n",
    "              leftBalanced && rightBalanced && (leftH - rightH).abs <= 1 : Boolean)\n",
    "    }._2"
   ]
  },
  {
   "cell_type": "code",
   "execution_count": 47,
   "metadata": {},
   "outputs": [
    {
     "name": "stdout",
     "output_type": "stream",
     "text": [
      "\u001b[32mcmd35$Helper$TestBalanced:\u001b[0m\n",
      "\u001b[32mbalanced\u001b[0m\n",
      "\u001b[32m- should work\u001b[0m\n"
     ]
    }
   ],
   "source": [
    "run(new TestBalanced(balanced))"
   ]
  },
  {
   "cell_type": "code",
   "execution_count": null,
   "metadata": {},
   "outputs": [],
   "source": []
  },
  {
   "cell_type": "code",
   "execution_count": 48,
   "metadata": {},
   "outputs": [
    {
     "data": {
      "text/plain": [
       "defined \u001b[32mfunction\u001b[39m \u001b[36mheight\u001b[39m"
      ]
     },
     "execution_count": 48,
     "metadata": {},
     "output_type": "execute_result"
    }
   ],
   "source": [
    "def height[A](tree: Tree[A]): Int = \n",
    "    foldTree(tree)(0)(\n",
    "        (leftH, _, rightH) =>\n",
    "            (leftH max rightH) + 1\n",
    "    )"
   ]
  },
  {
   "cell_type": "code",
   "execution_count": null,
   "metadata": {},
   "outputs": [],
   "source": []
  }
 ],
 "metadata": {
  "kernelspec": {
   "display_name": "Scala",
   "language": "scala",
   "name": "scala"
  },
  "language_info": {
   "codemirror_mode": "text/x-scala",
   "file_extension": ".sc",
   "mimetype": "text/x-scala",
   "name": "scala",
   "nbconvert_exporter": "script",
   "version": "2.13.1"
  }
 },
 "nbformat": 4,
 "nbformat_minor": 2
}
