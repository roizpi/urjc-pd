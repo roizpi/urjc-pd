{
 "cells": [
  {
   "cell_type": "markdown",
   "metadata": {},
   "source": [
    "# Ingeniería Informática\n",
    "# Programación declarativa @ URJC\n",
    "# Prueba 1: programación funcional\n",
    "## Curso 21-22, convocatoria extraordinaria (29 de junio de 2022)\n"
   ]
  },
  {
   "cell_type": "markdown",
   "metadata": {},
   "source": [
    "# Definiciones auxiliares"
   ]
  },
  {
   "cell_type": "code",
   "execution_count": 1,
   "metadata": {},
   "outputs": [
    {
     "data": {
      "text/plain": [
       "\u001b[32mimport \u001b[39m\u001b[36m$ivy.$                               \n",
       "\u001b[39m\n",
       "\u001b[32mimport \u001b[39m\u001b[36morg.scalatest._\u001b[39m"
      ]
     },
     "execution_count": 1,
     "metadata": {},
     "output_type": "execute_result"
    }
   ],
   "source": [
    "import $ivy.`org.scalatest::scalatest:3.0.8`\n",
    "import org.scalatest._"
   ]
  },
  {
   "cell_type": "code",
   "execution_count": 2,
   "metadata": {},
   "outputs": [
    {
     "data": {
      "text/plain": [
       "defined \u001b[32mobject\u001b[39m \u001b[36mSignatures\u001b[39m"
      ]
     },
     "execution_count": 2,
     "metadata": {},
     "output_type": "execute_result"
    }
   ],
   "source": [
    "object Signatures{\n",
    "    abstract class List[A]{\n",
    "        \n",
    "        // Common HOFs\n",
    "        def foldRight[B](nil: B)(cons: (A, B) => B): B\n",
    "        def foldLeft[B](initial: B)(update: (B, A) => B): B\n",
    "        def map[B](f: A => B): List[B]\n",
    "        def flatMap[B](f: A => List[B]): List[B]\n",
    "        def filter(f: A => Boolean): List[A]\n",
    "        def forall(pred: A => Boolean): Boolean\n",
    "        def exists(pred: A => Boolean): Boolean\n",
    "        \n",
    "        // Tests if the specified element belongs to this list\n",
    "        def contains(a: A): Boolean \n",
    " \n",
    "        // Returns the number of elements of this list\n",
    "        def length: Int\n",
    "        \n",
    "        // Reverse the elementos of this list\n",
    "        def reverse: List[A]\n",
    "    }\n",
    "}"
   ]
  },
  {
   "cell_type": "code",
   "execution_count": 3,
   "metadata": {},
   "outputs": [
    {
     "data": {
      "text/plain": [
       "defined \u001b[32mtype\u001b[39m \u001b[36mNot\u001b[39m"
      ]
     },
     "execution_count": 3,
     "metadata": {},
     "output_type": "execute_result"
    }
   ],
   "source": [
    "type Not[P] = P => Nothing"
   ]
  },
  {
   "cell_type": "markdown",
   "metadata": {},
   "source": [
    "# Ejercicio 1\n",
    "__(2 puntos)__\n",
    "\n",
    "\n",
    "__a) (1 punto)__ Utiliza la correspondencia de Curry-Howard para demostrar los siguientes teoremas y/o deducciones de la lógica intuicionista: \n",
    "\n",
    "$⊢ (\\neg p \\vee q) \\rightarrow (p \\vee r) \\rightarrow (q \\vee r) $\n",
    "\n",
    "$ \\{ p \\rightarrow \\neg q \\} ⊢ \\neg (p \\wedge q) $"
   ]
  },
  {
   "cell_type": "code",
   "execution_count": 4,
   "metadata": {},
   "outputs": [
    {
     "data": {
      "text/plain": [
       "defined \u001b[32mfunction\u001b[39m \u001b[36mresolution_law_A\u001b[39m"
      ]
     },
     "execution_count": 4,
     "metadata": {},
     "output_type": "execute_result"
    }
   ],
   "source": [
    "def resolution_law_A[P, Q, R]: (Either[Not[P], Q], Either[P, R]) => Either[Q, R] = \n",
    "    {\n",
    "        case (Left(np), Left(p)) => np(p)\n",
    "        case (Right(q), _) => Left(q)\n",
    "        case (_, Right(r)) => Right(r)\n",
    "    }"
   ]
  },
  {
   "cell_type": "code",
   "execution_count": 5,
   "metadata": {},
   "outputs": [
    {
     "data": {
      "text/plain": [
       "defined \u001b[32mfunction\u001b[39m \u001b[36mproofA\u001b[39m"
      ]
     },
     "execution_count": 5,
     "metadata": {},
     "output_type": "execute_result"
    }
   ],
   "source": [
    "def proofA[P, Q](p1: P => Not[Q]): Not[(P, Q)] = \n",
    "    (pq: (P, Q)) => p1(pq._1)(pq._2)\n",
    "    // alternativamente\n",
    "    //{ case (p: P, q: Q) => p1(p)(q) }"
   ]
  },
  {
   "cell_type": "code",
   "execution_count": 7,
   "metadata": {},
   "outputs": [
    {
     "data": {
      "text/plain": [
       "defined \u001b[32mfunction\u001b[39m \u001b[36mproofB\u001b[39m"
      ]
     },
     "execution_count": 7,
     "metadata": {},
     "output_type": "execute_result"
    }
   ],
   "source": [
    "def proofB[P, Q](p1: P => Q): Not[(P, Not[Q])] = \n",
    "    (pq: (P, Not[Q])) => pq._2(p1(pq._1))"
   ]
  },
  {
   "cell_type": "markdown",
   "metadata": {},
   "source": [
    "__b) (1 punto)__ Utiliza la correspondencia de Curry-Howard para demostrar el siguiente teorema de la lógica clásica: \n",
    "\n",
    "$⊢ (p \\rightarrow q) \\rightarrow \\neg p \\vee q $\n",
    "\n",
    "Supóngase para ello que la ley del tercio excluso se cumple para las variables proposicionales $p$ y $q$, es decir, que las fórmulas  $p \\vee \\neg p$ y $q \\vee \\neg q$ pueden utilizarse como premisas."
   ]
  },
  {
   "cell_type": "code",
   "execution_count": 8,
   "metadata": {},
   "outputs": [
    {
     "data": {
      "text/plain": [
       "defined \u001b[32mfunction\u001b[39m \u001b[36mproof\u001b[39m"
      ]
     },
     "execution_count": 8,
     "metadata": {},
     "output_type": "execute_result"
    }
   ],
   "source": [
    "// no hace falta la premisa Either[Q, Not[Q]]\n",
    "def proof[P, Q](p1: P => Q)(emp: Either[P, Not[P]]): Either[Not[P], Q] = \n",
    "    emp match {\n",
    "        case Right(np) => Left(np)\n",
    "        case Left(p) => Right(p1(p))\n",
    "    }"
   ]
  },
  {
   "cell_type": "markdown",
   "metadata": {},
   "source": [
    "# Ejercicio 2 \n",
    "__(2 puntos)__"
   ]
  },
  {
   "cell_type": "markdown",
   "metadata": {},
   "source": [
    "Demuestra el siguiente isomorfismo entre tipos algebraicos de datos para todo tipo $X$: \n",
    "\n",
    "$ 1 + \\mathrm{Nel} X \\cong \\mathrm{List} X$\n",
    "\n",
    "donde $\\mathrm{Nel} X$ representa el tipo de las listas no vacías (es decir, con al menos un elemento), y se define de la siguiente forma: \n",
    "\n",
    "$\\mathrm{Nel} X = X * \\mathrm{List} X$.\n",
    "\n",
    "La implementación del tipo $\\mathrm{Nel} X$ en Scala es la siguiente:"
   ]
  },
  {
   "cell_type": "code",
   "execution_count": 1,
   "metadata": {},
   "outputs": [
    {
     "data": {
      "text/plain": [
       "defined \u001b[32mtype\u001b[39m \u001b[36mNel\u001b[39m"
      ]
     },
     "execution_count": 1,
     "metadata": {},
     "output_type": "execute_result"
    }
   ],
   "source": [
    "type Nel[A] = (A, List[A])"
   ]
  },
  {
   "cell_type": "markdown",
   "metadata": {},
   "source": [
    "__a) (1,5 puntos)__ Demuestra en Scala el isomorfismo $ 1 + \\mathrm{Nel} X \\cong \\mathrm{List} X$ mediante la implementación de las siguientes funciones `from` y `to`: "
   ]
  },
  {
   "cell_type": "code",
   "execution_count": 9,
   "metadata": {},
   "outputs": [
    {
     "data": {
      "text/plain": [
       "defined \u001b[32mfunction\u001b[39m \u001b[36mfrom\u001b[39m"
      ]
     },
     "execution_count": 9,
     "metadata": {},
     "output_type": "execute_result"
    }
   ],
   "source": [
    "def from[A](maybenel: Option[Nel[A]]): List[A] = \n",
    "    maybenel match {\n",
    "        case None => List() : List[A]\n",
    "        case Some(nel) => \n",
    "            nel._1 :: nel._2 : List[A]\n",
    "    }"
   ]
  },
  {
   "cell_type": "code",
   "execution_count": 8,
   "metadata": {},
   "outputs": [
    {
     "data": {
      "text/plain": [
       "defined \u001b[32mfunction\u001b[39m \u001b[36mto\u001b[39m"
      ]
     },
     "execution_count": 8,
     "metadata": {},
     "output_type": "execute_result"
    }
   ],
   "source": [
    "def to[A](l: List[A]): Option[Nel[A]] = \n",
    "    l match {\n",
    "        case Nil => \n",
    "            None : Option[Nel[A]]\n",
    "        case h :: t => \n",
    "            Some((h : A, t : List[A]))\n",
    "    }"
   ]
  },
  {
   "cell_type": "code",
   "execution_count": null,
   "metadata": {},
   "outputs": [],
   "source": []
  },
  {
   "cell_type": "code",
   "execution_count": null,
   "metadata": {},
   "outputs": [],
   "source": []
  },
  {
   "cell_type": "code",
   "execution_count": null,
   "metadata": {},
   "outputs": [],
   "source": []
  },
  {
   "cell_type": "code",
   "execution_count": null,
   "metadata": {},
   "outputs": [],
   "source": []
  },
  {
   "cell_type": "code",
   "execution_count": null,
   "metadata": {},
   "outputs": [],
   "source": []
  },
  {
   "cell_type": "code",
   "execution_count": null,
   "metadata": {},
   "outputs": [],
   "source": []
  },
  {
   "cell_type": "code",
   "execution_count": null,
   "metadata": {},
   "outputs": [],
   "source": []
  },
  {
   "cell_type": "code",
   "execution_count": null,
   "metadata": {},
   "outputs": [],
   "source": []
  },
  {
   "cell_type": "code",
   "execution_count": null,
   "metadata": {},
   "outputs": [],
   "source": []
  },
  {
   "cell_type": "code",
   "execution_count": null,
   "metadata": {},
   "outputs": [],
   "source": []
  },
  {
   "cell_type": "code",
   "execution_count": null,
   "metadata": {},
   "outputs": [],
   "source": []
  },
  {
   "cell_type": "code",
   "execution_count": null,
   "metadata": {},
   "outputs": [],
   "source": []
  },
  {
   "cell_type": "code",
   "execution_count": null,
   "metadata": {},
   "outputs": [],
   "source": []
  },
  {
   "cell_type": "code",
   "execution_count": null,
   "metadata": {},
   "outputs": [],
   "source": []
  },
  {
   "cell_type": "code",
   "execution_count": null,
   "metadata": {},
   "outputs": [],
   "source": []
  },
  {
   "cell_type": "code",
   "execution_count": 11,
   "metadata": {},
   "outputs": [
    {
     "data": {
      "text/plain": [
       "defined \u001b[32mfunction\u001b[39m \u001b[36mfrom\u001b[39m"
      ]
     },
     "execution_count": 11,
     "metadata": {},
     "output_type": "execute_result"
    }
   ],
   "source": [
    "def from[A](nel: Option[Nel[A]]): List[A] = \n",
    "    nel match {\n",
    "        case None => Nil\n",
    "        case Some((head, tail)) => head :: tail\n",
    "    }"
   ]
  },
  {
   "cell_type": "code",
   "execution_count": 12,
   "metadata": {},
   "outputs": [
    {
     "data": {
      "text/plain": [
       "defined \u001b[32mfunction\u001b[39m \u001b[36mto\u001b[39m"
      ]
     },
     "execution_count": 12,
     "metadata": {},
     "output_type": "execute_result"
    }
   ],
   "source": [
    "def to[A](list: List[A]): Option[Nel[A]] = \n",
    "    list match {\n",
    "        case Nil => None\n",
    "        case head :: tail => Some(head, tail)\n",
    "    }"
   ]
  },
  {
   "cell_type": "markdown",
   "metadata": {},
   "source": [
    "__b) (0,5 puntos)__ Completa el siguiente test unitario para comprobar que las funciones `from` y `to` efectivamente implementan el isomorfismo requerido."
   ]
  },
  {
   "cell_type": "code",
   "execution_count": 13,
   "metadata": {},
   "outputs": [
    {
     "data": {
      "text/plain": [
       "defined \u001b[32mclass\u001b[39m \u001b[36mIsoTest\u001b[39m"
      ]
     },
     "execution_count": 13,
     "metadata": {},
     "output_type": "execute_result"
    }
   ],
   "source": [
    "class IsoTest(\n",
    "    from: Option[Nel[Int]] => List[Int], \n",
    "    to: List[Int] => Option[Nel[Int]]\n",
    ") extends FlatSpec with Matchers{\n",
    "    \n",
    "    \"from-to\" should \"work\" in {\n",
    "        // Añade tres aserciones del tipo `... shouldBe ...`\n",
    "        from(to(Nil)) shouldBe Nil\n",
    "        from(to(1 :: Nil)) shouldBe 1 :: Nil\n",
    "        from(to(1 :: 2 :: Nil)) shouldBe 1 :: 2 :: Nil\n",
    "    }\n",
    "    \n",
    "    \"to-from\" should \"work\" in {\n",
    "        // Añade tres aserciones del tipo `... shouldBe ...`\n",
    "        to(from(None)) shouldBe None\n",
    "        to(from(Some((0, Nil)))) shouldBe Some((0, Nil))\n",
    "        to(from(Some((0, List(1,2,3))))) shouldBe Some((0, List(1,2,3)))\n",
    "        \n",
    "    }\n",
    "}"
   ]
  },
  {
   "cell_type": "code",
   "execution_count": 14,
   "metadata": {},
   "outputs": [
    {
     "name": "stdout",
     "output_type": "stream",
     "text": [
      "\u001b[32mcmd12$Helper$IsoTest:\u001b[0m\n",
      "\u001b[32mfrom-to\u001b[0m\n",
      "\u001b[32m- should work\u001b[0m\n",
      "\u001b[32mto-from\u001b[0m\n",
      "\u001b[32m- should work\u001b[0m\n"
     ]
    }
   ],
   "source": [
    "run(new IsoTest(from[Int], to[Int]))"
   ]
  },
  {
   "cell_type": "markdown",
   "metadata": {},
   "source": [
    "# Ejercicio 3\n",
    "__(2 puntos)__\n",
    "\n",
    "La función `removeAll` elimina todas las ocurrencias de un determinado elemento en una lista. A continuación se muestran distintos casos de prueba particularizados para una lista de enteros:"
   ]
  },
  {
   "cell_type": "code",
   "execution_count": 10,
   "metadata": {},
   "outputs": [
    {
     "data": {
      "text/plain": [
       "defined \u001b[32mclass\u001b[39m \u001b[36mTestRemoveAll\u001b[39m"
      ]
     },
     "execution_count": 10,
     "metadata": {},
     "output_type": "execute_result"
    }
   ],
   "source": [
    "class TestRemoveAll(\n",
    "    removeAll: (Int, List[Int]) => List[Int]\n",
    ") extends FlatSpec with Matchers{\n",
    "    \"removeAll\" should \"work\" in {\n",
    "        removeAll(1, List()) shouldBe List()\n",
    "        removeAll(1, List(1,1,1,1)) shouldBe List()\n",
    "        removeAll(1, List(1,2,3)) shouldBe List(2,3)\n",
    "        removeAll(1, List(2,1,3)) shouldBe List(2,3)\n",
    "        removeAll(1, List(2,3,1)) shouldBe List(2,3)\n",
    "        removeAll(1, List(2,1,3,1)) shouldBe List(2,3)\n",
    "    }\n",
    "}"
   ]
  },
  {
   "cell_type": "markdown",
   "metadata": {},
   "source": [
    "__a) (1 punto)__ Implementa la función `removeAll` de manera recursiva."
   ]
  },
  {
   "cell_type": "code",
   "execution_count": 12,
   "metadata": {},
   "outputs": [
    {
     "data": {
      "text/plain": [
       "defined \u001b[32mfunction\u001b[39m \u001b[36mremoveAll\u001b[39m"
      ]
     },
     "execution_count": 12,
     "metadata": {},
     "output_type": "execute_result"
    }
   ],
   "source": [
    "def removeAll[A](a: A, list: List[A]): List[A] = \n",
    "    list match {\n",
    "        case Nil => Nil\n",
    "        case head :: tail if head == a => \n",
    "            removeAll(a, tail)\n",
    "        case head :: tail => \n",
    "            head :: removeAll(a, tail)\n",
    "    }"
   ]
  },
  {
   "cell_type": "code",
   "execution_count": 21,
   "metadata": {},
   "outputs": [
    {
     "data": {
      "text/plain": [
       "defined \u001b[32mfunction\u001b[39m \u001b[36mremoveAll\u001b[39m"
      ]
     },
     "execution_count": 21,
     "metadata": {},
     "output_type": "execute_result"
    }
   ],
   "source": [
    "// Alternativamente, para mostrar más claramente la correspondencia con la solución mediante `foldRight`\n",
    "def removeAll[A](a: A, list: List[A]): List[A] = \n",
    "    list match {\n",
    "        case Nil => Nil\n",
    "        case head :: tail => \n",
    "            val tailSol = removeAll(a, tail)\n",
    "            if (head == a) tailSol\n",
    "            else head :: tailSol\n",
    "    }"
   ]
  },
  {
   "cell_type": "code",
   "execution_count": 22,
   "metadata": {},
   "outputs": [
    {
     "name": "stdout",
     "output_type": "stream",
     "text": [
      "\u001b[32mcmd9$Helper$TestRemoveAll:\u001b[0m\n",
      "\u001b[32mremoveAll\u001b[0m\n",
      "\u001b[32m- should work\u001b[0m\n"
     ]
    }
   ],
   "source": [
    "run(new TestRemoveAll(removeAll))"
   ]
  },
  {
   "cell_type": "markdown",
   "metadata": {},
   "source": [
    "__b) (1 punto)__ Implementa la función `removeAll` utilizando la función `foldRight`/`filter`."
   ]
  },
  {
   "cell_type": "code",
   "execution_count": 27,
   "metadata": {},
   "outputs": [
    {
     "data": {
      "text/plain": [
       "defined \u001b[32mfunction\u001b[39m \u001b[36mremoveAll\u001b[39m"
      ]
     },
     "execution_count": 27,
     "metadata": {},
     "output_type": "execute_result"
    }
   ],
   "source": [
    "def removeAll[A](a: A, list: List[A]): List[A] = \n",
    "    list.foldRight(List[A]()){\n",
    "        case (`a`, tailSol) => tailSol\n",
    "        // Alternativamente: \n",
    "        // case (head, tailSol) if head == a => tailSol\n",
    "        case (head, tailSol) => head :: tailSol\n",
    "    }"
   ]
  },
  {
   "cell_type": "code",
   "execution_count": 28,
   "metadata": {},
   "outputs": [
    {
     "name": "stdout",
     "output_type": "stream",
     "text": [
      "\u001b[32mcmd9$Helper$TestRemoveAll:\u001b[0m\n",
      "\u001b[32mremoveAll\u001b[0m\n",
      "\u001b[32m- should work\u001b[0m\n"
     ]
    }
   ],
   "source": [
    "run(new TestRemoveAll(removeAll))"
   ]
  },
  {
   "cell_type": "code",
   "execution_count": 29,
   "metadata": {},
   "outputs": [
    {
     "data": {
      "text/plain": [
       "defined \u001b[32mfunction\u001b[39m \u001b[36mremoveAll\u001b[39m"
      ]
     },
     "execution_count": 29,
     "metadata": {},
     "output_type": "execute_result"
    }
   ],
   "source": [
    "def removeAll[A](a: A, list: List[A]): List[A] = \n",
    "    list.filter(_ != a)"
   ]
  },
  {
   "cell_type": "code",
   "execution_count": 17,
   "metadata": {},
   "outputs": [
    {
     "name": "stdout",
     "output_type": "stream",
     "text": [
      "\u001b[32mcmd9$Helper$TestRemoveAll:\u001b[0m\n",
      "\u001b[32mremoveAll\u001b[0m\n",
      "\u001b[32m- should work\u001b[0m\n"
     ]
    }
   ],
   "source": [
    "run(new TestRemoveAll(removeAll))"
   ]
  },
  {
   "cell_type": "markdown",
   "metadata": {},
   "source": [
    "# Ejercicio 4\n",
    "__(4 puntos)__\n",
    "\n",
    "La función `distinct` elimina todas las ocurrencias de un determinado elemento en una lista, _excepto_ la primera de ellas. A continuación se muestran distintos casos de prueba particularizados para una lista de enteros:"
   ]
  },
  {
   "cell_type": "code",
   "execution_count": 20,
   "metadata": {},
   "outputs": [
    {
     "data": {
      "text/plain": [
       "defined \u001b[32mclass\u001b[39m \u001b[36mTestDistinct\u001b[39m"
      ]
     },
     "execution_count": 20,
     "metadata": {},
     "output_type": "execute_result"
    }
   ],
   "source": [
    "class TestDistinct(\n",
    "    distinct: List[Int] => List[Int]\n",
    ") extends FlatSpec with Matchers{\n",
    "    \"distinct\" should \"work\" in {\n",
    "        distinct(List()) shouldBe List()\n",
    "        distinct(List(1,2,3)) shouldBe List(1,2,3)\n",
    "        distinct(List(1,1,1,1)) shouldBe List(1)\n",
    "        distinct(List(1,1,2,2,3,3)) shouldBe List(1,2,3)\n",
    "        distinct(List(1,2,3,1,2,3)) shouldBe List(1,2,3)\n",
    "        distinct(List(1,2,1,3,3,2)) shouldBe List(1,2,3)\n",
    "    }\n",
    "}"
   ]
  },
  {
   "cell_type": "markdown",
   "metadata": {},
   "source": [
    "__a) (1 punto)__ Implementa la función `distinct` de manera recursiva, utilizando la función `removeAll` descrita en otro ejercicio de este mismo examen."
   ]
  },
  {
   "cell_type": "code",
   "execution_count": 21,
   "metadata": {},
   "outputs": [
    {
     "data": {
      "text/plain": [
       "defined \u001b[32mfunction\u001b[39m \u001b[36mdistinct\u001b[39m"
      ]
     },
     "execution_count": 21,
     "metadata": {},
     "output_type": "execute_result"
    }
   ],
   "source": [
    "def distinct[A](list: List[A]): List[A] = \n",
    "    list match {\n",
    "        case Nil => Nil\n",
    "        case head :: tail => \n",
    "            head :: distinct(removeAll(head, tail))\n",
    "    }"
   ]
  },
  {
   "cell_type": "code",
   "execution_count": 22,
   "metadata": {},
   "outputs": [
    {
     "name": "stdout",
     "output_type": "stream",
     "text": [
      "\u001b[32mcmd19$Helper$TestDistinct:\u001b[0m\n",
      "\u001b[32mdistinct\u001b[0m\n",
      "\u001b[32m- should work\u001b[0m\n"
     ]
    }
   ],
   "source": [
    "run(new TestDistinct(distinct))"
   ]
  },
  {
   "cell_type": "markdown",
   "metadata": {},
   "source": [
    "__b) (1 punto)__ Implementa la función `distinct` utilizando las funciones `foldRight` y `removeAll`."
   ]
  },
  {
   "cell_type": "code",
   "execution_count": 23,
   "metadata": {},
   "outputs": [
    {
     "data": {
      "text/plain": [
       "defined \u001b[32mfunction\u001b[39m \u001b[36mdistinct\u001b[39m"
      ]
     },
     "execution_count": 23,
     "metadata": {},
     "output_type": "execute_result"
    }
   ],
   "source": [
    "def distinct[A](list: List[A]): List[A] = \n",
    "    list.foldRight(List[A]())(\n",
    "        (head, tailSol) => head :: removeAll(head, tailSol)\n",
    "    )"
   ]
  },
  {
   "cell_type": "code",
   "execution_count": 24,
   "metadata": {},
   "outputs": [
    {
     "name": "stdout",
     "output_type": "stream",
     "text": [
      "\u001b[32mcmd19$Helper$TestDistinct:\u001b[0m\n",
      "\u001b[32mdistinct\u001b[0m\n",
      "\u001b[32m- should work\u001b[0m\n"
     ]
    }
   ],
   "source": [
    "run(new TestDistinct(distinct))"
   ]
  },
  {
   "cell_type": "markdown",
   "metadata": {},
   "source": [
    "__c) (1 punto)__ Implementa la función `distinct` mediante recursión final (o de cola)."
   ]
  },
  {
   "cell_type": "code",
   "execution_count": 25,
   "metadata": {},
   "outputs": [
    {
     "data": {
      "text/plain": [
       "defined \u001b[32mfunction\u001b[39m \u001b[36mdistinct\u001b[39m"
      ]
     },
     "execution_count": 25,
     "metadata": {},
     "output_type": "execute_result"
    }
   ],
   "source": [
    "def distinct[A](list: List[A]): List[A] = {\n",
    "    def aux(acc: List[A], list: List[A]): List[A] = \n",
    "        list match {\n",
    "            case Nil => acc\n",
    "            case a :: tail if acc.contains(a) => \n",
    "                aux(acc, tail)\n",
    "            case a :: tail => \n",
    "                aux(a :: acc, tail)\n",
    "        }\n",
    "\n",
    "    aux(List(), list).reverse\n",
    "}"
   ]
  },
  {
   "cell_type": "code",
   "execution_count": 26,
   "metadata": {},
   "outputs": [
    {
     "name": "stdout",
     "output_type": "stream",
     "text": [
      "\u001b[32mcmd19$Helper$TestDistinct:\u001b[0m\n",
      "\u001b[32mdistinct\u001b[0m\n",
      "\u001b[32m- should work\u001b[0m\n"
     ]
    }
   ],
   "source": [
    "run(new TestDistinct(distinct))"
   ]
  },
  {
   "cell_type": "markdown",
   "metadata": {},
   "source": [
    "__d) (1 punto)__ Implementa la función `distinct` mediante la función `foldLeft`."
   ]
  },
  {
   "cell_type": "code",
   "execution_count": 27,
   "metadata": {},
   "outputs": [
    {
     "data": {
      "text/plain": [
       "defined \u001b[32mfunction\u001b[39m \u001b[36mdistinct\u001b[39m"
      ]
     },
     "execution_count": 27,
     "metadata": {},
     "output_type": "execute_result"
    }
   ],
   "source": [
    "def distinct[A](list: List[A]): List[A] = \n",
    "    list.foldLeft(List[A]()){\n",
    "        case (acc, a) if acc.contains(a) => acc\n",
    "        case (acc, a) => a :: acc\n",
    "    }.reverse"
   ]
  },
  {
   "cell_type": "code",
   "execution_count": 28,
   "metadata": {},
   "outputs": [
    {
     "name": "stdout",
     "output_type": "stream",
     "text": [
      "\u001b[32mcmd19$Helper$TestDistinct:\u001b[0m\n",
      "\u001b[32mdistinct\u001b[0m\n",
      "\u001b[32m- should work\u001b[0m\n"
     ]
    }
   ],
   "source": [
    "run(new TestDistinct(distinct))"
   ]
  },
  {
   "cell_type": "code",
   "execution_count": null,
   "metadata": {},
   "outputs": [],
   "source": []
  }
 ],
 "metadata": {
  "kernelspec": {
   "display_name": "Scala (2.13)",
   "language": "scala",
   "name": "scala213"
  },
  "language_info": {
   "codemirror_mode": "text/x-scala",
   "file_extension": ".sc",
   "mimetype": "text/x-scala",
   "name": "scala",
   "nbconvert_exporter": "script",
   "version": "2.13.3"
  }
 },
 "nbformat": 4,
 "nbformat_minor": 2
}
